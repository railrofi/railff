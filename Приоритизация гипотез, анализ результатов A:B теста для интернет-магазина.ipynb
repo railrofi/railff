{
 "cells": [
  {
   "cell_type": "markdown",
   "metadata": {
    "id": "qtBlPpibkvXB"
   },
   "source": [
    "# Приоритизация гипотез, анализ результатов A/B теста для интернет-магазина\n"
   ]
  },
  {
   "cell_type": "markdown",
   "metadata": {
    "id": "ywNPuwf2mMjI"
   },
   "source": [
    "1. Контекст задачи: нам выданы три файла с данными: о гипотезах и их параметрами, о покупках и количестве просмотров\n",
    "2. Цель проекта: выяснить какие гипотезы выше по приоритету, разобрать каково влияние рассматриваемого предложения на выручку, так же рассмотрим результаты A/B теста и сравним результаты двух групп с помощью таких метрик, как: куммулятивная выручка, куммулятивный средний чек, относительное изменение кумулятивного среднего чека, кумулятивное среднее количество заказов на посетителя, относительное изменение кумулятивного среднего количества заказов на посетителя, статистическая значимость различий в среднем количестве заказов на посетителя между группами по «сырым» данным, статистическая значимость различий в среднем чеке заказа между группами по «сырым» данным, статистическая значимость различий в среднем количестве заказов на посетителя между группами по «очищенным» данным, статистическая значимость различий в среднем чеке заказа между группами по «очищенным» данным.\n",
    "3. Наши задачи:\n",
    "  * найти для каждой гипотезы значение ICE и RICE\n",
    "  * выяснить какие гипотезы приоритетнее\n",
    "  * разобрать результаты A/B теста\n",
    "  * выявить, как рассматриваемая гипотеза повлияла на поведение клиентов\n",
    "  * понять какая судьба у рассматриваемой гипотезы\n",
    "4. Описание данных:\n",
    "* структура hypothesis.csv:\n",
    "  * Hypothesis - наименования гипотезы\n",
    "  * Reach - оценка охвата аудитории\n",
    "  * Impact - оченка влияния гипотезы\n",
    "  * Confidence - оценка уверенности в гипотезе\n",
    "  * Efforts - оценка усилий для гипотезы\n",
    "\n",
    "* структура orders.csv:\n",
    "  * transactionId - идентификатор заказа\n",
    "  * visitorId - идентификатор покупателя\n",
    "  * date - дата покупки\n",
    "  * revenue - стоимость заказа\n",
    "  * group - группа тестирования\n",
    "\n",
    "* структура visitors.csv:\n",
    "  * date - дата визита\n",
    "  * group - группа тестирования\n",
    "  * visitors - количество посетителей"
   ]
  },
  {
   "cell_type": "markdown",
   "metadata": {
    "id": "MJVc8CxI_BFG"
   },
   "source": [
    "# Часть 1"
   ]
  },
  {
   "cell_type": "markdown",
   "metadata": {
    "id": "u8uG0WWVlfUP"
   },
   "source": [
    "## Подготовка данных к анализу"
   ]
  },
  {
   "cell_type": "code",
   "execution_count": 9,
   "metadata": {
    "id": "wwiSJCiA7zLt"
   },
   "outputs": [],
   "source": [
    "import pandas as pd\n",
    "import numpy as np\n",
    "import matplotlib.pyplot as plt\n",
    "import os\n",
    "import scipy.stats as st"
   ]
  },
  {
   "cell_type": "code",
   "execution_count": 10,
   "metadata": {
    "id": "_YwumMuA_8Ry"
   },
   "outputs": [],
   "source": [
    "option1 = '/datasets/orders.csv'\n",
    "option2 = 'hypothesis.csv'\n",
    "\n",
    "if os.path.exists(option1):\n",
    "  hypothesis = pd.read_csv(option1)\n",
    "else:\n",
    "  hypothesis = pd.read_csv(option2)"
   ]
  },
  {
   "cell_type": "code",
   "execution_count": 12,
   "metadata": {
    "colab": {
     "base_uri": "https://localhost:8080/",
     "height": 332
    },
    "id": "pIuhsY_0BaZ0",
    "outputId": "06249ac7-a4bf-44fa-ada4-e447edf3e34f"
   },
   "outputs": [
    {
     "data": {
      "text/html": [
       "<div>\n",
       "<style scoped>\n",
       "    .dataframe tbody tr th:only-of-type {\n",
       "        vertical-align: middle;\n",
       "    }\n",
       "\n",
       "    .dataframe tbody tr th {\n",
       "        vertical-align: top;\n",
       "    }\n",
       "\n",
       "    .dataframe thead th {\n",
       "        text-align: right;\n",
       "    }\n",
       "</style>\n",
       "<table border=\"1\" class=\"dataframe\">\n",
       "  <thead>\n",
       "    <tr style=\"text-align: right;\">\n",
       "      <th></th>\n",
       "      <th>Hypothesis</th>\n",
       "      <th>Reach</th>\n",
       "      <th>Impact</th>\n",
       "      <th>Confidence</th>\n",
       "      <th>Efforts</th>\n",
       "    </tr>\n",
       "  </thead>\n",
       "  <tbody>\n",
       "    <tr>\n",
       "      <th>0</th>\n",
       "      <td>Добавить два новых канала привлечения трафика, что позволит привлекать на 30% больше пользователей</td>\n",
       "      <td>3</td>\n",
       "      <td>10</td>\n",
       "      <td>8</td>\n",
       "      <td>6</td>\n",
       "    </tr>\n",
       "    <tr>\n",
       "      <th>1</th>\n",
       "      <td>Запустить собственную службу доставки, что сократит срок доставки заказов</td>\n",
       "      <td>2</td>\n",
       "      <td>5</td>\n",
       "      <td>4</td>\n",
       "      <td>10</td>\n",
       "    </tr>\n",
       "    <tr>\n",
       "      <th>2</th>\n",
       "      <td>Добавить блоки рекомендаций товаров на сайт интернет магазина, чтобы повысить конверсию и средний чек заказа</td>\n",
       "      <td>8</td>\n",
       "      <td>3</td>\n",
       "      <td>7</td>\n",
       "      <td>3</td>\n",
       "    </tr>\n",
       "    <tr>\n",
       "      <th>3</th>\n",
       "      <td>Изменить структура категорий, что увеличит конверсию, т.к. пользователи быстрее найдут нужный товар</td>\n",
       "      <td>8</td>\n",
       "      <td>3</td>\n",
       "      <td>3</td>\n",
       "      <td>8</td>\n",
       "    </tr>\n",
       "    <tr>\n",
       "      <th>4</th>\n",
       "      <td>Изменить цвет фона главной страницы, чтобы увеличить вовлеченность пользователей</td>\n",
       "      <td>3</td>\n",
       "      <td>1</td>\n",
       "      <td>1</td>\n",
       "      <td>1</td>\n",
       "    </tr>\n",
       "    <tr>\n",
       "      <th>5</th>\n",
       "      <td>Добавить страницу отзывов клиентов о магазине, что позволит увеличить количество заказов</td>\n",
       "      <td>3</td>\n",
       "      <td>2</td>\n",
       "      <td>2</td>\n",
       "      <td>3</td>\n",
       "    </tr>\n",
       "    <tr>\n",
       "      <th>6</th>\n",
       "      <td>Показать на главной странице баннеры с актуальными акциями и распродажами, чтобы увеличить конверсию</td>\n",
       "      <td>5</td>\n",
       "      <td>3</td>\n",
       "      <td>8</td>\n",
       "      <td>3</td>\n",
       "    </tr>\n",
       "    <tr>\n",
       "      <th>7</th>\n",
       "      <td>Добавить форму подписки на все основные страницы, чтобы собрать базу клиентов для email-рассылок</td>\n",
       "      <td>10</td>\n",
       "      <td>7</td>\n",
       "      <td>8</td>\n",
       "      <td>5</td>\n",
       "    </tr>\n",
       "    <tr>\n",
       "      <th>8</th>\n",
       "      <td>Запустить акцию, дающую скидку на товар в день рождения</td>\n",
       "      <td>1</td>\n",
       "      <td>9</td>\n",
       "      <td>9</td>\n",
       "      <td>5</td>\n",
       "    </tr>\n",
       "  </tbody>\n",
       "</table>\n",
       "</div>"
      ],
      "text/plain": [
       "                                                                                                     Hypothesis  \\\n",
       "0            Добавить два новых канала привлечения трафика, что позволит привлекать на 30% больше пользователей   \n",
       "1                                     Запустить собственную службу доставки, что сократит срок доставки заказов   \n",
       "2  Добавить блоки рекомендаций товаров на сайт интернет магазина, чтобы повысить конверсию и средний чек заказа   \n",
       "3           Изменить структура категорий, что увеличит конверсию, т.к. пользователи быстрее найдут нужный товар   \n",
       "4                              Изменить цвет фона главной страницы, чтобы увеличить вовлеченность пользователей   \n",
       "5                      Добавить страницу отзывов клиентов о магазине, что позволит увеличить количество заказов   \n",
       "6          Показать на главной странице баннеры с актуальными акциями и распродажами, чтобы увеличить конверсию   \n",
       "7              Добавить форму подписки на все основные страницы, чтобы собрать базу клиентов для email-рассылок   \n",
       "8                                                       Запустить акцию, дающую скидку на товар в день рождения   \n",
       "\n",
       "   Reach  Impact  Confidence  Efforts  \n",
       "0      3      10           8        6  \n",
       "1      2       5           4       10  \n",
       "2      8       3           7        3  \n",
       "3      8       3           3        8  \n",
       "4      3       1           1        1  \n",
       "5      3       2           2        3  \n",
       "6      5       3           8        3  \n",
       "7     10       7           8        5  \n",
       "8      1       9           9        5  "
      ]
     },
     "execution_count": 12,
     "metadata": {},
     "output_type": "execute_result"
    }
   ],
   "source": [
    "pd.set_option('display.max_colwidth', None)\n",
    "hypothesis"
   ]
  },
  {
   "cell_type": "markdown",
   "metadata": {
    "id": "8f05O4xjCBD6"
   },
   "source": [
    "Загрузили данные. Видим, что с ними все в порядке, но на всякий случай проверим это кодом."
   ]
  },
  {
   "cell_type": "code",
   "execution_count": 16,
   "metadata": {
    "colab": {
     "base_uri": "https://localhost:8080/",
     "height": 53
    },
    "id": "mZ0HwQKUBikm",
    "outputId": "403a77fd-1783-42e3-f204-0bd6de40604a"
   },
   "outputs": [
    {
     "data": {
      "text/plain": [
       "0"
      ]
     },
     "metadata": {},
     "output_type": "display_data"
    },
    {
     "data": {
      "text/plain": [
       "False"
      ]
     },
     "metadata": {},
     "output_type": "display_data"
    }
   ],
   "source": [
    "display(hypothesis.duplicated().sum())\n",
    "display(hypothesis.isna().any().any())"
   ]
  },
  {
   "cell_type": "markdown",
   "metadata": {
    "id": "oSl3edtzCHN4"
   },
   "source": [
    "Пропусков и дубликатов в датафрейме нет\n",
    "\n",
    "---\n",
    "\n"
   ]
  },
  {
   "cell_type": "markdown",
   "metadata": {
    "id": "N10q6NZHDBjK"
   },
   "source": [
    "Преобразуем названия столбцов, чтобы дальше было легче с ними работать"
   ]
  },
  {
   "cell_type": "code",
   "execution_count": 20,
   "metadata": {
    "id": "W2YX-zKHDHKW"
   },
   "outputs": [],
   "source": [
    "hypothesis.columns = hypothesis.columns.str.lower()"
   ]
  },
  {
   "cell_type": "markdown",
   "metadata": {
    "id": "EURZ2n1yCka-"
   },
   "source": [
    "## Посчитаем ICE для гипотез\n"
   ]
  },
  {
   "cell_type": "code",
   "execution_count": 23,
   "metadata": {
    "colab": {
     "base_uri": "https://localhost:8080/",
     "height": 332
    },
    "id": "eiOKfzaSBksa",
    "outputId": "4f8ed54b-3bcb-40b1-e862-d2c22fafbab0"
   },
   "outputs": [
    {
     "data": {
      "text/html": [
       "<div>\n",
       "<style scoped>\n",
       "    .dataframe tbody tr th:only-of-type {\n",
       "        vertical-align: middle;\n",
       "    }\n",
       "\n",
       "    .dataframe tbody tr th {\n",
       "        vertical-align: top;\n",
       "    }\n",
       "\n",
       "    .dataframe thead th {\n",
       "        text-align: right;\n",
       "    }\n",
       "</style>\n",
       "<table border=\"1\" class=\"dataframe\">\n",
       "  <thead>\n",
       "    <tr style=\"text-align: right;\">\n",
       "      <th></th>\n",
       "      <th>hypothesis</th>\n",
       "      <th>reach</th>\n",
       "      <th>impact</th>\n",
       "      <th>confidence</th>\n",
       "      <th>efforts</th>\n",
       "      <th>ICE</th>\n",
       "    </tr>\n",
       "  </thead>\n",
       "  <tbody>\n",
       "    <tr>\n",
       "      <th>8</th>\n",
       "      <td>Запустить акцию, дающую скидку на товар в день рождения</td>\n",
       "      <td>1</td>\n",
       "      <td>9</td>\n",
       "      <td>9</td>\n",
       "      <td>5</td>\n",
       "      <td>16.20</td>\n",
       "    </tr>\n",
       "    <tr>\n",
       "      <th>0</th>\n",
       "      <td>Добавить два новых канала привлечения трафика, что позволит привлекать на 30% больше пользователей</td>\n",
       "      <td>3</td>\n",
       "      <td>10</td>\n",
       "      <td>8</td>\n",
       "      <td>6</td>\n",
       "      <td>13.33</td>\n",
       "    </tr>\n",
       "    <tr>\n",
       "      <th>7</th>\n",
       "      <td>Добавить форму подписки на все основные страницы, чтобы собрать базу клиентов для email-рассылок</td>\n",
       "      <td>10</td>\n",
       "      <td>7</td>\n",
       "      <td>8</td>\n",
       "      <td>5</td>\n",
       "      <td>11.20</td>\n",
       "    </tr>\n",
       "    <tr>\n",
       "      <th>6</th>\n",
       "      <td>Показать на главной странице баннеры с актуальными акциями и распродажами, чтобы увеличить конверсию</td>\n",
       "      <td>5</td>\n",
       "      <td>3</td>\n",
       "      <td>8</td>\n",
       "      <td>3</td>\n",
       "      <td>8.00</td>\n",
       "    </tr>\n",
       "    <tr>\n",
       "      <th>2</th>\n",
       "      <td>Добавить блоки рекомендаций товаров на сайт интернет магазина, чтобы повысить конверсию и средний чек заказа</td>\n",
       "      <td>8</td>\n",
       "      <td>3</td>\n",
       "      <td>7</td>\n",
       "      <td>3</td>\n",
       "      <td>7.00</td>\n",
       "    </tr>\n",
       "    <tr>\n",
       "      <th>1</th>\n",
       "      <td>Запустить собственную службу доставки, что сократит срок доставки заказов</td>\n",
       "      <td>2</td>\n",
       "      <td>5</td>\n",
       "      <td>4</td>\n",
       "      <td>10</td>\n",
       "      <td>2.00</td>\n",
       "    </tr>\n",
       "    <tr>\n",
       "      <th>5</th>\n",
       "      <td>Добавить страницу отзывов клиентов о магазине, что позволит увеличить количество заказов</td>\n",
       "      <td>3</td>\n",
       "      <td>2</td>\n",
       "      <td>2</td>\n",
       "      <td>3</td>\n",
       "      <td>1.33</td>\n",
       "    </tr>\n",
       "    <tr>\n",
       "      <th>3</th>\n",
       "      <td>Изменить структура категорий, что увеличит конверсию, т.к. пользователи быстрее найдут нужный товар</td>\n",
       "      <td>8</td>\n",
       "      <td>3</td>\n",
       "      <td>3</td>\n",
       "      <td>8</td>\n",
       "      <td>1.12</td>\n",
       "    </tr>\n",
       "    <tr>\n",
       "      <th>4</th>\n",
       "      <td>Изменить цвет фона главной страницы, чтобы увеличить вовлеченность пользователей</td>\n",
       "      <td>3</td>\n",
       "      <td>1</td>\n",
       "      <td>1</td>\n",
       "      <td>1</td>\n",
       "      <td>1.00</td>\n",
       "    </tr>\n",
       "  </tbody>\n",
       "</table>\n",
       "</div>"
      ],
      "text/plain": [
       "                                                                                                     hypothesis  \\\n",
       "8                                                       Запустить акцию, дающую скидку на товар в день рождения   \n",
       "0            Добавить два новых канала привлечения трафика, что позволит привлекать на 30% больше пользователей   \n",
       "7              Добавить форму подписки на все основные страницы, чтобы собрать базу клиентов для email-рассылок   \n",
       "6          Показать на главной странице баннеры с актуальными акциями и распродажами, чтобы увеличить конверсию   \n",
       "2  Добавить блоки рекомендаций товаров на сайт интернет магазина, чтобы повысить конверсию и средний чек заказа   \n",
       "1                                     Запустить собственную службу доставки, что сократит срок доставки заказов   \n",
       "5                      Добавить страницу отзывов клиентов о магазине, что позволит увеличить количество заказов   \n",
       "3           Изменить структура категорий, что увеличит конверсию, т.к. пользователи быстрее найдут нужный товар   \n",
       "4                              Изменить цвет фона главной страницы, чтобы увеличить вовлеченность пользователей   \n",
       "\n",
       "   reach  impact  confidence  efforts    ICE  \n",
       "8      1       9           9        5  16.20  \n",
       "0      3      10           8        6  13.33  \n",
       "7     10       7           8        5  11.20  \n",
       "6      5       3           8        3   8.00  \n",
       "2      8       3           7        3   7.00  \n",
       "1      2       5           4       10   2.00  \n",
       "5      3       2           2        3   1.33  \n",
       "3      8       3           3        8   1.12  \n",
       "4      3       1           1        1   1.00  "
      ]
     },
     "execution_count": 23,
     "metadata": {},
     "output_type": "execute_result"
    }
   ],
   "source": [
    "hypothesis['ICE'] = hypothesis['confidence'] * hypothesis['impact'] / hypothesis['efforts']\n",
    "hypothesis['ICE'] = hypothesis['ICE'].apply(lambda x: '{0:.2f}'.format(x)).astype('float')\n",
    "hypothesis.sort_values(by = 'ICE', ascending = False)"
   ]
  },
  {
   "cell_type": "markdown",
   "metadata": {
    "id": "r8WWhgpWlz6j"
   },
   "source": [
    "Заметили лидирующие гипотезы. Гипотеза - Запустить акцию, дающую скидку на товар в день рождения - с показателем ICE = 16.2, гипотеза - Добавить два новых канала привлечения трафика, что позволит привлекать на 30% больше пользователей - с ICE = 13.3, гипотеза - Добавить форму подписки на все основные страницы, чтобы собрать базу клиентов для email-рассылок - с ICE = 11.2. Остальные гипотезы имеют меньше 10 в данном показателе. Самой не приоритетной гипотезой оказалась: Изменить цвет фона главной страницы, чтобы увеличить вовлеченность пользователей, с показателем ICE = 1."
   ]
  },
  {
   "cell_type": "markdown",
   "metadata": {
    "id": "GQ29U7EWlCxw"
   },
   "source": [
    "\n",
    "\n",
    "---\n",
    "\n"
   ]
  },
  {
   "cell_type": "markdown",
   "metadata": {
    "id": "uyel_exok9XR"
   },
   "source": [
    "## Посчитаем RICE для гипотез"
   ]
  },
  {
   "cell_type": "code",
   "execution_count": 31,
   "metadata": {
    "colab": {
     "base_uri": "https://localhost:8080/",
     "height": 332
    },
    "id": "tvwLWOBXj-_v",
    "outputId": "4ed73d50-c4f8-4f91-9e8c-775a400b856d"
   },
   "outputs": [
    {
     "data": {
      "text/html": [
       "<div>\n",
       "<style scoped>\n",
       "    .dataframe tbody tr th:only-of-type {\n",
       "        vertical-align: middle;\n",
       "    }\n",
       "\n",
       "    .dataframe tbody tr th {\n",
       "        vertical-align: top;\n",
       "    }\n",
       "\n",
       "    .dataframe thead th {\n",
       "        text-align: right;\n",
       "    }\n",
       "</style>\n",
       "<table border=\"1\" class=\"dataframe\">\n",
       "  <thead>\n",
       "    <tr style=\"text-align: right;\">\n",
       "      <th></th>\n",
       "      <th>hypothesis</th>\n",
       "      <th>reach</th>\n",
       "      <th>impact</th>\n",
       "      <th>confidence</th>\n",
       "      <th>efforts</th>\n",
       "      <th>ICE</th>\n",
       "      <th>RICE</th>\n",
       "    </tr>\n",
       "  </thead>\n",
       "  <tbody>\n",
       "    <tr>\n",
       "      <th>7</th>\n",
       "      <td>Добавить форму подписки на все основные страницы, чтобы собрать базу клиентов для email-рассылок</td>\n",
       "      <td>10</td>\n",
       "      <td>7</td>\n",
       "      <td>8</td>\n",
       "      <td>5</td>\n",
       "      <td>11.20</td>\n",
       "      <td>112.0</td>\n",
       "    </tr>\n",
       "    <tr>\n",
       "      <th>2</th>\n",
       "      <td>Добавить блоки рекомендаций товаров на сайт интернет магазина, чтобы повысить конверсию и средний чек заказа</td>\n",
       "      <td>8</td>\n",
       "      <td>3</td>\n",
       "      <td>7</td>\n",
       "      <td>3</td>\n",
       "      <td>7.00</td>\n",
       "      <td>56.0</td>\n",
       "    </tr>\n",
       "    <tr>\n",
       "      <th>0</th>\n",
       "      <td>Добавить два новых канала привлечения трафика, что позволит привлекать на 30% больше пользователей</td>\n",
       "      <td>3</td>\n",
       "      <td>10</td>\n",
       "      <td>8</td>\n",
       "      <td>6</td>\n",
       "      <td>13.33</td>\n",
       "      <td>40.0</td>\n",
       "    </tr>\n",
       "    <tr>\n",
       "      <th>6</th>\n",
       "      <td>Показать на главной странице баннеры с актуальными акциями и распродажами, чтобы увеличить конверсию</td>\n",
       "      <td>5</td>\n",
       "      <td>3</td>\n",
       "      <td>8</td>\n",
       "      <td>3</td>\n",
       "      <td>8.00</td>\n",
       "      <td>40.0</td>\n",
       "    </tr>\n",
       "    <tr>\n",
       "      <th>8</th>\n",
       "      <td>Запустить акцию, дающую скидку на товар в день рождения</td>\n",
       "      <td>1</td>\n",
       "      <td>9</td>\n",
       "      <td>9</td>\n",
       "      <td>5</td>\n",
       "      <td>16.20</td>\n",
       "      <td>16.2</td>\n",
       "    </tr>\n",
       "    <tr>\n",
       "      <th>3</th>\n",
       "      <td>Изменить структура категорий, что увеличит конверсию, т.к. пользователи быстрее найдут нужный товар</td>\n",
       "      <td>8</td>\n",
       "      <td>3</td>\n",
       "      <td>3</td>\n",
       "      <td>8</td>\n",
       "      <td>1.12</td>\n",
       "      <td>9.0</td>\n",
       "    </tr>\n",
       "    <tr>\n",
       "      <th>1</th>\n",
       "      <td>Запустить собственную службу доставки, что сократит срок доставки заказов</td>\n",
       "      <td>2</td>\n",
       "      <td>5</td>\n",
       "      <td>4</td>\n",
       "      <td>10</td>\n",
       "      <td>2.00</td>\n",
       "      <td>4.0</td>\n",
       "    </tr>\n",
       "    <tr>\n",
       "      <th>5</th>\n",
       "      <td>Добавить страницу отзывов клиентов о магазине, что позволит увеличить количество заказов</td>\n",
       "      <td>3</td>\n",
       "      <td>2</td>\n",
       "      <td>2</td>\n",
       "      <td>3</td>\n",
       "      <td>1.33</td>\n",
       "      <td>4.0</td>\n",
       "    </tr>\n",
       "    <tr>\n",
       "      <th>4</th>\n",
       "      <td>Изменить цвет фона главной страницы, чтобы увеличить вовлеченность пользователей</td>\n",
       "      <td>3</td>\n",
       "      <td>1</td>\n",
       "      <td>1</td>\n",
       "      <td>1</td>\n",
       "      <td>1.00</td>\n",
       "      <td>3.0</td>\n",
       "    </tr>\n",
       "  </tbody>\n",
       "</table>\n",
       "</div>"
      ],
      "text/plain": [
       "                                                                                                     hypothesis  \\\n",
       "7              Добавить форму подписки на все основные страницы, чтобы собрать базу клиентов для email-рассылок   \n",
       "2  Добавить блоки рекомендаций товаров на сайт интернет магазина, чтобы повысить конверсию и средний чек заказа   \n",
       "0            Добавить два новых канала привлечения трафика, что позволит привлекать на 30% больше пользователей   \n",
       "6          Показать на главной странице баннеры с актуальными акциями и распродажами, чтобы увеличить конверсию   \n",
       "8                                                       Запустить акцию, дающую скидку на товар в день рождения   \n",
       "3           Изменить структура категорий, что увеличит конверсию, т.к. пользователи быстрее найдут нужный товар   \n",
       "1                                     Запустить собственную службу доставки, что сократит срок доставки заказов   \n",
       "5                      Добавить страницу отзывов клиентов о магазине, что позволит увеличить количество заказов   \n",
       "4                              Изменить цвет фона главной страницы, чтобы увеличить вовлеченность пользователей   \n",
       "\n",
       "   reach  impact  confidence  efforts    ICE   RICE  \n",
       "7     10       7           8        5  11.20  112.0  \n",
       "2      8       3           7        3   7.00   56.0  \n",
       "0      3      10           8        6  13.33   40.0  \n",
       "6      5       3           8        3   8.00   40.0  \n",
       "8      1       9           9        5  16.20   16.2  \n",
       "3      8       3           3        8   1.12    9.0  \n",
       "1      2       5           4       10   2.00    4.0  \n",
       "5      3       2           2        3   1.33    4.0  \n",
       "4      3       1           1        1   1.00    3.0  "
      ]
     },
     "execution_count": 31,
     "metadata": {},
     "output_type": "execute_result"
    }
   ],
   "source": [
    "hypothesis['RICE'] = hypothesis['reach'] * hypothesis['impact'] * hypothesis['confidence'] / hypothesis['efforts']\n",
    "hypothesis.sort_values(by = 'RICE', ascending = False)"
   ]
  },
  {
   "cell_type": "markdown",
   "metadata": {
    "id": "_evceHNtmah0"
   },
   "source": [
    "На первом месте с отрывом теперь оказалась гипотеза - Добавить форму подписки на все основные страницы, чтобы собрать базу клиентов для email-рассылок - с показателем RICE = 112, далее - Добавить блоки рекомендаций товаров на сайт интернет магазина, чтобы повысить конверсию и средний чек заказа - с RICE = 56, на третьем месте гипотеза - Добавить два новых канала привлечения трафика, что позволит привлекать на 30% больше пользователей\t- с RICE = 40.  На последнем же месте гипотеза - Изменить цвет фона главной страницы, чтобы увеличить вовлеченность пользователей - с RICE = 3."
   ]
  },
  {
   "cell_type": "markdown",
   "metadata": {
    "id": "lgTEYCTAnsCI"
   },
   "source": [
    "\n",
    "\n",
    "---\n",
    "\n"
   ]
  },
  {
   "cell_type": "markdown",
   "metadata": {
    "id": "wfGgNRIdm5h3"
   },
   "source": [
    "## Разница между показателями ICE и RICE"
   ]
  },
  {
   "cell_type": "code",
   "execution_count": 38,
   "metadata": {
    "colab": {
     "base_uri": "https://localhost:8080/",
     "height": 53
    },
    "id": "hyCvNmkWnrbe",
    "outputId": "86fe6827-3143-4518-de9d-0795f60a3d7d"
   },
   "outputs": [
    {
     "data": {
      "text/plain": [
       "Index([8, 0, 7, 6, 2, 1, 5, 3, 4], dtype='int64')"
      ]
     },
     "metadata": {},
     "output_type": "display_data"
    },
    {
     "data": {
      "text/plain": [
       "Index([7, 2, 0, 6, 8, 3, 1, 5, 4], dtype='int64')"
      ]
     },
     "metadata": {},
     "output_type": "display_data"
    }
   ],
   "source": [
    "display(hypothesis.sort_values(by = 'ICE', ascending = False).index)\n",
    "display(hypothesis.sort_values(by = 'RICE', ascending = False).index)"
   ]
  },
  {
   "cell_type": "markdown",
   "metadata": {
    "id": "02q1VVF2nv1W"
   },
   "source": [
    "Как мы видим, приоритизация значительно изменилась при смене фреймворка. Восьмая гипотеза стала первой вместо третьей, девятая гипотеза спустилась до пятого места вместо первого, также третья гипотеза поднялась до второго места, а первая гипотеза опустилась только на одно место.\n",
    "\n",
    "Так произошло, потому что при использовании фреймворка ICE мы пренебрегаем охватом аудитории, то есть сколько пользователей затронет какое-либо предложение. А при использовании RICE мы учитываем это, поэтому у нас получился сильно другой результат."
   ]
  },
  {
   "cell_type": "markdown",
   "metadata": {
    "id": "IwJlzw2xvSmZ"
   },
   "source": [
    "\n",
    "\n",
    "---\n",
    "\n",
    "# Часть 2"
   ]
  },
  {
   "cell_type": "code",
   "execution_count": 42,
   "metadata": {
    "id": "yu6gQJjoome3"
   },
   "outputs": [],
   "source": [
    "import datetime as dt\n",
    "\n",
    "a1 = 'orders.csv'\n",
    "a2 = '/datasets/orders.csv'\n",
    "\n",
    "b1 = 'visitors.csv'\n",
    "b2 = '/datasets/visitors.csv'\n",
    "\n",
    "if os.path.exists(a1):\n",
    "  orders = pd.read_csv(a1)\n",
    "else:\n",
    "  orders = pd.read_csv(a2)\n",
    "\n",
    "if os.path.exists(b1):\n",
    "  visitors = pd.read_csv(b1)\n",
    "else:\n",
    "  visitors = pd.read_csv(b2)\n",
    "\n",
    "orders['date'] = orders['date'].map(lambda x: dt.datetime.strptime(x, '%Y-%m-%d'))\n",
    "visitors['date'] = visitors['date'].map(lambda x: dt.datetime.strptime(x, '%Y-%m-%d'))"
   ]
  },
  {
   "cell_type": "code",
   "execution_count": 43,
   "metadata": {
    "colab": {
     "base_uri": "https://localhost:8080/",
     "height": 395
    },
    "id": "HetLYWJrv1HT",
    "outputId": "ea74abc3-4a48-4bc8-9b1e-498b27fb158d"
   },
   "outputs": [
    {
     "data": {
      "text/html": [
       "<div>\n",
       "<style scoped>\n",
       "    .dataframe tbody tr th:only-of-type {\n",
       "        vertical-align: middle;\n",
       "    }\n",
       "\n",
       "    .dataframe tbody tr th {\n",
       "        vertical-align: top;\n",
       "    }\n",
       "\n",
       "    .dataframe thead th {\n",
       "        text-align: right;\n",
       "    }\n",
       "</style>\n",
       "<table border=\"1\" class=\"dataframe\">\n",
       "  <thead>\n",
       "    <tr style=\"text-align: right;\">\n",
       "      <th></th>\n",
       "      <th>transactionId</th>\n",
       "      <th>visitorId</th>\n",
       "      <th>date</th>\n",
       "      <th>revenue</th>\n",
       "      <th>group</th>\n",
       "    </tr>\n",
       "  </thead>\n",
       "  <tbody>\n",
       "    <tr>\n",
       "      <th>0</th>\n",
       "      <td>3667963787</td>\n",
       "      <td>3312258926</td>\n",
       "      <td>2019-08-15</td>\n",
       "      <td>1650</td>\n",
       "      <td>B</td>\n",
       "    </tr>\n",
       "    <tr>\n",
       "      <th>1</th>\n",
       "      <td>2804400009</td>\n",
       "      <td>3642806036</td>\n",
       "      <td>2019-08-15</td>\n",
       "      <td>730</td>\n",
       "      <td>B</td>\n",
       "    </tr>\n",
       "    <tr>\n",
       "      <th>2</th>\n",
       "      <td>2961555356</td>\n",
       "      <td>4069496402</td>\n",
       "      <td>2019-08-15</td>\n",
       "      <td>400</td>\n",
       "      <td>A</td>\n",
       "    </tr>\n",
       "    <tr>\n",
       "      <th>3</th>\n",
       "      <td>3797467345</td>\n",
       "      <td>1196621759</td>\n",
       "      <td>2019-08-15</td>\n",
       "      <td>9759</td>\n",
       "      <td>B</td>\n",
       "    </tr>\n",
       "    <tr>\n",
       "      <th>4</th>\n",
       "      <td>2282983706</td>\n",
       "      <td>2322279887</td>\n",
       "      <td>2019-08-15</td>\n",
       "      <td>2308</td>\n",
       "      <td>B</td>\n",
       "    </tr>\n",
       "  </tbody>\n",
       "</table>\n",
       "</div>"
      ],
      "text/plain": [
       "   transactionId   visitorId       date  revenue group\n",
       "0     3667963787  3312258926 2019-08-15     1650     B\n",
       "1     2804400009  3642806036 2019-08-15      730     B\n",
       "2     2961555356  4069496402 2019-08-15      400     A\n",
       "3     3797467345  1196621759 2019-08-15     9759     B\n",
       "4     2282983706  2322279887 2019-08-15     2308     B"
      ]
     },
     "metadata": {},
     "output_type": "display_data"
    },
    {
     "data": {
      "text/html": [
       "<div>\n",
       "<style scoped>\n",
       "    .dataframe tbody tr th:only-of-type {\n",
       "        vertical-align: middle;\n",
       "    }\n",
       "\n",
       "    .dataframe tbody tr th {\n",
       "        vertical-align: top;\n",
       "    }\n",
       "\n",
       "    .dataframe thead th {\n",
       "        text-align: right;\n",
       "    }\n",
       "</style>\n",
       "<table border=\"1\" class=\"dataframe\">\n",
       "  <thead>\n",
       "    <tr style=\"text-align: right;\">\n",
       "      <th></th>\n",
       "      <th>date</th>\n",
       "      <th>group</th>\n",
       "      <th>visitors</th>\n",
       "    </tr>\n",
       "  </thead>\n",
       "  <tbody>\n",
       "    <tr>\n",
       "      <th>0</th>\n",
       "      <td>2019-08-01</td>\n",
       "      <td>A</td>\n",
       "      <td>719</td>\n",
       "    </tr>\n",
       "    <tr>\n",
       "      <th>1</th>\n",
       "      <td>2019-08-02</td>\n",
       "      <td>A</td>\n",
       "      <td>619</td>\n",
       "    </tr>\n",
       "    <tr>\n",
       "      <th>2</th>\n",
       "      <td>2019-08-03</td>\n",
       "      <td>A</td>\n",
       "      <td>507</td>\n",
       "    </tr>\n",
       "    <tr>\n",
       "      <th>3</th>\n",
       "      <td>2019-08-04</td>\n",
       "      <td>A</td>\n",
       "      <td>717</td>\n",
       "    </tr>\n",
       "    <tr>\n",
       "      <th>4</th>\n",
       "      <td>2019-08-05</td>\n",
       "      <td>A</td>\n",
       "      <td>756</td>\n",
       "    </tr>\n",
       "  </tbody>\n",
       "</table>\n",
       "</div>"
      ],
      "text/plain": [
       "        date group  visitors\n",
       "0 2019-08-01     A       719\n",
       "1 2019-08-02     A       619\n",
       "2 2019-08-03     A       507\n",
       "3 2019-08-04     A       717\n",
       "4 2019-08-05     A       756"
      ]
     },
     "metadata": {},
     "output_type": "display_data"
    }
   ],
   "source": [
    "display(orders.head())\n",
    "display(visitors.head())"
   ]
  },
  {
   "cell_type": "code",
   "execution_count": 44,
   "metadata": {
    "colab": {
     "base_uri": "https://localhost:8080/",
     "height": 88
    },
    "id": "bw5uXEyZnHhM",
    "outputId": "4d184491-0af0-4ba6-afb8-b0f98dc297e6"
   },
   "outputs": [
    {
     "data": {
      "text/plain": [
       "False"
      ]
     },
     "metadata": {},
     "output_type": "display_data"
    },
    {
     "data": {
      "text/plain": [
       "0"
      ]
     },
     "metadata": {},
     "output_type": "display_data"
    },
    {
     "data": {
      "text/plain": [
       "False"
      ]
     },
     "metadata": {},
     "output_type": "display_data"
    },
    {
     "data": {
      "text/plain": [
       "0"
      ]
     },
     "metadata": {},
     "output_type": "display_data"
    }
   ],
   "source": [
    "display(orders.isna().any().any())\n",
    "display(orders.duplicated().sum())\n",
    "display(visitors.isna().any().any())\n",
    "display(visitors.duplicated().sum())"
   ]
  },
  {
   "cell_type": "markdown",
   "metadata": {
    "id": "ak5BZHxync_w"
   },
   "source": [
    "Загрузили данные. Поменяли на необходимый тип данные о дате, проверили на пропуски и дубликаты - их не оказалось."
   ]
  },
  {
   "cell_type": "markdown",
   "metadata": {
    "id": "AeX8ELnRVTnO"
   },
   "source": [
    "\n",
    "\n",
    "---\n",
    "\n"
   ]
  },
  {
   "cell_type": "markdown",
   "metadata": {
    "id": "iNaKyJ4Nn1DC"
   },
   "source": [
    "## Подготовка данных"
   ]
  },
  {
   "cell_type": "markdown",
   "metadata": {
    "id": "iEbUkXcgVV73"
   },
   "source": [
    "Для того, чтобы сравнивать значения из выборок, создадим все необходимые переменные с нужными для нас данными."
   ]
  },
  {
   "cell_type": "code",
   "execution_count": 50,
   "metadata": {
    "colab": {
     "base_uri": "https://localhost:8080/",
     "height": 313
    },
    "id": "GV8dbsn70k-y",
    "outputId": "5a68ee10-f89a-418a-bef3-9bc06e3ec308"
   },
   "outputs": [
    {
     "data": {
      "text/html": [
       "<div>\n",
       "<style scoped>\n",
       "    .dataframe tbody tr th:only-of-type {\n",
       "        vertical-align: middle;\n",
       "    }\n",
       "\n",
       "    .dataframe tbody tr th {\n",
       "        vertical-align: top;\n",
       "    }\n",
       "\n",
       "    .dataframe thead th {\n",
       "        text-align: right;\n",
       "    }\n",
       "</style>\n",
       "<table border=\"1\" class=\"dataframe\">\n",
       "  <thead>\n",
       "    <tr style=\"text-align: right;\">\n",
       "      <th></th>\n",
       "      <th>date</th>\n",
       "      <th>ordersPerDateA</th>\n",
       "      <th>revenuePerDateA</th>\n",
       "      <th>ordersPerDateB</th>\n",
       "      <th>revenuePerDateB</th>\n",
       "      <th>ordersCummulativeA</th>\n",
       "      <th>revenueCummulativeA</th>\n",
       "      <th>ordersCummulativeB</th>\n",
       "      <th>revenueCummulativeB</th>\n",
       "      <th>visitorsPerDateA</th>\n",
       "      <th>visitorsPerDateB</th>\n",
       "      <th>visitorsCummulativeA</th>\n",
       "      <th>visitorsCummulativeB</th>\n",
       "    </tr>\n",
       "  </thead>\n",
       "  <tbody>\n",
       "    <tr>\n",
       "      <th>0</th>\n",
       "      <td>2019-08-01</td>\n",
       "      <td>24</td>\n",
       "      <td>148579</td>\n",
       "      <td>21</td>\n",
       "      <td>101217</td>\n",
       "      <td>24</td>\n",
       "      <td>148579</td>\n",
       "      <td>21</td>\n",
       "      <td>101217</td>\n",
       "      <td>719</td>\n",
       "      <td>713</td>\n",
       "      <td>719</td>\n",
       "      <td>713</td>\n",
       "    </tr>\n",
       "    <tr>\n",
       "      <th>1</th>\n",
       "      <td>2019-08-02</td>\n",
       "      <td>20</td>\n",
       "      <td>93822</td>\n",
       "      <td>24</td>\n",
       "      <td>165531</td>\n",
       "      <td>44</td>\n",
       "      <td>242401</td>\n",
       "      <td>45</td>\n",
       "      <td>266748</td>\n",
       "      <td>619</td>\n",
       "      <td>581</td>\n",
       "      <td>1338</td>\n",
       "      <td>1294</td>\n",
       "    </tr>\n",
       "    <tr>\n",
       "      <th>2</th>\n",
       "      <td>2019-08-03</td>\n",
       "      <td>24</td>\n",
       "      <td>112473</td>\n",
       "      <td>16</td>\n",
       "      <td>114248</td>\n",
       "      <td>68</td>\n",
       "      <td>354874</td>\n",
       "      <td>61</td>\n",
       "      <td>380996</td>\n",
       "      <td>507</td>\n",
       "      <td>509</td>\n",
       "      <td>1845</td>\n",
       "      <td>1803</td>\n",
       "    </tr>\n",
       "    <tr>\n",
       "      <th>3</th>\n",
       "      <td>2019-08-04</td>\n",
       "      <td>16</td>\n",
       "      <td>70825</td>\n",
       "      <td>17</td>\n",
       "      <td>108571</td>\n",
       "      <td>84</td>\n",
       "      <td>425699</td>\n",
       "      <td>78</td>\n",
       "      <td>489567</td>\n",
       "      <td>717</td>\n",
       "      <td>770</td>\n",
       "      <td>2562</td>\n",
       "      <td>2573</td>\n",
       "    </tr>\n",
       "    <tr>\n",
       "      <th>4</th>\n",
       "      <td>2019-08-05</td>\n",
       "      <td>25</td>\n",
       "      <td>124218</td>\n",
       "      <td>23</td>\n",
       "      <td>92428</td>\n",
       "      <td>109</td>\n",
       "      <td>549917</td>\n",
       "      <td>101</td>\n",
       "      <td>581995</td>\n",
       "      <td>756</td>\n",
       "      <td>707</td>\n",
       "      <td>3318</td>\n",
       "      <td>3280</td>\n",
       "    </tr>\n",
       "  </tbody>\n",
       "</table>\n",
       "</div>"
      ],
      "text/plain": [
       "        date  ordersPerDateA  revenuePerDateA  ordersPerDateB  \\\n",
       "0 2019-08-01              24           148579              21   \n",
       "1 2019-08-02              20            93822              24   \n",
       "2 2019-08-03              24           112473              16   \n",
       "3 2019-08-04              16            70825              17   \n",
       "4 2019-08-05              25           124218              23   \n",
       "\n",
       "   revenuePerDateB  ordersCummulativeA  revenueCummulativeA  \\\n",
       "0           101217                  24               148579   \n",
       "1           165531                  44               242401   \n",
       "2           114248                  68               354874   \n",
       "3           108571                  84               425699   \n",
       "4            92428                 109               549917   \n",
       "\n",
       "   ordersCummulativeB  revenueCummulativeB  visitorsPerDateA  \\\n",
       "0                  21               101217               719   \n",
       "1                  45               266748               619   \n",
       "2                  61               380996               507   \n",
       "3                  78               489567               717   \n",
       "4                 101               581995               756   \n",
       "\n",
       "   visitorsPerDateB  visitorsCummulativeA  visitorsCummulativeB  \n",
       "0               713                   719                   713  \n",
       "1               581                  1338                  1294  \n",
       "2               509                  1845                  1803  \n",
       "3               770                  2562                  2573  \n",
       "4               707                  3318                  3280  "
      ]
     },
     "execution_count": 50,
     "metadata": {},
     "output_type": "execute_result"
    }
   ],
   "source": [
    "visitorsADaily = visitors.query('group == \"A\"')[['date', 'visitors']]\n",
    "visitorsADaily.columns = ['date', 'visitorsPerDateA']\n",
    "\n",
    "visitorsACummulative = visitorsADaily.apply(lambda x: visitorsADaily[visitorsADaily['date'] <= x['date']].agg({'date': 'max', 'visitorsPerDateA': 'sum'}), axis = 1)\n",
    "visitorsACummulative.columns = ['date', 'visitorsCummulativeA']\n",
    "\n",
    "visitorsBDaily = visitors.query('group == \"B\"')[['date', 'visitors']]\n",
    "visitorsBDaily.columns = ['date', 'visitorsPerDateB']\n",
    "\n",
    "visitorsBCummulative = visitorsBDaily.apply(lambda x: visitorsBDaily[visitorsBDaily['date'] <= x['date']].agg({'date': 'max', 'visitorsPerDateB':'sum'}), axis = 1)\n",
    "visitorsBCummulative.columns = ['date', 'visitorsCummulativeB']\n",
    "\n",
    "\n",
    "ordersADaily = orders.query('group == \"A\"').groupby('date', as_index = False)[['date', 'transactionId', 'revenue']].agg({'date':'max', 'transactionId':'nunique', 'revenue':'sum'})\n",
    "ordersADaily.columns = ['date', 'ordersPerDateA', 'revenuePerDateA']\n",
    "\n",
    "ordersACummulative = ordersADaily.apply(lambda x: ordersADaily[ordersADaily['date'] <= x['date']].agg({'date':'max', 'ordersPerDateA':'sum', 'revenuePerDateA':'sum'}), axis = 1).sort_values(by = 'date')\n",
    "ordersACummulative.columns = ['date', 'ordersCummulativeA', 'revenueCummulativeA']\n",
    "\n",
    "ordersBDaily = orders.query('group == \"B\"').groupby('date', as_index = False)[['date', 'transactionId', 'revenue']].agg({'date':'max', 'transactionId':'nunique', 'revenue':'sum'})\n",
    "ordersBDaily.columns = ['date', 'ordersPerDateB', 'revenuePerDateB']\n",
    "\n",
    "ordersBCummulative = ordersBDaily.apply(lambda x: ordersBDaily[ordersBDaily['date'] <= x['date']].agg({'date':'max', 'ordersPerDateB':'sum', 'revenuePerDateB':'sum'}), axis = 1).sort_values(by = 'date')\n",
    "ordersBCummulative.columns = ['date', 'ordersCummulativeB', 'revenueCummulativeB']\n",
    "\n",
    "data = (\n",
    "    ordersADaily.merge(\n",
    "        ordersBDaily, on='date', how='left'\n",
    "    )\n",
    "    .merge(ordersACummulative, on='date', how='left')\n",
    "    .merge(ordersBCummulative, on='date', how='left')\n",
    "    .merge(visitorsADaily, on='date', how='left')\n",
    "    .merge(visitorsBDaily, on='date', how='left')\n",
    "    .merge(visitorsACummulative, on='date', how='left')\n",
    "    .merge(visitorsBCummulative, on='date', how='left')\n",
    ")\n",
    "data.head()"
   ]
  },
  {
   "cell_type": "markdown",
   "metadata": {
    "id": "wk5y5XP1n4D0"
   },
   "source": [
    "Данные готовы, можно приступать к сравнению групп"
   ]
  },
  {
   "cell_type": "markdown",
   "metadata": {
    "id": "0ts8HvNnPBx2"
   },
   "source": [
    "\n",
    "\n",
    "---\n",
    "\n"
   ]
  },
  {
   "cell_type": "markdown",
   "metadata": {
    "id": "NBpPVfpPPg76"
   },
   "source": [
    "### График куммулятивной выручки по группам"
   ]
  },
  {
   "cell_type": "code",
   "execution_count": 54,
   "metadata": {
    "colab": {
     "base_uri": "https://localhost:8080/",
     "height": 524
    },
    "id": "PkQ3-hTkPBQy",
    "outputId": "3b2de73a-2aa0-4792-a591-e3013fd00c60"
   },
   "outputs": [
    {
     "data": {
      "image/png": "[encoded data removed]",
      "text/plain": [
       "<Figure size 640x480 with 1 Axes>"
      ]
     },
     "metadata": {},
     "output_type": "display_data"
    }
   ],
   "source": [
    "plt.plot(data['date'], data['revenueCummulativeA'], label = 'A')\n",
    "plt.plot(data['date'], data['revenueCummulativeB'], label = 'B')\n",
    "plt.title('Куммулятивная выручка по группам')\n",
    "plt.xlabel('Дата')\n",
    "plt.ylabel('Выручка')\n",
    "plt.legend()\n",
    "plt.xticks(rotation = 45)\n",
    "plt.show()"
   ]
  },
  {
   "cell_type": "markdown",
   "metadata": {
    "id": "PZImu70MoL7I"
   },
   "source": [
    "Видим, что до 13 августа выручка не так сильно разнится. Но после 17 августа происходит резкий подъем. Возможно, есть выбросы"
   ]
  },
  {
   "cell_type": "markdown",
   "metadata": {
    "id": "51gMqCj2PfiN"
   },
   "source": [
    "\n",
    "\n",
    "---\n",
    "\n"
   ]
  },
  {
   "cell_type": "markdown",
   "metadata": {
    "id": "XNd3ZLtePmVY"
   },
   "source": [
    "### График куммулятивного среднего чека по группам"
   ]
  },
  {
   "cell_type": "code",
   "execution_count": 59,
   "metadata": {
    "colab": {
     "base_uri": "https://localhost:8080/",
     "height": 524
    },
    "id": "bulceGRoPbn0",
    "outputId": "bb275ee9-5705-4289-bf7e-80a8acfce2c5"
   },
   "outputs": [
    {
     "data": {
      "image/png": "[encoded data removed]",
      "text/plain": [
       "<Figure size 640x480 with 1 Axes>"
      ]
     },
     "metadata": {},
     "output_type": "display_data"
    }
   ],
   "source": [
    "plt.plot(data['date'], data['revenueCummulativeA'] / data['ordersCummulativeA'], label = 'A')\n",
    "plt.plot(data['date'], data['revenueCummulativeB'] / data['ordersCummulativeB'], label = 'B')\n",
    "plt.title('Куммулятивный средний чек по группам')\n",
    "plt.xlabel('Дата')\n",
    "plt.ylabel('Средний чек')\n",
    "plt.legend()\n",
    "plt.xticks(rotation = 45)\n",
    "plt.show()"
   ]
  },
  {
   "cell_type": "markdown",
   "metadata": {
    "id": "ZWHEVurQobi0"
   },
   "source": [
    "Со средим чеком ситуация похожая, до 17 августа происходят росты и убывания у обеих групп, непонятно какая лидирует. После 17 августа резкий подъем группы B. Линия прямая, можно сделать вывод, что выбросы все-таки есть"
   ]
  },
  {
   "cell_type": "markdown",
   "metadata": {
    "id": "fyV40Vh5UL4K"
   },
   "source": [
    "\n",
    "\n",
    "---\n",
    "\n"
   ]
  },
  {
   "cell_type": "markdown",
   "metadata": {
    "id": "u2GBxm7JUND4"
   },
   "source": [
    "### График относительного изменения куммулятивного среднего чека группы B к группе A"
   ]
  },
  {
   "cell_type": "code",
   "execution_count": 64,
   "metadata": {
    "colab": {
     "base_uri": "https://localhost:8080/",
     "height": 524
    },
    "id": "Q3U_E4ZCXoDi",
    "outputId": "4311ae45-cabf-4df2-b932-06799e8e834c"
   },
   "outputs": [
    {
     "data": {
      "image/png": "[encoded data removed]",
      "text/plain": [
       "<Figure size 640x480 with 1 Axes>"
      ]
     },
     "metadata": {},
     "output_type": "display_data"
    }
   ],
   "source": [
    "plt.plot(data['date'], (data['revenueCummulativeB'] / data['ordersCummulativeB']) / (data['revenueCummulativeA'] / data['ordersCummulativeB']) - 1)\n",
    "plt.title('Относительное изменение куммулятивного среднего чека группы B к группе А')\n",
    "plt.xlabel('Дата')\n",
    "plt.ylabel('Разница в доле')\n",
    "plt.axhline(y = 0, color = 'black', linestyle = '--')\n",
    "plt.xticks(rotation = 45)\n",
    "plt.show()"
   ]
  },
  {
   "cell_type": "markdown",
   "metadata": {
    "id": "X91veegKqdYU"
   },
   "source": [
    "По этому графику мы можем понять, что данные не стабильны. Видна положительная разница для групппы В, но так же видны и аномальные значения."
   ]
  },
  {
   "cell_type": "markdown",
   "metadata": {
    "id": "hL6V8872Z9WN"
   },
   "source": [
    "\n",
    "\n",
    "---\n",
    "\n"
   ]
  },
  {
   "cell_type": "markdown",
   "metadata": {
    "id": "Zvvps0poZ-T3"
   },
   "source": [
    "### График куммулятивного среднего количества заказов на посетителя по группам"
   ]
  },
  {
   "cell_type": "code",
   "execution_count": 69,
   "metadata": {
    "colab": {
     "base_uri": "https://localhost:8080/",
     "height": 524
    },
    "id": "wFOQoPzVZ93F",
    "outputId": "517581c8-2c42-4ec9-f7c0-c8fcb17942d7"
   },
   "outputs": [
    {
     "data": {
      "image/png": "[encoded data removed]",
      "text/plain": [
       "<Figure size 640x480 with 1 Axes>"
      ]
     },
     "metadata": {},
     "output_type": "display_data"
    }
   ],
   "source": [
    "plt.plot(data['date'], data['ordersCummulativeA'] / data['visitorsCummulativeA'], label = 'A')\n",
    "plt.plot(data['date'], data['ordersCummulativeB'] / data['visitorsCummulativeB'], label = 'B')\n",
    "plt.title('Куммулятивное среднее количество заказов на посетителя по группам')\n",
    "plt.xlabel('Дата')\n",
    "plt.ylabel('Среднее количество заказов')\n",
    "plt.legend()\n",
    "plt.xticks(rotation = 45)\n",
    "plt.show()"
   ]
  },
  {
   "cell_type": "markdown",
   "metadata": {
    "id": "4ir6JG5aqxCM"
   },
   "source": [
    "Спустя неделю данные приняли стабильное отношение, которое продолжается в дальнейшем. Среднее количество заказов группы В явно больше группы А."
   ]
  },
  {
   "cell_type": "markdown",
   "metadata": {
    "id": "z38yPGzIbx1r"
   },
   "source": [
    "\n",
    "\n",
    "---\n",
    "\n"
   ]
  },
  {
   "cell_type": "markdown",
   "metadata": {
    "id": "jQCGpV0jbytT"
   },
   "source": [
    "### График относительного изменения среднего количества заказов на посетителя группы B к группе А"
   ]
  },
  {
   "cell_type": "code",
   "execution_count": 74,
   "metadata": {
    "colab": {
     "base_uri": "https://localhost:8080/",
     "height": 524
    },
    "id": "lo8dYP3Batlc",
    "outputId": "e4b6e11c-fe13-40b0-838e-7ea41bd116b0"
   },
   "outputs": [
    {
     "data": {
      "image/png": "[encoded data removed]",
      "text/plain": [
       "<Figure size 640x480 with 1 Axes>"
      ]
     },
     "metadata": {},
     "output_type": "display_data"
    }
   ],
   "source": [
    "plt.plot(data['date'], (data['ordersCummulativeB'] / data['visitorsCummulativeB']) / (data['ordersCummulativeA'] / data['visitorsCummulativeA']) - 1)\n",
    "plt.axhline(y = 0, color = 'black', linestyle = '--')\n",
    "plt.title('Относительное изменение среднего количества заказов на посетителя')\n",
    "plt.xlabel('Дата')\n",
    "plt.ylabel('Относительное изменение')\n",
    "plt.xticks(rotation = 45)\n",
    "plt.show()"
   ]
  },
  {
   "cell_type": "markdown",
   "metadata": {
    "id": "mc9Qpo0LrLiH"
   },
   "source": [
    "Изначально изменение было \"скачущим\" и больше отрицательным, но спустя время относительное изменение так же показывает, что группа В в этом параметре выше группы А"
   ]
  },
  {
   "cell_type": "markdown",
   "metadata": {
    "id": "f980gF2odOFy"
   },
   "source": [
    "\n",
    "\n",
    "---\n",
    "\n"
   ]
  },
  {
   "cell_type": "markdown",
   "metadata": {
    "id": "8aNO8UkedQXS"
   },
   "source": [
    "### Точечный график количества заказов по пользователяи"
   ]
  },
  {
   "cell_type": "code",
   "execution_count": 79,
   "metadata": {
    "colab": {
     "base_uri": "https://localhost:8080/",
     "height": 472
    },
    "id": "p7NOotu2dIFx",
    "outputId": "99f77d15-0b32-4e65-e806-c6cc2fbb26aa"
   },
   "outputs": [
    {
     "data": {
      "image/png": "[encoded data removed]",
      "text/plain": [
       "<Figure size 640x480 with 1 Axes>"
      ]
     },
     "metadata": {},
     "output_type": "display_data"
    }
   ],
   "source": [
    "quantity_orders = orders.groupby('visitorId', as_index = False).agg({'transactionId':'nunique'})\n",
    "quantity_orders.columns = ['userId', 'orders']\n",
    "\n",
    "plt.scatter(quantity_orders.index, quantity_orders['orders'])\n",
    "plt.title('Точечный график количества заказов по пользователям')\n",
    "plt.xlabel('Индекс')\n",
    "plt.ylabel('Количество заказов')\n",
    "plt.show()"
   ]
  },
  {
   "cell_type": "markdown",
   "metadata": {
    "id": "emGhYUq9MPXN"
   },
   "source": [
    "Видим, что между 2 и 4 редкие значения. Значения после 4 наверняка являются выбросами. Слишком уж редкие значения"
   ]
  },
  {
   "cell_type": "markdown",
   "metadata": {
    "id": "7NVHwgY_jy7Z"
   },
   "source": [
    "\n",
    "\n",
    "---\n",
    "\n"
   ]
  },
  {
   "cell_type": "markdown",
   "metadata": {
    "id": "GbAZw2F4j1dP"
   },
   "source": [
    "### Подсчет 95 и 99 перцентилей для количества заказов на пользователя"
   ]
  },
  {
   "cell_type": "code",
   "execution_count": 84,
   "metadata": {
    "colab": {
     "base_uri": "https://localhost:8080/"
    },
    "id": "I50at_bje0U1",
    "outputId": "f83b1d3e-cb20-4f3f-aebd-be83facd049a"
   },
   "outputs": [
    {
     "data": {
      "text/plain": [
       "array([2., 4.])"
      ]
     },
     "execution_count": 84,
     "metadata": {},
     "output_type": "execute_result"
    }
   ],
   "source": [
    "np.percentile(quantity_orders['orders'], [95, 99])"
   ]
  },
  {
   "cell_type": "markdown",
   "metadata": {
    "id": "pcvJ3_N2MZuW"
   },
   "source": [
    "Как и предполагалось, 5 процентов от всех значений больше 2. 1% уже больше 4. Возьмем значения, меньшие 3. Так мы уберем от 1 до 5% значений."
   ]
  },
  {
   "cell_type": "markdown",
   "metadata": {
    "id": "N2uQ1gVQkXXl"
   },
   "source": [
    "\n",
    "\n",
    "---\n",
    "\n"
   ]
  },
  {
   "cell_type": "markdown",
   "metadata": {
    "id": "aa3Fpz2ykYeD"
   },
   "source": [
    "### Точечный график стоимости заказов"
   ]
  },
  {
   "cell_type": "code",
   "execution_count": 89,
   "metadata": {
    "colab": {
     "base_uri": "https://localhost:8080/",
     "height": 472
    },
    "id": "cSItxwynkXC3",
    "outputId": "65b6148a-f901-4b3d-8334-afbdfe8f5cbc"
   },
   "outputs": [
    {
     "data": {
      "image/png": "[encoded data removed]",
      "text/plain": [
       "<Figure size 640x480 with 1 Axes>"
      ]
     },
     "metadata": {},
     "output_type": "display_data"
    }
   ],
   "source": [
    "plt.scatter(orders.index, orders['revenue'])\n",
    "plt.title('Точечный график стоимости заказов')\n",
    "plt.xlabel('Индекс')\n",
    "plt.ylabel('Стоимость заказа')\n",
    "plt.show()"
   ]
  },
  {
   "cell_type": "markdown",
   "metadata": {
    "id": "eWX-YKbnM94m"
   },
   "source": [
    "Здесь выбросов не так много, есть 2 значения выбивающихся из общей кучи."
   ]
  },
  {
   "cell_type": "markdown",
   "metadata": {
    "id": "h8VsXW-4k6RE"
   },
   "source": [
    "\n",
    "\n",
    "---\n",
    "\n"
   ]
  },
  {
   "cell_type": "markdown",
   "metadata": {
    "id": "ZNHwhk1Rk63A"
   },
   "source": [
    "### Подсчет 95 и 99 перцентилей стоимости заказов"
   ]
  },
  {
   "cell_type": "code",
   "execution_count": 94,
   "metadata": {
    "colab": {
     "base_uri": "https://localhost:8080/"
    },
    "id": "2jcebvW2k4ZR",
    "outputId": "b48df202-da83-4640-efb3-b4702ec94767"
   },
   "outputs": [
    {
     "data": {
      "text/plain": [
       "array([28000. , 58233.2])"
      ]
     },
     "execution_count": 94,
     "metadata": {},
     "output_type": "execute_result"
    }
   ],
   "source": [
    "np.percentile(orders['revenue'], [95, 99])"
   ]
  },
  {
   "cell_type": "markdown",
   "metadata": {
    "id": "UNBam4CINJSV"
   },
   "source": [
    "5% значений это те, что больше 28000. 1% - больше 58233. Возьмем значения, меньшие 30000. Так мы уберем 1-5% от значений."
   ]
  },
  {
   "cell_type": "markdown",
   "metadata": {
    "id": "kqylWPHTlaT7"
   },
   "source": [
    "\n",
    "\n",
    "---\n",
    "\n"
   ]
  },
  {
   "cell_type": "markdown",
   "metadata": {
    "id": "hYslLUKVlbNz"
   },
   "source": [
    "### Cтатистическая значимость различий в среднем количестве заказов на посетителя между группами по «сырым» данным"
   ]
  },
  {
   "cell_type": "code",
   "execution_count": 99,
   "metadata": {
    "colab": {
     "base_uri": "https://localhost:8080/",
     "height": 206
    },
    "id": "qkJAeCxA3VkJ",
    "outputId": "3d0ca684-700f-4479-b797-5a1f537fb8a9"
   },
   "outputs": [
    {
     "data": {
      "text/html": [
       "<div>\n",
       "<style scoped>\n",
       "    .dataframe tbody tr th:only-of-type {\n",
       "        vertical-align: middle;\n",
       "    }\n",
       "\n",
       "    .dataframe tbody tr th {\n",
       "        vertical-align: top;\n",
       "    }\n",
       "\n",
       "    .dataframe thead th {\n",
       "        text-align: right;\n",
       "    }\n",
       "</style>\n",
       "<table border=\"1\" class=\"dataframe\">\n",
       "  <thead>\n",
       "    <tr style=\"text-align: right;\">\n",
       "      <th></th>\n",
       "      <th>transactionId</th>\n",
       "      <th>visitorId</th>\n",
       "      <th>date</th>\n",
       "      <th>revenue</th>\n",
       "      <th>group</th>\n",
       "    </tr>\n",
       "  </thead>\n",
       "  <tbody>\n",
       "    <tr>\n",
       "      <th>0</th>\n",
       "      <td>3667963787</td>\n",
       "      <td>3312258926</td>\n",
       "      <td>2019-08-15</td>\n",
       "      <td>1650</td>\n",
       "      <td>B</td>\n",
       "    </tr>\n",
       "    <tr>\n",
       "      <th>1</th>\n",
       "      <td>2804400009</td>\n",
       "      <td>3642806036</td>\n",
       "      <td>2019-08-15</td>\n",
       "      <td>730</td>\n",
       "      <td>B</td>\n",
       "    </tr>\n",
       "    <tr>\n",
       "      <th>2</th>\n",
       "      <td>2961555356</td>\n",
       "      <td>4069496402</td>\n",
       "      <td>2019-08-15</td>\n",
       "      <td>400</td>\n",
       "      <td>A</td>\n",
       "    </tr>\n",
       "    <tr>\n",
       "      <th>3</th>\n",
       "      <td>3797467345</td>\n",
       "      <td>1196621759</td>\n",
       "      <td>2019-08-15</td>\n",
       "      <td>9759</td>\n",
       "      <td>B</td>\n",
       "    </tr>\n",
       "    <tr>\n",
       "      <th>4</th>\n",
       "      <td>2282983706</td>\n",
       "      <td>2322279887</td>\n",
       "      <td>2019-08-15</td>\n",
       "      <td>2308</td>\n",
       "      <td>B</td>\n",
       "    </tr>\n",
       "  </tbody>\n",
       "</table>\n",
       "</div>"
      ],
      "text/plain": [
       "   transactionId   visitorId       date  revenue group\n",
       "0     3667963787  3312258926 2019-08-15     1650     B\n",
       "1     2804400009  3642806036 2019-08-15      730     B\n",
       "2     2961555356  4069496402 2019-08-15      400     A\n",
       "3     3797467345  1196621759 2019-08-15     9759     B\n",
       "4     2282983706  2322279887 2019-08-15     2308     B"
      ]
     },
     "execution_count": 99,
     "metadata": {},
     "output_type": "execute_result"
    }
   ],
   "source": [
    "orders.head()"
   ]
  },
  {
   "cell_type": "code",
   "execution_count": 100,
   "metadata": {
    "colab": {
     "base_uri": "https://localhost:8080/",
     "height": 206
    },
    "id": "Jx1-Pd4AlLa6",
    "outputId": "6795d011-2c00-4d11-9e05-8ead8c18dbd1"
   },
   "outputs": [
    {
     "data": {
      "text/html": [
       "<div>\n",
       "<style scoped>\n",
       "    .dataframe tbody tr th:only-of-type {\n",
       "        vertical-align: middle;\n",
       "    }\n",
       "\n",
       "    .dataframe tbody tr th {\n",
       "        vertical-align: top;\n",
       "    }\n",
       "\n",
       "    .dataframe thead th {\n",
       "        text-align: right;\n",
       "    }\n",
       "</style>\n",
       "<table border=\"1\" class=\"dataframe\">\n",
       "  <thead>\n",
       "    <tr style=\"text-align: right;\">\n",
       "      <th></th>\n",
       "      <th>userId</th>\n",
       "      <th>orders</th>\n",
       "    </tr>\n",
       "  </thead>\n",
       "  <tbody>\n",
       "    <tr>\n",
       "      <th>0</th>\n",
       "      <td>8300375</td>\n",
       "      <td>1</td>\n",
       "    </tr>\n",
       "    <tr>\n",
       "      <th>1</th>\n",
       "      <td>11685486</td>\n",
       "      <td>1</td>\n",
       "    </tr>\n",
       "    <tr>\n",
       "      <th>2</th>\n",
       "      <td>54447517</td>\n",
       "      <td>1</td>\n",
       "    </tr>\n",
       "    <tr>\n",
       "      <th>3</th>\n",
       "      <td>66685450</td>\n",
       "      <td>1</td>\n",
       "    </tr>\n",
       "    <tr>\n",
       "      <th>4</th>\n",
       "      <td>78758296</td>\n",
       "      <td>1</td>\n",
       "    </tr>\n",
       "  </tbody>\n",
       "</table>\n",
       "</div>"
      ],
      "text/plain": [
       "     userId  orders\n",
       "0   8300375       1\n",
       "1  11685486       1\n",
       "2  54447517       1\n",
       "3  66685450       1\n",
       "4  78758296       1"
      ]
     },
     "execution_count": 100,
     "metadata": {},
     "output_type": "execute_result"
    }
   ],
   "source": [
    "ordersByUsersA = orders.query('group == \"A\"').groupby('visitorId', as_index = False).agg({'transactionId':'nunique'})\n",
    "ordersByUsersA.columns = ['userId', 'orders']\n",
    "ordersByUsersA.head()"
   ]
  },
  {
   "cell_type": "code",
   "execution_count": 101,
   "metadata": {
    "colab": {
     "base_uri": "https://localhost:8080/",
     "height": 206
    },
    "id": "Slv30qae3FEt",
    "outputId": "be0f36c3-e18f-44bd-f528-f35eca5ed42b"
   },
   "outputs": [
    {
     "data": {
      "text/html": [
       "<div>\n",
       "<style scoped>\n",
       "    .dataframe tbody tr th:only-of-type {\n",
       "        vertical-align: middle;\n",
       "    }\n",
       "\n",
       "    .dataframe tbody tr th {\n",
       "        vertical-align: top;\n",
       "    }\n",
       "\n",
       "    .dataframe thead th {\n",
       "        text-align: right;\n",
       "    }\n",
       "</style>\n",
       "<table border=\"1\" class=\"dataframe\">\n",
       "  <thead>\n",
       "    <tr style=\"text-align: right;\">\n",
       "      <th></th>\n",
       "      <th>userId</th>\n",
       "      <th>orders</th>\n",
       "    </tr>\n",
       "  </thead>\n",
       "  <tbody>\n",
       "    <tr>\n",
       "      <th>0</th>\n",
       "      <td>5114589</td>\n",
       "      <td>1</td>\n",
       "    </tr>\n",
       "    <tr>\n",
       "      <th>1</th>\n",
       "      <td>6958315</td>\n",
       "      <td>1</td>\n",
       "    </tr>\n",
       "    <tr>\n",
       "      <th>2</th>\n",
       "      <td>8300375</td>\n",
       "      <td>1</td>\n",
       "    </tr>\n",
       "    <tr>\n",
       "      <th>3</th>\n",
       "      <td>39475350</td>\n",
       "      <td>1</td>\n",
       "    </tr>\n",
       "    <tr>\n",
       "      <th>4</th>\n",
       "      <td>47206413</td>\n",
       "      <td>1</td>\n",
       "    </tr>\n",
       "  </tbody>\n",
       "</table>\n",
       "</div>"
      ],
      "text/plain": [
       "     userId  orders\n",
       "0   5114589       1\n",
       "1   6958315       1\n",
       "2   8300375       1\n",
       "3  39475350       1\n",
       "4  47206413       1"
      ]
     },
     "execution_count": 101,
     "metadata": {},
     "output_type": "execute_result"
    }
   ],
   "source": [
    "ordersByUsersB = orders.query('group == \"B\"').groupby('visitorId', as_index = False).agg({'transactionId':'nunique'})\n",
    "ordersByUsersB.columns = ['userId', 'orders']\n",
    "ordersByUsersB.head()"
   ]
  },
  {
   "cell_type": "code",
   "execution_count": 102,
   "metadata": {
    "colab": {
     "base_uri": "https://localhost:8080/",
     "height": 465
    },
    "id": "sIiDer5J4Xw-",
    "outputId": "59903185-7d65-4142-a5d5-8946bcdcd2ca"
   },
   "outputs": [
    {
     "data": {
      "text/plain": [
       "0    1\n",
       "1    1\n",
       "2    1\n",
       "3    1\n",
       "4    1\n",
       "Name: orders, dtype: int64"
      ]
     },
     "metadata": {},
     "output_type": "display_data"
    },
    {
     "data": {
      "text/plain": [
       "0    1\n",
       "1    1\n",
       "2    1\n",
       "3    1\n",
       "4    1\n",
       "Name: orders, dtype: int64"
      ]
     },
     "metadata": {},
     "output_type": "display_data"
    }
   ],
   "source": [
    "sampleA = pd.concat([ordersByUsersA['orders'], pd.Series(0, index = np.arange(data['visitorsPerDateA'].sum() - len(ordersByUsersA['orders'])), name = 'orders')], axis = 0)\n",
    "sampleB = pd.concat([ordersByUsersB['orders'], pd.Series(0, index = np.arange(data['visitorsPerDateB'].sum() - len(ordersByUsersB['orders'])), name = 'orders')], axis = 0)\n",
    "display(sampleA.head())\n",
    "display(sampleB.head())"
   ]
  },
  {
   "cell_type": "markdown",
   "metadata": {
    "id": "0QBoxzS9YqF5"
   },
   "source": [
    "Нулевая гипотеза: средние количества заказов по группам равны\n",
    "\n",
    "Альтернативаня гипотеза: средние количества заказаов по группа не равны"
   ]
  },
  {
   "cell_type": "code",
   "execution_count": 105,
   "metadata": {
    "colab": {
     "base_uri": "https://localhost:8080/",
     "height": 109
    },
    "id": "7YuMhqr26dLB",
    "outputId": "59b1757b-cae1-426f-b88f-fd06cb04d36c"
   },
   "outputs": [
    {
     "data": {
      "text/plain": [
       "'pvalue:'"
      ]
     },
     "metadata": {},
     "output_type": "display_data"
    },
    {
     "data": {
      "text/plain": [
       "'0.017'"
      ]
     },
     "metadata": {},
     "output_type": "display_data"
    },
    {
     "data": {
      "text/plain": [
       "'Отверагем нулевую гипотезу в пользу альтернативной'"
      ]
     },
     "metadata": {},
     "output_type": "display_data"
    },
    {
     "data": {
      "text/plain": [
       "'Разница между средними:'"
      ]
     },
     "metadata": {},
     "output_type": "display_data"
    },
    {
     "data": {
      "text/plain": [
       "'0.138'"
      ]
     },
     "metadata": {},
     "output_type": "display_data"
    }
   ],
   "source": [
    "a = 0.05\n",
    "pvalue = '{0:.3f}'.format(st.mannwhitneyu(sampleA, sampleB).pvalue)\n",
    "display('pvalue:' ,pvalue)\n",
    "if float(pvalue) > a:\n",
    "  display('Не отвергаем нулевую гипотезу')\n",
    "else:\n",
    "  display('Отверагем нулевую гипотезу в пользу альтернативной')\n",
    "\n",
    "display('Разница между средними:' ,'{0:.3f}'.format(sampleB.mean() / sampleA.mean() - 1))"
   ]
  },
  {
   "cell_type": "markdown",
   "metadata": {
    "id": "hMAlLVhPYjX7"
   },
   "source": [
    "pvalue составил всгео 0.017. Мы отвергаем нулевую гипотезу в пользу альтернативной. Разница составила 13.8%. Можно сделать предположение, что нововведение затронуло то, как часто пользователи делают покупки. Если после \"очистки\" данных результат будет тем же, то данная гипотеза имеет большую вероятность успеха"
   ]
  },
  {
   "cell_type": "markdown",
   "metadata": {
    "id": "vWcs6ebT8m6k"
   },
   "source": [
    "\n",
    "\n",
    "---\n",
    "\n"
   ]
  },
  {
   "cell_type": "markdown",
   "metadata": {
    "id": "lmKRtHoY9Xkm"
   },
   "source": [
    "### Статистическая значимость различий в среднем чеке заказа между группами по «сырым» данным"
   ]
  },
  {
   "cell_type": "code",
   "execution_count": 112,
   "metadata": {
    "colab": {
     "base_uri": "https://localhost:8080/",
     "height": 109
    },
    "id": "tXLeziSj8o7c",
    "outputId": "8f106fe3-0d9e-43ba-ae90-c58f334ecc04"
   },
   "outputs": [
    {
     "data": {
      "text/plain": [
       "'pvalue:'"
      ]
     },
     "metadata": {},
     "output_type": "display_data"
    },
    {
     "data": {
      "text/plain": [
       "'0.729'"
      ]
     },
     "metadata": {},
     "output_type": "display_data"
    },
    {
     "data": {
      "text/plain": [
       "'Не отвергаем нулевую гипотезу'"
      ]
     },
     "metadata": {},
     "output_type": "display_data"
    },
    {
     "data": {
      "text/plain": [
       "'Разница между средними:'"
      ]
     },
     "metadata": {},
     "output_type": "display_data"
    },
    {
     "data": {
      "text/plain": [
       "'0.259'"
      ]
     },
     "metadata": {},
     "output_type": "display_data"
    }
   ],
   "source": [
    "pvalue = '{0:.3f}'.format(st.mannwhitneyu(orders.query('group == \"A\"')['revenue'], orders.query('group == \"B\"')['revenue']).pvalue)\n",
    "a = 0.05\n",
    "display('pvalue:' ,pvalue)\n",
    "if float(pvalue) > 0.05:\n",
    "  display('Не отвергаем нулевую гипотезу')\n",
    "else:\n",
    "  display('Отверагем нулевую гипотезу в пользу альтернативной')\n",
    "display('Разница между средними:' ,'{0:.3f}'.format(orders.query('group == \"B\"')['revenue'].mean() / orders.query('group == \"A\"')['revenue'].mean() - 1))"
   ]
  },
  {
   "cell_type": "markdown",
   "metadata": {
    "id": "FB1wQEVmZuqW"
   },
   "source": [
    "Разница в среднем чеке оказалась несущественной. Pvalue равен 0.729, что намного больше уровня значимости, хотя разница и составила 25.9%. Видимо, гипотеза была направлена именно на увеличение количества заказов"
   ]
  },
  {
   "cell_type": "markdown",
   "metadata": {
    "id": "WkMgu2U4_y29"
   },
   "source": [
    "\n",
    "\n",
    "---\n",
    "\n"
   ]
  },
  {
   "cell_type": "markdown",
   "metadata": {
    "id": "VUDmAcmMGrXS"
   },
   "source": [
    "### Статистическая значимость различий в среднем количестве заказов на посетителя между группами по «очищенным» данным"
   ]
  },
  {
   "cell_type": "code",
   "execution_count": 117,
   "metadata": {
    "colab": {
     "base_uri": "https://localhost:8080/",
     "height": 259
    },
    "id": "KCh5zZfJ_ziQ",
    "outputId": "8f1cc239-d2fa-423c-9717-1ebff6b48ecf"
   },
   "outputs": [
    {
     "data": {
      "text/plain": [
       "18      199603092\n",
       "23      237748145\n",
       "227    2038680547\n",
       "269    2378935119\n",
       "278    2458001652\n",
       "dtype: int64"
      ]
     },
     "metadata": {},
     "output_type": "display_data"
    },
    {
     "data": {
      "text/plain": [
       "57"
      ]
     },
     "metadata": {},
     "output_type": "display_data"
    }
   ],
   "source": [
    "usersWithManyOrders = pd.concat([ordersByUsersA.query('orders > 3')['userId'], ordersByUsersB.query('orders > 3')['userId']], axis = 0)\n",
    "\n",
    "usersWithExpensiveOrders = orders.query('revenue > 30000')['visitorId']\n",
    "usersWithExpensiveOrders.columns = ['userId']\n",
    "\n",
    "abnormalUsers = pd.concat([usersWithManyOrders, usersWithExpensiveOrders], axis = 0).drop_duplicates()\n",
    "display(abnormalUsers.head())\n",
    "display(len(abnormalUsers))"
   ]
  },
  {
   "cell_type": "markdown",
   "metadata": {
    "id": "we5eJjCSaJpy"
   },
   "source": [
    "Сделали список пользователей, которые делают аномальные количество покупок и стоимость заказа. Он нам понадобится для очистки данных от аномалий"
   ]
  },
  {
   "cell_type": "code",
   "execution_count": 119,
   "metadata": {
    "colab": {
     "base_uri": "https://localhost:8080/",
     "height": 465
    },
    "id": "XbFVAtFdIoxJ",
    "outputId": "d32310dd-c8db-4d91-cf79-4cb4e9c708f2"
   },
   "outputs": [
    {
     "data": {
      "text/plain": [
       "0    1\n",
       "1    1\n",
       "2    1\n",
       "3    1\n",
       "4    1\n",
       "Name: orders, dtype: int64"
      ]
     },
     "metadata": {},
     "output_type": "display_data"
    },
    {
     "data": {
      "text/plain": [
       "0    1\n",
       "1    1\n",
       "2    1\n",
       "3    1\n",
       "4    1\n",
       "Name: orders, dtype: int64"
      ]
     },
     "metadata": {},
     "output_type": "display_data"
    }
   ],
   "source": [
    "sampleAFiltered = pd.concat([ordersByUsersA[np.logical_not(ordersByUsersA['userId'].isin(abnormalUsers))]['orders'], pd.Series(0, index = np.arange(data['visitorsPerDateA'].sum() - len(ordersByUsersA['orders'])), name = 'orders')], axis = 0)\n",
    "\n",
    "sampleBFiltered = pd.concat([ordersByUsersB[np.logical_not(ordersByUsersB['userId'].isin(abnormalUsers))]['orders'], pd.Series(0, index = np.arange(data['visitorsPerDateB'].sum() - len(ordersByUsersB['orders'])), name = 'orders')], axis = 0)\n",
    "\n",
    "display(sampleAFiltered.head())\n",
    "display(sampleBFiltered.head())"
   ]
  },
  {
   "cell_type": "markdown",
   "metadata": {
    "id": "_xCm-_1njw6K"
   },
   "source": [
    "Нулевая гипотеза: разницы между средним количеством покупок на посетителя по группам нет\n",
    "\n",
    "Альтернативная гипотеза: средние количества покупок на посетителя по группа отличаются"
   ]
  },
  {
   "cell_type": "code",
   "execution_count": 121,
   "metadata": {
    "colab": {
     "base_uri": "https://localhost:8080/",
     "height": 72
    },
    "id": "bu8E1KqDLQtV",
    "outputId": "909434e3-3e68-4295-9a5e-a5d83bd7acd9"
   },
   "outputs": [
    {
     "data": {
      "text/plain": [
       "'0.018'"
      ]
     },
     "metadata": {},
     "output_type": "display_data"
    },
    {
     "data": {
      "text/plain": [
       "'Отвергаем нулевую гипотезу'"
      ]
     },
     "metadata": {},
     "output_type": "display_data"
    },
    {
     "data": {
      "text/plain": [
       "'0.148'"
      ]
     },
     "metadata": {},
     "output_type": "display_data"
    }
   ],
   "source": [
    "pvalue ='{0:.3f}'.format(st.mannwhitneyu(sampleAFiltered, sampleBFiltered).pvalue)\n",
    "a = 0.05\n",
    "display(pvalue)\n",
    "if float(pvalue) > a:\n",
    "  display('Не отвергаем нулевую гипотезу')\n",
    "else:\n",
    "  display('Отвергаем нулевую гипотезу')\n",
    "display('{0:.3f}'.format(sampleBFiltered.mean() / sampleAFiltered.mean() - 1))"
   ]
  },
  {
   "cell_type": "markdown",
   "metadata": {
    "id": "GHCoXtQkjnJg"
   },
   "source": [
    "Даже после очистки данных, pvalue оказался равен 0.018, что меньше уровня значимости. Следовательно, отвергаем нулевую гипотезу в пользу альтернативной. Все-таки теперь можно с уверенностью сказать, что проверяемая гипотеза повлияла на среднее количество заказов в положительную сторону."
   ]
  },
  {
   "cell_type": "markdown",
   "metadata": {
    "id": "hftO_2qmNJFj"
   },
   "source": [
    "\n",
    "\n",
    "---\n",
    "\n"
   ]
  },
  {
   "cell_type": "markdown",
   "metadata": {
    "id": "aMPcxxkhNJyf"
   },
   "source": [
    "### Cтатистическая значимость различий в среднем чеке заказа между группами по «очищенным» данным"
   ]
  },
  {
   "cell_type": "code",
   "execution_count": 126,
   "metadata": {
    "colab": {
     "base_uri": "https://localhost:8080/",
     "height": 72
    },
    "id": "D8c2J5G9NI4A",
    "outputId": "e16f706e-db18-4167-d81f-105ab040459e"
   },
   "outputs": [
    {
     "data": {
      "text/plain": [
       "'0.958'"
      ]
     },
     "metadata": {},
     "output_type": "display_data"
    },
    {
     "data": {
      "text/plain": [
       "'Не отвергаем нулевую гипотезу'"
      ]
     },
     "metadata": {},
     "output_type": "display_data"
    },
    {
     "data": {
      "text/plain": [
       "'-0.020'"
      ]
     },
     "metadata": {},
     "output_type": "display_data"
    }
   ],
   "source": [
    "pvalue = '{0:.3f}'.format(st.mannwhitneyu(orders[np.logical_not(orders['visitorId'].isin(abnormalUsers))].query('group == \"A\"')['revenue'], orders[np.logical_not(orders['visitorId'].isin(abnormalUsers))].query('group == \"B\"')['revenue']).pvalue)\n",
    "a = 0.05\n",
    "display(pvalue)\n",
    "if float(pvalue) > a:\n",
    "  display('Не отвергаем нулевую гипотезу')\n",
    "else:\n",
    "  display('Отвергаем нулевую гипотезу в пользу альтернативной')\n",
    "\n",
    "display('{0:.3f}'.format(orders[np.logical_not(orders['visitorId'].isin(abnormalUsers))].query('group == \"B\"')['revenue'].mean() / orders[np.logical_not(orders['visitorId'].isin(abnormalUsers))].query('group == \"A\"')['revenue'].mean() - 1))"
   ]
  },
  {
   "cell_type": "markdown",
   "metadata": {
    "id": "qvqI2gm_kUCU"
   },
   "source": [
    "После очистки данных, результат pvalue только увеличился, что означает, что мы не можем отвергнуть нулевую гипотезу. Видимо, гипотеза не эффективна для увеличения среднего чека"
   ]
  },
  {
   "cell_type": "markdown",
   "metadata": {
    "id": "p0WTvUbJUUXZ"
   },
   "source": [
    "\n",
    "\n",
    "---\n",
    "\n"
   ]
  },
  {
   "cell_type": "markdown",
   "metadata": {
    "id": "0P1BZaHCjRFy"
   },
   "source": [
    "### Решение по результатам теста"
   ]
  },
  {
   "cell_type": "markdown",
   "metadata": {
    "id": "yjCXy0DdjaY8"
   },
   "source": [
    "Результаты теста проанализированы. Пришли к выводу, что можно остановить тест, зафиксировать победу одной из групп.\n",
    "Поскольку результаты показали нам разницу в количестве заказов по пользователям, выявили разницу в 14.8% в пользу группы B, проверили гипотезу о статистической значимости различия в среднем количестве заказов по группам с \"очищенными\" и \"сырыми\" данными. Результат и там, и там оказались похожими: отвергли нулевую гипотезу о равности в пользу альтернативной, среднее количество заказов у группы B оказалось больше.\n",
    "Проверили так же и средний чек, но там результат оказался другим и в \"сырых\" данных, и в \"очищенных\" данных. Значимых различий не обнаружено, нулевую гипотезу о равности не получилось отвергнуть."
   ]
  },
  {
   "cell_type": "markdown",
   "metadata": {
    "id": "6EqAnUAZlW_c"
   },
   "source": [
    "\n",
    "\n",
    "---\n",
    "\n"
   ]
  },
  {
   "cell_type": "markdown",
   "metadata": {
    "id": "xJUJlynGlYIj"
   },
   "source": [
    "# Вывод"
   ]
  },
  {
   "cell_type": "markdown",
   "metadata": {
    "id": "7is6NRgXqAVl"
   },
   "source": [
    "Нам был дан кейс, и мы провели предобработку данных, приоритизировали гипотезы, рассмотрели результаты A/B теста, сравнили группы тестирования, определили дальнейшую судьбу данного теста и гипотезы. В ходе предобработки данных не было замечено ни пропусков, ни дубликатов ни в каком файле csv. Единственное, что поменяли - это типы данных для столбцов с датой. Далее мы рассчитали для 9 гипотез значения ICE и RICE. Результаты, которые мы получили - оказались разными. Все дело в отличии между данными метриками: в RICE мы рассматриваем оценку охвата, а в ICE - нет. При оценке ICE мы получили такие результаты: 1 место - \"Запустить акцию, дающую скидку на товар в день рождения\", 2 место - \"Добавить два новых канала привлечения трафика, что позволит привлекать на 30% больше пользователей\", 3 место - \"Добавить форму подписки на все основные страницы, чтобы собрать базу клиентов для email-рассылок\". При RICE: 1 место - \"Добавить форму подписки на все основные страницы, чтобы собрать базу клиентов для email-рассылок\", 2 место - \"Добавить блоки рекомендаций товаров на сайт интернет магазина, чтобы повысить конверсию и средний чек заказа\", 3 место - \"Добавить два новых канала привлечения трафика, что позволит привлекать на 30% больше пользователей\". Далее мы рассматривали результаты A/B теста. Куммулятивная выручка и куммулятивный средний чек показали похожий результат: до 17 августа значения двух групп несильно различались, но после этой даты произошел резкий рост, из-за которого группа B показала хорошие результаты. Подозревалось, что во виноваты выбросы. График относительного изменения среднего чека между группами показал такой же результат: после 17 августа резкий подъем. А вот среднее количество заказов и на графике и в относительном изменении показал хорошие результаты в пользу группы B. Далее мы начали рассматривать выбросы в данных, а именно точечные графики, и высчитывать перцентили. Выяснили, что 5% пользователей делают больше 2 заказов, а также 5% пользователей делают заказ дороже 28000. 1% пользователей делают более 4 заказов, также 1% пользователей делают покупки стоимостью свыше 58233. Было принято решение избавиться от некоторых данных, а именно от пользователей которые делают более трех заказов, а также от тех, кто делают покупки дороже 30000. Так как их посчитали пользователями с аномальными покупками, которые искажают результаты теста. Перед тем как \"очищать\" данные, мы рассчитали статистическую значимость различия в среднем чеке между группами. Не было достаточных оснований, чтобы отвергать гипотезу о равности между рассматриваемыми данными, хоть разница и была 25.9%. Так же подсчитали статистическую значимость различия в среднем количестве заказов на посетителя по группам. Есть достаточно оснований отвергнуть нулевую гипотезу о равности между рассматриваемыми данными в пользу альтернативной, которая говорит об обратном. После очистки данных мы рассмотрели те же метрики. Различий практически не было. Средний чек группы В после очистки стал только хуже, видимо, на графике поспособствовали именно они. А среднее количество заказов на пользователя по группам так же лучше со стороны группы В на 15%.\n",
    "\n",
    "Проведя весь анализ, можно сказать, что, скорее всего, тест удался, и его можно завершать в пользу группы B. Поскольку изначальная цель - рассмотреть влияние нововведения на выручку. А мы выяснили, что средний чек хоть и не вырок, но на 15% увеличось количество заказов, что может положительно повлиять на выручку компании."
   ]
  }
 ],
 "metadata": {
  "colab": {
   "provenance": []
  },
  "kernelspec": {
   "display_name": "Python 3 (ipykernel)",
   "language": "python",
   "name": "python3"
  },
  "language_info": {
   "codemirror_mode": {
    "name": "ipython",
    "version": 3
   },
   "file_extension": ".py",
   "mimetype": "text/x-python",
   "name": "python",
   "nbconvert_exporter": "python",
   "pygments_lexer": "ipython3",
   "version": "3.12.7"
  },
  "toc": {
   "base_numbering": 1,
   "nav_menu": {},
   "number_sections": true,
   "sideBar": true,
   "skip_h1_title": true,
   "title_cell": "Table of Contents",
   "title_sidebar": "Contents",
   "toc_cell": false,
   "toc_position": {},
   "toc_section_display": true,
   "toc_window_display": false
  }
 },
 "nbformat": 4,
 "nbformat_minor": 4
}
