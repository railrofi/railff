{
 "cells": [
  {
   "cell_type": "markdown",
   "metadata": {
    "id": "MIDUVonde23U"
   },
   "source": [
    "# Исследование объявлений о продаже квартир"
   ]
  },
  {
   "cell_type": "markdown",
   "metadata": {
    "id": "r3lk-9Mlj-DU"
   },
   "source": [
    "1. Контекст задачи: нам предоставлены данные сервиса Яндекс Недвижимость — архив объявлений о продаже квартир в Санкт-Петербурге и соседних населённых пунктах за несколько лет.\n",
    "2. Цель проекта: научиться определять рыночную стоимость объектов недвижимости.\n",
    "3. Наши задачи: выполнить предобработку данных, добавить в таблицу новые столбцы со следующими параметрами, провести исследовательский анализ данных, написать общий вывод.\n",
    "4. Описание данных: по каждой квартире на продажу доступны два вида данных. Первые вписаны пользователем, вторые — получены автоматически на основе картографических данных. Например, расстояние до центра, аэропорта и других объектов — эти данные автоматически получены из геосервисов. Количество парков и водоёмов также заполняется без участия пользователя."
   ]
  },
  {
   "cell_type": "markdown",
   "metadata": {
    "id": "qAGmFh3oe23V"
   },
   "source": [
    "## Загрузка данных и вводная информация"
   ]
  },
  {
   "cell_type": "code",
   "execution_count": 4,
   "metadata": {
    "id": "Aq0ftusj0WBy"
   },
   "outputs": [],
   "source": [
    "import pandas as pd\n",
    "import matplotlib.pyplot as plt\n",
    "import numpy as np"
   ]
  },
  {
   "cell_type": "code",
   "execution_count": 5,
   "metadata": {
    "id": "HzP8u4CK1CZe"
   },
   "outputs": [],
   "source": [
    "import os\n",
    "\n",
    "pth1 = 'real_estate_data.csv'\n",
    "pth2 = '/datasets/real_estate_data.csv'\n",
    "\n",
    "if os.path.exists(pth1):\n",
    "    data = pd.read_csv(pth1, sep='\\t')\n",
    "elif os.path.exists(pth2):\n",
    "    data = pd.read_csv(pth2, sep='\\t')\n",
    "else:\n",
    "    print('Something is wrong')"
   ]
  },
  {
   "cell_type": "code",
   "execution_count": 6,
   "metadata": {
    "colab": {
     "base_uri": "https://localhost:8080/"
    },
    "id": "-Vc7hXJX2D95",
    "outputId": "44cb0829-1cbe-4474-9885-097d0306bb23"
   },
   "outputs": [
    {
     "name": "stdout",
     "output_type": "stream",
     "text": [
      "<class 'pandas.core.frame.DataFrame'>\n",
      "RangeIndex: 23699 entries, 0 to 23698\n",
      "Data columns (total 22 columns):\n",
      " #   Column                Non-Null Count  Dtype  \n",
      "---  ------                --------------  -----  \n",
      " 0   total_images          23699 non-null  int64  \n",
      " 1   last_price            23699 non-null  float64\n",
      " 2   total_area            23699 non-null  float64\n",
      " 3   first_day_exposition  23699 non-null  object \n",
      " 4   rooms                 23699 non-null  int64  \n",
      " 5   ceiling_height        14504 non-null  float64\n",
      " 6   floors_total          23613 non-null  float64\n",
      " 7   living_area           21796 non-null  float64\n",
      " 8   floor                 23699 non-null  int64  \n",
      " 9   is_apartment          2775 non-null   object \n",
      " 10  studio                23699 non-null  bool   \n",
      " 11  open_plan             23699 non-null  bool   \n",
      " 12  kitchen_area          21421 non-null  float64\n",
      " 13  balcony               12180 non-null  float64\n",
      " 14  locality_name         23650 non-null  object \n",
      " 15  airports_nearest      18157 non-null  float64\n",
      " 16  cityCenters_nearest   18180 non-null  float64\n",
      " 17  parks_around3000      18181 non-null  float64\n",
      " 18  parks_nearest         8079 non-null   float64\n",
      " 19  ponds_around3000      18181 non-null  float64\n",
      " 20  ponds_nearest         9110 non-null   float64\n",
      " 21  days_exposition       20518 non-null  float64\n",
      "dtypes: bool(2), float64(14), int64(3), object(3)\n",
      "memory usage: 3.7+ MB\n"
     ]
    }
   ],
   "source": [
    "data.info()"
   ]
  },
  {
   "cell_type": "markdown",
   "metadata": {
    "id": "KXJVvPFSLlMm"
   },
   "source": [
    "Изучил данные из файла. Видно сразу, что есть пропуски, также есть несоответствующие типы данных для отдельных столбцов."
   ]
  },
  {
   "cell_type": "code",
   "execution_count": 8,
   "metadata": {
    "colab": {
     "base_uri": "https://localhost:8080/",
     "height": 342
    },
    "id": "ht6RWLep2JdD",
    "outputId": "7ddf6123-f85e-4a80-e4e5-3dba8c0e6bd0"
   },
   "outputs": [
    {
     "data": {
      "text/html": [
       "<div>\n",
       "<style scoped>\n",
       "    .dataframe tbody tr th:only-of-type {\n",
       "        vertical-align: middle;\n",
       "    }\n",
       "\n",
       "    .dataframe tbody tr th {\n",
       "        vertical-align: top;\n",
       "    }\n",
       "\n",
       "    .dataframe thead th {\n",
       "        text-align: right;\n",
       "    }\n",
       "</style>\n",
       "<table border=\"1\" class=\"dataframe\">\n",
       "  <thead>\n",
       "    <tr style=\"text-align: right;\">\n",
       "      <th></th>\n",
       "      <th>total_images</th>\n",
       "      <th>last_price</th>\n",
       "      <th>total_area</th>\n",
       "      <th>first_day_exposition</th>\n",
       "      <th>rooms</th>\n",
       "      <th>ceiling_height</th>\n",
       "      <th>floors_total</th>\n",
       "      <th>living_area</th>\n",
       "      <th>floor</th>\n",
       "      <th>is_apartment</th>\n",
       "      <th>...</th>\n",
       "      <th>kitchen_area</th>\n",
       "      <th>balcony</th>\n",
       "      <th>locality_name</th>\n",
       "      <th>airports_nearest</th>\n",
       "      <th>cityCenters_nearest</th>\n",
       "      <th>parks_around3000</th>\n",
       "      <th>parks_nearest</th>\n",
       "      <th>ponds_around3000</th>\n",
       "      <th>ponds_nearest</th>\n",
       "      <th>days_exposition</th>\n",
       "    </tr>\n",
       "  </thead>\n",
       "  <tbody>\n",
       "    <tr>\n",
       "      <th>0</th>\n",
       "      <td>20</td>\n",
       "      <td>13000000.0</td>\n",
       "      <td>108.0</td>\n",
       "      <td>2019-03-07T00:00:00</td>\n",
       "      <td>3</td>\n",
       "      <td>2.70</td>\n",
       "      <td>16.0</td>\n",
       "      <td>51.0</td>\n",
       "      <td>8</td>\n",
       "      <td>NaN</td>\n",
       "      <td>...</td>\n",
       "      <td>25.0</td>\n",
       "      <td>NaN</td>\n",
       "      <td>Санкт-Петербург</td>\n",
       "      <td>18863.0</td>\n",
       "      <td>16028.0</td>\n",
       "      <td>1.0</td>\n",
       "      <td>482.0</td>\n",
       "      <td>2.0</td>\n",
       "      <td>755.0</td>\n",
       "      <td>NaN</td>\n",
       "    </tr>\n",
       "    <tr>\n",
       "      <th>1</th>\n",
       "      <td>7</td>\n",
       "      <td>3350000.0</td>\n",
       "      <td>40.4</td>\n",
       "      <td>2018-12-04T00:00:00</td>\n",
       "      <td>1</td>\n",
       "      <td>NaN</td>\n",
       "      <td>11.0</td>\n",
       "      <td>18.6</td>\n",
       "      <td>1</td>\n",
       "      <td>NaN</td>\n",
       "      <td>...</td>\n",
       "      <td>11.0</td>\n",
       "      <td>2.0</td>\n",
       "      <td>посёлок Шушары</td>\n",
       "      <td>12817.0</td>\n",
       "      <td>18603.0</td>\n",
       "      <td>0.0</td>\n",
       "      <td>NaN</td>\n",
       "      <td>0.0</td>\n",
       "      <td>NaN</td>\n",
       "      <td>81.0</td>\n",
       "    </tr>\n",
       "    <tr>\n",
       "      <th>2</th>\n",
       "      <td>10</td>\n",
       "      <td>5196000.0</td>\n",
       "      <td>56.0</td>\n",
       "      <td>2015-08-20T00:00:00</td>\n",
       "      <td>2</td>\n",
       "      <td>NaN</td>\n",
       "      <td>5.0</td>\n",
       "      <td>34.3</td>\n",
       "      <td>4</td>\n",
       "      <td>NaN</td>\n",
       "      <td>...</td>\n",
       "      <td>8.3</td>\n",
       "      <td>0.0</td>\n",
       "      <td>Санкт-Петербург</td>\n",
       "      <td>21741.0</td>\n",
       "      <td>13933.0</td>\n",
       "      <td>1.0</td>\n",
       "      <td>90.0</td>\n",
       "      <td>2.0</td>\n",
       "      <td>574.0</td>\n",
       "      <td>558.0</td>\n",
       "    </tr>\n",
       "    <tr>\n",
       "      <th>3</th>\n",
       "      <td>0</td>\n",
       "      <td>64900000.0</td>\n",
       "      <td>159.0</td>\n",
       "      <td>2015-07-24T00:00:00</td>\n",
       "      <td>3</td>\n",
       "      <td>NaN</td>\n",
       "      <td>14.0</td>\n",
       "      <td>NaN</td>\n",
       "      <td>9</td>\n",
       "      <td>NaN</td>\n",
       "      <td>...</td>\n",
       "      <td>NaN</td>\n",
       "      <td>0.0</td>\n",
       "      <td>Санкт-Петербург</td>\n",
       "      <td>28098.0</td>\n",
       "      <td>6800.0</td>\n",
       "      <td>2.0</td>\n",
       "      <td>84.0</td>\n",
       "      <td>3.0</td>\n",
       "      <td>234.0</td>\n",
       "      <td>424.0</td>\n",
       "    </tr>\n",
       "    <tr>\n",
       "      <th>4</th>\n",
       "      <td>2</td>\n",
       "      <td>10000000.0</td>\n",
       "      <td>100.0</td>\n",
       "      <td>2018-06-19T00:00:00</td>\n",
       "      <td>2</td>\n",
       "      <td>3.03</td>\n",
       "      <td>14.0</td>\n",
       "      <td>32.0</td>\n",
       "      <td>13</td>\n",
       "      <td>NaN</td>\n",
       "      <td>...</td>\n",
       "      <td>41.0</td>\n",
       "      <td>NaN</td>\n",
       "      <td>Санкт-Петербург</td>\n",
       "      <td>31856.0</td>\n",
       "      <td>8098.0</td>\n",
       "      <td>2.0</td>\n",
       "      <td>112.0</td>\n",
       "      <td>1.0</td>\n",
       "      <td>48.0</td>\n",
       "      <td>121.0</td>\n",
       "    </tr>\n",
       "  </tbody>\n",
       "</table>\n",
       "<p>5 rows × 22 columns</p>\n",
       "</div>"
      ],
      "text/plain": [
       "   total_images  last_price  total_area first_day_exposition  rooms  \\\n",
       "0            20  13000000.0       108.0  2019-03-07T00:00:00      3   \n",
       "1             7   3350000.0        40.4  2018-12-04T00:00:00      1   \n",
       "2            10   5196000.0        56.0  2015-08-20T00:00:00      2   \n",
       "3             0  64900000.0       159.0  2015-07-24T00:00:00      3   \n",
       "4             2  10000000.0       100.0  2018-06-19T00:00:00      2   \n",
       "\n",
       "   ceiling_height  floors_total  living_area  floor is_apartment  ...  \\\n",
       "0            2.70          16.0         51.0      8          NaN  ...   \n",
       "1             NaN          11.0         18.6      1          NaN  ...   \n",
       "2             NaN           5.0         34.3      4          NaN  ...   \n",
       "3             NaN          14.0          NaN      9          NaN  ...   \n",
       "4            3.03          14.0         32.0     13          NaN  ...   \n",
       "\n",
       "   kitchen_area  balcony    locality_name  airports_nearest  \\\n",
       "0          25.0      NaN  Санкт-Петербург           18863.0   \n",
       "1          11.0      2.0   посёлок Шушары           12817.0   \n",
       "2           8.3      0.0  Санкт-Петербург           21741.0   \n",
       "3           NaN      0.0  Санкт-Петербург           28098.0   \n",
       "4          41.0      NaN  Санкт-Петербург           31856.0   \n",
       "\n",
       "  cityCenters_nearest  parks_around3000  parks_nearest  ponds_around3000  \\\n",
       "0             16028.0               1.0          482.0               2.0   \n",
       "1             18603.0               0.0            NaN               0.0   \n",
       "2             13933.0               1.0           90.0               2.0   \n",
       "3              6800.0               2.0           84.0               3.0   \n",
       "4              8098.0               2.0          112.0               1.0   \n",
       "\n",
       "   ponds_nearest  days_exposition  \n",
       "0          755.0              NaN  \n",
       "1            NaN             81.0  \n",
       "2          574.0            558.0  \n",
       "3          234.0            424.0  \n",
       "4           48.0            121.0  \n",
       "\n",
       "[5 rows x 22 columns]"
      ]
     },
     "execution_count": 8,
     "metadata": {},
     "output_type": "execute_result"
    }
   ],
   "source": [
    "data.head()"
   ]
  },
  {
   "cell_type": "code",
   "execution_count": 9,
   "metadata": {
    "colab": {
     "base_uri": "https://localhost:8080/",
     "height": 1000
    },
    "id": "3ckJHhTV2Rex",
    "outputId": "6ce25ee4-8f61-4786-d36b-6ae2c22f27c9"
   },
   "outputs": [
    {
     "data": {
      "image/png": "[encoded data removed]",
      "text/plain": [
       "<Figure size 1500x2000 with 20 Axes>"
      ]
     },
     "metadata": {},
     "output_type": "display_data"
    }
   ],
   "source": [
    "data.hist(figsize=(15, 20))\n",
    "plt.show()"
   ]
  },
  {
   "cell_type": "markdown",
   "metadata": {
    "id": "ZFYyKL6Ppl-F"
   },
   "source": [
    "Просмотрев графики, можно заметить, что в данных есть выбросы, какие-то данные не учитываются. А также присутствуют пропуски."
   ]
  },
  {
   "cell_type": "markdown",
   "metadata": {
    "id": "ciz4s0Cye23X"
   },
   "source": [
    "## Предобработка"
   ]
  },
  {
   "cell_type": "markdown",
   "metadata": {
    "id": "VXBdoqAN5TbQ"
   },
   "source": [
    "### "
   ]
  },
  {
   "cell_type": "code",
   "execution_count": 13,
   "metadata": {
    "colab": {
     "base_uri": "https://localhost:8080/"
    },
    "id": "k_HxE8C6AuJy",
    "outputId": "3f2acc06-f318-42d6-9fac-c082774e654a"
   },
   "outputs": [
    {
     "data": {
      "text/plain": [
       "total_images                0\n",
       "last_price                  0\n",
       "total_area                  0\n",
       "first_day_exposition        0\n",
       "rooms                       0\n",
       "ceiling_height           9195\n",
       "floors_total               86\n",
       "living_area              1903\n",
       "floor                       0\n",
       "is_apartment            20924\n",
       "studio                      0\n",
       "open_plan                   0\n",
       "kitchen_area             2278\n",
       "balcony                 11519\n",
       "locality_name              49\n",
       "airports_nearest         5542\n",
       "cityCenters_nearest      5519\n",
       "parks_around3000         5518\n",
       "parks_nearest           15620\n",
       "ponds_around3000         5518\n",
       "ponds_nearest           14589\n",
       "days_exposition          3181\n",
       "dtype: int64"
      ]
     },
     "execution_count": 13,
     "metadata": {},
     "output_type": "execute_result"
    }
   ],
   "source": [
    "data.isna().sum()"
   ]
  },
  {
   "cell_type": "markdown",
   "metadata": {
    "id": "WqvrcedsL3SJ"
   },
   "source": [
    "Достаточно много пропусков, но явно не все можно заменить. Например, пропуски из столбцов floors_total, living_area, is_apartment, kitchen_area, airports_nearest, cityCenters_nearest, parks_nearest, ponds_nearest, days_exposition заменить не получится, поскольку у каждой квартиры свои характеристики, и будет необъективно менять данные, смотря на другие квартиры."
   ]
  },
  {
   "cell_type": "code",
   "execution_count": 15,
   "metadata": {
    "id": "hfXm0h_7E_Ef"
   },
   "outputs": [
    {
     "name": "stderr",
     "output_type": "stream",
     "text": [
      "/var/folders/td/s_0q2gb952xg9pgq3lhgqw740000gn/T/ipykernel_50813/3550502748.py:5: FutureWarning: Downcasting object dtype arrays on .fillna, .ffill, .bfill is deprecated and will change in a future version. Call result.infer_objects(copy=False) instead. To opt-in to the future behavior, set `pd.set_option('future.no_silent_downcasting', True)`\n",
      "  data['is_apartment'] = data['is_apartment'].fillna(False)\n"
     ]
    }
   ],
   "source": [
    "data['balcony'] = data['balcony'].fillna(0)\n",
    "data['parks_around3000'] = data['parks_around3000'].fillna(0)\n",
    "data['ponds_around3000'] = data['ponds_around3000'].fillna(0)\n",
    "data['locality_name'] = data['locality_name'].fillna('Unknown')\n",
    "data['is_apartment'] = data['is_apartment'].fillna(False)\n",
    "data['ceiling_height'] = data['ceiling_height'].fillna(data['ceiling_height'].median())\n",
    "data = data.dropna(subset = ['floors_total'])"
   ]
  },
  {
   "cell_type": "markdown",
   "metadata": {
    "id": "Xl89TiH2ya6L"
   },
   "source": [
    "К пропускам в данных могли привести такие причины, как человеческий фактор, либо же система заполения данных дала сбой."
   ]
  },
  {
   "cell_type": "markdown",
   "metadata": {
    "id": "LHQxTmDQ5ZOA"
   },
   "source": [
    "### "
   ]
  },
  {
   "cell_type": "code",
   "execution_count": 18,
   "metadata": {
    "colab": {
     "base_uri": "https://localhost:8080/"
    },
    "id": "HobElsESx30J",
    "outputId": "40686f5e-f30a-43ab-a4a8-5554da37312b"
   },
   "outputs": [
    {
     "name": "stdout",
     "output_type": "stream",
     "text": [
      "<class 'pandas.core.frame.DataFrame'>\n",
      "Index: 23613 entries, 0 to 23698\n",
      "Data columns (total 22 columns):\n",
      " #   Column                Non-Null Count  Dtype  \n",
      "---  ------                --------------  -----  \n",
      " 0   total_images          23613 non-null  int64  \n",
      " 1   last_price            23613 non-null  float64\n",
      " 2   total_area            23613 non-null  float64\n",
      " 3   first_day_exposition  23613 non-null  object \n",
      " 4   rooms                 23613 non-null  int64  \n",
      " 5   ceiling_height        23613 non-null  float64\n",
      " 6   floors_total          23613 non-null  float64\n",
      " 7   living_area           21743 non-null  float64\n",
      " 8   floor                 23613 non-null  int64  \n",
      " 9   is_apartment          23613 non-null  bool   \n",
      " 10  studio                23613 non-null  bool   \n",
      " 11  open_plan             23613 non-null  bool   \n",
      " 12  kitchen_area          21382 non-null  float64\n",
      " 13  balcony               23613 non-null  float64\n",
      " 14  locality_name         23613 non-null  object \n",
      " 15  airports_nearest      18081 non-null  float64\n",
      " 16  cityCenters_nearest   18104 non-null  float64\n",
      " 17  parks_around3000      23613 non-null  float64\n",
      " 18  parks_nearest         8045 non-null   float64\n",
      " 19  ponds_around3000      23613 non-null  float64\n",
      " 20  ponds_nearest         9061 non-null   float64\n",
      " 21  days_exposition       20441 non-null  float64\n",
      "dtypes: bool(3), float64(14), int64(3), object(2)\n",
      "memory usage: 3.7+ MB\n",
      "None\n",
      "   total_images  last_price  total_area first_day_exposition  rooms  \\\n",
      "0            20  13000000.0       108.0  2019-03-07T00:00:00      3   \n",
      "1             7   3350000.0        40.4  2018-12-04T00:00:00      1   \n",
      "2            10   5196000.0        56.0  2015-08-20T00:00:00      2   \n",
      "3             0  64900000.0       159.0  2015-07-24T00:00:00      3   \n",
      "4             2  10000000.0       100.0  2018-06-19T00:00:00      2   \n",
      "\n",
      "   ceiling_height  floors_total  living_area  floor  is_apartment  ...  \\\n",
      "0            2.70          16.0         51.0      8         False  ...   \n",
      "1            2.65          11.0         18.6      1         False  ...   \n",
      "2            2.65           5.0         34.3      4         False  ...   \n",
      "3            2.65          14.0          NaN      9         False  ...   \n",
      "4            3.03          14.0         32.0     13         False  ...   \n",
      "\n",
      "   kitchen_area  balcony    locality_name  airports_nearest  \\\n",
      "0          25.0      0.0  Санкт-Петербург           18863.0   \n",
      "1          11.0      2.0   посёлок Шушары           12817.0   \n",
      "2           8.3      0.0  Санкт-Петербург           21741.0   \n",
      "3           NaN      0.0  Санкт-Петербург           28098.0   \n",
      "4          41.0      0.0  Санкт-Петербург           31856.0   \n",
      "\n",
      "  cityCenters_nearest  parks_around3000  parks_nearest  ponds_around3000  \\\n",
      "0             16028.0               1.0          482.0               2.0   \n",
      "1             18603.0               0.0            NaN               0.0   \n",
      "2             13933.0               1.0           90.0               2.0   \n",
      "3              6800.0               2.0           84.0               3.0   \n",
      "4              8098.0               2.0          112.0               1.0   \n",
      "\n",
      "   ponds_nearest  days_exposition  \n",
      "0          755.0              NaN  \n",
      "1            NaN             81.0  \n",
      "2          574.0            558.0  \n",
      "3          234.0            424.0  \n",
      "4           48.0            121.0  \n",
      "\n",
      "[5 rows x 22 columns]\n"
     ]
    }
   ],
   "source": [
    "print(data.info())\n",
    "print(data.head())"
   ]
  },
  {
   "cell_type": "markdown",
   "metadata": {
    "id": "rFgcjPbO11sD"
   },
   "source": [
    "Нужно заменить тип у столбца \"first_day_exposition\" на тип datetime. Столбец \"is_apartment\" на тип bool. Столбец \"locality_name\" на тип str."
   ]
  },
  {
   "cell_type": "code",
   "execution_count": 20,
   "metadata": {
    "colab": {
     "base_uri": "https://localhost:8080/"
    },
    "id": "Q5RbeMcCta_n",
    "outputId": "0d1b4df3-c23b-41c1-8305-7aa9344f261b"
   },
   "outputs": [
    {
     "name": "stdout",
     "output_type": "stream",
     "text": [
      "<class 'pandas.core.frame.DataFrame'>\n",
      "Index: 23613 entries, 0 to 23698\n",
      "Data columns (total 22 columns):\n",
      " #   Column                Non-Null Count  Dtype  \n",
      "---  ------                --------------  -----  \n",
      " 0   total_images          23613 non-null  int64  \n",
      " 1   last_price            23613 non-null  float64\n",
      " 2   total_area            23613 non-null  float64\n",
      " 3   first_day_exposition  23613 non-null  object \n",
      " 4   rooms                 23613 non-null  int64  \n",
      " 5   ceiling_height        23613 non-null  float64\n",
      " 6   floors_total          23613 non-null  float64\n",
      " 7   living_area           21743 non-null  float64\n",
      " 8   floor                 23613 non-null  int64  \n",
      " 9   is_apartment          23613 non-null  bool   \n",
      " 10  studio                23613 non-null  bool   \n",
      " 11  open_plan             23613 non-null  bool   \n",
      " 12  kitchen_area          21382 non-null  float64\n",
      " 13  balcony               23613 non-null  float64\n",
      " 14  locality_name         23613 non-null  object \n",
      " 15  airports_nearest      18081 non-null  float64\n",
      " 16  cityCenters_nearest   18104 non-null  float64\n",
      " 17  parks_around3000      23613 non-null  float64\n",
      " 18  parks_nearest         8045 non-null   float64\n",
      " 19  ponds_around3000      23613 non-null  float64\n",
      " 20  ponds_nearest         9061 non-null   float64\n",
      " 21  days_exposition       20441 non-null  float64\n",
      "dtypes: bool(3), float64(14), int64(3), object(2)\n",
      "memory usage: 3.7+ MB\n"
     ]
    }
   ],
   "source": [
    "data.info()"
   ]
  },
  {
   "cell_type": "code",
   "execution_count": 21,
   "metadata": {
    "colab": {
     "base_uri": "https://localhost:8080/"
    },
    "id": "UCYMsu2xCRsj",
    "outputId": "d1f7f545-8780-4a57-c939-c5ec5f769110"
   },
   "outputs": [
    {
     "name": "stdout",
     "output_type": "stream",
     "text": [
      "floors_total: 0\n",
      "balcony: 0\n",
      "parks_around3000: 0\n",
      "ponds_around3000: 0\n"
     ]
    }
   ],
   "source": [
    "print('floors_total:', data.loc[data['floors_total'] % 1 != 0, 'floors_total'].count())\n",
    "print('balcony:', data.loc[data['balcony'] % 1 != 0, 'balcony'].count())\n",
    "print('parks_around3000:', data.loc[data['parks_around3000'] % 1 != 0, 'parks_around3000'].count())\n",
    "print('ponds_around3000:', data.loc[data['ponds_around3000'] % 1 != 0, 'ponds_around3000'].count())"
   ]
  },
  {
   "cell_type": "markdown",
   "metadata": {
    "id": "QhfVuzP0HNdp"
   },
   "source": [
    "Проверили все параметры, в которых могут быть ошибки в виде нецелых чисел. Таких параметров нет."
   ]
  },
  {
   "cell_type": "code",
   "execution_count": 23,
   "metadata": {
    "id": "PIukLZ9O1zxr"
   },
   "outputs": [],
   "source": [
    "data['first_day_exposition'] = pd.to_datetime(data['first_day_exposition'], format = '%Y-%m-%dT00:00:00')\n",
    "data['is_apartment'] = data['is_apartment'].astype(bool, errors = 'ignore')\n",
    "data['floors_total'] = data['floors_total'].astype(int)\n",
    "data['balcony'] = data['balcony'].astype(int)\n",
    "data['parks_around3000'] = data['parks_around3000'].astype(int)\n",
    "data['ponds_around3000'] = data['ponds_around3000'].astype(int)"
   ]
  },
  {
   "cell_type": "code",
   "execution_count": 24,
   "metadata": {
    "colab": {
     "base_uri": "https://localhost:8080/"
    },
    "id": "2-S2ItxNJH1O",
    "outputId": "80998e67-42fc-4b8a-dcf0-fe2b33191304"
   },
   "outputs": [
    {
     "name": "stdout",
     "output_type": "stream",
     "text": [
      "<class 'pandas.core.frame.DataFrame'>\n",
      "Index: 23613 entries, 0 to 23698\n",
      "Data columns (total 22 columns):\n",
      " #   Column                Non-Null Count  Dtype         \n",
      "---  ------                --------------  -----         \n",
      " 0   total_images          23613 non-null  int64         \n",
      " 1   last_price            23613 non-null  float64       \n",
      " 2   total_area            23613 non-null  float64       \n",
      " 3   first_day_exposition  23613 non-null  datetime64[ns]\n",
      " 4   rooms                 23613 non-null  int64         \n",
      " 5   ceiling_height        23613 non-null  float64       \n",
      " 6   floors_total          23613 non-null  int64         \n",
      " 7   living_area           21743 non-null  float64       \n",
      " 8   floor                 23613 non-null  int64         \n",
      " 9   is_apartment          23613 non-null  bool          \n",
      " 10  studio                23613 non-null  bool          \n",
      " 11  open_plan             23613 non-null  bool          \n",
      " 12  kitchen_area          21382 non-null  float64       \n",
      " 13  balcony               23613 non-null  int64         \n",
      " 14  locality_name         23613 non-null  object        \n",
      " 15  airports_nearest      18081 non-null  float64       \n",
      " 16  cityCenters_nearest   18104 non-null  float64       \n",
      " 17  parks_around3000      23613 non-null  int64         \n",
      " 18  parks_nearest         8045 non-null   float64       \n",
      " 19  ponds_around3000      23613 non-null  int64         \n",
      " 20  ponds_nearest         9061 non-null   float64       \n",
      " 21  days_exposition       20441 non-null  float64       \n",
      "dtypes: bool(3), datetime64[ns](1), float64(10), int64(7), object(1)\n",
      "memory usage: 3.7+ MB\n"
     ]
    }
   ],
   "source": [
    "data.info()"
   ]
  },
  {
   "cell_type": "markdown",
   "metadata": {
    "id": "uWwHhBMB5Ctv"
   },
   "source": [
    "Нужно изменить тип данных, чтобы в дальнейшем возможно было работать и анализировать эти же данные, и не возникало проблем. Например, столбец \"first_day_exposition\" мы не смогли бы изучить, так как мешал его формат. Так же есть столбец \"days_exposition\", в котором есть нецелые значения. И количество этих значений превышает 10% от всех данных в этом столбце, поэтому менять такие данные на целые мы не можем, ведь, возможно, так и должно быть."
   ]
  },
  {
   "cell_type": "markdown",
   "metadata": {
    "id": "CJd9Sgbp5b0m"
   },
   "source": [
    "### "
   ]
  },
  {
   "cell_type": "code",
   "execution_count": 27,
   "metadata": {
    "colab": {
     "base_uri": "https://localhost:8080/"
    },
    "id": "Phzf2TEv5QBx",
    "outputId": "2011929a-5459-42d6-d207-2786fa3d8183"
   },
   "outputs": [
    {
     "name": "stdout",
     "output_type": "stream",
     "text": [
      "['Санкт-Петербург' 'посёлок Шушары' 'городской посёлок Янино-1'\n",
      " 'посёлок Парголово' 'посёлок Мурино' 'Ломоносов' 'Сертолово' 'Петергоф'\n",
      " 'Пушкин' 'деревня Кудрово' 'Коммунар' 'Колпино'\n",
      " 'поселок городского типа Красный Бор' 'Гатчина' 'поселок Мурино'\n",
      " 'деревня Фёдоровское' 'Выборг' 'Кронштадт' 'Кировск'\n",
      " 'деревня Новое Девяткино' 'посёлок Металлострой'\n",
      " 'посёлок городского типа Лебяжье' 'посёлок городского типа Сиверский'\n",
      " 'поселок Молодцово' 'поселок городского типа Кузьмоловский'\n",
      " 'садовое товарищество Новая Ропша' 'Павловск' 'деревня Пикколово'\n",
      " 'Всеволожск' 'Волхов' 'Кингисепп' 'Приозерск' 'Сестрорецк'\n",
      " 'деревня Куттузи' 'посёлок Аннино' 'поселок городского типа Ефимовский'\n",
      " 'посёлок Плодовое' 'деревня Заклинье' 'поселок Торковичи'\n",
      " 'поселок Первомайское' 'Красное Село' 'посёлок Понтонный' 'Сясьстрой'\n",
      " 'деревня Старая' 'деревня Лесколово' 'посёлок Новый Свет' 'Сланцы'\n",
      " 'село Путилово' 'Ивангород' 'Мурино' 'Шлиссельбург' 'Никольское'\n",
      " 'Зеленогорск' 'Сосновый Бор' 'поселок Новый Свет' 'деревня Оржицы'\n",
      " 'деревня Кальтино' 'Кудрово' 'поселок Романовка' 'посёлок Бугры'\n",
      " 'поселок Бугры' 'поселок городского типа Рощино' 'Кириши' 'Луга'\n",
      " 'Волосово' 'Отрадное' 'село Павлово' 'поселок Оредеж' 'село Копорье'\n",
      " 'посёлок городского типа Красный Бор' 'посёлок Молодёжное' 'Тихвин'\n",
      " 'посёлок Победа' 'деревня Нурма' 'поселок городского типа Синявино'\n",
      " 'Тосно' 'посёлок городского типа Кузьмоловский' 'посёлок Стрельна'\n",
      " 'Бокситогорск' 'посёлок Александровская' 'деревня Лопухинка' 'Пикалёво'\n",
      " 'поселок Терволово' 'поселок городского типа Советский' 'Подпорожье'\n",
      " 'посёлок Петровское' 'посёлок городского типа Токсово' 'поселок Сельцо'\n",
      " 'посёлок городского типа Вырица' 'деревня Кипень' 'деревня Келози'\n",
      " 'деревня Вартемяги' 'посёлок Тельмана' 'поселок Севастьяново'\n",
      " 'городской поселок Большая Ижора' 'Unknown' 'городской посёлок Павлово'\n",
      " 'деревня Агалатово' 'посёлок Новогорелово'\n",
      " 'городской посёлок Лесогорский' 'деревня Лаголово' 'поселок Цвелодубово'\n",
      " 'поселок городского типа Рахья' 'поселок городского типа Вырица'\n",
      " 'деревня Белогорка' 'поселок Заводской' 'городской посёлок Новоселье'\n",
      " 'деревня Большие Колпаны' 'деревня Горбунки' 'деревня Батово'\n",
      " 'деревня Заневка' 'деревня Иссад' 'Приморск'\n",
      " 'городской посёлок Фёдоровское' 'деревня Мистолово' 'Новая Ладога'\n",
      " 'поселок Зимитицы' 'поселок Барышево' 'деревня Разметелево'\n",
      " 'поселок городского типа имени Свердлова' 'деревня Пеники'\n",
      " 'поселок Рябово' 'деревня Пудомяги' 'поселок станции Корнево'\n",
      " 'деревня Низино' 'деревня Бегуницы' 'посёлок Поляны'\n",
      " 'городской посёлок Мга' 'поселок Елизаветино'\n",
      " 'посёлок городского типа Кузнечное' 'деревня Колтуши'\n",
      " 'поселок Запорожское' 'посёлок городского типа Рощино'\n",
      " 'деревня Гостилицы' 'деревня Малое Карлино' 'посёлок Мичуринское'\n",
      " 'посёлок городского типа имени Морозова' 'посёлок Песочный'\n",
      " 'посёлок Сосново' 'деревня Аро' 'поселок Ильичёво'\n",
      " 'посёлок городского типа Тайцы' 'деревня Малое Верево' 'деревня Извара'\n",
      " 'поселок станции Вещево' 'село Паша' 'деревня Калитино'\n",
      " 'посёлок городского типа Ульяновка' 'деревня Чудской Бор'\n",
      " 'поселок городского типа Дубровка' 'деревня Мины' 'поселок Войсковицы'\n",
      " 'посёлок городского типа имени Свердлова' 'деревня Коркино'\n",
      " 'посёлок Ропша' 'поселок городского типа Приладожский' 'посёлок Щеглово'\n",
      " 'посёлок Гаврилово' 'Лодейное Поле' 'деревня Рабитицы'\n",
      " 'поселок городского типа Никольский' 'деревня Кузьмолово'\n",
      " 'деревня Малые Колпаны' 'поселок Тельмана' 'посёлок Петро-Славянка'\n",
      " 'городской посёлок Назия' 'посёлок Репино' 'посёлок Ильичёво'\n",
      " 'поселок Углово' 'поселок Старая Малукса' 'садовое товарищество Рахья'\n",
      " 'поселок Аннино' 'поселок Победа' 'деревня Меньково'\n",
      " 'деревня Старые Бегуницы' 'посёлок Сапёрный' 'поселок Семрино'\n",
      " 'поселок Гаврилово' 'поселок Глажево' 'поселок Кобринское'\n",
      " 'деревня Гарболово' 'деревня Юкки' 'поселок станции Приветнинское'\n",
      " 'деревня Мануйлово' 'деревня Пчева' 'поселок Поляны' 'поселок Цвылёво'\n",
      " 'поселок Мельниково' 'посёлок Пудость' 'посёлок Усть-Луга' 'Светогорск'\n",
      " 'Любань' 'поселок Селезнёво' 'поселок городского типа Рябово'\n",
      " 'Каменногорск' 'деревня Кривко' 'поселок Глебычево' 'деревня Парицы'\n",
      " 'поселок Жилпосёлок' 'посёлок городского типа Мга'\n",
      " 'городской поселок Янино-1' 'посёлок Войскорово' 'село Никольское'\n",
      " 'посёлок Терволово' 'поселок Стеклянный' 'посёлок городского типа Важины'\n",
      " 'посёлок Мыза-Ивановка' 'село Русско-Высоцкое'\n",
      " 'поселок городского типа Лебяжье' 'поселок городского типа Форносово'\n",
      " 'село Старая Ладога' 'поселок Житково' 'городской посёлок Виллози'\n",
      " 'деревня Лампово' 'деревня Шпаньково' 'деревня Лаврики' 'посёлок Сумино'\n",
      " 'посёлок Возрождение' 'деревня Старосиверская' 'посёлок Кикерино'\n",
      " 'поселок Возрождение' 'деревня Старое Хинколово' 'посёлок Пригородный'\n",
      " 'посёлок Торфяное' 'городской посёлок Будогощь' 'поселок Суходолье'\n",
      " 'поселок Красная Долина' 'деревня Хапо-Ое'\n",
      " 'поселок городского типа Дружная Горка' 'поселок Лисий Нос'\n",
      " 'деревня Яльгелево' 'посёлок Стеклянный' 'село Рождествено'\n",
      " 'деревня Старополье' 'посёлок Левашово' 'деревня Сяськелево'\n",
      " 'деревня Камышовка'\n",
      " 'садоводческое некоммерческое товарищество Лесная Поляна'\n",
      " 'деревня Хязельки' 'поселок Жилгородок' 'посёлок городского типа Павлово'\n",
      " 'деревня Ялгино' 'поселок Новый Учхоз' 'городской посёлок Рощино'\n",
      " 'поселок Гончарово' 'поселок Почап' 'посёлок Сапёрное'\n",
      " 'посёлок Платформа 69-й километр' 'поселок Каложицы' 'деревня Фалилеево'\n",
      " 'деревня Пельгора' 'поселок городского типа Лесогорский'\n",
      " 'деревня Торошковичи' 'посёлок Белоостров' 'посёлок Алексеевка'\n",
      " 'поселок Серебрянский' 'поселок Лукаши' 'поселок Петровское'\n",
      " 'деревня Щеглово' 'поселок Мичуринское' 'деревня Тарасово'\n",
      " 'поселок Кингисеппский' 'посёлок при железнодорожной станции Вещево'\n",
      " 'поселок Ушаки' 'деревня Котлы' 'деревня Сижно' 'деревня Торосово'\n",
      " 'посёлок Форт Красная Горка' 'деревня Новолисино'\n",
      " 'посёлок станции Громово' 'деревня Глинка' 'посёлок Мельниково'\n",
      " 'поселок городского типа Назия' 'деревня Старая Пустошь'\n",
      " 'поселок Коммунары' 'поселок Починок'\n",
      " 'посёлок городского типа Вознесенье' 'деревня Разбегаево'\n",
      " 'посёлок городского типа Рябово' 'поселок Гладкое'\n",
      " 'посёлок при железнодорожной станции Приветнинское' 'поселок Тёсово-4'\n",
      " 'посёлок Жилгородок' 'деревня Бор' 'посёлок Коробицыно'\n",
      " 'деревня Большая Вруда' 'деревня Курковицы' 'посёлок Лисий Нос'\n",
      " 'городской посёлок Советский' 'посёлок Кобралово' 'деревня Суоранда'\n",
      " 'поселок Кобралово' 'поселок городского типа Кондратьево'\n",
      " 'коттеджный поселок Счастье' 'поселок Любань' 'деревня Реброво'\n",
      " 'деревня Зимитицы' 'деревня Тойворово' 'поселок Семиозерье'\n",
      " 'поселок Лесное' 'поселок Совхозный' 'поселок Усть-Луга'\n",
      " 'посёлок Ленинское' 'посёлок Суйда' 'посёлок городского типа Форносово'\n",
      " 'деревня Нижние Осельки' 'посёлок станции Свирь' 'поселок Перово'\n",
      " 'Высоцк' 'поселок Гарболово' 'село Шум' 'поселок Котельский'\n",
      " 'поселок станции Лужайка' 'деревня Большая Пустомержа'\n",
      " 'поселок Красносельское' 'деревня Вахнова Кара' 'деревня Пижма'\n",
      " 'коттеджный поселок Кивеннапа Север' 'поселок Коробицыно'\n",
      " 'поселок Ромашки' 'посёлок Перово' 'деревня Каськово' 'деревня Куровицы'\n",
      " 'посёлок Плоское' 'поселок Сумино'\n",
      " 'поселок городского типа Большая Ижора' 'поселок Кирпичное'\n",
      " 'деревня Ям-Тесово' 'деревня Раздолье' 'деревня Терпилицы'\n",
      " 'поселок городского типа Токсово' 'посёлок Шугозеро' 'деревня Ваганово'\n",
      " 'поселок Пушное' 'садовое товарищество Садко' 'посёлок Усть-Ижора'\n",
      " 'деревня Выскатка' 'городской посёлок Свирьстрой' 'поселок Громово'\n",
      " 'деревня Кисельня' 'посёлок Старая Малукса' 'деревня Трубников Бор'\n",
      " 'поселок Калитино' 'посёлок Высокоключевой'\n",
      " 'садовое товарищество Приладожский' 'посёлок Пансионат Зелёный Бор'\n",
      " 'деревня Ненимяки' 'поселок Пансионат Зелёный Бор' 'деревня Снегирёвка'\n",
      " 'деревня Рапполово' 'деревня Пустынка' 'поселок Рабитицы'\n",
      " 'деревня Большой Сабск' 'деревня Русско' 'деревня Лупполово'\n",
      " 'деревня Большое Рейзино' 'деревня Малая Романовка' 'поселок Дружноселье'\n",
      " 'поселок Пчевжа' 'поселок Володарское' 'деревня Нижняя'\n",
      " 'коттеджный посёлок Лесное' 'деревня Тихковицы' 'деревня Борисова Грива'\n",
      " 'посёлок Дзержинского']\n",
      "365\n"
     ]
    }
   ],
   "source": [
    "print(data['locality_name'].unique())\n",
    "print(data['locality_name'].nunique())"
   ]
  },
  {
   "cell_type": "markdown",
   "metadata": {
    "id": "b0KsfP8MMvy-"
   },
   "source": [
    "Уникальных значений достаточно много, но есть и неявные дубликаты, которые нужно устранить."
   ]
  },
  {
   "cell_type": "code",
   "execution_count": 29,
   "metadata": {
    "id": "zS09bmoPufxL"
   },
   "outputs": [],
   "source": [
    "data['locality_name'] = (data['locality_name'].str.lower().str.replace('ё', 'е').replace(['поселок городского типа', 'городской поселок', 'коттеджный поселок', 'садовое товарищество', 'деревня', 'поселок', 'село'], '', regex=True))\n",
    "data['locality_name'] = data['locality_name'].str.strip()"
   ]
  },
  {
   "cell_type": "code",
   "execution_count": 30,
   "metadata": {
    "colab": {
     "base_uri": "https://localhost:8080/"
    },
    "id": "y3rVulc2Kg0-",
    "outputId": "8839e1d9-dbaf-43de-bb37-9ad57ec789fb"
   },
   "outputs": [
    {
     "name": "stdout",
     "output_type": "stream",
     "text": [
      "['санкт-петербург' 'шушары' 'янино-1' 'парголово' 'мурино' 'ломоносов'\n",
      " 'сертолово' 'петергоф' 'пушкин' 'кудрово' 'коммунар' 'колпино'\n",
      " 'красный бор' 'гатчина' 'федоровское' 'выборг' 'кронштадт' 'кировск'\n",
      " 'новое девяткино' 'металлострой' 'лебяжье' 'сиверский' 'молодцово'\n",
      " 'кузьмоловский' 'новая ропша' 'павловск' 'пикколово' 'всеволожск'\n",
      " 'волхов' 'кингисепп' 'приозерск' 'сестрорецк' 'куттузи' 'аннино'\n",
      " 'ефимовский' 'плодовое' 'заклинье' 'торковичи' 'первомайское' 'красное'\n",
      " 'понтонный' 'сясьстрой' 'старая' 'лесколово' 'новый свет' 'сланцы'\n",
      " 'путилово' 'ивангород' 'шлиссельбург' 'никольское' 'зеленогорск'\n",
      " 'сосновый бор' 'оржицы' 'кальтино' 'романовка' 'бугры' 'рощино' 'кириши'\n",
      " 'луга' 'волосово' 'отрадное' 'павлово' 'оредеж' 'копорье' 'молодежное'\n",
      " 'тихвин' 'победа' 'нурма' 'синявино' 'тосно' 'стрельна' 'бокситогорск'\n",
      " 'александровская' 'лопухинка' 'пикалево' 'терволово' 'советский'\n",
      " 'подпорожье' 'петровское' 'токсово' 'сельцо' 'вырица' 'кипень' 'келози'\n",
      " 'вартемяги' 'тельмана' 'севастьяново' 'большая ижора' 'unknown'\n",
      " 'агалатово' 'новогорелово' 'лесогорский' 'лаголово' 'цвелодубово' 'рахья'\n",
      " 'белогорка' 'заводской' 'новоселье' 'большие колпаны' 'горбунки' 'батово'\n",
      " 'заневка' 'иссад' 'приморск' 'мистолово' 'новая ладога' 'зимитицы'\n",
      " 'барышево' 'разметелево' 'имени свердлова' 'пеники' 'рябово' 'пудомяги'\n",
      " 'станции корнево' 'низино' 'бегуницы' 'поляны' 'мга' 'елизаветино'\n",
      " 'кузнечное' 'колтуши' 'запорожское' 'гостилицы' 'малое карлино'\n",
      " 'мичуринское' 'имени морозова' 'песочный' 'сосново' 'аро' 'ильичево'\n",
      " 'тайцы' 'малое верево' 'извара' 'станции вещево' 'паша' 'калитино'\n",
      " 'ульяновка' 'чудской бор' 'дубровка' 'мины' 'войсковицы' 'коркино'\n",
      " 'ропша' 'приладожский' 'щеглово' 'гаврилово' 'лодейное поле' 'рабитицы'\n",
      " 'никольский' 'кузьмолово' 'малые колпаны' 'петро-славянка' 'назия'\n",
      " 'репино' 'углово' 'старая малукса' 'меньково' 'старые бегуницы'\n",
      " 'саперный' 'семрино' 'глажево' 'кобринское' 'гарболово' 'юкки'\n",
      " 'станции приветнинское' 'мануйлово' 'пчева' 'цвылево' 'мельниково'\n",
      " 'пудость' 'усть-луга' 'светогорск' 'любань' 'селезнево' 'каменногорск'\n",
      " 'кривко' 'глебычево' 'парицы' 'жил' 'войскорово' 'стеклянный' 'важины'\n",
      " 'мыза-ивановка' 'русско-высоцкое' 'форносово' 'старая ладога' 'житково'\n",
      " 'виллози' 'лампово' 'шпаньково' 'лаврики' 'сумино' 'возрождение'\n",
      " 'старосиверская' 'кикерино' 'старое хинколово' 'пригородный' 'торфяное'\n",
      " 'будогощь' 'суходолье' 'красная долина' 'хапо-ое' 'дружная горка'\n",
      " 'лисий нос' 'яльгелево' 'рождествено' 'старополье' 'левашово'\n",
      " 'сяськелево' 'камышовка'\n",
      " 'садоводческое некоммерческое товарищество лесная поляна' 'хязельки'\n",
      " 'жилгородок' 'ялгино' 'новый учхоз' 'гончарово' 'почап' 'саперное'\n",
      " 'платформа 69-й километр' 'каложицы' 'фалилеево' 'пельгора' 'торошковичи'\n",
      " 'белоостров' 'алексеевка' 'серебрянский' 'лукаши' 'тарасово'\n",
      " 'кингисеппский' 'при железнодорожной станции вещево' 'ушаки' 'котлы'\n",
      " 'сижно' 'торосово' 'форт красная горка' 'новолисино' 'станции громово'\n",
      " 'глинка' 'старая пустошь' 'коммунары' 'починок' 'вознесенье' 'разбегаево'\n",
      " 'гладкое' 'при железнодорожной станции приветнинское' 'тесово-4' 'бор'\n",
      " 'коробицыно' 'большая вруда' 'курковицы' 'кобралово' 'суоранда'\n",
      " 'кондратьево' 'счастье' 'реброво' 'тойворово' 'семиозерье' 'лесное'\n",
      " 'совхозный' 'ленинское' 'суйда' 'нижние осельки' 'станции свирь' 'перово'\n",
      " 'высоцк' 'шум' 'котельский' 'станции лужайка' 'большая пустомержа'\n",
      " 'красносельское' 'вахнова кара' 'пижма' 'кивеннапа север' 'ромашки'\n",
      " 'каськово' 'куровицы' 'плоское' 'кирпичное' 'ям-тесово' 'раздолье'\n",
      " 'терпилицы' 'шугозеро' 'ваганово' 'пушное' 'садко' 'усть-ижора'\n",
      " 'выскатка' 'свирьстрой' 'громово' 'кисельня' 'трубников бор'\n",
      " 'высокоключевой' 'пансионат зеленый бор' 'ненимяки' 'снегиревка'\n",
      " 'рапполово' 'пустынка' 'большой сабск' 'русско' 'лупполово'\n",
      " 'большое рейзино' 'малая романовка' 'дружноселье' 'пчевжа' 'володарское'\n",
      " 'нижняя' 'тихковицы' 'борисова грива' 'дзержинского']\n",
      "309\n"
     ]
    }
   ],
   "source": [
    "print(data['locality_name'].unique())\n",
    "print(data['locality_name'].nunique())"
   ]
  },
  {
   "cell_type": "markdown",
   "metadata": {
    "id": "MWJgx9D2M5xQ"
   },
   "source": [
    "Как мы можем заметить количество уникальных значений убавилось, а значит мы избавились от неяных дубликатов."
   ]
  },
  {
   "cell_type": "markdown",
   "metadata": {
    "id": "VkIPAhg_zpgK"
   },
   "source": [
    "---\n",
    "### Добавление новых столбцов"
   ]
  },
  {
   "cell_type": "code",
   "execution_count": 33,
   "metadata": {
    "colab": {
     "base_uri": "https://localhost:8080/",
     "height": 256
    },
    "id": "0G-qqsThA92G",
    "outputId": "a8b430fe-9c06-4955-98b5-4d9aceb3f6a1"
   },
   "outputs": [
    {
     "data": {
      "text/html": [
       "<div>\n",
       "<style scoped>\n",
       "    .dataframe tbody tr th:only-of-type {\n",
       "        vertical-align: middle;\n",
       "    }\n",
       "\n",
       "    .dataframe tbody tr th {\n",
       "        vertical-align: top;\n",
       "    }\n",
       "\n",
       "    .dataframe thead th {\n",
       "        text-align: right;\n",
       "    }\n",
       "</style>\n",
       "<table border=\"1\" class=\"dataframe\">\n",
       "  <thead>\n",
       "    <tr style=\"text-align: right;\">\n",
       "      <th></th>\n",
       "      <th>total_images</th>\n",
       "      <th>last_price</th>\n",
       "      <th>total_area</th>\n",
       "      <th>first_day_exposition</th>\n",
       "      <th>rooms</th>\n",
       "      <th>ceiling_height</th>\n",
       "      <th>floors_total</th>\n",
       "      <th>living_area</th>\n",
       "      <th>floor</th>\n",
       "      <th>is_apartment</th>\n",
       "      <th>...</th>\n",
       "      <th>kitchen_area</th>\n",
       "      <th>balcony</th>\n",
       "      <th>locality_name</th>\n",
       "      <th>airports_nearest</th>\n",
       "      <th>cityCenters_nearest</th>\n",
       "      <th>parks_around3000</th>\n",
       "      <th>parks_nearest</th>\n",
       "      <th>ponds_around3000</th>\n",
       "      <th>ponds_nearest</th>\n",
       "      <th>days_exposition</th>\n",
       "    </tr>\n",
       "  </thead>\n",
       "  <tbody>\n",
       "    <tr>\n",
       "      <th>0</th>\n",
       "      <td>20</td>\n",
       "      <td>13000000.0</td>\n",
       "      <td>108.0</td>\n",
       "      <td>2019-03-07</td>\n",
       "      <td>3</td>\n",
       "      <td>2.70</td>\n",
       "      <td>16</td>\n",
       "      <td>51.0</td>\n",
       "      <td>8</td>\n",
       "      <td>False</td>\n",
       "      <td>...</td>\n",
       "      <td>25.0</td>\n",
       "      <td>0</td>\n",
       "      <td>санкт-петербург</td>\n",
       "      <td>18863.0</td>\n",
       "      <td>16028.0</td>\n",
       "      <td>1</td>\n",
       "      <td>482.0</td>\n",
       "      <td>2</td>\n",
       "      <td>755.0</td>\n",
       "      <td>NaN</td>\n",
       "    </tr>\n",
       "    <tr>\n",
       "      <th>1</th>\n",
       "      <td>7</td>\n",
       "      <td>3350000.0</td>\n",
       "      <td>40.4</td>\n",
       "      <td>2018-12-04</td>\n",
       "      <td>1</td>\n",
       "      <td>2.65</td>\n",
       "      <td>11</td>\n",
       "      <td>18.6</td>\n",
       "      <td>1</td>\n",
       "      <td>False</td>\n",
       "      <td>...</td>\n",
       "      <td>11.0</td>\n",
       "      <td>2</td>\n",
       "      <td>шушары</td>\n",
       "      <td>12817.0</td>\n",
       "      <td>18603.0</td>\n",
       "      <td>0</td>\n",
       "      <td>NaN</td>\n",
       "      <td>0</td>\n",
       "      <td>NaN</td>\n",
       "      <td>81.0</td>\n",
       "    </tr>\n",
       "    <tr>\n",
       "      <th>2</th>\n",
       "      <td>10</td>\n",
       "      <td>5196000.0</td>\n",
       "      <td>56.0</td>\n",
       "      <td>2015-08-20</td>\n",
       "      <td>2</td>\n",
       "      <td>2.65</td>\n",
       "      <td>5</td>\n",
       "      <td>34.3</td>\n",
       "      <td>4</td>\n",
       "      <td>False</td>\n",
       "      <td>...</td>\n",
       "      <td>8.3</td>\n",
       "      <td>0</td>\n",
       "      <td>санкт-петербург</td>\n",
       "      <td>21741.0</td>\n",
       "      <td>13933.0</td>\n",
       "      <td>1</td>\n",
       "      <td>90.0</td>\n",
       "      <td>2</td>\n",
       "      <td>574.0</td>\n",
       "      <td>558.0</td>\n",
       "    </tr>\n",
       "    <tr>\n",
       "      <th>3</th>\n",
       "      <td>0</td>\n",
       "      <td>64900000.0</td>\n",
       "      <td>159.0</td>\n",
       "      <td>2015-07-24</td>\n",
       "      <td>3</td>\n",
       "      <td>2.65</td>\n",
       "      <td>14</td>\n",
       "      <td>NaN</td>\n",
       "      <td>9</td>\n",
       "      <td>False</td>\n",
       "      <td>...</td>\n",
       "      <td>NaN</td>\n",
       "      <td>0</td>\n",
       "      <td>санкт-петербург</td>\n",
       "      <td>28098.0</td>\n",
       "      <td>6800.0</td>\n",
       "      <td>2</td>\n",
       "      <td>84.0</td>\n",
       "      <td>3</td>\n",
       "      <td>234.0</td>\n",
       "      <td>424.0</td>\n",
       "    </tr>\n",
       "    <tr>\n",
       "      <th>4</th>\n",
       "      <td>2</td>\n",
       "      <td>10000000.0</td>\n",
       "      <td>100.0</td>\n",
       "      <td>2018-06-19</td>\n",
       "      <td>2</td>\n",
       "      <td>3.03</td>\n",
       "      <td>14</td>\n",
       "      <td>32.0</td>\n",
       "      <td>13</td>\n",
       "      <td>False</td>\n",
       "      <td>...</td>\n",
       "      <td>41.0</td>\n",
       "      <td>0</td>\n",
       "      <td>санкт-петербург</td>\n",
       "      <td>31856.0</td>\n",
       "      <td>8098.0</td>\n",
       "      <td>2</td>\n",
       "      <td>112.0</td>\n",
       "      <td>1</td>\n",
       "      <td>48.0</td>\n",
       "      <td>121.0</td>\n",
       "    </tr>\n",
       "  </tbody>\n",
       "</table>\n",
       "<p>5 rows × 22 columns</p>\n",
       "</div>"
      ],
      "text/plain": [
       "   total_images  last_price  total_area first_day_exposition  rooms  \\\n",
       "0            20  13000000.0       108.0           2019-03-07      3   \n",
       "1             7   3350000.0        40.4           2018-12-04      1   \n",
       "2            10   5196000.0        56.0           2015-08-20      2   \n",
       "3             0  64900000.0       159.0           2015-07-24      3   \n",
       "4             2  10000000.0       100.0           2018-06-19      2   \n",
       "\n",
       "   ceiling_height  floors_total  living_area  floor  is_apartment  ...  \\\n",
       "0            2.70            16         51.0      8         False  ...   \n",
       "1            2.65            11         18.6      1         False  ...   \n",
       "2            2.65             5         34.3      4         False  ...   \n",
       "3            2.65            14          NaN      9         False  ...   \n",
       "4            3.03            14         32.0     13         False  ...   \n",
       "\n",
       "   kitchen_area  balcony    locality_name  airports_nearest  \\\n",
       "0          25.0        0  санкт-петербург           18863.0   \n",
       "1          11.0        2           шушары           12817.0   \n",
       "2           8.3        0  санкт-петербург           21741.0   \n",
       "3           NaN        0  санкт-петербург           28098.0   \n",
       "4          41.0        0  санкт-петербург           31856.0   \n",
       "\n",
       "  cityCenters_nearest  parks_around3000  parks_nearest  ponds_around3000  \\\n",
       "0             16028.0                 1          482.0                 2   \n",
       "1             18603.0                 0            NaN                 0   \n",
       "2             13933.0                 1           90.0                 2   \n",
       "3              6800.0                 2           84.0                 3   \n",
       "4              8098.0                 2          112.0                 1   \n",
       "\n",
       "   ponds_nearest  days_exposition  \n",
       "0          755.0              NaN  \n",
       "1            NaN             81.0  \n",
       "2          574.0            558.0  \n",
       "3          234.0            424.0  \n",
       "4           48.0            121.0  \n",
       "\n",
       "[5 rows x 22 columns]"
      ]
     },
     "execution_count": 33,
     "metadata": {},
     "output_type": "execute_result"
    }
   ],
   "source": [
    "data.head()"
   ]
  },
  {
   "cell_type": "code",
   "execution_count": 34,
   "metadata": {
    "id": "ycZtxVoKEHyl"
   },
   "outputs": [],
   "source": [
    "def type_fl(row):\n",
    "  if row['floor'] == 1:\n",
    "    return 'первый'\n",
    "  elif row['floor'] == row['floors_total']:\n",
    "    return 'последний'\n",
    "  else:\n",
    "    return 'другой'"
   ]
  },
  {
   "cell_type": "markdown",
   "metadata": {
    "id": "QY9rtykwTyNE"
   },
   "source": [
    "Поскольку нам для анлиза нужен будет числовой вариант категориальных значений, то:"
   ]
  },
  {
   "cell_type": "code",
   "execution_count": 36,
   "metadata": {
    "id": "tAqrDLCqTElg"
   },
   "outputs": [],
   "source": [
    "def numeric_type_fl(row):\n",
    "  if row['floor_type'] == 'первый':\n",
    "    return 1\n",
    "  elif row['floor_type'] == 'другой':\n",
    "    return 2\n",
    "  else:\n",
    "    return 3"
   ]
  },
  {
   "cell_type": "code",
   "execution_count": 37,
   "metadata": {
    "id": "V0KMS31B4yS8"
   },
   "outputs": [],
   "source": [
    "data['price_metre'] = round(data['last_price'] / data['total_area'], 2)\n",
    "data['day_advert'] = data['first_day_exposition'].dt.weekday\n",
    "data['month_advert'] = data['first_day_exposition'].dt.month\n",
    "data['year_advert'] = data['first_day_exposition'].dt.year\n",
    "data['floor_type'] = data.apply(type_fl, axis = 1)\n",
    "data['numeric_floor_type'] = data.apply(numeric_type_fl, axis = 1)\n",
    "data['km_center'] = round(data['cityCenters_nearest'] / 1000)"
   ]
  },
  {
   "cell_type": "markdown",
   "metadata": {
    "id": "Vom99hTeKz_n"
   },
   "source": [
    "Проведя предобработку данных, было замечено большое количество ошибок.\n",
    "1. Например, были пропуски у многих столбцов. От них мы избавились либо удалением строк с пропущенными значениями(например, столбец \"floors_total\"), либо заменяли на среднее значение из столбца(например, столбец \"ceinung_height\"), либо вовсе оставляли неизменно, потому что не было возможности как-то подправить эти пропуски.\n",
    "2. Также были столбцы с неподходящими для анализа типами данных, которые мы тоже успешно поменяли птуем форматирования самих данных(например, столбец \"first_day_exposition\") и проверки значений столбцов на их корректность(например, столбец \"floors_total\").\n",
    "3. Помимо всего этого были еще неявные дубликаты, которые мы убрали через замену всего слова или частей слова, которые не несли никакой полезной информации, на пустую строку, тем самым уменьшая количество уникальных значений."
   ]
  },
  {
   "cell_type": "markdown",
   "metadata": {
    "id": "mVwKtZave23d"
   },
   "source": [
    "# Исследовательская часть"
   ]
  },
  {
   "cell_type": "code",
   "execution_count": 40,
   "metadata": {
    "colab": {
     "base_uri": "https://localhost:8080/",
     "height": 1000
    },
    "id": "7KzNsW01GycD",
    "outputId": "64fa09d9-6ebf-45e9-9b7e-2849a93549a5"
   },
   "outputs": [
    {
     "data": {
      "text/plain": [
       "array([[<Axes: title={'center': 'total_area'}>,\n",
       "        <Axes: title={'center': 'living_area'}>,\n",
       "        <Axes: title={'center': 'kitchen_area'}>],\n",
       "       [<Axes: title={'center': 'last_price'}>,\n",
       "        <Axes: title={'center': 'rooms'}>,\n",
       "        <Axes: title={'center': 'ceiling_height'}>],\n",
       "       [<Axes: title={'center': 'floors_total'}>,\n",
       "        <Axes: title={'center': 'cityCenters_nearest'}>,\n",
       "        <Axes: title={'center': 'numeric_floor_type'}>],\n",
       "       [<Axes: title={'center': 'parks_nearest'}>, <Axes: >, <Axes: >]],\n",
       "      dtype=object)"
      ]
     },
     "execution_count": 40,
     "metadata": {},
     "output_type": "execute_result"
    },
    {
     "data": {
      "image/png": "[encoded data removed]",
      "text/plain": [
       "<Figure size 2000x2700 with 12 Axes>"
      ]
     },
     "metadata": {},
     "output_type": "display_data"
    }
   ],
   "source": [
    "data.loc[:, ['total_area', 'living_area', 'kitchen_area', 'last_price', 'rooms', 'ceiling_height', 'floors_total', 'cityCenters_nearest', 'numeric_floor_type', 'parks_nearest']].hist(figsize=(20, 27))"
   ]
  },
  {
   "cell_type": "markdown",
   "metadata": {
    "id": "f8YyqDdPx4py"
   },
   "source": [
    "Однозначно можно сказать, что есть выбросы в столбце ceiling_height. Так же можно предположить, что в столбцах last_price, cityCenters_nearest, parks_nearest также есть выбросы."
   ]
  },
  {
   "cell_type": "code",
   "execution_count": 42,
   "metadata": {
    "id": "ONO3s-I3JpZK"
   },
   "outputs": [],
   "source": [
    "def high_ceiling(height):\n",
    "  if height >= 20:\n",
    "    return height / 10\n",
    "  else:\n",
    "    return height"
   ]
  },
  {
   "cell_type": "code",
   "execution_count": 43,
   "metadata": {
    "id": "Sk6WUeJOLThJ"
   },
   "outputs": [],
   "source": [
    "data['ceiling_height'] = data['ceiling_height'].apply(high_ceiling)"
   ]
  },
  {
   "cell_type": "markdown",
   "metadata": {
    "id": "r3wWifIVtdBH"
   },
   "source": [
    "По гистограмме видно, что есть выбросы в данных о высоте потолков. Встречаются высоты, превышающие 10 м. Возможно, была допущена ошибка и не указали десятую часть от высоты. Теперь следует проверить, не осталось ли выбросов в данном столбце."
   ]
  },
  {
   "cell_type": "code",
   "execution_count": 45,
   "metadata": {
    "colab": {
     "base_uri": "https://localhost:8080/"
    },
    "id": "xpJRQp6Z46eI",
    "outputId": "52293f50-d245-49a7-d736-a48e3b306aa8"
   },
   "outputs": [
    {
     "data": {
      "text/plain": [
       "count    23613.000000\n",
       "mean         2.698849\n",
       "std          0.253641\n",
       "min          1.000000\n",
       "25%          2.600000\n",
       "50%          2.650000\n",
       "75%          2.700000\n",
       "max         14.000000\n",
       "Name: ceiling_height, dtype: float64"
      ]
     },
     "execution_count": 45,
     "metadata": {},
     "output_type": "execute_result"
    }
   ],
   "source": [
    "data['ceiling_height'].describe()"
   ]
  },
  {
   "cell_type": "code",
   "execution_count": 46,
   "metadata": {
    "colab": {
     "base_uri": "https://localhost:8080/",
     "height": 435
    },
    "id": "H9oKGXg8DC5M",
    "outputId": "2897f521-c976-4d43-e8b1-b53014b9307f"
   },
   "outputs": [
    {
     "data": {
      "image/png": "[encoded data removed]",
      "text/plain": [
       "<Figure size 640x480 with 1 Axes>"
      ]
     },
     "metadata": {},
     "output_type": "display_data"
    }
   ],
   "source": [
    "data.boxplot(column = 'ceiling_height')\n",
    "plt.ylim(0.5, 12)\n",
    "plt.show()"
   ]
  },
  {
   "cell_type": "markdown",
   "metadata": {
    "id": "uk6QlaxRPs_X"
   },
   "source": [
    "Как видно на диаграмме рассеивания, есть выбросы после 6 и до 2 метров."
   ]
  },
  {
   "cell_type": "code",
   "execution_count": 48,
   "metadata": {
    "colab": {
     "base_uri": "https://localhost:8080/",
     "height": 435
    },
    "id": "XheCzlijN9dX",
    "outputId": "fb18405b-dc5a-409c-b93b-ce0d2eba98ea"
   },
   "outputs": [
    {
     "data": {
      "image/png": "[encoded data removed]",
      "text/plain": [
       "<Figure size 640x480 with 1 Axes>"
      ]
     },
     "metadata": {},
     "output_type": "display_data"
    }
   ],
   "source": [
    "data['ceiling_height'].hist(bins = 30)\n",
    "plt.ylim(0, 100)\n",
    "plt.show()"
   ]
  },
  {
   "cell_type": "markdown",
   "metadata": {
    "id": "X_Nv5tI8P7Xo"
   },
   "source": [
    "А теперь можно заметить, что есть малое количество значений не меньших 4 и меньших 2, учитывая, что мы изменили масштаб до 100 в оси y. Но чтобы удалять выбросы, нужно проверить какое долю они занимают от общего числа данных. Всего данных у нас в этом столбце: 23613."
   ]
  },
  {
   "cell_type": "code",
   "execution_count": 50,
   "metadata": {
    "colab": {
     "base_uri": "https://localhost:8080/"
    },
    "id": "-qBnU68_QLfb",
    "outputId": "06c83fe6-fa61-484d-a205-e517011cf3eb"
   },
   "outputs": [
    {
     "data": {
      "text/plain": [
       "0.004023207555160293"
      ]
     },
     "execution_count": 50,
     "metadata": {},
     "output_type": "execute_result"
    }
   ],
   "source": [
    "data.query('(ceiling_height >= 4) | (ceiling_height < 2)')['ceiling_height'].count() / 23613"
   ]
  },
  {
   "cell_type": "markdown",
   "metadata": {
    "id": "ZbP_LRbpQ2Kf"
   },
   "source": [
    "Эти данные занимают меньше процента, следовательно, можем их удалить."
   ]
  },
  {
   "cell_type": "code",
   "execution_count": 52,
   "metadata": {
    "id": "LmVkFE5LAXDt"
   },
   "outputs": [],
   "source": [
    "data = data.query('(ceiling_height < 4) & (ceiling_height >= 2)')"
   ]
  },
  {
   "cell_type": "markdown",
   "metadata": {
    "id": "4wA_q5VtB9wX"
   },
   "source": [
    "С высотами разобрались. Осталось понять, есть ли выбросы в остальных столбцах."
   ]
  },
  {
   "cell_type": "code",
   "execution_count": 54,
   "metadata": {
    "colab": {
     "base_uri": "https://localhost:8080/"
    },
    "id": "O5182rvOqUrZ",
    "outputId": "92dbd04c-de94-4a21-cde9-a845057675cd"
   },
   "outputs": [
    {
     "data": {
      "text/plain": [
       "count    2.351800e+04\n",
       "mean     6.467865e+06\n",
       "std      1.068755e+07\n",
       "min      1.219000e+04\n",
       "25%      3.400000e+06\n",
       "50%      4.600000e+06\n",
       "75%      6.750000e+06\n",
       "max      7.630000e+08\n",
       "Name: last_price, dtype: float64"
      ]
     },
     "execution_count": 54,
     "metadata": {},
     "output_type": "execute_result"
    }
   ],
   "source": [
    "data['last_price'].describe()"
   ]
  },
  {
   "cell_type": "code",
   "execution_count": 55,
   "metadata": {
    "colab": {
     "base_uri": "https://localhost:8080/",
     "height": 463
    },
    "id": "Y4oMTRJdC16O",
    "outputId": "142f2e99-a771-443b-e412-d0a17bd8e083"
   },
   "outputs": [
    {
     "data": {
      "text/plain": [
       "<Axes: >"
      ]
     },
     "execution_count": 55,
     "metadata": {},
     "output_type": "execute_result"
    },
    {
     "data": {
      "image/png": "[encoded data removed]",
      "text/plain": [
       "<Figure size 640x480 with 1 Axes>"
      ]
     },
     "metadata": {},
     "output_type": "display_data"
    }
   ],
   "source": [
    "data.boxplot(column = 'last_price')"
   ]
  },
  {
   "cell_type": "markdown",
   "metadata": {
    "id": "Yc4dyvv8DiUI"
   },
   "source": [
    "Видно, что есть редкие выбросы после значения 2. Проверим это на гистограмме."
   ]
  },
  {
   "cell_type": "code",
   "execution_count": 57,
   "metadata": {
    "colab": {
     "base_uri": "https://localhost:8080/"
    },
    "id": "IklSNAZ-TFej",
    "outputId": "deac7516-acf1-4c2e-8f0c-27519e0b55c7"
   },
   "outputs": [
    {
     "data": {
      "text/plain": [
       "23518"
      ]
     },
     "execution_count": 57,
     "metadata": {},
     "output_type": "execute_result"
    }
   ],
   "source": [
    "data['last_price'].count()"
   ]
  },
  {
   "cell_type": "markdown",
   "metadata": {
    "id": "EeuR6mWOTKqo"
   },
   "source": [
    "Узнали количество данных для будушего анализа."
   ]
  },
  {
   "cell_type": "code",
   "execution_count": 59,
   "metadata": {
    "colab": {
     "base_uri": "https://localhost:8080/",
     "height": 453
    },
    "id": "jsZMZWV0SNHS",
    "outputId": "eefd9605-caf4-4f82-a6a7-aaf3d1f85c2f"
   },
   "outputs": [
    {
     "data": {
      "image/png": "[encoded data removed]",
      "text/plain": [
       "<Figure size 640x480 with 1 Axes>"
      ]
     },
     "metadata": {},
     "output_type": "display_data"
    }
   ],
   "source": [
    "data['last_price'].hist(bins = 30)\n",
    "plt.ylim(0, 100)\n",
    "plt.show()"
   ]
  },
  {
   "cell_type": "markdown",
   "metadata": {
    "id": "_xsq1VPfSsIi"
   },
   "source": [
    "Теперь видно, что значений больших 1 совсем немного. Проверим какую долю они занимают. Всего данных в этом столбце 23518."
   ]
  },
  {
   "cell_type": "code",
   "execution_count": 61,
   "metadata": {
    "colab": {
     "base_uri": "https://localhost:8080/"
    },
    "id": "8Z60X1APS3qc",
    "outputId": "bf052697-9ddf-46e0-a87a-31c8f85ba60c"
   },
   "outputs": [
    {
     "data": {
      "text/plain": [
       "0.11284973212007823"
      ]
     },
     "execution_count": 61,
     "metadata": {},
     "output_type": "execute_result"
    }
   ],
   "source": [
    "data.query('last_price > 10000000')['last_price'].count() / 23518"
   ]
  },
  {
   "cell_type": "markdown",
   "metadata": {
    "id": "lJ-YNosaTbQM"
   },
   "source": [
    "Получаем, что доля равна 11%, что слишком много для удаления. Немного увеличим значение, после которого хотим удалить."
   ]
  },
  {
   "cell_type": "code",
   "execution_count": 63,
   "metadata": {
    "colab": {
     "base_uri": "https://localhost:8080/"
    },
    "id": "Yfcfxcz9TnFi",
    "outputId": "f1efdcf0-e8e7-4846-9a63-94f4c4ecc73b"
   },
   "outputs": [
    {
     "data": {
      "text/plain": [
       "0.04949400459222723"
      ]
     },
     "execution_count": 63,
     "metadata": {},
     "output_type": "execute_result"
    }
   ],
   "source": [
    "data.query('last_price > 15000000')['last_price'].count() / 23518"
   ]
  },
  {
   "cell_type": "markdown",
   "metadata": {
    "id": "a2YLvyTATqPV"
   },
   "source": [
    "Всего 5%, можем удалять."
   ]
  },
  {
   "cell_type": "code",
   "execution_count": 65,
   "metadata": {
    "id": "YFL9Lfd-DxIE"
   },
   "outputs": [],
   "source": [
    "data = data.query('last_price <= 15000000')"
   ]
  },
  {
   "cell_type": "markdown",
   "metadata": {
    "id": "vugWuLdGErZO"
   },
   "source": [
    "Рассмотрим столбец cityCenters_nearest."
   ]
  },
  {
   "cell_type": "code",
   "execution_count": 67,
   "metadata": {
    "colab": {
     "base_uri": "https://localhost:8080/"
    },
    "id": "aYmsNqipUZPM",
    "outputId": "82013f5f-fd70-4dd6-d46c-df0afc87fd3e"
   },
   "outputs": [
    {
     "data": {
      "text/plain": [
       "16873"
      ]
     },
     "execution_count": 67,
     "metadata": {},
     "output_type": "execute_result"
    }
   ],
   "source": [
    "data['cityCenters_nearest'].count()"
   ]
  },
  {
   "cell_type": "markdown",
   "metadata": {
    "id": "_EM8f9HfUgpp"
   },
   "source": [
    "Узнали количество данных в этом столбце. Понадобится в будущем анализе."
   ]
  },
  {
   "cell_type": "code",
   "execution_count": 69,
   "metadata": {
    "colab": {
     "base_uri": "https://localhost:8080/",
     "height": 448
    },
    "id": "zdZE07XWEzEO",
    "outputId": "4c551e7a-14d8-43bb-d802-9f2d1d443e0e"
   },
   "outputs": [
    {
     "data": {
      "text/plain": [
       "<Axes: >"
      ]
     },
     "execution_count": 69,
     "metadata": {},
     "output_type": "execute_result"
    },
    {
     "data": {
      "image/png": "[encoded data removed]",
      "text/plain": [
       "<Figure size 640x480 with 1 Axes>"
      ]
     },
     "metadata": {},
     "output_type": "display_data"
    }
   ],
   "source": [
    "data.boxplot(column = 'cityCenters_nearest')"
   ]
  },
  {
   "cell_type": "code",
   "execution_count": 70,
   "metadata": {
    "colab": {
     "base_uri": "https://localhost:8080/"
    },
    "id": "2yuUizFzE4mP",
    "outputId": "60fab4eb-476c-4e61-f225-fa5ec540302b"
   },
   "outputs": [
    {
     "data": {
      "text/plain": [
       "count    16873.000000\n",
       "mean     14684.062704\n",
       "std       8557.216498\n",
       "min        208.000000\n",
       "25%      10186.000000\n",
       "50%      13382.000000\n",
       "75%      16549.000000\n",
       "max      65968.000000\n",
       "Name: cityCenters_nearest, dtype: float64"
      ]
     },
     "execution_count": 70,
     "metadata": {},
     "output_type": "execute_result"
    }
   ],
   "source": [
    "data['cityCenters_nearest'].describe()"
   ]
  },
  {
   "cell_type": "code",
   "execution_count": 71,
   "metadata": {
    "colab": {
     "base_uri": "https://localhost:8080/",
     "height": 435
    },
    "id": "_Hw_hNApUAbc",
    "outputId": "123a39d1-e2ce-4dcd-da7b-c4e5fa11935b"
   },
   "outputs": [
    {
     "data": {
      "image/png": "[encoded data removed]",
      "text/plain": [
       "<Figure size 640x480 with 1 Axes>"
      ]
     },
     "metadata": {},
     "output_type": "display_data"
    }
   ],
   "source": [
    "data['cityCenters_nearest'].hist(bins = 30)\n",
    "plt.ylim(0, 2000)\n",
    "plt.show()"
   ]
  },
  {
   "cell_type": "markdown",
   "metadata": {
    "id": "_-8TV6nTFCc6"
   },
   "source": [
    "Мы можем понять, что есть выбросы начиная с 35000, но на 50000 есть подъем, поэтому рассмотрим значения после 50000. Проверим на велицину доли этих значений."
   ]
  },
  {
   "cell_type": "code",
   "execution_count": 73,
   "metadata": {
    "colab": {
     "base_uri": "https://localhost:8080/"
    },
    "id": "ROUcFUtFVDKg",
    "outputId": "a4e5ab63-3a4f-47a2-fa74-f03ed14650bb",
    "scrolled": true
   },
   "outputs": [
    {
     "data": {
      "text/plain": [
       "0.010786463580868844"
      ]
     },
     "execution_count": 73,
     "metadata": {},
     "output_type": "execute_result"
    }
   ],
   "source": [
    "data.query('cityCenters_nearest > 50000')['cityCenters_nearest'].count() / 16873"
   ]
  },
  {
   "cell_type": "markdown",
   "metadata": {
    "id": "7LpkIHqGVgeP"
   },
   "source": [
    "1%, следовательно, можем удалять."
   ]
  },
  {
   "cell_type": "code",
   "execution_count": 75,
   "metadata": {
    "id": "g3XHxSVfF3hr"
   },
   "outputs": [],
   "source": [
    "data = data.drop(data[data['cityCenters_nearest'] > 50000].index)"
   ]
  },
  {
   "cell_type": "markdown",
   "metadata": {
    "id": "tb13p8NXzK_T"
   },
   "source": [
    "Удаляем выбросы таким образом, чтобы не задеть пропущенные значения. Ведь в этом и следующих столбцах пропуски занимают являются большой частью данных."
   ]
  },
  {
   "cell_type": "code",
   "execution_count": 77,
   "metadata": {
    "colab": {
     "base_uri": "https://localhost:8080/"
    },
    "id": "wV632837yaQr",
    "outputId": "132f2a7e-9ccf-4215-8445-666468dfe73d"
   },
   "outputs": [
    {
     "name": "stdout",
     "output_type": "stream",
     "text": [
      "<class 'pandas.core.frame.DataFrame'>\n",
      "Index: 22172 entries, 0 to 23698\n",
      "Data columns (total 29 columns):\n",
      " #   Column                Non-Null Count  Dtype         \n",
      "---  ------                --------------  -----         \n",
      " 0   total_images          22172 non-null  int64         \n",
      " 1   last_price            22172 non-null  float64       \n",
      " 2   total_area            22172 non-null  float64       \n",
      " 3   first_day_exposition  22172 non-null  datetime64[ns]\n",
      " 4   rooms                 22172 non-null  int64         \n",
      " 5   ceiling_height        22172 non-null  float64       \n",
      " 6   floors_total          22172 non-null  int64         \n",
      " 7   living_area           20453 non-null  float64       \n",
      " 8   floor                 22172 non-null  int64         \n",
      " 9   is_apartment          22172 non-null  bool          \n",
      " 10  studio                22172 non-null  bool          \n",
      " 11  open_plan             22172 non-null  bool          \n",
      " 12  kitchen_area          20081 non-null  float64       \n",
      " 13  balcony               22172 non-null  int64         \n",
      " 14  locality_name         22172 non-null  object        \n",
      " 15  airports_nearest      16676 non-null  float64       \n",
      " 16  cityCenters_nearest   16691 non-null  float64       \n",
      " 17  parks_around3000      22172 non-null  int64         \n",
      " 18  parks_nearest         7111 non-null   float64       \n",
      " 19  ponds_around3000      22172 non-null  int64         \n",
      " 20  ponds_nearest         8063 non-null   float64       \n",
      " 21  days_exposition       19393 non-null  float64       \n",
      " 22  price_metre           22172 non-null  float64       \n",
      " 23  day_advert            22172 non-null  int32         \n",
      " 24  month_advert          22172 non-null  int32         \n",
      " 25  year_advert           22172 non-null  int32         \n",
      " 26  floor_type            22172 non-null  object        \n",
      " 27  numeric_floor_type    22172 non-null  int64         \n",
      " 28  km_center             16691 non-null  float64       \n",
      "dtypes: bool(3), datetime64[ns](1), float64(12), int32(3), int64(8), object(2)\n",
      "memory usage: 4.4+ MB\n"
     ]
    }
   ],
   "source": [
    "data.info()"
   ]
  },
  {
   "cell_type": "markdown",
   "metadata": {
    "id": "xQI2y7B_Hvfq"
   },
   "source": [
    "Рассмотрим столбец parks_nearest."
   ]
  },
  {
   "cell_type": "code",
   "execution_count": 79,
   "metadata": {
    "colab": {
     "base_uri": "https://localhost:8080/"
    },
    "id": "9e0Amd0QV-W_",
    "outputId": "9e3dac68-b894-4a24-9ce1-16834d94ed5d"
   },
   "outputs": [
    {
     "data": {
      "text/plain": [
       "7111"
      ]
     },
     "execution_count": 79,
     "metadata": {},
     "output_type": "execute_result"
    }
   ],
   "source": [
    "data['parks_nearest'].count()"
   ]
  },
  {
   "cell_type": "markdown",
   "metadata": {
    "id": "S1QtQLlrWBhT"
   },
   "source": [
    "Количество значений в этом столбце для будущего анализа."
   ]
  },
  {
   "cell_type": "code",
   "execution_count": 81,
   "metadata": {
    "colab": {
     "base_uri": "https://localhost:8080/"
    },
    "id": "HKXdNBPjH6Se",
    "outputId": "7874907b-e4e8-405e-9e28-ddd15cc4c144"
   },
   "outputs": [
    {
     "data": {
      "text/plain": [
       "count    7111.000000\n",
       "mean      493.423007\n",
       "std       335.870755\n",
       "min         1.000000\n",
       "25%       293.000000\n",
       "50%       458.000000\n",
       "75%       616.000000\n",
       "max      3190.000000\n",
       "Name: parks_nearest, dtype: float64"
      ]
     },
     "execution_count": 81,
     "metadata": {},
     "output_type": "execute_result"
    }
   ],
   "source": [
    "data['parks_nearest'].describe()"
   ]
  },
  {
   "cell_type": "code",
   "execution_count": 82,
   "metadata": {
    "colab": {
     "base_uri": "https://localhost:8080/",
     "height": 448
    },
    "id": "oO_VTNYJH-iq",
    "outputId": "e4cecc60-919e-4ccb-dac5-98c3b38d8cd8"
   },
   "outputs": [
    {
     "data": {
      "text/plain": [
       "<Axes: >"
      ]
     },
     "execution_count": 82,
     "metadata": {},
     "output_type": "execute_result"
    },
    {
     "data": {
      "image/png": "[encoded data removed]",
      "text/plain": [
       "<Figure size 640x480 with 1 Axes>"
      ]
     },
     "metadata": {},
     "output_type": "display_data"
    }
   ],
   "source": [
    "data.boxplot(column = 'parks_nearest')"
   ]
  },
  {
   "cell_type": "code",
   "execution_count": 83,
   "metadata": {
    "colab": {
     "base_uri": "https://localhost:8080/",
     "height": 435
    },
    "id": "hmDIRgM-VxF9",
    "outputId": "601ce20a-d164-4182-894a-7d2bc0d5b33e"
   },
   "outputs": [
    {
     "data": {
      "image/png": "[encoded data removed]",
      "text/plain": [
       "<Figure size 640x480 with 1 Axes>"
      ]
     },
     "metadata": {},
     "output_type": "display_data"
    }
   ],
   "source": [
    "data['parks_nearest'].hist(bins = 30)\n",
    "plt.ylim(0, 3000)\n",
    "plt.show()"
   ]
  },
  {
   "cell_type": "markdown",
   "metadata": {
    "id": "NLH71M3oJZvD"
   },
   "source": [
    "Благодаря гистограмме, и нашим остальным данным можно заметить, что присутствуют выбросы после значения 1500."
   ]
  },
  {
   "cell_type": "code",
   "execution_count": 85,
   "metadata": {
    "colab": {
     "base_uri": "https://localhost:8080/"
    },
    "id": "IQ_Q9YFvW0gC",
    "outputId": "55541eba-8232-420e-ad17-98117b9e2779"
   },
   "outputs": [
    {
     "data": {
      "text/plain": [
       "0.020227920227920228"
      ]
     },
     "execution_count": 85,
     "metadata": {},
     "output_type": "execute_result"
    }
   ],
   "source": [
    "data.query('parks_nearest >= 1500')['parks_nearest'].count() / 7020"
   ]
  },
  {
   "cell_type": "markdown",
   "metadata": {
    "id": "bjgxaLmAXZeJ"
   },
   "source": [
    "Количество таких данных занимает около 2%, можем удалять."
   ]
  },
  {
   "cell_type": "code",
   "execution_count": 87,
   "metadata": {
    "id": "ALLi2Ja9Ir5v"
   },
   "outputs": [],
   "source": [
    "data = data.drop(data[data['parks_nearest'] >= 1500].index)"
   ]
  },
  {
   "cell_type": "code",
   "execution_count": 88,
   "metadata": {
    "colab": {
     "base_uri": "https://localhost:8080/"
    },
    "id": "VZX8raOWy8C1",
    "outputId": "6107755e-c00b-432e-9508-7a5101bacc90"
   },
   "outputs": [
    {
     "name": "stdout",
     "output_type": "stream",
     "text": [
      "<class 'pandas.core.frame.DataFrame'>\n",
      "Index: 22030 entries, 0 to 23698\n",
      "Data columns (total 29 columns):\n",
      " #   Column                Non-Null Count  Dtype         \n",
      "---  ------                --------------  -----         \n",
      " 0   total_images          22030 non-null  int64         \n",
      " 1   last_price            22030 non-null  float64       \n",
      " 2   total_area            22030 non-null  float64       \n",
      " 3   first_day_exposition  22030 non-null  datetime64[ns]\n",
      " 4   rooms                 22030 non-null  int64         \n",
      " 5   ceiling_height        22030 non-null  float64       \n",
      " 6   floors_total          22030 non-null  int64         \n",
      " 7   living_area           20323 non-null  float64       \n",
      " 8   floor                 22030 non-null  int64         \n",
      " 9   is_apartment          22030 non-null  bool          \n",
      " 10  studio                22030 non-null  bool          \n",
      " 11  open_plan             22030 non-null  bool          \n",
      " 12  kitchen_area          19956 non-null  float64       \n",
      " 13  balcony               22030 non-null  int64         \n",
      " 14  locality_name         22030 non-null  object        \n",
      " 15  airports_nearest      16534 non-null  float64       \n",
      " 16  cityCenters_nearest   16549 non-null  float64       \n",
      " 17  parks_around3000      22030 non-null  int64         \n",
      " 18  parks_nearest         6969 non-null   float64       \n",
      " 19  ponds_around3000      22030 non-null  int64         \n",
      " 20  ponds_nearest         7928 non-null   float64       \n",
      " 21  days_exposition       19267 non-null  float64       \n",
      " 22  price_metre           22030 non-null  float64       \n",
      " 23  day_advert            22030 non-null  int32         \n",
      " 24  month_advert          22030 non-null  int32         \n",
      " 25  year_advert           22030 non-null  int32         \n",
      " 26  floor_type            22030 non-null  object        \n",
      " 27  numeric_floor_type    22030 non-null  int64         \n",
      " 28  km_center             16549 non-null  float64       \n",
      "dtypes: bool(3), datetime64[ns](1), float64(12), int32(3), int64(8), object(2)\n",
      "memory usage: 4.3+ MB\n"
     ]
    }
   ],
   "source": [
    "data.info()"
   ]
  },
  {
   "cell_type": "markdown",
   "metadata": {
    "id": "DR-MfoVFKOxs"
   },
   "source": [
    "Проверили на количество данных. Убедились, что большая часть данных не потеряна. Теперь с уверенностью можно сказать, мы избавились от всех редких выбросов, и теперь нам надо восстановить верные индексы строк."
   ]
  },
  {
   "cell_type": "code",
   "execution_count": 90,
   "metadata": {
    "colab": {
     "base_uri": "https://localhost:8080/",
     "height": 256
    },
    "id": "maIBlPTaCvXE",
    "outputId": "258bd6c1-dd99-46b2-a51f-36238420e462"
   },
   "outputs": [
    {
     "data": {
      "text/html": [
       "<div>\n",
       "<style scoped>\n",
       "    .dataframe tbody tr th:only-of-type {\n",
       "        vertical-align: middle;\n",
       "    }\n",
       "\n",
       "    .dataframe tbody tr th {\n",
       "        vertical-align: top;\n",
       "    }\n",
       "\n",
       "    .dataframe thead th {\n",
       "        text-align: right;\n",
       "    }\n",
       "</style>\n",
       "<table border=\"1\" class=\"dataframe\">\n",
       "  <thead>\n",
       "    <tr style=\"text-align: right;\">\n",
       "      <th></th>\n",
       "      <th>total_images</th>\n",
       "      <th>last_price</th>\n",
       "      <th>total_area</th>\n",
       "      <th>first_day_exposition</th>\n",
       "      <th>rooms</th>\n",
       "      <th>ceiling_height</th>\n",
       "      <th>floors_total</th>\n",
       "      <th>living_area</th>\n",
       "      <th>floor</th>\n",
       "      <th>is_apartment</th>\n",
       "      <th>...</th>\n",
       "      <th>ponds_around3000</th>\n",
       "      <th>ponds_nearest</th>\n",
       "      <th>days_exposition</th>\n",
       "      <th>price_metre</th>\n",
       "      <th>day_advert</th>\n",
       "      <th>month_advert</th>\n",
       "      <th>year_advert</th>\n",
       "      <th>floor_type</th>\n",
       "      <th>numeric_floor_type</th>\n",
       "      <th>km_center</th>\n",
       "    </tr>\n",
       "  </thead>\n",
       "  <tbody>\n",
       "    <tr>\n",
       "      <th>0</th>\n",
       "      <td>20</td>\n",
       "      <td>13000000.0</td>\n",
       "      <td>108.0</td>\n",
       "      <td>2019-03-07</td>\n",
       "      <td>3</td>\n",
       "      <td>2.70</td>\n",
       "      <td>16</td>\n",
       "      <td>51.0</td>\n",
       "      <td>8</td>\n",
       "      <td>False</td>\n",
       "      <td>...</td>\n",
       "      <td>2</td>\n",
       "      <td>755.0</td>\n",
       "      <td>NaN</td>\n",
       "      <td>120370.37</td>\n",
       "      <td>3</td>\n",
       "      <td>3</td>\n",
       "      <td>2019</td>\n",
       "      <td>другой</td>\n",
       "      <td>2</td>\n",
       "      <td>16.0</td>\n",
       "    </tr>\n",
       "    <tr>\n",
       "      <th>1</th>\n",
       "      <td>7</td>\n",
       "      <td>3350000.0</td>\n",
       "      <td>40.4</td>\n",
       "      <td>2018-12-04</td>\n",
       "      <td>1</td>\n",
       "      <td>2.65</td>\n",
       "      <td>11</td>\n",
       "      <td>18.6</td>\n",
       "      <td>1</td>\n",
       "      <td>False</td>\n",
       "      <td>...</td>\n",
       "      <td>0</td>\n",
       "      <td>NaN</td>\n",
       "      <td>81.0</td>\n",
       "      <td>82920.79</td>\n",
       "      <td>1</td>\n",
       "      <td>12</td>\n",
       "      <td>2018</td>\n",
       "      <td>первый</td>\n",
       "      <td>1</td>\n",
       "      <td>19.0</td>\n",
       "    </tr>\n",
       "    <tr>\n",
       "      <th>2</th>\n",
       "      <td>10</td>\n",
       "      <td>5196000.0</td>\n",
       "      <td>56.0</td>\n",
       "      <td>2015-08-20</td>\n",
       "      <td>2</td>\n",
       "      <td>2.65</td>\n",
       "      <td>5</td>\n",
       "      <td>34.3</td>\n",
       "      <td>4</td>\n",
       "      <td>False</td>\n",
       "      <td>...</td>\n",
       "      <td>2</td>\n",
       "      <td>574.0</td>\n",
       "      <td>558.0</td>\n",
       "      <td>92785.71</td>\n",
       "      <td>3</td>\n",
       "      <td>8</td>\n",
       "      <td>2015</td>\n",
       "      <td>другой</td>\n",
       "      <td>2</td>\n",
       "      <td>14.0</td>\n",
       "    </tr>\n",
       "    <tr>\n",
       "      <th>3</th>\n",
       "      <td>2</td>\n",
       "      <td>10000000.0</td>\n",
       "      <td>100.0</td>\n",
       "      <td>2018-06-19</td>\n",
       "      <td>2</td>\n",
       "      <td>3.03</td>\n",
       "      <td>14</td>\n",
       "      <td>32.0</td>\n",
       "      <td>13</td>\n",
       "      <td>False</td>\n",
       "      <td>...</td>\n",
       "      <td>1</td>\n",
       "      <td>48.0</td>\n",
       "      <td>121.0</td>\n",
       "      <td>100000.00</td>\n",
       "      <td>1</td>\n",
       "      <td>6</td>\n",
       "      <td>2018</td>\n",
       "      <td>другой</td>\n",
       "      <td>2</td>\n",
       "      <td>8.0</td>\n",
       "    </tr>\n",
       "    <tr>\n",
       "      <th>4</th>\n",
       "      <td>10</td>\n",
       "      <td>2890000.0</td>\n",
       "      <td>30.4</td>\n",
       "      <td>2018-09-10</td>\n",
       "      <td>1</td>\n",
       "      <td>2.65</td>\n",
       "      <td>12</td>\n",
       "      <td>14.4</td>\n",
       "      <td>5</td>\n",
       "      <td>False</td>\n",
       "      <td>...</td>\n",
       "      <td>0</td>\n",
       "      <td>NaN</td>\n",
       "      <td>55.0</td>\n",
       "      <td>95065.79</td>\n",
       "      <td>0</td>\n",
       "      <td>9</td>\n",
       "      <td>2018</td>\n",
       "      <td>другой</td>\n",
       "      <td>2</td>\n",
       "      <td>NaN</td>\n",
       "    </tr>\n",
       "  </tbody>\n",
       "</table>\n",
       "<p>5 rows × 29 columns</p>\n",
       "</div>"
      ],
      "text/plain": [
       "   total_images  last_price  total_area first_day_exposition  rooms  \\\n",
       "0            20  13000000.0       108.0           2019-03-07      3   \n",
       "1             7   3350000.0        40.4           2018-12-04      1   \n",
       "2            10   5196000.0        56.0           2015-08-20      2   \n",
       "3             2  10000000.0       100.0           2018-06-19      2   \n",
       "4            10   2890000.0        30.4           2018-09-10      1   \n",
       "\n",
       "   ceiling_height  floors_total  living_area  floor  is_apartment  ...  \\\n",
       "0            2.70            16         51.0      8         False  ...   \n",
       "1            2.65            11         18.6      1         False  ...   \n",
       "2            2.65             5         34.3      4         False  ...   \n",
       "3            3.03            14         32.0     13         False  ...   \n",
       "4            2.65            12         14.4      5         False  ...   \n",
       "\n",
       "   ponds_around3000  ponds_nearest  days_exposition  price_metre day_advert  \\\n",
       "0                 2          755.0              NaN    120370.37          3   \n",
       "1                 0            NaN             81.0     82920.79          1   \n",
       "2                 2          574.0            558.0     92785.71          3   \n",
       "3                 1           48.0            121.0    100000.00          1   \n",
       "4                 0            NaN             55.0     95065.79          0   \n",
       "\n",
       "   month_advert  year_advert  floor_type  numeric_floor_type  km_center  \n",
       "0             3         2019      другой                   2       16.0  \n",
       "1            12         2018      первый                   1       19.0  \n",
       "2             8         2015      другой                   2       14.0  \n",
       "3             6         2018      другой                   2        8.0  \n",
       "4             9         2018      другой                   2        NaN  \n",
       "\n",
       "[5 rows x 29 columns]"
      ]
     },
     "execution_count": 90,
     "metadata": {},
     "output_type": "execute_result"
    }
   ],
   "source": [
    "data = data.reset_index(drop = True)\n",
    "data.head()"
   ]
  },
  {
   "cell_type": "code",
   "execution_count": 91,
   "metadata": {
    "colab": {
     "base_uri": "https://localhost:8080/",
     "height": 430
    },
    "id": "AyBQY3LwK_Yy",
    "outputId": "d2b07a45-e4a9-44ea-811e-e5819e0da22b"
   },
   "outputs": [
    {
     "data": {
      "image/png": "[encoded data removed]",
      "text/plain": [
       "<Figure size 640x480 with 1 Axes>"
      ]
     },
     "metadata": {},
     "output_type": "display_data"
    }
   ],
   "source": [
    "data['days_exposition'].hist()\n",
    "plt.xlim(0, 800)\n",
    "plt.show()"
   ]
  },
  {
   "cell_type": "code",
   "execution_count": 92,
   "metadata": {
    "colab": {
     "base_uri": "https://localhost:8080/",
     "height": 448
    },
    "id": "w9sf4A3TYBid",
    "outputId": "587160f8-7db8-4705-f358-28ee146a6f3c"
   },
   "outputs": [
    {
     "data": {
      "text/plain": [
       "<Axes: >"
      ]
     },
     "execution_count": 92,
     "metadata": {},
     "output_type": "execute_result"
    },
    {
     "data": {
      "image/png": "[encoded data removed]",
      "text/plain": [
       "<Figure size 640x480 with 1 Axes>"
      ]
     },
     "metadata": {},
     "output_type": "display_data"
    }
   ],
   "source": [
    "data.boxplot(column = 'days_exposition')"
   ]
  },
  {
   "cell_type": "code",
   "execution_count": 93,
   "metadata": {
    "colab": {
     "base_uri": "https://localhost:8080/"
    },
    "id": "JP38tipzYPUF",
    "outputId": "aacff6b0-8a09-4797-80e4-cfc908c75d18"
   },
   "outputs": [
    {
     "data": {
      "text/plain": [
       "count    19267.000000\n",
       "mean       175.203924\n",
       "std        213.665522\n",
       "min          1.000000\n",
       "25%         44.000000\n",
       "50%         92.000000\n",
       "75%        222.000000\n",
       "max       1580.000000\n",
       "Name: days_exposition, dtype: float64"
      ]
     },
     "execution_count": 93,
     "metadata": {},
     "output_type": "execute_result"
    }
   ],
   "source": [
    "data['days_exposition'].describe()"
   ]
  },
  {
   "cell_type": "code",
   "execution_count": 94,
   "metadata": {
    "colab": {
     "base_uri": "https://localhost:8080/"
    },
    "id": "kjxuZdaRKXkq",
    "outputId": "a9190fdf-48bb-4e50-e151-ea822c4c449b"
   },
   "outputs": [
    {
     "name": "stdout",
     "output_type": "stream",
     "text": [
      "mean: 175.20392380754657\n",
      "median: 92.0\n"
     ]
    }
   ],
   "source": [
    "print('mean:', data['days_exposition'].mean())\n",
    "print('median:', data['days_exposition'].median())"
   ]
  },
  {
   "cell_type": "markdown",
   "metadata": {
    "id": "_ZG6StBuLY42"
   },
   "source": [
    "Опираясь на среднее и 2 квартиль, можно сказать, что продажа обычно занимает около 90-95 дней. Быстрыми можно считать те, которые продались за 44 дня и раньше. А необычно долгими, согласно графику рассеивания, дольше 222 дня."
   ]
  },
  {
   "cell_type": "code",
   "execution_count": 96,
   "metadata": {
    "colab": {
     "base_uri": "https://localhost:8080/"
    },
    "id": "SRjbCxb3Pyql",
    "outputId": "40dad776-ef2f-4684-9a77-04685a688cfe"
   },
   "outputs": [
    {
     "data": {
      "text/plain": [
       "Index(['total_images', 'last_price', 'total_area', 'first_day_exposition',\n",
       "       'rooms', 'ceiling_height', 'floors_total', 'living_area', 'floor',\n",
       "       'is_apartment', 'studio', 'open_plan', 'kitchen_area', 'balcony',\n",
       "       'locality_name', 'airports_nearest', 'cityCenters_nearest',\n",
       "       'parks_around3000', 'parks_nearest', 'ponds_around3000',\n",
       "       'ponds_nearest', 'days_exposition', 'price_metre', 'day_advert',\n",
       "       'month_advert', 'year_advert', 'floor_type', 'numeric_floor_type',\n",
       "       'km_center'],\n",
       "      dtype='object')"
      ]
     },
     "execution_count": 96,
     "metadata": {},
     "output_type": "execute_result"
    }
   ],
   "source": [
    "data.columns"
   ]
  },
  {
   "cell_type": "code",
   "execution_count": 97,
   "metadata": {
    "colab": {
     "base_uri": "https://localhost:8080/",
     "height": 1000
    },
    "id": "pmkDbPsMMbQa",
    "outputId": "4060d15b-850d-4d4e-e9f9-e6f074a707d0"
   },
   "outputs": [
    {
     "data": {
      "image/png": "[encoded data removed]",
      "text/plain": [
       "<Figure size 640x480 with 1 Axes>"
      ]
     },
     "metadata": {},
     "output_type": "display_data"
    },
    {
     "data": {
      "image/png": "[encoded data removed]",
      "text/plain": [
       "<Figure size 640x480 with 1 Axes>"
      ]
     },
     "metadata": {},
     "output_type": "display_data"
    },
    {
     "data": {
      "image/png": "[encoded data removed]",
      "text/plain": [
       "<Figure size 640x480 with 1 Axes>"
      ]
     },
     "metadata": {},
     "output_type": "display_data"
    },
    {
     "name": "stderr",
     "output_type": "stream",
     "text": [
      "/var/folders/td/s_0q2gb952xg9pgq3lhgqw740000gn/T/ipykernel_50813/2356900787.py:17: FutureWarning: \n",
      "\n",
      "Passing `palette` without assigning `hue` is deprecated and will be removed in v0.14.0. Assign the `x` variable to `hue` and set `legend=False` for the same effect.\n",
      "\n",
      "  sns.barplot(x=data_mean[i], y=data_mean['last_price'], palette='viridis')\n"
     ]
    },
    {
     "data": {
      "image/png": "[encoded data removed]",
      "text/plain": [
       "<Figure size 640x480 with 1 Axes>"
      ]
     },
     "metadata": {},
     "output_type": "display_data"
    },
    {
     "name": "stderr",
     "output_type": "stream",
     "text": [
      "/var/folders/td/s_0q2gb952xg9pgq3lhgqw740000gn/T/ipykernel_50813/2356900787.py:17: FutureWarning: \n",
      "\n",
      "Passing `palette` without assigning `hue` is deprecated and will be removed in v0.14.0. Assign the `x` variable to `hue` and set `legend=False` for the same effect.\n",
      "\n",
      "  sns.barplot(x=data_mean[i], y=data_mean['last_price'], palette='viridis')\n"
     ]
    },
    {
     "data": {
      "image/png": "[encoded data removed]",
      "text/plain": [
       "<Figure size 640x480 with 1 Axes>"
      ]
     },
     "metadata": {},
     "output_type": "display_data"
    },
    {
     "name": "stderr",
     "output_type": "stream",
     "text": [
      "/var/folders/td/s_0q2gb952xg9pgq3lhgqw740000gn/T/ipykernel_50813/2356900787.py:17: FutureWarning: \n",
      "\n",
      "Passing `palette` without assigning `hue` is deprecated and will be removed in v0.14.0. Assign the `x` variable to `hue` and set `legend=False` for the same effect.\n",
      "\n",
      "  sns.barplot(x=data_mean[i], y=data_mean['last_price'], palette='viridis')\n"
     ]
    },
    {
     "data": {
      "image/png": "[encoded data removed]",
      "text/plain": [
       "<Figure size 640x480 with 1 Axes>"
      ]
     },
     "metadata": {},
     "output_type": "display_data"
    },
    {
     "name": "stderr",
     "output_type": "stream",
     "text": [
      "/var/folders/td/s_0q2gb952xg9pgq3lhgqw740000gn/T/ipykernel_50813/2356900787.py:17: FutureWarning: \n",
      "\n",
      "Passing `palette` without assigning `hue` is deprecated and will be removed in v0.14.0. Assign the `x` variable to `hue` and set `legend=False` for the same effect.\n",
      "\n",
      "  sns.barplot(x=data_mean[i], y=data_mean['last_price'], palette='viridis')\n"
     ]
    },
    {
     "data": {
      "image/png": "[encoded data removed]",
      "text/plain": [
       "<Figure size 640x480 with 1 Axes>"
      ]
     },
     "metadata": {},
     "output_type": "display_data"
    }
   ],
   "source": [
    "import seaborn as sns\n",
    "\n",
    "a = ['total_area', 'numeric_floor_type', 'living_area', 'kitchen_area', 'rooms', 'month_advert', 'year_advert']\n",
    "sq = ['total_area', 'kitchen_area', 'living_area']\n",
    "oth = ['numeric_floor_type', 'rooms', 'month_advert', 'year_advert']\n",
    "data_pivot = data.pivot_table(index = 'last_price', values = a)\n",
    "data_mean = data.groupby(oth)['last_price'].mean().reset_index()\n",
    "\n",
    "for i in sq:\n",
    "  plt.scatter(data_pivot.index, data_pivot[i])\n",
    "  plt.grid(True)\n",
    "  plt.xlabel('Last price')\n",
    "  plt.ylabel(i)\n",
    "  plt.show()\n",
    "\n",
    "for i in oth:\n",
    "  sns.barplot(x=data_mean[i], y=data_mean['last_price'], palette='viridis')\n",
    "  plt.xlabel(i)\n",
    "  plt.ylabel('Last price')\n",
    "  plt.xticks(rotation=45)\n",
    "  plt.show()\n"
   ]
  },
  {
   "cell_type": "markdown",
   "metadata": {
    "id": "uxH-qHlyUTFy"
   },
   "source": [
    "Как и ожидалось, цена зависит в большей степени от общей площади помещения, жилой площади, количества комнат. В меньшей степени зависит от площади кухнии типа этажа, на котором находится объект, а от остальных данных практически не зависит. Чтобы проверить данный вывод, можно посмотреть на корреляцию:"
   ]
  },
  {
   "cell_type": "code",
   "execution_count": 99,
   "metadata": {
    "colab": {
     "base_uri": "https://localhost:8080/"
    },
    "id": "DQkaMzyiVFJb",
    "outputId": "b60de120-f937-4648-c111-bae22cba251c"
   },
   "outputs": [
    {
     "name": "stdout",
     "output_type": "stream",
     "text": [
      "total_area 0.7439859780946428\n",
      "numeric_floor_type 0.04741649801289467\n",
      "living_area 0.637156298818011\n",
      "kitchen_area 0.5313918065173222\n",
      "rooms 0.4944952099060659\n",
      "month_advert 0.00023786316420087167\n",
      "year_advert -0.014391743958849488\n"
     ]
    }
   ],
   "source": [
    "for i in a:\n",
    "  print(i, data['last_price'].corr(data[i]))"
   ]
  },
  {
   "cell_type": "markdown",
   "metadata": {
    "id": "DLGoXpOcVw2t"
   },
   "source": [
    "Как и ожидалось, не категориальные признаки стоят на нужных местах, а по категориальным через корреляцию Пирсона ничего сказать не можем."
   ]
  },
  {
   "cell_type": "code",
   "execution_count": 101,
   "metadata": {
    "colab": {
     "base_uri": "https://localhost:8080/",
     "height": 914
    },
    "id": "kGHHT0W3elgB",
    "outputId": "887da503-e8a8-4dfc-85cc-b36028e0b598"
   },
   "outputs": [
    {
     "name": "stdout",
     "output_type": "stream",
     "text": [
      "                 rooms  mean_price_m2\n",
      "locality_name                        \n",
      "санкт-петербург  14319  105778.390699\n",
      "мурино             586   83382.564589\n",
      "кудрово            470   93873.020139\n",
      "шушары             439   76267.270155\n",
      "всеволожск         395   66553.944019\n",
      "пушкин             350  101072.882794\n",
      "колпино            332   73842.676221\n",
      "парголово          327   87110.874551\n",
      "гатчина            306   68584.166319\n",
      "выборг             234   57199.487225\n"
     ]
    },
    {
     "name": "stderr",
     "output_type": "stream",
     "text": [
      "/var/folders/td/s_0q2gb952xg9pgq3lhgqw740000gn/T/ipykernel_50813/2663559629.py:6: FutureWarning: \n",
      "\n",
      "Passing `palette` without assigning `hue` is deprecated and will be removed in v0.14.0. Assign the `x` variable to `hue` and set `legend=False` for the same effect.\n",
      "\n",
      "  sns.barplot(x=data_pivot_1.index, y=data_pivot_1['mean_price_m2'], palette='viridis')\n"
     ]
    },
    {
     "data": {
      "image/png": "[encoded data removed]",
      "text/plain": [
       "<Figure size 640x480 with 1 Axes>"
      ]
     },
     "metadata": {},
     "output_type": "display_data"
    },
    {
     "name": "stdout",
     "output_type": "stream",
     "text": [
      "санкт-петербург\n",
      "выборг\n"
     ]
    }
   ],
   "source": [
    "data3 = data.groupby('locality_name')['rooms'].count().sort_values(ascending = False).head(10).index.tolist()\n",
    "data_pivot_1 = data.pivot_table(index = 'locality_name', values = ['rooms', 'total_area', 'last_price'], aggfunc = {'rooms':'count', 'last_price':'sum', 'total_area':'sum'}).loc[data3, :]\n",
    "data_pivot_1['mean_price_m2'] = data_pivot_1['last_price'] / data_pivot_1['total_area']\n",
    "print(data_pivot_1.loc[:, ['rooms', 'mean_price_m2']])\n",
    "\n",
    "sns.barplot(x=data_pivot_1.index, y=data_pivot_1['mean_price_m2'], palette='viridis')\n",
    "plt.xlabel('Населённый пункт')\n",
    "plt.ylabel('Средняя цена за м²')\n",
    "plt.title('Средняя цена за квадратный метр в 10 населённых пунктах с наибольшим числом объявлений')\n",
    "plt.xticks(rotation=45)\n",
    "plt.show()\n",
    "\n",
    "print(data_pivot_1['mean_price_m2'].idxmax())\n",
    "print(data_pivot_1['mean_price_m2'].idxmin())"
   ]
  },
  {
   "cell_type": "code",
   "execution_count": 102,
   "metadata": {
    "colab": {
     "base_uri": "https://localhost:8080/",
     "height": 472
    },
    "id": "WdwCiTKBfmK7",
    "outputId": "4879a274-438d-4189-9e30-05889862284c"
   },
   "outputs": [
    {
     "data": {
      "image/png": "[encoded data removed]",
      "text/plain": [
       "<Figure size 640x480 with 1 Axes>"
      ]
     },
     "metadata": {},
     "output_type": "display_data"
    }
   ],
   "source": [
    "data4 = data.query('locality_name == \"санкт-петербург\"')\n",
    "data4 = data4.groupby('km_center')['last_price'].mean().reset_index()\n",
    "data4 = data4.sort_values(by='km_center', ascending=True)\n",
    "data4.plot(x = 'km_center', y = 'last_price', style = 'o-', grid = True)\n",
    "plt.title('Dependence of price on distance to center')\n",
    "plt.ylabel('price')\n",
    "plt.show()"
   ]
  },
  {
   "cell_type": "markdown",
   "metadata": {
    "id": "ZXWJA981Gfsz"
   },
   "source": [
    "По графику видно, что до 20 км цена квартиры зависит от расстояния до центра. В конце происходит уже не полная зависимость. В таких примерах будем считать, что влияют уже другие факторы."
   ]
  },
  {
   "cell_type": "markdown",
   "metadata": {
    "id": "YMrXrCLse23g"
   },
   "source": [
    "## Финальный вывод"
   ]
  },
  {
   "cell_type": "markdown",
   "metadata": {
    "id": "ZG25InAPJicC"
   },
   "source": [
    "* Мне был дан кейс, и я провел предобработку и небольшой анализ данных. Проведя предобработку данных, было замечено большое количество ошибок. Например, были пропуски у многих столбцов. От них мы избавились либо удалением строк с пропущенными значениями(например, столбец \"floors_total\"), либо заменяли на среднее значение из столбца(например, столбец \"ceinung_height\"), либо вовсе оставляли неизменно, потому что не было возможности как-то подправить эти пропуски. Также были столбцы с неподходящими для анализа типами данных, которые мы тоже успешно поменяли птуем форматирования самих данных(например, столбец \"first_day_exposition\") и проверки значений столбцов на их корректность(например, столбец \"floors_total\"). Помимо всего этого были еще неявные дубликаты, которые мы убрали через замену всего слова или частей слова, которые не несли никакой полезной информации, на пустую строку, тем самым уменьшая количество уникальных значений. В процессе анализа данных избавился от редких и выбивающихся значений в данных, при этом учитывая количество пропусков в столбцах(чтобы не удалялось большая часть данных при удалении выбросов); изучил, как быстро продавались квартиры - продажа обычно занимает около 90-95 дней, быстрыми можно считать те, которые продались раньше 44 дней, а необычно долгими, согласно гистограмме, дольше 222 дней; определил факторы, которые больше всего влияют на общую (полную) стоимость объекта: общая площадь помещения, жилая площадь, количество комнат и типом этажа, на котором находитяс квартира; посчитал среднюю цену одного квадратного метра в 10 населённых пунктах с наибольшим числом объявлений; описал, как стоимость объектов зависит от расстояния до центра города — зависит в первые 20 км от центра города, чем дальше квартира от центра города, тем дешевле она будет. После этого расстояния влияют уже другие факторы. построил график изменения средней цены для каждого километра от центра Петербурга.\n",
    "* В итоге проделанной работы мы определили факторы, с помощью которых можно определять рыночную стоимость объектов недвижимости.\n",
    "* Рекомендации для заказчиков. Факторы, на которые стоит обращать внимание: общая площадь объекта; жилая площадь; если это квартира, то на каком этаже расположена; количество комнат; площадь кухни.\n",
    "\n",
    "\n"
   ]
  },
  {
   "cell_type": "code",
   "execution_count": null,
   "metadata": {},
   "outputs": [],
   "source": []
  }
 ],
 "metadata": {
  "ExecuteTimeLog": [
   {
    "duration": 667,
    "start_time": "2024-05-05T19:42:04.757Z"
   },
   {
    "duration": 112,
    "start_time": "2024-05-05T19:42:05.426Z"
   },
   {
    "duration": 0,
    "start_time": "2024-05-05T19:42:05.543Z"
   },
   {
    "duration": 0,
    "start_time": "2024-05-05T19:42:05.545Z"
   },
   {
    "duration": 0,
    "start_time": "2024-05-05T19:42:05.546Z"
   },
   {
    "duration": 0,
    "start_time": "2024-05-05T19:42:05.547Z"
   },
   {
    "duration": 0,
    "start_time": "2024-05-05T19:42:05.549Z"
   },
   {
    "duration": 0,
    "start_time": "2024-05-05T19:42:05.550Z"
   },
   {
    "duration": 0,
    "start_time": "2024-05-05T19:42:05.551Z"
   },
   {
    "duration": 0,
    "start_time": "2024-05-05T19:42:05.553Z"
   },
   {
    "duration": 0,
    "start_time": "2024-05-05T19:42:05.554Z"
   },
   {
    "duration": 0,
    "start_time": "2024-05-05T19:42:05.555Z"
   },
   {
    "duration": 0,
    "start_time": "2024-05-05T19:42:05.557Z"
   },
   {
    "duration": 0,
    "start_time": "2024-05-05T19:42:05.558Z"
   },
   {
    "duration": 0,
    "start_time": "2024-05-05T19:42:05.560Z"
   },
   {
    "duration": 0,
    "start_time": "2024-05-05T19:42:05.561Z"
   },
   {
    "duration": 0,
    "start_time": "2024-05-05T19:42:05.562Z"
   },
   {
    "duration": 0,
    "start_time": "2024-05-05T19:42:05.592Z"
   },
   {
    "duration": 0,
    "start_time": "2024-05-05T19:42:05.593Z"
   },
   {
    "duration": 0,
    "start_time": "2024-05-05T19:42:05.595Z"
   },
   {
    "duration": 0,
    "start_time": "2024-05-05T19:42:05.596Z"
   },
   {
    "duration": 0,
    "start_time": "2024-05-05T19:42:05.597Z"
   },
   {
    "duration": 0,
    "start_time": "2024-05-05T19:42:05.599Z"
   },
   {
    "duration": 0,
    "start_time": "2024-05-05T19:42:05.600Z"
   },
   {
    "duration": 0,
    "start_time": "2024-05-05T19:42:05.602Z"
   },
   {
    "duration": 0,
    "start_time": "2024-05-05T19:42:05.603Z"
   },
   {
    "duration": 0,
    "start_time": "2024-05-05T19:42:05.605Z"
   },
   {
    "duration": 0,
    "start_time": "2024-05-05T19:42:05.606Z"
   },
   {
    "duration": 0,
    "start_time": "2024-05-05T19:42:05.608Z"
   },
   {
    "duration": 0,
    "start_time": "2024-05-05T19:42:05.609Z"
   },
   {
    "duration": 0,
    "start_time": "2024-05-05T19:42:05.611Z"
   },
   {
    "duration": 0,
    "start_time": "2024-05-05T19:42:05.612Z"
   },
   {
    "duration": 0,
    "start_time": "2024-05-05T19:42:05.613Z"
   },
   {
    "duration": 0,
    "start_time": "2024-05-05T19:42:05.615Z"
   },
   {
    "duration": 0,
    "start_time": "2024-05-05T19:42:05.617Z"
   },
   {
    "duration": 0,
    "start_time": "2024-05-05T19:42:05.618Z"
   },
   {
    "duration": 0,
    "start_time": "2024-05-05T19:42:05.619Z"
   },
   {
    "duration": 0,
    "start_time": "2024-05-05T19:42:05.620Z"
   },
   {
    "duration": 306,
    "start_time": "2024-05-05T19:43:27.131Z"
   },
   {
    "duration": 650,
    "start_time": "2024-05-05T19:43:33.112Z"
   },
   {
    "duration": 98,
    "start_time": "2024-05-05T19:43:33.764Z"
   },
   {
    "duration": 15,
    "start_time": "2024-05-05T19:43:33.863Z"
   },
   {
    "duration": 39,
    "start_time": "2024-05-05T19:43:33.879Z"
   },
   {
    "duration": 1948,
    "start_time": "2024-05-05T19:43:33.920Z"
   },
   {
    "duration": 10,
    "start_time": "2024-05-05T19:43:35.870Z"
   },
   {
    "duration": 21,
    "start_time": "2024-05-05T19:43:35.881Z"
   },
   {
    "duration": 33,
    "start_time": "2024-05-05T19:43:35.904Z"
   },
   {
    "duration": 11,
    "start_time": "2024-05-05T19:43:35.938Z"
   },
   {
    "duration": 26,
    "start_time": "2024-05-05T19:43:35.950Z"
   },
   {
    "duration": 231,
    "start_time": "2024-05-05T19:43:35.977Z"
   },
   {
    "duration": 25,
    "start_time": "2024-05-05T19:43:36.209Z"
   },
   {
    "duration": 9,
    "start_time": "2024-05-05T19:43:36.235Z"
   },
   {
    "duration": 10,
    "start_time": "2024-05-05T19:43:36.247Z"
   },
   {
    "duration": 589,
    "start_time": "2024-05-05T19:43:36.258Z"
   },
   {
    "duration": 1540,
    "start_time": "2024-05-05T19:43:36.849Z"
   },
   {
    "duration": 3,
    "start_time": "2024-05-05T19:43:38.391Z"
   },
   {
    "duration": 14,
    "start_time": "2024-05-05T19:43:38.395Z"
   },
   {
    "duration": 16,
    "start_time": "2024-05-05T19:43:38.411Z"
   },
   {
    "duration": 107,
    "start_time": "2024-05-05T19:43:38.429Z"
   },
   {
    "duration": 9,
    "start_time": "2024-05-05T19:43:38.537Z"
   },
   {
    "duration": 8,
    "start_time": "2024-05-05T19:43:38.548Z"
   },
   {
    "duration": 116,
    "start_time": "2024-05-05T19:43:38.557Z"
   },
   {
    "duration": 19,
    "start_time": "2024-05-05T19:43:38.675Z"
   },
   {
    "duration": 119,
    "start_time": "2024-05-05T19:43:38.696Z"
   },
   {
    "duration": 9,
    "start_time": "2024-05-05T19:43:38.816Z"
   },
   {
    "duration": 7,
    "start_time": "2024-05-05T19:43:38.826Z"
   },
   {
    "duration": 8,
    "start_time": "2024-05-05T19:43:38.835Z"
   },
   {
    "duration": 131,
    "start_time": "2024-05-05T19:43:38.845Z"
   },
   {
    "duration": 14,
    "start_time": "2024-05-05T19:43:38.978Z"
   },
   {
    "duration": 52,
    "start_time": "2024-05-05T19:43:38.993Z"
   },
   {
    "duration": 130,
    "start_time": "2024-05-05T19:43:39.047Z"
   },
   {
    "duration": 5,
    "start_time": "2024-05-05T19:43:39.179Z"
   },
   {
    "duration": 20,
    "start_time": "2024-05-05T19:43:39.185Z"
   },
   {
    "duration": 1454,
    "start_time": "2024-05-05T19:43:39.207Z"
   },
   {
    "duration": 11,
    "start_time": "2024-05-05T19:43:40.663Z"
   },
   {
    "duration": 22,
    "start_time": "2024-05-05T19:43:40.691Z"
   },
   {
    "duration": 156,
    "start_time": "2024-05-05T19:43:40.715Z"
   },
   {
    "duration": 718,
    "start_time": "2024-05-05T19:46:30.481Z"
   },
   {
    "duration": 113,
    "start_time": "2024-05-05T19:46:31.201Z"
   },
   {
    "duration": 0,
    "start_time": "2024-05-05T19:46:31.317Z"
   },
   {
    "duration": 0,
    "start_time": "2024-05-05T19:46:31.318Z"
   },
   {
    "duration": 0,
    "start_time": "2024-05-05T19:46:31.319Z"
   },
   {
    "duration": 0,
    "start_time": "2024-05-05T19:46:31.320Z"
   },
   {
    "duration": 0,
    "start_time": "2024-05-05T19:46:31.321Z"
   },
   {
    "duration": 0,
    "start_time": "2024-05-05T19:46:31.323Z"
   },
   {
    "duration": 0,
    "start_time": "2024-05-05T19:46:31.323Z"
   },
   {
    "duration": 0,
    "start_time": "2024-05-05T19:46:31.324Z"
   },
   {
    "duration": 0,
    "start_time": "2024-05-05T19:46:31.326Z"
   },
   {
    "duration": 0,
    "start_time": "2024-05-05T19:46:31.327Z"
   },
   {
    "duration": 0,
    "start_time": "2024-05-05T19:46:31.328Z"
   },
   {
    "duration": 0,
    "start_time": "2024-05-05T19:46:31.329Z"
   },
   {
    "duration": 0,
    "start_time": "2024-05-05T19:46:31.330Z"
   },
   {
    "duration": 0,
    "start_time": "2024-05-05T19:46:31.331Z"
   },
   {
    "duration": 0,
    "start_time": "2024-05-05T19:46:31.333Z"
   },
   {
    "duration": 0,
    "start_time": "2024-05-05T19:46:31.334Z"
   },
   {
    "duration": 0,
    "start_time": "2024-05-05T19:46:31.335Z"
   },
   {
    "duration": 0,
    "start_time": "2024-05-05T19:46:31.336Z"
   },
   {
    "duration": 0,
    "start_time": "2024-05-05T19:46:31.337Z"
   },
   {
    "duration": 0,
    "start_time": "2024-05-05T19:46:31.338Z"
   },
   {
    "duration": 0,
    "start_time": "2024-05-05T19:46:31.339Z"
   },
   {
    "duration": 0,
    "start_time": "2024-05-05T19:46:31.341Z"
   },
   {
    "duration": 0,
    "start_time": "2024-05-05T19:46:31.342Z"
   },
   {
    "duration": 0,
    "start_time": "2024-05-05T19:46:31.343Z"
   },
   {
    "duration": 0,
    "start_time": "2024-05-05T19:46:31.344Z"
   },
   {
    "duration": 0,
    "start_time": "2024-05-05T19:46:31.345Z"
   },
   {
    "duration": 0,
    "start_time": "2024-05-05T19:46:31.347Z"
   },
   {
    "duration": 0,
    "start_time": "2024-05-05T19:46:31.392Z"
   },
   {
    "duration": 0,
    "start_time": "2024-05-05T19:46:31.393Z"
   },
   {
    "duration": 0,
    "start_time": "2024-05-05T19:46:31.394Z"
   },
   {
    "duration": 0,
    "start_time": "2024-05-05T19:46:31.395Z"
   },
   {
    "duration": 0,
    "start_time": "2024-05-05T19:46:31.396Z"
   },
   {
    "duration": 0,
    "start_time": "2024-05-05T19:46:31.397Z"
   },
   {
    "duration": 0,
    "start_time": "2024-05-05T19:46:31.398Z"
   },
   {
    "duration": 0,
    "start_time": "2024-05-05T19:46:31.399Z"
   },
   {
    "duration": 0,
    "start_time": "2024-05-05T19:46:31.400Z"
   },
   {
    "duration": 615,
    "start_time": "2024-05-05T19:56:25.740Z"
   },
   {
    "duration": 111,
    "start_time": "2024-05-05T19:56:26.357Z"
   },
   {
    "duration": 0,
    "start_time": "2024-05-05T19:56:26.470Z"
   },
   {
    "duration": 0,
    "start_time": "2024-05-05T19:56:26.471Z"
   },
   {
    "duration": 0,
    "start_time": "2024-05-05T19:56:26.473Z"
   },
   {
    "duration": 0,
    "start_time": "2024-05-05T19:56:26.474Z"
   },
   {
    "duration": 0,
    "start_time": "2024-05-05T19:56:26.474Z"
   },
   {
    "duration": 0,
    "start_time": "2024-05-05T19:56:26.475Z"
   },
   {
    "duration": 0,
    "start_time": "2024-05-05T19:56:26.476Z"
   },
   {
    "duration": 0,
    "start_time": "2024-05-05T19:56:26.477Z"
   },
   {
    "duration": 0,
    "start_time": "2024-05-05T19:56:26.478Z"
   },
   {
    "duration": 0,
    "start_time": "2024-05-05T19:56:26.479Z"
   },
   {
    "duration": 0,
    "start_time": "2024-05-05T19:56:26.480Z"
   },
   {
    "duration": 0,
    "start_time": "2024-05-05T19:56:26.481Z"
   },
   {
    "duration": 0,
    "start_time": "2024-05-05T19:56:26.481Z"
   },
   {
    "duration": 0,
    "start_time": "2024-05-05T19:56:26.482Z"
   },
   {
    "duration": 0,
    "start_time": "2024-05-05T19:56:26.492Z"
   },
   {
    "duration": 0,
    "start_time": "2024-05-05T19:56:26.493Z"
   },
   {
    "duration": 0,
    "start_time": "2024-05-05T19:56:26.494Z"
   },
   {
    "duration": 0,
    "start_time": "2024-05-05T19:56:26.495Z"
   },
   {
    "duration": 0,
    "start_time": "2024-05-05T19:56:26.496Z"
   },
   {
    "duration": 0,
    "start_time": "2024-05-05T19:56:26.497Z"
   },
   {
    "duration": 0,
    "start_time": "2024-05-05T19:56:26.498Z"
   },
   {
    "duration": 0,
    "start_time": "2024-05-05T19:56:26.499Z"
   },
   {
    "duration": 0,
    "start_time": "2024-05-05T19:56:26.500Z"
   },
   {
    "duration": 0,
    "start_time": "2024-05-05T19:56:26.501Z"
   },
   {
    "duration": 0,
    "start_time": "2024-05-05T19:56:26.502Z"
   },
   {
    "duration": 0,
    "start_time": "2024-05-05T19:56:26.503Z"
   },
   {
    "duration": 0,
    "start_time": "2024-05-05T19:56:26.504Z"
   },
   {
    "duration": 0,
    "start_time": "2024-05-05T19:56:26.505Z"
   },
   {
    "duration": 0,
    "start_time": "2024-05-05T19:56:26.506Z"
   },
   {
    "duration": 0,
    "start_time": "2024-05-05T19:56:26.507Z"
   },
   {
    "duration": 0,
    "start_time": "2024-05-05T19:56:26.508Z"
   },
   {
    "duration": 0,
    "start_time": "2024-05-05T19:56:26.509Z"
   },
   {
    "duration": 0,
    "start_time": "2024-05-05T19:56:26.510Z"
   },
   {
    "duration": 0,
    "start_time": "2024-05-05T19:56:26.510Z"
   },
   {
    "duration": 0,
    "start_time": "2024-05-05T19:56:26.511Z"
   },
   {
    "duration": 0,
    "start_time": "2024-05-05T19:56:26.512Z"
   },
   {
    "duration": 806,
    "start_time": "2024-05-08T17:59:50.568Z"
   },
   {
    "duration": 119,
    "start_time": "2024-05-08T17:59:54.169Z"
   },
   {
    "duration": 8,
    "start_time": "2024-05-08T17:59:59.435Z"
   },
   {
    "duration": 2,
    "start_time": "2024-05-08T18:02:43.821Z"
   },
   {
    "duration": 247,
    "start_time": "2024-05-08T18:02:46.038Z"
   },
   {
    "duration": 15,
    "start_time": "2024-05-08T18:02:48.746Z"
   },
   {
    "duration": 733,
    "start_time": "2024-05-10T16:43:45.585Z"
   },
   {
    "duration": 302,
    "start_time": "2024-05-10T16:43:46.319Z"
   },
   {
    "duration": 14,
    "start_time": "2024-05-10T16:43:46.622Z"
   },
   {
    "duration": 23,
    "start_time": "2024-05-10T16:43:46.638Z"
   },
   {
    "duration": 1570,
    "start_time": "2024-05-10T16:43:46.663Z"
   },
   {
    "duration": 8,
    "start_time": "2024-05-10T16:43:48.234Z"
   },
   {
    "duration": 7,
    "start_time": "2024-05-10T16:43:48.242Z"
   },
   {
    "duration": 48,
    "start_time": "2024-05-10T16:43:48.250Z"
   },
   {
    "duration": 7,
    "start_time": "2024-05-10T16:43:48.300Z"
   },
   {
    "duration": 45,
    "start_time": "2024-05-10T16:43:48.309Z"
   },
   {
    "duration": 166,
    "start_time": "2024-05-10T16:43:48.355Z"
   },
   {
    "duration": 20,
    "start_time": "2024-05-10T16:43:48.522Z"
   },
   {
    "duration": 4,
    "start_time": "2024-05-10T16:43:48.543Z"
   },
   {
    "duration": 5,
    "start_time": "2024-05-10T16:43:48.549Z"
   },
   {
    "duration": 531,
    "start_time": "2024-05-10T16:43:48.554Z"
   },
   {
    "duration": 1206,
    "start_time": "2024-05-10T16:43:49.087Z"
   },
   {
    "duration": 2,
    "start_time": "2024-05-10T16:43:50.295Z"
   },
   {
    "duration": 9,
    "start_time": "2024-05-10T16:43:50.298Z"
   },
   {
    "duration": 7,
    "start_time": "2024-05-10T16:43:50.308Z"
   },
   {
    "duration": 109,
    "start_time": "2024-05-10T16:43:50.317Z"
   },
   {
    "duration": 7,
    "start_time": "2024-05-10T16:43:50.427Z"
   },
   {
    "duration": 11,
    "start_time": "2024-05-10T16:43:50.435Z"
   },
   {
    "duration": 88,
    "start_time": "2024-05-10T16:43:50.447Z"
   },
   {
    "duration": 6,
    "start_time": "2024-05-10T16:43:50.536Z"
   },
   {
    "duration": 95,
    "start_time": "2024-05-10T16:43:50.543Z"
   },
   {
    "duration": 7,
    "start_time": "2024-05-10T16:43:50.639Z"
   },
   {
    "duration": 13,
    "start_time": "2024-05-10T16:43:50.647Z"
   },
   {
    "duration": 7,
    "start_time": "2024-05-10T16:43:50.661Z"
   },
   {
    "duration": 102,
    "start_time": "2024-05-10T16:43:50.669Z"
   },
   {
    "duration": 14,
    "start_time": "2024-05-10T16:43:50.772Z"
   },
   {
    "duration": 27,
    "start_time": "2024-05-10T16:43:50.787Z"
   },
   {
    "duration": 97,
    "start_time": "2024-05-10T16:43:50.815Z"
   },
   {
    "duration": 4,
    "start_time": "2024-05-10T16:43:50.913Z"
   },
   {
    "duration": 7,
    "start_time": "2024-05-10T16:43:50.918Z"
   },
   {
    "duration": 1154,
    "start_time": "2024-05-10T16:43:50.926Z"
   },
   {
    "duration": 6,
    "start_time": "2024-05-10T16:43:52.082Z"
   },
   {
    "duration": 26,
    "start_time": "2024-05-10T16:43:52.089Z"
   },
   {
    "duration": 148,
    "start_time": "2024-05-10T16:43:52.116Z"
   },
   {
    "duration": 10,
    "start_time": "2024-05-10T17:14:04.614Z"
   },
   {
    "duration": 5,
    "start_time": "2024-05-10T17:14:39.833Z"
   },
   {
    "duration": 4,
    "start_time": "2024-05-10T17:14:56.694Z"
   },
   {
    "duration": 543,
    "start_time": "2024-05-10T17:15:01.413Z"
   },
   {
    "duration": 115,
    "start_time": "2024-05-10T17:15:01.958Z"
   },
   {
    "duration": 12,
    "start_time": "2024-05-10T17:15:02.075Z"
   },
   {
    "duration": 52,
    "start_time": "2024-05-10T17:15:02.089Z"
   },
   {
    "duration": 1571,
    "start_time": "2024-05-10T17:15:02.142Z"
   },
   {
    "duration": 8,
    "start_time": "2024-05-10T17:15:03.715Z"
   },
   {
    "duration": 21,
    "start_time": "2024-05-10T17:15:03.724Z"
   },
   {
    "duration": 20,
    "start_time": "2024-05-10T17:15:03.746Z"
   },
   {
    "duration": 8,
    "start_time": "2024-05-10T17:15:03.767Z"
   },
   {
    "duration": 8,
    "start_time": "2024-05-10T17:15:03.777Z"
   },
   {
    "duration": 7,
    "start_time": "2024-05-10T17:15:03.786Z"
   },
   {
    "duration": 150,
    "start_time": "2024-05-10T17:15:03.795Z"
   },
   {
    "duration": 20,
    "start_time": "2024-05-10T17:15:03.946Z"
   },
   {
    "duration": 3,
    "start_time": "2024-05-10T17:15:03.967Z"
   },
   {
    "duration": 4,
    "start_time": "2024-05-10T17:15:03.984Z"
   },
   {
    "duration": 532,
    "start_time": "2024-05-10T17:15:03.989Z"
   },
   {
    "duration": 1251,
    "start_time": "2024-05-10T17:15:04.522Z"
   },
   {
    "duration": 3,
    "start_time": "2024-05-10T17:15:05.774Z"
   },
   {
    "duration": 8,
    "start_time": "2024-05-10T17:15:05.783Z"
   },
   {
    "duration": 7,
    "start_time": "2024-05-10T17:15:05.793Z"
   },
   {
    "duration": 106,
    "start_time": "2024-05-10T17:15:05.802Z"
   },
   {
    "duration": 8,
    "start_time": "2024-05-10T17:15:05.909Z"
   },
   {
    "duration": 29,
    "start_time": "2024-05-10T17:15:05.918Z"
   },
   {
    "duration": 101,
    "start_time": "2024-05-10T17:15:05.948Z"
   },
   {
    "duration": 7,
    "start_time": "2024-05-10T17:15:06.050Z"
   },
   {
    "duration": 106,
    "start_time": "2024-05-10T17:15:06.058Z"
   },
   {
    "duration": 7,
    "start_time": "2024-05-10T17:15:06.166Z"
   },
   {
    "duration": 6,
    "start_time": "2024-05-10T17:15:06.184Z"
   },
   {
    "duration": 14,
    "start_time": "2024-05-10T17:15:06.192Z"
   },
   {
    "duration": 90,
    "start_time": "2024-05-10T17:15:06.207Z"
   },
   {
    "duration": 6,
    "start_time": "2024-05-10T17:15:06.298Z"
   },
   {
    "duration": 26,
    "start_time": "2024-05-10T17:15:06.305Z"
   },
   {
    "duration": 116,
    "start_time": "2024-05-10T17:15:06.332Z"
   },
   {
    "duration": 3,
    "start_time": "2024-05-10T17:15:06.450Z"
   },
   {
    "duration": 16,
    "start_time": "2024-05-10T17:15:06.455Z"
   },
   {
    "duration": 1225,
    "start_time": "2024-05-10T17:15:06.472Z"
   },
   {
    "duration": 8,
    "start_time": "2024-05-10T17:15:07.698Z"
   },
   {
    "duration": 18,
    "start_time": "2024-05-10T17:15:07.707Z"
   },
   {
    "duration": 144,
    "start_time": "2024-05-10T17:15:07.726Z"
   },
   {
    "duration": 4,
    "start_time": "2024-05-10T17:22:44.172Z"
   },
   {
    "duration": 5,
    "start_time": "2024-05-10T17:23:03.100Z"
   },
   {
    "duration": 541,
    "start_time": "2024-05-10T17:23:22.093Z"
   },
   {
    "duration": 123,
    "start_time": "2024-05-10T17:23:22.635Z"
   },
   {
    "duration": 14,
    "start_time": "2024-05-10T17:23:22.759Z"
   },
   {
    "duration": 30,
    "start_time": "2024-05-10T17:23:22.775Z"
   },
   {
    "duration": 1507,
    "start_time": "2024-05-10T17:23:22.806Z"
   },
   {
    "duration": 7,
    "start_time": "2024-05-10T17:23:24.315Z"
   },
   {
    "duration": 29,
    "start_time": "2024-05-10T17:23:24.323Z"
   },
   {
    "duration": 48,
    "start_time": "2024-05-10T17:23:24.353Z"
   },
   {
    "duration": 11,
    "start_time": "2024-05-10T17:23:24.403Z"
   },
   {
    "duration": 17,
    "start_time": "2024-05-10T17:23:24.416Z"
   },
   {
    "duration": 157,
    "start_time": "2024-05-10T17:23:24.434Z"
   },
   {
    "duration": 5,
    "start_time": "2024-05-10T17:23:24.593Z"
   },
   {
    "duration": 34,
    "start_time": "2024-05-10T17:23:24.600Z"
   },
   {
    "duration": 15,
    "start_time": "2024-05-10T17:23:24.635Z"
   },
   {
    "duration": 10,
    "start_time": "2024-05-10T17:23:24.651Z"
   },
   {
    "duration": 548,
    "start_time": "2024-05-10T17:23:24.662Z"
   },
   {
    "duration": 1218,
    "start_time": "2024-05-10T17:23:25.211Z"
   },
   {
    "duration": 3,
    "start_time": "2024-05-10T17:23:26.430Z"
   },
   {
    "duration": 28,
    "start_time": "2024-05-10T17:23:26.434Z"
   },
   {
    "duration": 10,
    "start_time": "2024-05-10T17:23:26.463Z"
   },
   {
    "duration": 75,
    "start_time": "2024-05-10T17:23:26.474Z"
   },
   {
    "duration": 7,
    "start_time": "2024-05-10T17:23:26.551Z"
   },
   {
    "duration": 8,
    "start_time": "2024-05-10T17:23:26.559Z"
   },
   {
    "duration": 96,
    "start_time": "2024-05-10T17:23:26.568Z"
   },
   {
    "duration": 7,
    "start_time": "2024-05-10T17:23:26.665Z"
   },
   {
    "duration": 103,
    "start_time": "2024-05-10T17:23:26.673Z"
   },
   {
    "duration": 7,
    "start_time": "2024-05-10T17:23:26.784Z"
   },
   {
    "duration": 9,
    "start_time": "2024-05-10T17:23:26.794Z"
   },
   {
    "duration": 7,
    "start_time": "2024-05-10T17:23:26.804Z"
   },
   {
    "duration": 96,
    "start_time": "2024-05-10T17:23:26.812Z"
   },
   {
    "duration": 6,
    "start_time": "2024-05-10T17:23:26.909Z"
   },
   {
    "duration": 25,
    "start_time": "2024-05-10T17:23:26.916Z"
   },
   {
    "duration": 108,
    "start_time": "2024-05-10T17:23:26.942Z"
   },
   {
    "duration": 4,
    "start_time": "2024-05-10T17:23:27.051Z"
   },
   {
    "duration": 4,
    "start_time": "2024-05-10T17:23:27.056Z"
   },
   {
    "duration": 1168,
    "start_time": "2024-05-10T17:23:27.061Z"
   },
   {
    "duration": 7,
    "start_time": "2024-05-10T17:23:28.230Z"
   },
   {
    "duration": 29,
    "start_time": "2024-05-10T17:23:28.238Z"
   },
   {
    "duration": 124,
    "start_time": "2024-05-10T17:23:28.268Z"
   },
   {
    "duration": 2,
    "start_time": "2024-05-10T17:33:39.675Z"
   },
   {
    "duration": 9,
    "start_time": "2024-05-10T17:39:05.359Z"
   },
   {
    "duration": 526,
    "start_time": "2024-05-10T17:39:10.213Z"
   },
   {
    "duration": 115,
    "start_time": "2024-05-10T17:39:10.741Z"
   },
   {
    "duration": 12,
    "start_time": "2024-05-10T17:39:10.858Z"
   },
   {
    "duration": 22,
    "start_time": "2024-05-10T17:39:10.871Z"
   },
   {
    "duration": 1539,
    "start_time": "2024-05-10T17:39:10.894Z"
   },
   {
    "duration": 8,
    "start_time": "2024-05-10T17:39:12.434Z"
   },
   {
    "duration": 13,
    "start_time": "2024-05-10T17:39:12.443Z"
   },
   {
    "duration": 18,
    "start_time": "2024-05-10T17:39:12.457Z"
   },
   {
    "duration": 7,
    "start_time": "2024-05-10T17:39:12.476Z"
   },
   {
    "duration": 16,
    "start_time": "2024-05-10T17:39:12.484Z"
   },
   {
    "duration": 141,
    "start_time": "2024-05-10T17:39:12.501Z"
   },
   {
    "duration": 20,
    "start_time": "2024-05-10T17:39:12.644Z"
   },
   {
    "duration": 3,
    "start_time": "2024-05-10T17:39:12.665Z"
   },
   {
    "duration": 3,
    "start_time": "2024-05-10T17:39:12.670Z"
   },
   {
    "duration": 537,
    "start_time": "2024-05-10T17:39:12.684Z"
   },
   {
    "duration": 1218,
    "start_time": "2024-05-10T17:39:13.222Z"
   },
   {
    "duration": 2,
    "start_time": "2024-05-10T17:39:14.441Z"
   },
   {
    "duration": 18,
    "start_time": "2024-05-10T17:39:14.445Z"
   },
   {
    "duration": 12,
    "start_time": "2024-05-10T17:39:14.464Z"
   },
   {
    "duration": 76,
    "start_time": "2024-05-10T17:39:14.477Z"
   },
   {
    "duration": 7,
    "start_time": "2024-05-10T17:39:14.554Z"
   },
   {
    "duration": 22,
    "start_time": "2024-05-10T17:39:14.562Z"
   },
   {
    "duration": 81,
    "start_time": "2024-05-10T17:39:14.585Z"
   },
   {
    "duration": 20,
    "start_time": "2024-05-10T17:39:14.667Z"
   },
   {
    "duration": 98,
    "start_time": "2024-05-10T17:39:14.688Z"
   },
   {
    "duration": 6,
    "start_time": "2024-05-10T17:39:14.788Z"
   },
   {
    "duration": 6,
    "start_time": "2024-05-10T17:39:14.795Z"
   },
   {
    "duration": 8,
    "start_time": "2024-05-10T17:39:14.802Z"
   },
   {
    "duration": 101,
    "start_time": "2024-05-10T17:39:14.811Z"
   },
   {
    "duration": 6,
    "start_time": "2024-05-10T17:39:14.913Z"
   },
   {
    "duration": 20,
    "start_time": "2024-05-10T17:39:14.920Z"
   },
   {
    "duration": 9,
    "start_time": "2024-05-10T17:39:14.941Z"
   },
   {
    "duration": 118,
    "start_time": "2024-05-10T17:39:14.952Z"
   },
   {
    "duration": 4,
    "start_time": "2024-05-10T17:39:15.072Z"
   },
   {
    "duration": 19,
    "start_time": "2024-05-10T17:39:15.084Z"
   },
   {
    "duration": 1183,
    "start_time": "2024-05-10T17:39:15.104Z"
   },
   {
    "duration": 6,
    "start_time": "2024-05-10T17:39:16.288Z"
   },
   {
    "duration": 16,
    "start_time": "2024-05-10T17:39:16.295Z"
   },
   {
    "duration": 131,
    "start_time": "2024-05-10T17:39:16.312Z"
   },
   {
    "duration": 88,
    "start_time": "2024-05-10T18:12:31.250Z"
   },
   {
    "duration": 696,
    "start_time": "2024-06-17T19:32:40.604Z"
   },
   {
    "duration": 244,
    "start_time": "2024-06-17T19:32:41.302Z"
   },
   {
    "duration": 16,
    "start_time": "2024-06-17T19:32:41.548Z"
   },
   {
    "duration": 25,
    "start_time": "2024-06-17T19:32:41.565Z"
   },
   {
    "duration": 1807,
    "start_time": "2024-06-17T19:32:41.592Z"
   },
   {
    "duration": 13,
    "start_time": "2024-06-17T19:32:43.401Z"
   },
   {
    "duration": 26,
    "start_time": "2024-06-17T19:32:43.415Z"
   },
   {
    "duration": 22,
    "start_time": "2024-06-17T19:32:43.442Z"
   },
   {
    "duration": 12,
    "start_time": "2024-06-17T19:32:43.466Z"
   },
   {
    "duration": 9,
    "start_time": "2024-06-17T19:32:43.482Z"
   },
   {
    "duration": 75,
    "start_time": "2024-06-17T19:32:43.493Z"
   },
   {
    "duration": 23,
    "start_time": "2024-06-17T19:32:43.570Z"
   },
   {
    "duration": 20,
    "start_time": "2024-06-17T19:32:43.594Z"
   },
   {
    "duration": 199,
    "start_time": "2024-06-17T19:32:43.616Z"
   },
   {
    "duration": 10,
    "start_time": "2024-06-17T19:32:43.816Z"
   },
   {
    "duration": 35,
    "start_time": "2024-06-17T19:32:43.827Z"
   },
   {
    "duration": 3,
    "start_time": "2024-06-17T19:32:43.863Z"
   },
   {
    "duration": 4,
    "start_time": "2024-06-17T19:32:43.867Z"
   },
   {
    "duration": 579,
    "start_time": "2024-06-17T19:32:43.872Z"
   },
   {
    "duration": 1392,
    "start_time": "2024-06-17T19:32:44.453Z"
   },
   {
    "duration": 3,
    "start_time": "2024-06-17T19:32:45.847Z"
   },
   {
    "duration": 20,
    "start_time": "2024-06-17T19:32:45.851Z"
   },
   {
    "duration": 19,
    "start_time": "2024-06-17T19:32:45.872Z"
   },
   {
    "duration": 103,
    "start_time": "2024-06-17T19:32:45.892Z"
   },
   {
    "duration": 134,
    "start_time": "2024-06-17T19:32:45.996Z"
   },
   {
    "duration": 16,
    "start_time": "2024-06-17T19:32:46.131Z"
   },
   {
    "duration": 52,
    "start_time": "2024-06-17T19:32:46.148Z"
   },
   {
    "duration": 45,
    "start_time": "2024-06-17T19:32:46.204Z"
   },
   {
    "duration": 166,
    "start_time": "2024-06-17T19:32:46.251Z"
   },
   {
    "duration": 5,
    "start_time": "2024-06-17T19:32:46.418Z"
   },
   {
    "duration": 183,
    "start_time": "2024-06-17T19:32:46.424Z"
   },
   {
    "duration": 9,
    "start_time": "2024-06-17T19:32:46.609Z"
   },
   {
    "duration": 45,
    "start_time": "2024-06-17T19:32:46.619Z"
   },
   {
    "duration": 81,
    "start_time": "2024-06-17T19:32:46.665Z"
   },
   {
    "duration": 45,
    "start_time": "2024-06-17T19:32:46.748Z"
   },
   {
    "duration": 156,
    "start_time": "2024-06-17T19:32:46.795Z"
   },
   {
    "duration": 8,
    "start_time": "2024-06-17T19:32:46.952Z"
   },
   {
    "duration": 259,
    "start_time": "2024-06-17T19:32:46.962Z"
   },
   {
    "duration": 10,
    "start_time": "2024-06-17T19:32:47.223Z"
   },
   {
    "duration": 44,
    "start_time": "2024-06-17T19:32:47.234Z"
   },
   {
    "duration": 28,
    "start_time": "2024-06-17T19:32:47.279Z"
   },
   {
    "duration": 11,
    "start_time": "2024-06-17T19:32:47.308Z"
   },
   {
    "duration": 105,
    "start_time": "2024-06-17T19:32:47.320Z"
   },
   {
    "duration": 138,
    "start_time": "2024-06-17T19:32:47.427Z"
   },
   {
    "duration": 7,
    "start_time": "2024-06-17T19:32:47.566Z"
   },
   {
    "duration": 30,
    "start_time": "2024-06-17T19:32:47.575Z"
   },
   {
    "duration": 39,
    "start_time": "2024-06-17T19:32:47.606Z"
   },
   {
    "duration": 144,
    "start_time": "2024-06-17T19:32:47.646Z"
   },
   {
    "duration": 110,
    "start_time": "2024-06-17T19:32:47.791Z"
   },
   {
    "duration": 9,
    "start_time": "2024-06-17T19:32:47.904Z"
   },
   {
    "duration": 25,
    "start_time": "2024-06-17T19:32:47.915Z"
   },
   {
    "duration": 19,
    "start_time": "2024-06-17T19:32:47.941Z"
   },
   {
    "duration": 67596,
    "start_time": "2024-06-17T19:32:47.962Z"
   },
   {
    "duration": 9,
    "start_time": "2024-06-17T19:33:55.559Z"
   },
   {
    "duration": 206,
    "start_time": "2024-06-17T19:33:55.570Z"
   },
   {
    "duration": 160,
    "start_time": "2024-06-17T19:33:55.778Z"
   },
   {
    "duration": 11,
    "start_time": "2024-06-17T19:33:58.730Z"
   },
   {
    "duration": 12,
    "start_time": "2024-06-17T19:36:13.909Z"
   },
   {
    "duration": 665,
    "start_time": "2024-06-17T19:36:18.530Z"
   },
   {
    "duration": 130,
    "start_time": "2024-06-17T19:36:19.196Z"
   },
   {
    "duration": 14,
    "start_time": "2024-06-17T19:36:19.327Z"
   },
   {
    "duration": 24,
    "start_time": "2024-06-17T19:36:19.343Z"
   },
   {
    "duration": 1759,
    "start_time": "2024-06-17T19:36:19.368Z"
   },
   {
    "duration": 9,
    "start_time": "2024-06-17T19:36:21.128Z"
   },
   {
    "duration": 24,
    "start_time": "2024-06-17T19:36:21.138Z"
   },
   {
    "duration": 27,
    "start_time": "2024-06-17T19:36:21.163Z"
   },
   {
    "duration": 18,
    "start_time": "2024-06-17T19:36:21.192Z"
   },
   {
    "duration": 7,
    "start_time": "2024-06-17T19:36:21.212Z"
   },
   {
    "duration": 48,
    "start_time": "2024-06-17T19:36:21.220Z"
   },
   {
    "duration": 11,
    "start_time": "2024-06-17T19:36:21.270Z"
   },
   {
    "duration": 8,
    "start_time": "2024-06-17T19:36:21.282Z"
   },
   {
    "duration": 174,
    "start_time": "2024-06-17T19:36:21.291Z"
   },
   {
    "duration": 11,
    "start_time": "2024-06-17T19:36:21.466Z"
   },
   {
    "duration": 32,
    "start_time": "2024-06-17T19:36:21.479Z"
   },
   {
    "duration": 13,
    "start_time": "2024-06-17T19:36:21.513Z"
   },
   {
    "duration": 12,
    "start_time": "2024-06-17T19:36:21.527Z"
   },
   {
    "duration": 613,
    "start_time": "2024-06-17T19:36:21.545Z"
   },
   {
    "duration": 1456,
    "start_time": "2024-06-17T19:36:22.159Z"
   },
   {
    "duration": 13,
    "start_time": "2024-06-17T19:36:23.616Z"
   },
   {
    "duration": 15,
    "start_time": "2024-06-17T19:36:23.630Z"
   },
   {
    "duration": 18,
    "start_time": "2024-06-17T19:36:23.646Z"
   },
   {
    "duration": 9,
    "start_time": "2024-06-17T19:36:23.665Z"
   },
   {
    "duration": 105,
    "start_time": "2024-06-17T19:36:23.675Z"
   },
   {
    "duration": 136,
    "start_time": "2024-06-17T19:36:23.781Z"
   },
   {
    "duration": 8,
    "start_time": "2024-06-17T19:36:23.918Z"
   },
   {
    "duration": 22,
    "start_time": "2024-06-17T19:36:23.929Z"
   },
   {
    "duration": 10,
    "start_time": "2024-06-17T19:36:23.952Z"
   },
   {
    "duration": 118,
    "start_time": "2024-06-17T19:36:23.963Z"
   },
   {
    "duration": 4,
    "start_time": "2024-06-17T19:36:24.082Z"
   },
   {
    "duration": 158,
    "start_time": "2024-06-17T19:36:24.087Z"
   },
   {
    "duration": 8,
    "start_time": "2024-06-17T19:36:24.247Z"
   },
   {
    "duration": 33,
    "start_time": "2024-06-17T19:36:24.256Z"
   },
   {
    "duration": 22,
    "start_time": "2024-06-17T19:36:24.291Z"
   },
   {
    "duration": 18,
    "start_time": "2024-06-17T19:36:24.315Z"
   },
   {
    "duration": 122,
    "start_time": "2024-06-17T19:36:24.335Z"
   },
   {
    "duration": 10,
    "start_time": "2024-06-17T19:36:24.459Z"
   },
   {
    "duration": 219,
    "start_time": "2024-06-17T19:36:24.470Z"
   },
   {
    "duration": 8,
    "start_time": "2024-06-17T19:36:24.691Z"
   },
   {
    "duration": 28,
    "start_time": "2024-06-17T19:36:24.700Z"
   },
   {
    "duration": 45,
    "start_time": "2024-06-17T19:36:24.729Z"
   },
   {
    "duration": 30,
    "start_time": "2024-06-17T19:36:24.775Z"
   },
   {
    "duration": 110,
    "start_time": "2024-06-17T19:36:24.806Z"
   },
   {
    "duration": 145,
    "start_time": "2024-06-17T19:36:24.918Z"
   },
   {
    "duration": 6,
    "start_time": "2024-06-17T19:36:25.065Z"
   },
   {
    "duration": 19,
    "start_time": "2024-06-17T19:36:25.073Z"
   },
   {
    "duration": 42,
    "start_time": "2024-06-17T19:36:25.093Z"
   },
   {
    "duration": 125,
    "start_time": "2024-06-17T19:36:25.137Z"
   },
   {
    "duration": 109,
    "start_time": "2024-06-17T19:36:25.264Z"
   },
   {
    "duration": 8,
    "start_time": "2024-06-17T19:36:25.374Z"
   },
   {
    "duration": 42,
    "start_time": "2024-06-17T19:36:25.383Z"
   },
   {
    "duration": 23,
    "start_time": "2024-06-17T19:36:25.427Z"
   },
   {
    "duration": 66342,
    "start_time": "2024-06-17T19:36:25.452Z"
   },
   {
    "duration": 8,
    "start_time": "2024-06-17T19:37:31.796Z"
   },
   {
    "duration": 210,
    "start_time": "2024-06-17T19:37:31.806Z"
   },
   {
    "duration": 145,
    "start_time": "2024-06-17T19:37:32.018Z"
   },
   {
    "duration": 12,
    "start_time": "2024-06-17T19:38:15.939Z"
   },
   {
    "duration": 578,
    "start_time": "2024-06-17T19:38:19.667Z"
   },
   {
    "duration": 121,
    "start_time": "2024-06-17T19:38:20.247Z"
   },
   {
    "duration": 14,
    "start_time": "2024-06-17T19:38:20.369Z"
   },
   {
    "duration": 40,
    "start_time": "2024-06-17T19:38:20.384Z"
   },
   {
    "duration": 1745,
    "start_time": "2024-06-17T19:38:20.426Z"
   },
   {
    "duration": 8,
    "start_time": "2024-06-17T19:38:22.172Z"
   },
   {
    "duration": 48,
    "start_time": "2024-06-17T19:38:22.182Z"
   },
   {
    "duration": 70,
    "start_time": "2024-06-17T19:38:22.232Z"
   },
   {
    "duration": 24,
    "start_time": "2024-06-17T19:38:22.304Z"
   },
   {
    "duration": 42,
    "start_time": "2024-06-17T19:38:22.331Z"
   },
   {
    "duration": 73,
    "start_time": "2024-06-17T19:38:22.374Z"
   },
   {
    "duration": 39,
    "start_time": "2024-06-17T19:38:22.449Z"
   },
   {
    "duration": 51,
    "start_time": "2024-06-17T19:38:22.490Z"
   },
   {
    "duration": 175,
    "start_time": "2024-06-17T19:38:22.542Z"
   },
   {
    "duration": 10,
    "start_time": "2024-06-17T19:38:22.718Z"
   },
   {
    "duration": 31,
    "start_time": "2024-06-17T19:38:22.730Z"
   },
   {
    "duration": 3,
    "start_time": "2024-06-17T19:38:22.763Z"
   },
   {
    "duration": 58,
    "start_time": "2024-06-17T19:38:22.767Z"
   },
   {
    "duration": 575,
    "start_time": "2024-06-17T19:38:22.827Z"
   },
   {
    "duration": 1428,
    "start_time": "2024-06-17T19:38:23.404Z"
   },
   {
    "duration": 24,
    "start_time": "2024-06-17T19:38:24.834Z"
   },
   {
    "duration": 3,
    "start_time": "2024-06-17T19:38:24.860Z"
   },
   {
    "duration": 26,
    "start_time": "2024-06-17T19:38:24.864Z"
   },
   {
    "duration": 24,
    "start_time": "2024-06-17T19:38:24.892Z"
   },
   {
    "duration": 127,
    "start_time": "2024-06-17T19:38:24.918Z"
   },
   {
    "duration": 134,
    "start_time": "2024-06-17T19:38:25.047Z"
   },
   {
    "duration": 9,
    "start_time": "2024-06-17T19:38:25.183Z"
   },
   {
    "duration": 33,
    "start_time": "2024-06-17T19:38:25.195Z"
   },
   {
    "duration": 13,
    "start_time": "2024-06-17T19:38:25.229Z"
   },
   {
    "duration": 132,
    "start_time": "2024-06-17T19:38:25.243Z"
   },
   {
    "duration": 4,
    "start_time": "2024-06-17T19:38:25.377Z"
   },
   {
    "duration": 208,
    "start_time": "2024-06-17T19:38:25.383Z"
   },
   {
    "duration": 8,
    "start_time": "2024-06-17T19:38:25.593Z"
   },
   {
    "duration": 19,
    "start_time": "2024-06-17T19:38:25.603Z"
   },
   {
    "duration": 12,
    "start_time": "2024-06-17T19:38:25.623Z"
   },
   {
    "duration": 18,
    "start_time": "2024-06-17T19:38:25.636Z"
   },
   {
    "duration": 114,
    "start_time": "2024-06-17T19:38:25.655Z"
   },
   {
    "duration": 7,
    "start_time": "2024-06-17T19:38:25.771Z"
   },
   {
    "duration": 247,
    "start_time": "2024-06-17T19:38:25.780Z"
   },
   {
    "duration": 7,
    "start_time": "2024-06-17T19:38:26.028Z"
   },
   {
    "duration": 12,
    "start_time": "2024-06-17T19:38:26.037Z"
   },
   {
    "duration": 6,
    "start_time": "2024-06-17T19:38:26.050Z"
   },
   {
    "duration": 14,
    "start_time": "2024-06-17T19:38:26.057Z"
   },
   {
    "duration": 99,
    "start_time": "2024-06-17T19:38:26.073Z"
   },
   {
    "duration": 132,
    "start_time": "2024-06-17T19:38:26.174Z"
   },
   {
    "duration": 7,
    "start_time": "2024-06-17T19:38:26.308Z"
   },
   {
    "duration": 9,
    "start_time": "2024-06-17T19:38:26.316Z"
   },
   {
    "duration": 31,
    "start_time": "2024-06-17T19:38:26.327Z"
   },
   {
    "duration": 131,
    "start_time": "2024-06-17T19:38:26.359Z"
   },
   {
    "duration": 105,
    "start_time": "2024-06-17T19:38:26.492Z"
   },
   {
    "duration": 7,
    "start_time": "2024-06-17T19:38:26.599Z"
   },
   {
    "duration": 17,
    "start_time": "2024-06-17T19:38:26.607Z"
   },
   {
    "duration": 12,
    "start_time": "2024-06-17T19:38:26.625Z"
   },
   {
    "duration": 8,
    "start_time": "2024-06-17T19:38:26.638Z"
   },
   {
    "duration": 66286,
    "start_time": "2024-06-17T19:38:26.647Z"
   },
   {
    "duration": 15,
    "start_time": "2024-06-17T19:39:32.935Z"
   },
   {
    "duration": 201,
    "start_time": "2024-06-17T19:39:32.951Z"
   },
   {
    "duration": 152,
    "start_time": "2024-06-17T19:39:33.153Z"
   },
   {
    "duration": 13,
    "start_time": "2024-06-17T19:48:47.674Z"
   },
   {
    "duration": 614,
    "start_time": "2024-06-17T19:48:52.046Z"
   },
   {
    "duration": 121,
    "start_time": "2024-06-17T19:48:52.662Z"
   },
   {
    "duration": 14,
    "start_time": "2024-06-17T19:48:52.784Z"
   },
   {
    "duration": 25,
    "start_time": "2024-06-17T19:48:52.800Z"
   },
   {
    "duration": 1880,
    "start_time": "2024-06-17T19:48:52.827Z"
   },
   {
    "duration": 9,
    "start_time": "2024-06-17T19:48:54.708Z"
   },
   {
    "duration": 21,
    "start_time": "2024-06-17T19:48:54.719Z"
   },
   {
    "duration": 21,
    "start_time": "2024-06-17T19:48:54.742Z"
   },
   {
    "duration": 11,
    "start_time": "2024-06-17T19:48:54.765Z"
   },
   {
    "duration": 11,
    "start_time": "2024-06-17T19:48:54.778Z"
   },
   {
    "duration": 63,
    "start_time": "2024-06-17T19:48:54.790Z"
   },
   {
    "duration": 12,
    "start_time": "2024-06-17T19:48:54.855Z"
   },
   {
    "duration": 8,
    "start_time": "2024-06-17T19:48:54.869Z"
   },
   {
    "duration": 175,
    "start_time": "2024-06-17T19:48:54.878Z"
   },
   {
    "duration": 9,
    "start_time": "2024-06-17T19:48:55.055Z"
   },
   {
    "duration": 52,
    "start_time": "2024-06-17T19:48:55.066Z"
   },
   {
    "duration": 14,
    "start_time": "2024-06-17T19:48:55.120Z"
   },
   {
    "duration": 32,
    "start_time": "2024-06-17T19:48:55.135Z"
   },
   {
    "duration": 565,
    "start_time": "2024-06-17T19:48:55.168Z"
   },
   {
    "duration": 1432,
    "start_time": "2024-06-17T19:48:55.735Z"
   },
   {
    "duration": 16,
    "start_time": "2024-06-17T19:48:57.169Z"
   },
   {
    "duration": 3,
    "start_time": "2024-06-17T19:48:57.187Z"
   },
   {
    "duration": 10,
    "start_time": "2024-06-17T19:48:57.191Z"
   },
   {
    "duration": 9,
    "start_time": "2024-06-17T19:48:57.202Z"
   },
   {
    "duration": 143,
    "start_time": "2024-06-17T19:48:57.212Z"
   },
   {
    "duration": 168,
    "start_time": "2024-06-17T19:48:57.357Z"
   },
   {
    "duration": 9,
    "start_time": "2024-06-17T19:48:57.526Z"
   },
   {
    "duration": 15,
    "start_time": "2024-06-17T19:48:57.539Z"
   },
   {
    "duration": 10,
    "start_time": "2024-06-17T19:48:57.556Z"
   },
   {
    "duration": 143,
    "start_time": "2024-06-17T19:48:57.568Z"
   },
   {
    "duration": 4,
    "start_time": "2024-06-17T19:48:57.713Z"
   },
   {
    "duration": 152,
    "start_time": "2024-06-17T19:48:57.719Z"
   },
   {
    "duration": 9,
    "start_time": "2024-06-17T19:48:57.873Z"
   },
   {
    "duration": 8,
    "start_time": "2024-06-17T19:48:57.883Z"
   },
   {
    "duration": 8,
    "start_time": "2024-06-17T19:48:57.892Z"
   },
   {
    "duration": 12,
    "start_time": "2024-06-17T19:48:57.901Z"
   },
   {
    "duration": 18,
    "start_time": "2024-06-17T19:48:57.915Z"
   },
   {
    "duration": 116,
    "start_time": "2024-06-17T19:48:57.946Z"
   },
   {
    "duration": 9,
    "start_time": "2024-06-17T19:48:58.063Z"
   },
   {
    "duration": 219,
    "start_time": "2024-06-17T19:48:58.073Z"
   },
   {
    "duration": 7,
    "start_time": "2024-06-17T19:48:58.294Z"
   },
   {
    "duration": 9,
    "start_time": "2024-06-17T19:48:58.303Z"
   },
   {
    "duration": 5,
    "start_time": "2024-06-17T19:48:58.313Z"
   },
   {
    "duration": 26,
    "start_time": "2024-06-17T19:48:58.319Z"
   },
   {
    "duration": 108,
    "start_time": "2024-06-17T19:48:58.347Z"
   },
   {
    "duration": 138,
    "start_time": "2024-06-17T19:48:58.457Z"
   },
   {
    "duration": 8,
    "start_time": "2024-06-17T19:48:58.597Z"
   },
   {
    "duration": 15,
    "start_time": "2024-06-17T19:48:58.606Z"
   },
   {
    "duration": 31,
    "start_time": "2024-06-17T19:48:58.623Z"
   },
   {
    "duration": 139,
    "start_time": "2024-06-17T19:48:58.656Z"
   },
   {
    "duration": 117,
    "start_time": "2024-06-17T19:48:58.797Z"
   },
   {
    "duration": 10,
    "start_time": "2024-06-17T19:48:58.916Z"
   },
   {
    "duration": 5,
    "start_time": "2024-06-17T19:48:58.928Z"
   },
   {
    "duration": 14,
    "start_time": "2024-06-17T19:48:58.934Z"
   },
   {
    "duration": 67024,
    "start_time": "2024-06-17T19:48:58.949Z"
   },
   {
    "duration": 8,
    "start_time": "2024-06-17T19:50:05.975Z"
   },
   {
    "duration": 193,
    "start_time": "2024-06-17T19:50:05.984Z"
   },
   {
    "duration": 135,
    "start_time": "2024-06-17T19:50:06.179Z"
   },
   {
    "duration": 12,
    "start_time": "2024-06-17T19:50:13.270Z"
   },
   {
    "duration": 657,
    "start_time": "2024-06-17T19:50:17.562Z"
   },
   {
    "duration": 130,
    "start_time": "2024-06-17T19:50:18.245Z"
   },
   {
    "duration": 18,
    "start_time": "2024-06-17T19:50:18.379Z"
   },
   {
    "duration": 26,
    "start_time": "2024-06-17T19:50:18.399Z"
   },
   {
    "duration": 1804,
    "start_time": "2024-06-17T19:50:18.427Z"
   },
   {
    "duration": 16,
    "start_time": "2024-06-17T19:50:20.232Z"
   },
   {
    "duration": 17,
    "start_time": "2024-06-17T19:50:20.250Z"
   },
   {
    "duration": 24,
    "start_time": "2024-06-17T19:50:20.269Z"
   },
   {
    "duration": 11,
    "start_time": "2024-06-17T19:50:20.295Z"
   },
   {
    "duration": 20,
    "start_time": "2024-06-17T19:50:20.307Z"
   },
   {
    "duration": 64,
    "start_time": "2024-06-17T19:50:20.328Z"
   },
   {
    "duration": 12,
    "start_time": "2024-06-17T19:50:20.393Z"
   },
   {
    "duration": 8,
    "start_time": "2024-06-17T19:50:20.408Z"
   },
   {
    "duration": 178,
    "start_time": "2024-06-17T19:50:20.417Z"
   },
   {
    "duration": 10,
    "start_time": "2024-06-17T19:50:20.597Z"
   },
   {
    "duration": 39,
    "start_time": "2024-06-17T19:50:20.608Z"
   },
   {
    "duration": 2,
    "start_time": "2024-06-17T19:50:20.648Z"
   },
   {
    "duration": 5,
    "start_time": "2024-06-17T19:50:20.652Z"
   },
   {
    "duration": 578,
    "start_time": "2024-06-17T19:50:20.658Z"
   },
   {
    "duration": 1409,
    "start_time": "2024-06-17T19:50:21.238Z"
   },
   {
    "duration": 13,
    "start_time": "2024-06-17T19:50:22.649Z"
   },
   {
    "duration": 3,
    "start_time": "2024-06-17T19:50:22.663Z"
   },
   {
    "duration": 10,
    "start_time": "2024-06-17T19:50:22.667Z"
   },
   {
    "duration": 10,
    "start_time": "2024-06-17T19:50:22.678Z"
   },
   {
    "duration": 116,
    "start_time": "2024-06-17T19:50:22.689Z"
   },
   {
    "duration": 141,
    "start_time": "2024-06-17T19:50:22.806Z"
   },
   {
    "duration": 8,
    "start_time": "2024-06-17T19:50:22.948Z"
   },
   {
    "duration": 10,
    "start_time": "2024-06-17T19:50:22.958Z"
   },
   {
    "duration": 10,
    "start_time": "2024-06-17T19:50:22.969Z"
   },
   {
    "duration": 124,
    "start_time": "2024-06-17T19:50:22.980Z"
   },
   {
    "duration": 4,
    "start_time": "2024-06-17T19:50:23.105Z"
   },
   {
    "duration": 170,
    "start_time": "2024-06-17T19:50:23.110Z"
   },
   {
    "duration": 8,
    "start_time": "2024-06-17T19:50:23.282Z"
   },
   {
    "duration": 23,
    "start_time": "2024-06-17T19:50:23.291Z"
   },
   {
    "duration": 21,
    "start_time": "2024-06-17T19:50:23.315Z"
   },
   {
    "duration": 17,
    "start_time": "2024-06-17T19:50:23.337Z"
   },
   {
    "duration": 17,
    "start_time": "2024-06-17T19:50:23.355Z"
   },
   {
    "duration": 117,
    "start_time": "2024-06-17T19:50:23.373Z"
   },
   {
    "duration": 8,
    "start_time": "2024-06-17T19:50:23.492Z"
   },
   {
    "duration": 216,
    "start_time": "2024-06-17T19:50:23.504Z"
   },
   {
    "duration": 8,
    "start_time": "2024-06-17T19:50:23.722Z"
   },
   {
    "duration": 19,
    "start_time": "2024-06-17T19:50:23.731Z"
   },
   {
    "duration": 32,
    "start_time": "2024-06-17T19:50:23.751Z"
   },
   {
    "duration": 50,
    "start_time": "2024-06-17T19:50:23.785Z"
   },
   {
    "duration": 121,
    "start_time": "2024-06-17T19:50:23.836Z"
   },
   {
    "duration": 13,
    "start_time": "2024-06-17T19:50:23.958Z"
   },
   {
    "duration": 148,
    "start_time": "2024-06-17T19:50:23.972Z"
   },
   {
    "duration": 7,
    "start_time": "2024-06-17T19:50:24.121Z"
   },
   {
    "duration": 27,
    "start_time": "2024-06-17T19:50:24.129Z"
   },
   {
    "duration": 34,
    "start_time": "2024-06-17T19:50:24.157Z"
   },
   {
    "duration": 138,
    "start_time": "2024-06-17T19:50:24.193Z"
   },
   {
    "duration": 115,
    "start_time": "2024-06-17T19:50:24.332Z"
   },
   {
    "duration": 8,
    "start_time": "2024-06-17T19:50:24.448Z"
   },
   {
    "duration": 24,
    "start_time": "2024-06-17T19:50:24.457Z"
   },
   {
    "duration": 31,
    "start_time": "2024-06-17T19:50:24.482Z"
   },
   {
    "duration": 65839,
    "start_time": "2024-06-17T19:50:24.514Z"
   },
   {
    "duration": 8,
    "start_time": "2024-06-17T19:51:30.355Z"
   },
   {
    "duration": 212,
    "start_time": "2024-06-17T19:51:30.365Z"
   },
   {
    "duration": 145,
    "start_time": "2024-06-17T19:51:30.579Z"
   },
   {
    "duration": 166,
    "start_time": "2024-06-17T20:13:07.199Z"
   },
   {
    "duration": 78,
    "start_time": "2024-06-17T20:24:57.592Z"
   },
   {
    "duration": 75,
    "start_time": "2024-06-17T20:30:17.801Z"
   },
   {
    "duration": 813,
    "start_time": "2024-06-20T18:21:55.137Z"
   },
   {
    "duration": 319,
    "start_time": "2024-06-20T18:21:55.952Z"
   },
   {
    "duration": 18,
    "start_time": "2024-06-20T18:21:56.273Z"
   },
   {
    "duration": 30,
    "start_time": "2024-06-20T18:21:56.293Z"
   },
   {
    "duration": 2135,
    "start_time": "2024-06-20T18:21:56.325Z"
   },
   {
    "duration": 10,
    "start_time": "2024-06-20T18:21:58.461Z"
   },
   {
    "duration": 25,
    "start_time": "2024-06-20T18:21:58.472Z"
   },
   {
    "duration": 26,
    "start_time": "2024-06-20T18:21:58.499Z"
   },
   {
    "duration": 13,
    "start_time": "2024-06-20T18:21:58.527Z"
   },
   {
    "duration": 15,
    "start_time": "2024-06-20T18:21:58.543Z"
   },
   {
    "duration": 78,
    "start_time": "2024-06-20T18:21:58.560Z"
   },
   {
    "duration": 24,
    "start_time": "2024-06-20T18:21:58.640Z"
   },
   {
    "duration": 28,
    "start_time": "2024-06-20T18:21:58.666Z"
   },
   {
    "duration": 191,
    "start_time": "2024-06-20T18:21:58.696Z"
   },
   {
    "duration": 12,
    "start_time": "2024-06-20T18:21:58.889Z"
   },
   {
    "duration": 28,
    "start_time": "2024-06-20T18:21:58.902Z"
   },
   {
    "duration": 3,
    "start_time": "2024-06-20T18:21:58.932Z"
   },
   {
    "duration": 25,
    "start_time": "2024-06-20T18:21:58.936Z"
   },
   {
    "duration": 639,
    "start_time": "2024-06-20T18:21:58.963Z"
   },
   {
    "duration": 1772,
    "start_time": "2024-06-20T18:21:59.604Z"
   },
   {
    "duration": 3,
    "start_time": "2024-06-20T18:22:01.378Z"
   },
   {
    "duration": 87,
    "start_time": "2024-06-20T18:22:01.391Z"
   },
   {
    "duration": 107,
    "start_time": "2024-06-20T18:22:01.480Z"
   },
   {
    "duration": 200,
    "start_time": "2024-06-20T18:22:01.588Z"
   },
   {
    "duration": 174,
    "start_time": "2024-06-20T18:22:01.791Z"
   },
   {
    "duration": 24,
    "start_time": "2024-06-20T18:22:01.967Z"
   },
   {
    "duration": 194,
    "start_time": "2024-06-20T18:22:01.994Z"
   },
   {
    "duration": 69,
    "start_time": "2024-06-20T18:22:02.192Z"
   },
   {
    "duration": 139,
    "start_time": "2024-06-20T18:22:02.263Z"
   },
   {
    "duration": 4,
    "start_time": "2024-06-20T18:22:02.404Z"
   },
   {
    "duration": 168,
    "start_time": "2024-06-20T18:22:02.409Z"
   },
   {
    "duration": 14,
    "start_time": "2024-06-20T18:22:02.579Z"
   },
   {
    "duration": 11,
    "start_time": "2024-06-20T18:22:02.594Z"
   },
   {
    "duration": 8,
    "start_time": "2024-06-20T18:22:02.607Z"
   },
   {
    "duration": 7,
    "start_time": "2024-06-20T18:22:02.617Z"
   },
   {
    "duration": 140,
    "start_time": "2024-06-20T18:22:02.626Z"
   },
   {
    "duration": 10,
    "start_time": "2024-06-20T18:22:02.768Z"
   },
   {
    "duration": 241,
    "start_time": "2024-06-20T18:22:02.792Z"
   },
   {
    "duration": 8,
    "start_time": "2024-06-20T18:22:03.035Z"
   },
   {
    "duration": 10,
    "start_time": "2024-06-20T18:22:03.045Z"
   },
   {
    "duration": 48,
    "start_time": "2024-06-20T18:22:03.057Z"
   },
   {
    "duration": 4,
    "start_time": "2024-06-20T18:22:03.107Z"
   },
   {
    "duration": 28,
    "start_time": "2024-06-20T18:22:03.113Z"
   },
   {
    "duration": 118,
    "start_time": "2024-06-20T18:22:03.143Z"
   },
   {
    "duration": 166,
    "start_time": "2024-06-20T18:22:03.262Z"
   },
   {
    "duration": 8,
    "start_time": "2024-06-20T18:22:03.430Z"
   },
   {
    "duration": 7,
    "start_time": "2024-06-20T18:22:03.440Z"
   },
   {
    "duration": 16,
    "start_time": "2024-06-20T18:22:03.448Z"
   },
   {
    "duration": 26,
    "start_time": "2024-06-20T18:22:03.491Z"
   },
   {
    "duration": 153,
    "start_time": "2024-06-20T18:22:03.519Z"
   },
   {
    "duration": 146,
    "start_time": "2024-06-20T18:22:03.674Z"
   },
   {
    "duration": 10,
    "start_time": "2024-06-20T18:22:03.823Z"
   },
   {
    "duration": 10,
    "start_time": "2024-06-20T18:22:03.834Z"
   },
   {
    "duration": 4,
    "start_time": "2024-06-20T18:22:03.847Z"
   },
   {
    "duration": 2132,
    "start_time": "2024-06-20T18:22:03.853Z"
   },
   {
    "duration": 15,
    "start_time": "2024-06-20T18:22:05.986Z"
   },
   {
    "duration": 238,
    "start_time": "2024-06-20T18:22:06.003Z"
   },
   {
    "duration": 172,
    "start_time": "2024-06-20T18:22:06.243Z"
   },
   {
    "duration": 15,
    "start_time": "2024-06-20T18:22:22.060Z"
   },
   {
    "duration": 65,
    "start_time": "2024-06-20T18:23:40.842Z"
   },
   {
    "duration": 68,
    "start_time": "2024-06-20T19:34:21.294Z"
   },
   {
    "duration": 71,
    "start_time": "2024-06-20T19:38:32.375Z"
   }
  ],
  "colab": {
   "provenance": []
  },
  "kernelspec": {
   "display_name": "Python 3 (ipykernel)",
   "language": "python",
   "name": "python3"
  },
  "language_info": {
   "codemirror_mode": {
    "name": "ipython",
    "version": 3
   },
   "file_extension": ".py",
   "mimetype": "text/x-python",
   "name": "python",
   "nbconvert_exporter": "python",
   "pygments_lexer": "ipython3",
   "version": "3.12.7"
  },
  "toc": {
   "base_numbering": 1,
   "nav_menu": {},
   "number_sections": true,
   "sideBar": true,
   "skip_h1_title": true,
   "title_cell": "Table of Contents",
   "title_sidebar": "Contents",
   "toc_cell": false,
   "toc_position": {},
   "toc_section_display": true,
   "toc_window_display": false
  }
 },
 "nbformat": 4,
 "nbformat_minor": 4
}
