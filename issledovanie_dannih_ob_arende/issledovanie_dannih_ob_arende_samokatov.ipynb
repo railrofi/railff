{
 "cells": [
  {
   "cell_type": "markdown",
   "metadata": {
    "id": "aMuN4-VTOJ7J"
   },
   "source": [
    "# Исследование данных об аренде самокатов и проверка гипотез"
   ]
  },
  {
   "cell_type": "markdown",
   "metadata": {
    "id": "1D4dzgQuO-9T"
   },
   "source": [
    "1. Контекст задачи: нам предоставлены данные о некоторых пользователях из нескольких городов, а также об их поездках.\n",
    "2. Цель проекта: найти правдоподобные гипотезы, которые могут помочь бизнесу вырасти.\n",
    "3. Наши задачи: выполнить предобработку данных, исследовательский анализ данных, объединить данные, проверить гипотезы.\n",
    "4. Описание данных: В основных данных есть информация о пользователях, их поездках и подписках.\n",
    "\n",
    " ### Пользователи — users_go.csv\n",
    "\n",
    "user_id\tуникальный идентификатор пользователя\n",
    "\n",
    "name\tимя пользователя\n",
    "\n",
    "age\tвозраст\n",
    "\n",
    "city\tгород\n",
    "\n",
    "subscription_type\tтип подписки (free, ultra)\n",
    "\n",
    " ### Поездки — rides_go.csv\n",
    "\n",
    "user_id\tуникальный идентификатор пользователя\n",
    "\n",
    "distance\tрасстояние, которое пользователь проехал в текущей сессии (в метрах)\n",
    "\n",
    "duration\tпродолжительность сессии (в минутах) — время с того момента, как пользователь нажал кнопку «Начать поездку» до момента, как он нажал кнопку «Завершить поездку»\n",
    "\n",
    "date\tдата совершения поездки\n",
    "\n",
    "\n",
    " ### Подписки — subscriptions_go.csv\n",
    "\n",
    "subscription_type\tтип подписки\n",
    "\n",
    "minute_price\tстоимость одной минуты поездки по данной подписке\n",
    "\n",
    "start_ride_price\tстоимость начала поездки\n",
    "\n",
    "subscription_fee\tстоимость ежемесячного платежа"
   ]
  },
  {
   "cell_type": "code",
   "execution_count": 1,
   "metadata": {
    "id": "6lz6uxHibcL7"
   },
   "outputs": [],
   "source": [
    "import pandas as pd\n",
    "import matplotlib.pyplot as plt\n",
    "import numpy as np\n",
    "import seaborn as sns"
   ]
  },
  {
   "cell_type": "markdown",
   "metadata": {
    "id": "ITCsN2UIb6VF"
   },
   "source": [
    "## Загрузка данных и вводная информация"
   ]
  },
  {
   "cell_type": "code",
   "execution_count": 2,
   "metadata": {
    "id": "3RyQ32h0b5VY"
   },
   "outputs": [],
   "source": [
    "import os\n",
    "\n",
    "pth1 = 'users_go.csv'\n",
    "pth2 = '/datasets/users_go.csv'\n",
    "if os.path.exists(pth1):\n",
    "  users = pd.read_csv(pth1)\n",
    "else:\n",
    "  users = pd.read_csv(pth2)\n",
    "\n",
    "pth1 = 'rides_go.csv'\n",
    "pth2 = '/datasets/rides_go.csv'\n",
    "if os.path.exists(pth1):\n",
    "  rides = pd.read_csv(pth1)\n",
    "else:\n",
    "  rides = pd.read_csv(pth2)\n",
    "\n",
    "pth1 = 'subscriptions_go.csv'\n",
    "pth2 = '/datasets/subscriptions_go.csv'\n",
    "if os.path.exists(pth1):\n",
    "  subs = pd.read_csv(pth1)\n",
    "else:\n",
    "  subs = pd.read_csv(pth2)"
   ]
  },
  {
   "cell_type": "code",
   "execution_count": 3,
   "metadata": {
    "colab": {
     "base_uri": "https://localhost:8080/",
     "height": 446
    },
    "id": "bokKwM1ndDw3",
    "outputId": "babe90eb-2153-477f-ee51-e8589ecab070"
   },
   "outputs": [
    {
     "data": {
      "text/html": [
       "<div>\n",
       "<style scoped>\n",
       "    .dataframe tbody tr th:only-of-type {\n",
       "        vertical-align: middle;\n",
       "    }\n",
       "\n",
       "    .dataframe tbody tr th {\n",
       "        vertical-align: top;\n",
       "    }\n",
       "\n",
       "    .dataframe thead th {\n",
       "        text-align: right;\n",
       "    }\n",
       "</style>\n",
       "<table border=\"1\" class=\"dataframe\">\n",
       "  <thead>\n",
       "    <tr style=\"text-align: right;\">\n",
       "      <th></th>\n",
       "      <th>user_id</th>\n",
       "      <th>name</th>\n",
       "      <th>age</th>\n",
       "      <th>city</th>\n",
       "      <th>subscription_type</th>\n",
       "    </tr>\n",
       "  </thead>\n",
       "  <tbody>\n",
       "    <tr>\n",
       "      <th>0</th>\n",
       "      <td>1</td>\n",
       "      <td>Кира</td>\n",
       "      <td>22</td>\n",
       "      <td>Тюмень</td>\n",
       "      <td>ultra</td>\n",
       "    </tr>\n",
       "    <tr>\n",
       "      <th>1</th>\n",
       "      <td>2</td>\n",
       "      <td>Станислав</td>\n",
       "      <td>31</td>\n",
       "      <td>Омск</td>\n",
       "      <td>ultra</td>\n",
       "    </tr>\n",
       "    <tr>\n",
       "      <th>2</th>\n",
       "      <td>3</td>\n",
       "      <td>Алексей</td>\n",
       "      <td>20</td>\n",
       "      <td>Москва</td>\n",
       "      <td>ultra</td>\n",
       "    </tr>\n",
       "    <tr>\n",
       "      <th>3</th>\n",
       "      <td>4</td>\n",
       "      <td>Константин</td>\n",
       "      <td>26</td>\n",
       "      <td>Ростов-на-Дону</td>\n",
       "      <td>ultra</td>\n",
       "    </tr>\n",
       "    <tr>\n",
       "      <th>4</th>\n",
       "      <td>5</td>\n",
       "      <td>Адель</td>\n",
       "      <td>28</td>\n",
       "      <td>Омск</td>\n",
       "      <td>ultra</td>\n",
       "    </tr>\n",
       "  </tbody>\n",
       "</table>\n",
       "</div>"
      ],
      "text/plain": [
       "   user_id        name  age            city subscription_type\n",
       "0        1        Кира   22          Тюмень             ultra\n",
       "1        2   Станислав   31            Омск             ultra\n",
       "2        3     Алексей   20          Москва             ultra\n",
       "3        4  Константин   26  Ростов-на-Дону             ultra\n",
       "4        5       Адель   28            Омск             ultra"
      ]
     },
     "metadata": {},
     "output_type": "display_data"
    },
    {
     "name": "stdout",
     "output_type": "stream",
     "text": [
      "<class 'pandas.core.frame.DataFrame'>\n",
      "RangeIndex: 1565 entries, 0 to 1564\n",
      "Data columns (total 5 columns):\n",
      " #   Column             Non-Null Count  Dtype \n",
      "---  ------             --------------  ----- \n",
      " 0   user_id            1565 non-null   int64 \n",
      " 1   name               1565 non-null   object\n",
      " 2   age                1565 non-null   int64 \n",
      " 3   city               1565 non-null   object\n",
      " 4   subscription_type  1565 non-null   object\n",
      "dtypes: int64(2), object(3)\n",
      "memory usage: 61.3+ KB\n"
     ]
    },
    {
     "data": {
      "text/plain": [
       "None"
      ]
     },
     "metadata": {},
     "output_type": "display_data"
    }
   ],
   "source": [
    "display(users.head())\n",
    "display(users.info())"
   ]
  },
  {
   "cell_type": "code",
   "execution_count": 4,
   "metadata": {
    "colab": {
     "base_uri": "https://localhost:8080/",
     "height": 428
    },
    "id": "y8YGMMuTdGPe",
    "outputId": "0e988f2c-b268-42b0-99fc-14f977846e50"
   },
   "outputs": [
    {
     "data": {
      "text/html": [
       "<div>\n",
       "<style scoped>\n",
       "    .dataframe tbody tr th:only-of-type {\n",
       "        vertical-align: middle;\n",
       "    }\n",
       "\n",
       "    .dataframe tbody tr th {\n",
       "        vertical-align: top;\n",
       "    }\n",
       "\n",
       "    .dataframe thead th {\n",
       "        text-align: right;\n",
       "    }\n",
       "</style>\n",
       "<table border=\"1\" class=\"dataframe\">\n",
       "  <thead>\n",
       "    <tr style=\"text-align: right;\">\n",
       "      <th></th>\n",
       "      <th>user_id</th>\n",
       "      <th>distance</th>\n",
       "      <th>duration</th>\n",
       "      <th>date</th>\n",
       "    </tr>\n",
       "  </thead>\n",
       "  <tbody>\n",
       "    <tr>\n",
       "      <th>0</th>\n",
       "      <td>1</td>\n",
       "      <td>4409.919140</td>\n",
       "      <td>25.599769</td>\n",
       "      <td>2021-01-01</td>\n",
       "    </tr>\n",
       "    <tr>\n",
       "      <th>1</th>\n",
       "      <td>1</td>\n",
       "      <td>2617.592153</td>\n",
       "      <td>15.816871</td>\n",
       "      <td>2021-01-18</td>\n",
       "    </tr>\n",
       "    <tr>\n",
       "      <th>2</th>\n",
       "      <td>1</td>\n",
       "      <td>754.159807</td>\n",
       "      <td>6.232113</td>\n",
       "      <td>2021-04-20</td>\n",
       "    </tr>\n",
       "    <tr>\n",
       "      <th>3</th>\n",
       "      <td>1</td>\n",
       "      <td>2694.783254</td>\n",
       "      <td>18.511000</td>\n",
       "      <td>2021-08-11</td>\n",
       "    </tr>\n",
       "    <tr>\n",
       "      <th>4</th>\n",
       "      <td>1</td>\n",
       "      <td>4028.687306</td>\n",
       "      <td>26.265803</td>\n",
       "      <td>2021-08-28</td>\n",
       "    </tr>\n",
       "  </tbody>\n",
       "</table>\n",
       "</div>"
      ],
      "text/plain": [
       "   user_id     distance   duration        date\n",
       "0        1  4409.919140  25.599769  2021-01-01\n",
       "1        1  2617.592153  15.816871  2021-01-18\n",
       "2        1   754.159807   6.232113  2021-04-20\n",
       "3        1  2694.783254  18.511000  2021-08-11\n",
       "4        1  4028.687306  26.265803  2021-08-28"
      ]
     },
     "metadata": {},
     "output_type": "display_data"
    },
    {
     "name": "stdout",
     "output_type": "stream",
     "text": [
      "<class 'pandas.core.frame.DataFrame'>\n",
      "RangeIndex: 18068 entries, 0 to 18067\n",
      "Data columns (total 4 columns):\n",
      " #   Column    Non-Null Count  Dtype  \n",
      "---  ------    --------------  -----  \n",
      " 0   user_id   18068 non-null  int64  \n",
      " 1   distance  18068 non-null  float64\n",
      " 2   duration  18068 non-null  float64\n",
      " 3   date      18068 non-null  object \n",
      "dtypes: float64(2), int64(1), object(1)\n",
      "memory usage: 564.8+ KB\n"
     ]
    },
    {
     "data": {
      "text/plain": [
       "None"
      ]
     },
     "metadata": {},
     "output_type": "display_data"
    }
   ],
   "source": [
    "display(rides.head())\n",
    "display(rides.info())"
   ]
  },
  {
   "cell_type": "code",
   "execution_count": 5,
   "metadata": {
    "colab": {
     "base_uri": "https://localhost:8080/",
     "height": 334
    },
    "id": "4OD4DbzldRbP",
    "outputId": "9a63a221-d996-4a61-8e1d-2c3d31a18306"
   },
   "outputs": [
    {
     "data": {
      "text/html": [
       "<div>\n",
       "<style scoped>\n",
       "    .dataframe tbody tr th:only-of-type {\n",
       "        vertical-align: middle;\n",
       "    }\n",
       "\n",
       "    .dataframe tbody tr th {\n",
       "        vertical-align: top;\n",
       "    }\n",
       "\n",
       "    .dataframe thead th {\n",
       "        text-align: right;\n",
       "    }\n",
       "</style>\n",
       "<table border=\"1\" class=\"dataframe\">\n",
       "  <thead>\n",
       "    <tr style=\"text-align: right;\">\n",
       "      <th></th>\n",
       "      <th>subscription_type</th>\n",
       "      <th>minute_price</th>\n",
       "      <th>start_ride_price</th>\n",
       "      <th>subscription_fee</th>\n",
       "    </tr>\n",
       "  </thead>\n",
       "  <tbody>\n",
       "    <tr>\n",
       "      <th>0</th>\n",
       "      <td>free</td>\n",
       "      <td>8</td>\n",
       "      <td>50</td>\n",
       "      <td>0</td>\n",
       "    </tr>\n",
       "    <tr>\n",
       "      <th>1</th>\n",
       "      <td>ultra</td>\n",
       "      <td>6</td>\n",
       "      <td>0</td>\n",
       "      <td>199</td>\n",
       "    </tr>\n",
       "  </tbody>\n",
       "</table>\n",
       "</div>"
      ],
      "text/plain": [
       "  subscription_type  minute_price  start_ride_price  subscription_fee\n",
       "0              free             8                50                 0\n",
       "1             ultra             6                 0               199"
      ]
     },
     "metadata": {},
     "output_type": "display_data"
    },
    {
     "name": "stdout",
     "output_type": "stream",
     "text": [
      "<class 'pandas.core.frame.DataFrame'>\n",
      "RangeIndex: 2 entries, 0 to 1\n",
      "Data columns (total 4 columns):\n",
      " #   Column             Non-Null Count  Dtype \n",
      "---  ------             --------------  ----- \n",
      " 0   subscription_type  2 non-null      object\n",
      " 1   minute_price       2 non-null      int64 \n",
      " 2   start_ride_price   2 non-null      int64 \n",
      " 3   subscription_fee   2 non-null      int64 \n",
      "dtypes: int64(3), object(1)\n",
      "memory usage: 192.0+ bytes\n"
     ]
    },
    {
     "data": {
      "text/plain": [
       "None"
      ]
     },
     "metadata": {},
     "output_type": "display_data"
    }
   ],
   "source": [
    "display(subs.head())\n",
    "display(subs.info())"
   ]
  },
  {
   "cell_type": "markdown",
   "metadata": {
    "id": "YT-JqfC7RLYj"
   },
   "source": [
    "Изучили данные из файлов. Никаких проблем не заметили сразу, только несоответствующий тип данных в столбце date в датафрейма subs."
   ]
  },
  {
   "cell_type": "markdown",
   "metadata": {
    "id": "gObEvCC7dXSw"
   },
   "source": [
    "## Предобработка данных"
   ]
  },
  {
   "cell_type": "markdown",
   "metadata": {
    "id": "rSesMchimDr6"
   },
   "source": [
    "### "
   ]
  },
  {
   "cell_type": "code",
   "execution_count": 6,
   "metadata": {
    "colab": {
     "base_uri": "https://localhost:8080/",
     "height": 206
    },
    "id": "XLtp23wCdVvd",
    "outputId": "0d6e9e17-20a3-4c52-bae7-9ef4cbac476b"
   },
   "outputs": [
    {
     "data": {
      "text/html": [
       "<div>\n",
       "<style scoped>\n",
       "    .dataframe tbody tr th:only-of-type {\n",
       "        vertical-align: middle;\n",
       "    }\n",
       "\n",
       "    .dataframe tbody tr th {\n",
       "        vertical-align: top;\n",
       "    }\n",
       "\n",
       "    .dataframe thead th {\n",
       "        text-align: right;\n",
       "    }\n",
       "</style>\n",
       "<table border=\"1\" class=\"dataframe\">\n",
       "  <thead>\n",
       "    <tr style=\"text-align: right;\">\n",
       "      <th></th>\n",
       "      <th>user_id</th>\n",
       "      <th>distance</th>\n",
       "      <th>duration</th>\n",
       "      <th>date</th>\n",
       "    </tr>\n",
       "  </thead>\n",
       "  <tbody>\n",
       "    <tr>\n",
       "      <th>0</th>\n",
       "      <td>1</td>\n",
       "      <td>4409.919140</td>\n",
       "      <td>25.599769</td>\n",
       "      <td>2021-01-01</td>\n",
       "    </tr>\n",
       "    <tr>\n",
       "      <th>1</th>\n",
       "      <td>1</td>\n",
       "      <td>2617.592153</td>\n",
       "      <td>15.816871</td>\n",
       "      <td>2021-01-18</td>\n",
       "    </tr>\n",
       "    <tr>\n",
       "      <th>2</th>\n",
       "      <td>1</td>\n",
       "      <td>754.159807</td>\n",
       "      <td>6.232113</td>\n",
       "      <td>2021-04-20</td>\n",
       "    </tr>\n",
       "    <tr>\n",
       "      <th>3</th>\n",
       "      <td>1</td>\n",
       "      <td>2694.783254</td>\n",
       "      <td>18.511000</td>\n",
       "      <td>2021-08-11</td>\n",
       "    </tr>\n",
       "    <tr>\n",
       "      <th>4</th>\n",
       "      <td>1</td>\n",
       "      <td>4028.687306</td>\n",
       "      <td>26.265803</td>\n",
       "      <td>2021-08-28</td>\n",
       "    </tr>\n",
       "  </tbody>\n",
       "</table>\n",
       "</div>"
      ],
      "text/plain": [
       "   user_id     distance   duration       date\n",
       "0        1  4409.919140  25.599769 2021-01-01\n",
       "1        1  2617.592153  15.816871 2021-01-18\n",
       "2        1   754.159807   6.232113 2021-04-20\n",
       "3        1  2694.783254  18.511000 2021-08-11\n",
       "4        1  4028.687306  26.265803 2021-08-28"
      ]
     },
     "execution_count": 6,
     "metadata": {},
     "output_type": "execute_result"
    }
   ],
   "source": [
    "rides['date'] = pd.to_datetime(rides['date'], format = '%Y-%m-%d')\n",
    "rides.head()"
   ]
  },
  {
   "cell_type": "markdown",
   "metadata": {
    "id": "AWqcqZSLRuh7"
   },
   "source": [
    "Поменяли тип данных в столбце date, теперь жизнь явно лучше!"
   ]
  },
  {
   "cell_type": "markdown",
   "metadata": {
    "id": "rKTJ4FEBmNuS"
   },
   "source": [
    "### "
   ]
  },
  {
   "cell_type": "code",
   "execution_count": 7,
   "metadata": {
    "colab": {
     "base_uri": "https://localhost:8080/",
     "height": 206
    },
    "id": "_MdQPqWqmJi9",
    "outputId": "66e9ebfe-c036-4dbc-8751-02162a892c37"
   },
   "outputs": [
    {
     "data": {
      "text/html": [
       "<div>\n",
       "<style scoped>\n",
       "    .dataframe tbody tr th:only-of-type {\n",
       "        vertical-align: middle;\n",
       "    }\n",
       "\n",
       "    .dataframe tbody tr th {\n",
       "        vertical-align: top;\n",
       "    }\n",
       "\n",
       "    .dataframe thead th {\n",
       "        text-align: right;\n",
       "    }\n",
       "</style>\n",
       "<table border=\"1\" class=\"dataframe\">\n",
       "  <thead>\n",
       "    <tr style=\"text-align: right;\">\n",
       "      <th></th>\n",
       "      <th>user_id</th>\n",
       "      <th>distance</th>\n",
       "      <th>duration</th>\n",
       "      <th>date</th>\n",
       "      <th>date_m</th>\n",
       "    </tr>\n",
       "  </thead>\n",
       "  <tbody>\n",
       "    <tr>\n",
       "      <th>0</th>\n",
       "      <td>1</td>\n",
       "      <td>4409.919140</td>\n",
       "      <td>25.599769</td>\n",
       "      <td>2021-01-01</td>\n",
       "      <td>1</td>\n",
       "    </tr>\n",
       "    <tr>\n",
       "      <th>1</th>\n",
       "      <td>1</td>\n",
       "      <td>2617.592153</td>\n",
       "      <td>15.816871</td>\n",
       "      <td>2021-01-18</td>\n",
       "      <td>1</td>\n",
       "    </tr>\n",
       "    <tr>\n",
       "      <th>2</th>\n",
       "      <td>1</td>\n",
       "      <td>754.159807</td>\n",
       "      <td>6.232113</td>\n",
       "      <td>2021-04-20</td>\n",
       "      <td>4</td>\n",
       "    </tr>\n",
       "    <tr>\n",
       "      <th>3</th>\n",
       "      <td>1</td>\n",
       "      <td>2694.783254</td>\n",
       "      <td>18.511000</td>\n",
       "      <td>2021-08-11</td>\n",
       "      <td>8</td>\n",
       "    </tr>\n",
       "    <tr>\n",
       "      <th>4</th>\n",
       "      <td>1</td>\n",
       "      <td>4028.687306</td>\n",
       "      <td>26.265803</td>\n",
       "      <td>2021-08-28</td>\n",
       "      <td>8</td>\n",
       "    </tr>\n",
       "  </tbody>\n",
       "</table>\n",
       "</div>"
      ],
      "text/plain": [
       "   user_id     distance   duration       date  date_m\n",
       "0        1  4409.919140  25.599769 2021-01-01       1\n",
       "1        1  2617.592153  15.816871 2021-01-18       1\n",
       "2        1   754.159807   6.232113 2021-04-20       4\n",
       "3        1  2694.783254  18.511000 2021-08-11       8\n",
       "4        1  4028.687306  26.265803 2021-08-28       8"
      ]
     },
     "execution_count": 7,
     "metadata": {},
     "output_type": "execute_result"
    }
   ],
   "source": [
    "rides['date_m'] = pd.DatetimeIndex(rides['date']).month\n",
    "rides.head()"
   ]
  },
  {
   "cell_type": "markdown",
   "metadata": {
    "id": "FoxZRxwBmUj_"
   },
   "source": [
    "Создали новый столбец \"date_m\" с номером месяца на основе столбца date."
   ]
  },
  {
   "cell_type": "markdown",
   "metadata": {
    "id": "lA8UQn6LoY_9"
   },
   "source": [
    "Проверим так же, не \"склеились\" ли данные в случае, если нам дан не один год."
   ]
  },
  {
   "cell_type": "code",
   "execution_count": 8,
   "metadata": {
    "colab": {
     "base_uri": "https://localhost:8080/",
     "height": 72
    },
    "id": "WnPDWpn3n49y",
    "outputId": "129aecca-af7f-4597-b964-4c0e2e75fa20"
   },
   "outputs": [
    {
     "data": {
      "text/plain": [
       "Timestamp('2021-12-30 00:00:00')"
      ]
     },
     "metadata": {},
     "output_type": "display_data"
    },
    {
     "data": {
      "text/plain": [
       "Timestamp('2021-01-01 00:00:00')"
      ]
     },
     "metadata": {},
     "output_type": "display_data"
    },
    {
     "data": {
      "text/plain": [
       "Timedelta('363 days 00:00:00')"
      ]
     },
     "metadata": {},
     "output_type": "display_data"
    }
   ],
   "source": [
    "display(rides['date'].max())\n",
    "display(rides['date'].min())\n",
    "display(rides['date'].max() - rides['date'].min())"
   ]
  },
  {
   "cell_type": "markdown",
   "metadata": {
    "id": "tRN9BKE0ophH"
   },
   "source": [
    "Как можем заметить: все в порядке, нам дан практически весь 2021 год."
   ]
  },
  {
   "cell_type": "markdown",
   "metadata": {
    "id": "q6kq4nbFmgIK"
   },
   "source": [
    "### "
   ]
  },
  {
   "cell_type": "code",
   "execution_count": 10,
   "metadata": {
    "colab": {
     "base_uri": "https://localhost:8080/"
    },
    "id": "GPsShasjgsmR",
    "outputId": "6fdfc52d-f264-48b7-d8f7-d126e9a2a4fb"
   },
   "outputs": [
    {
     "name": "stdout",
     "output_type": "stream",
     "text": [
      "user_id              0\n",
      "name                 0\n",
      "age                  0\n",
      "city                 0\n",
      "subscription_type    0\n",
      "dtype: int64\n",
      "user_id     0\n",
      "distance    0\n",
      "duration    0\n",
      "date        0\n",
      "date_m      0\n",
      "dtype: int64\n",
      "subscription_type    0\n",
      "minute_price         0\n",
      "start_ride_price     0\n",
      "subscription_fee     0\n",
      "dtype: int64\n"
     ]
    }
   ],
   "source": [
    "print(users.isna().sum())\n",
    "print(rides.isna().sum())\n",
    "print(subs.isna().sum())"
   ]
  },
  {
   "cell_type": "markdown",
   "metadata": {
    "id": "dfYums0AR0IE"
   },
   "source": [
    "Как можем заметить, никаких пропусков нет."
   ]
  },
  {
   "cell_type": "code",
   "execution_count": 11,
   "metadata": {
    "colab": {
     "base_uri": "https://localhost:8080/"
    },
    "id": "n9eZAUwZg-ts",
    "outputId": "af80913d-69a9-4865-b5ec-9c5b15c1a99b"
   },
   "outputs": [
    {
     "name": "stdout",
     "output_type": "stream",
     "text": [
      "31\n",
      "0\n",
      "0\n"
     ]
    }
   ],
   "source": [
    "print(users.duplicated().sum())\n",
    "print(rides.duplicated().sum())\n",
    "print(subs.duplicated().sum())"
   ]
  },
  {
   "cell_type": "markdown",
   "metadata": {
    "id": "Y7DCle8pR4ko"
   },
   "source": [
    "Есть дубликаты, посмотрим их примеры."
   ]
  },
  {
   "cell_type": "code",
   "execution_count": 12,
   "metadata": {
    "colab": {
     "base_uri": "https://localhost:8080/",
     "height": 363
    },
    "id": "1v-2vov6o5v4",
    "outputId": "d59394ce-233c-4741-9677-d249bd2a639c"
   },
   "outputs": [
    {
     "data": {
      "text/html": [
       "<div>\n",
       "<style scoped>\n",
       "    .dataframe tbody tr th:only-of-type {\n",
       "        vertical-align: middle;\n",
       "    }\n",
       "\n",
       "    .dataframe tbody tr th {\n",
       "        vertical-align: top;\n",
       "    }\n",
       "\n",
       "    .dataframe thead th {\n",
       "        text-align: right;\n",
       "    }\n",
       "</style>\n",
       "<table border=\"1\" class=\"dataframe\">\n",
       "  <thead>\n",
       "    <tr style=\"text-align: right;\">\n",
       "      <th></th>\n",
       "      <th>user_id</th>\n",
       "      <th>name</th>\n",
       "      <th>age</th>\n",
       "      <th>city</th>\n",
       "      <th>subscription_type</th>\n",
       "    </tr>\n",
       "  </thead>\n",
       "  <tbody>\n",
       "    <tr>\n",
       "      <th>1534</th>\n",
       "      <td>293</td>\n",
       "      <td>Агата</td>\n",
       "      <td>26</td>\n",
       "      <td>Краснодар</td>\n",
       "      <td>ultra</td>\n",
       "    </tr>\n",
       "    <tr>\n",
       "      <th>1535</th>\n",
       "      <td>16</td>\n",
       "      <td>Амалия</td>\n",
       "      <td>27</td>\n",
       "      <td>Краснодар</td>\n",
       "      <td>ultra</td>\n",
       "    </tr>\n",
       "    <tr>\n",
       "      <th>1536</th>\n",
       "      <td>909</td>\n",
       "      <td>Константин</td>\n",
       "      <td>20</td>\n",
       "      <td>Екатеринбург</td>\n",
       "      <td>free</td>\n",
       "    </tr>\n",
       "    <tr>\n",
       "      <th>1537</th>\n",
       "      <td>403</td>\n",
       "      <td>Полина</td>\n",
       "      <td>19</td>\n",
       "      <td>Сочи</td>\n",
       "      <td>ultra</td>\n",
       "    </tr>\n",
       "    <tr>\n",
       "      <th>1538</th>\n",
       "      <td>908</td>\n",
       "      <td>Рустам</td>\n",
       "      <td>30</td>\n",
       "      <td>Тюмень</td>\n",
       "      <td>free</td>\n",
       "    </tr>\n",
       "    <tr>\n",
       "      <th>1539</th>\n",
       "      <td>43</td>\n",
       "      <td>Стефания</td>\n",
       "      <td>22</td>\n",
       "      <td>Омск</td>\n",
       "      <td>ultra</td>\n",
       "    </tr>\n",
       "    <tr>\n",
       "      <th>1540</th>\n",
       "      <td>127</td>\n",
       "      <td>Павел</td>\n",
       "      <td>25</td>\n",
       "      <td>Пятигорск</td>\n",
       "      <td>ultra</td>\n",
       "    </tr>\n",
       "    <tr>\n",
       "      <th>1541</th>\n",
       "      <td>659</td>\n",
       "      <td>Злата</td>\n",
       "      <td>27</td>\n",
       "      <td>Ростов-на-Дону</td>\n",
       "      <td>ultra</td>\n",
       "    </tr>\n",
       "    <tr>\n",
       "      <th>1542</th>\n",
       "      <td>204</td>\n",
       "      <td>Руслан</td>\n",
       "      <td>30</td>\n",
       "      <td>Пятигорск</td>\n",
       "      <td>ultra</td>\n",
       "    </tr>\n",
       "    <tr>\n",
       "      <th>1543</th>\n",
       "      <td>153</td>\n",
       "      <td>Герман</td>\n",
       "      <td>23</td>\n",
       "      <td>Москва</td>\n",
       "      <td>ultra</td>\n",
       "    </tr>\n",
       "  </tbody>\n",
       "</table>\n",
       "</div>"
      ],
      "text/plain": [
       "      user_id        name  age            city subscription_type\n",
       "1534      293       Агата   26       Краснодар             ultra\n",
       "1535       16      Амалия   27       Краснодар             ultra\n",
       "1536      909  Константин   20    Екатеринбург              free\n",
       "1537      403      Полина   19            Сочи             ultra\n",
       "1538      908      Рустам   30          Тюмень              free\n",
       "1539       43    Стефания   22            Омск             ultra\n",
       "1540      127       Павел   25       Пятигорск             ultra\n",
       "1541      659       Злата   27  Ростов-на-Дону             ultra\n",
       "1542      204      Руслан   30       Пятигорск             ultra\n",
       "1543      153      Герман   23          Москва             ultra"
      ]
     },
     "execution_count": 12,
     "metadata": {},
     "output_type": "execute_result"
    }
   ],
   "source": [
    "users.loc[users.duplicated(), :].head(10)"
   ]
  },
  {
   "cell_type": "code",
   "execution_count": 13,
   "metadata": {
    "colab": {
     "base_uri": "https://localhost:8080/",
     "height": 363
    },
    "id": "KrvVp8iWqLQT",
    "outputId": "3cfdb6af-70aa-4d31-e01d-e32a5f0c2b54"
   },
   "outputs": [
    {
     "data": {
      "text/html": [
       "<div>\n",
       "<style scoped>\n",
       "    .dataframe tbody tr th:only-of-type {\n",
       "        vertical-align: middle;\n",
       "    }\n",
       "\n",
       "    .dataframe tbody tr th {\n",
       "        vertical-align: top;\n",
       "    }\n",
       "\n",
       "    .dataframe thead th {\n",
       "        text-align: right;\n",
       "    }\n",
       "</style>\n",
       "<table border=\"1\" class=\"dataframe\">\n",
       "  <thead>\n",
       "    <tr style=\"text-align: right;\">\n",
       "      <th></th>\n",
       "      <th>user_id</th>\n",
       "      <th>name</th>\n",
       "      <th>age</th>\n",
       "      <th>city</th>\n",
       "      <th>subscription_type</th>\n",
       "    </tr>\n",
       "  </thead>\n",
       "  <tbody>\n",
       "    <tr>\n",
       "      <th>15</th>\n",
       "      <td>16</td>\n",
       "      <td>Амалия</td>\n",
       "      <td>27</td>\n",
       "      <td>Краснодар</td>\n",
       "      <td>ultra</td>\n",
       "    </tr>\n",
       "    <tr>\n",
       "      <th>42</th>\n",
       "      <td>43</td>\n",
       "      <td>Стефания</td>\n",
       "      <td>22</td>\n",
       "      <td>Омск</td>\n",
       "      <td>ultra</td>\n",
       "    </tr>\n",
       "    <tr>\n",
       "      <th>46</th>\n",
       "      <td>47</td>\n",
       "      <td>Юрий</td>\n",
       "      <td>28</td>\n",
       "      <td>Тюмень</td>\n",
       "      <td>ultra</td>\n",
       "    </tr>\n",
       "    <tr>\n",
       "      <th>71</th>\n",
       "      <td>72</td>\n",
       "      <td>Никита</td>\n",
       "      <td>25</td>\n",
       "      <td>Москва</td>\n",
       "      <td>ultra</td>\n",
       "    </tr>\n",
       "    <tr>\n",
       "      <th>107</th>\n",
       "      <td>108</td>\n",
       "      <td>Влада</td>\n",
       "      <td>29</td>\n",
       "      <td>Тюмень</td>\n",
       "      <td>ultra</td>\n",
       "    </tr>\n",
       "    <tr>\n",
       "      <th>120</th>\n",
       "      <td>121</td>\n",
       "      <td>Алина</td>\n",
       "      <td>25</td>\n",
       "      <td>Пятигорск</td>\n",
       "      <td>ultra</td>\n",
       "    </tr>\n",
       "    <tr>\n",
       "      <th>126</th>\n",
       "      <td>127</td>\n",
       "      <td>Павел</td>\n",
       "      <td>25</td>\n",
       "      <td>Пятигорск</td>\n",
       "      <td>ultra</td>\n",
       "    </tr>\n",
       "    <tr>\n",
       "      <th>135</th>\n",
       "      <td>136</td>\n",
       "      <td>Марсель</td>\n",
       "      <td>25</td>\n",
       "      <td>Тюмень</td>\n",
       "      <td>ultra</td>\n",
       "    </tr>\n",
       "    <tr>\n",
       "      <th>152</th>\n",
       "      <td>153</td>\n",
       "      <td>Герман</td>\n",
       "      <td>23</td>\n",
       "      <td>Москва</td>\n",
       "      <td>ultra</td>\n",
       "    </tr>\n",
       "    <tr>\n",
       "      <th>203</th>\n",
       "      <td>204</td>\n",
       "      <td>Руслан</td>\n",
       "      <td>30</td>\n",
       "      <td>Пятигорск</td>\n",
       "      <td>ultra</td>\n",
       "    </tr>\n",
       "  </tbody>\n",
       "</table>\n",
       "</div>"
      ],
      "text/plain": [
       "     user_id      name  age       city subscription_type\n",
       "15        16    Амалия   27  Краснодар             ultra\n",
       "42        43  Стефания   22       Омск             ultra\n",
       "46        47      Юрий   28     Тюмень             ultra\n",
       "71        72    Никита   25     Москва             ultra\n",
       "107      108     Влада   29     Тюмень             ultra\n",
       "120      121     Алина   25  Пятигорск             ultra\n",
       "126      127     Павел   25  Пятигорск             ultra\n",
       "135      136   Марсель   25     Тюмень             ultra\n",
       "152      153    Герман   23     Москва             ultra\n",
       "203      204    Руслан   30  Пятигорск             ultra"
      ]
     },
     "execution_count": 13,
     "metadata": {},
     "output_type": "execute_result"
    }
   ],
   "source": [
    "users.loc[users.duplicated(keep = 'last'), :].head(10)"
   ]
  },
  {
   "cell_type": "markdown",
   "metadata": {
    "id": "knYvAEf3qi2E"
   },
   "source": [
    "Можем увидеть как некоторые строки из этих списков повторяются. Достаточно было просто взять \"первые\" и \"последние\" дубликаты. Нужно удалить дублирающиеся строки."
   ]
  },
  {
   "cell_type": "code",
   "execution_count": 14,
   "metadata": {
    "id": "VijLLQXsiV5T"
   },
   "outputs": [],
   "source": [
    "users = users.drop_duplicates().reset_index(drop = True)"
   ]
  },
  {
   "cell_type": "markdown",
   "metadata": {
    "id": "4hPlzKyUR95r"
   },
   "source": [
    "Удалили ненужные строки и вернули в порядок индексы."
   ]
  },
  {
   "cell_type": "code",
   "execution_count": 15,
   "metadata": {
    "colab": {
     "base_uri": "https://localhost:8080/"
    },
    "id": "Dx6Oy6qcihs6",
    "outputId": "74e4a372-273d-4248-b9cb-87737ab08546"
   },
   "outputs": [
    {
     "data": {
      "text/plain": [
       "0"
      ]
     },
     "execution_count": 15,
     "metadata": {},
     "output_type": "execute_result"
    }
   ],
   "source": [
    "users.duplicated().sum()"
   ]
  },
  {
   "cell_type": "markdown",
   "metadata": {
    "id": "TDEeXt8YSBnf"
   },
   "source": [
    "Проверили еще раз, для уверенности в правильности данных."
   ]
  },
  {
   "cell_type": "code",
   "execution_count": 16,
   "metadata": {
    "colab": {
     "base_uri": "https://localhost:8080/"
    },
    "id": "xMuY7QOGsbR1",
    "outputId": "f826367a-aa88-4261-9165-ad2488f331e1"
   },
   "outputs": [
    {
     "data": {
      "text/plain": [
       "0"
      ]
     },
     "execution_count": 16,
     "metadata": {},
     "output_type": "execute_result"
    }
   ],
   "source": [
    "users_test = users.loc[:, :]\n",
    "users_test['name'] = users_test['name'].str.lower()\n",
    "users_test['city'] = users_test['city'].str.lower()\n",
    "users_test.duplicated().sum()"
   ]
  },
  {
   "cell_type": "markdown",
   "metadata": {
    "id": "aYWdvwCytnwQ"
   },
   "source": [
    "Проверили на отсутствие неявных дубликатов."
   ]
  },
  {
   "cell_type": "markdown",
   "metadata": {
    "id": "Ff8mp79sippp"
   },
   "source": [
    "## Исследовательский анализ данных"
   ]
  },
  {
   "cell_type": "markdown",
   "metadata": {
    "id": "YWX0l_J-mm-s"
   },
   "source": [
    "### Опишем и визуализируем общую информацию о пользователях и поездках:"
   ]
  },
  {
   "cell_type": "markdown",
   "metadata": {
    "id": "foXs4nT5ivzk"
   },
   "source": [
    "#### Частота встречаемости городов"
   ]
  },
  {
   "cell_type": "code",
   "execution_count": 17,
   "metadata": {
    "colab": {
     "base_uri": "https://localhost:8080/"
    },
    "id": "zNoAYZLqj-GF",
    "outputId": "14601548-9763-4eb4-88cd-3aa6918ed501"
   },
   "outputs": [
    {
     "data": {
      "text/plain": [
       "8"
      ]
     },
     "execution_count": 17,
     "metadata": {},
     "output_type": "execute_result"
    }
   ],
   "source": [
    "len(users['city'].unique())"
   ]
  },
  {
   "cell_type": "code",
   "execution_count": 18,
   "metadata": {
    "colab": {
     "base_uri": "https://localhost:8080/",
     "height": 331
    },
    "id": "88LH8r_ZkwJv",
    "outputId": "02057639-4516-46b6-f256-61673167c532"
   },
   "outputs": [
    {
     "data": {
      "text/html": [
       "<div>\n",
       "<style scoped>\n",
       "    .dataframe tbody tr th:only-of-type {\n",
       "        vertical-align: middle;\n",
       "    }\n",
       "\n",
       "    .dataframe tbody tr th {\n",
       "        vertical-align: top;\n",
       "    }\n",
       "\n",
       "    .dataframe thead th {\n",
       "        text-align: right;\n",
       "    }\n",
       "</style>\n",
       "<table border=\"1\" class=\"dataframe\">\n",
       "  <thead>\n",
       "    <tr style=\"text-align: right;\">\n",
       "      <th></th>\n",
       "      <th>user_id</th>\n",
       "      <th>name</th>\n",
       "      <th>age</th>\n",
       "      <th>subscription_type</th>\n",
       "    </tr>\n",
       "    <tr>\n",
       "      <th>city</th>\n",
       "      <th></th>\n",
       "      <th></th>\n",
       "      <th></th>\n",
       "      <th></th>\n",
       "    </tr>\n",
       "  </thead>\n",
       "  <tbody>\n",
       "    <tr>\n",
       "      <th>пятигорск</th>\n",
       "      <td>219</td>\n",
       "      <td>219</td>\n",
       "      <td>219</td>\n",
       "      <td>219</td>\n",
       "    </tr>\n",
       "    <tr>\n",
       "      <th>екатеринбург</th>\n",
       "      <td>204</td>\n",
       "      <td>204</td>\n",
       "      <td>204</td>\n",
       "      <td>204</td>\n",
       "    </tr>\n",
       "    <tr>\n",
       "      <th>ростов-на-дону</th>\n",
       "      <td>198</td>\n",
       "      <td>198</td>\n",
       "      <td>198</td>\n",
       "      <td>198</td>\n",
       "    </tr>\n",
       "    <tr>\n",
       "      <th>краснодар</th>\n",
       "      <td>193</td>\n",
       "      <td>193</td>\n",
       "      <td>193</td>\n",
       "      <td>193</td>\n",
       "    </tr>\n",
       "    <tr>\n",
       "      <th>сочи</th>\n",
       "      <td>189</td>\n",
       "      <td>189</td>\n",
       "      <td>189</td>\n",
       "      <td>189</td>\n",
       "    </tr>\n",
       "    <tr>\n",
       "      <th>омск</th>\n",
       "      <td>183</td>\n",
       "      <td>183</td>\n",
       "      <td>183</td>\n",
       "      <td>183</td>\n",
       "    </tr>\n",
       "    <tr>\n",
       "      <th>тюмень</th>\n",
       "      <td>180</td>\n",
       "      <td>180</td>\n",
       "      <td>180</td>\n",
       "      <td>180</td>\n",
       "    </tr>\n",
       "    <tr>\n",
       "      <th>москва</th>\n",
       "      <td>168</td>\n",
       "      <td>168</td>\n",
       "      <td>168</td>\n",
       "      <td>168</td>\n",
       "    </tr>\n",
       "  </tbody>\n",
       "</table>\n",
       "</div>"
      ],
      "text/plain": [
       "                user_id  name  age  subscription_type\n",
       "city                                                 \n",
       "пятигорск           219   219  219                219\n",
       "екатеринбург        204   204  204                204\n",
       "ростов-на-дону      198   198  198                198\n",
       "краснодар           193   193  193                193\n",
       "сочи                189   189  189                189\n",
       "омск                183   183  183                183\n",
       "тюмень              180   180  180                180\n",
       "москва              168   168  168                168"
      ]
     },
     "execution_count": 18,
     "metadata": {},
     "output_type": "execute_result"
    }
   ],
   "source": [
    "city = users.groupby(['city']).count().sort_values(['user_id'], ascending = False)\n",
    "city"
   ]
  },
  {
   "cell_type": "code",
   "execution_count": 19,
   "metadata": {
    "colab": {
     "base_uri": "https://localhost:8080/",
     "height": 862
    },
    "id": "T_S4dK9QimPD",
    "outputId": "dbc09194-d44d-4397-b5fd-512ab3d93e94"
   },
   "outputs": [
    {
     "data": {
      "image/png": "[encoded data removed]",
      "text/plain": [
       "<Figure size 432x288 with 1 Axes>"
      ]
     },
     "metadata": {
      "needs_background": "light"
     },
     "output_type": "display_data"
    },
    {
     "data": {
      "text/html": [
       "<div>\n",
       "<style scoped>\n",
       "    .dataframe tbody tr th:only-of-type {\n",
       "        vertical-align: middle;\n",
       "    }\n",
       "\n",
       "    .dataframe tbody tr th {\n",
       "        vertical-align: top;\n",
       "    }\n",
       "\n",
       "    .dataframe thead th {\n",
       "        text-align: right;\n",
       "    }\n",
       "</style>\n",
       "<table border=\"1\" class=\"dataframe\">\n",
       "  <thead>\n",
       "    <tr style=\"text-align: right;\">\n",
       "      <th></th>\n",
       "      <th>user_id</th>\n",
       "    </tr>\n",
       "    <tr>\n",
       "      <th>city</th>\n",
       "      <th></th>\n",
       "    </tr>\n",
       "  </thead>\n",
       "  <tbody>\n",
       "    <tr>\n",
       "      <th>пятигорск</th>\n",
       "      <td>219</td>\n",
       "    </tr>\n",
       "    <tr>\n",
       "      <th>екатеринбург</th>\n",
       "      <td>204</td>\n",
       "    </tr>\n",
       "    <tr>\n",
       "      <th>ростов-на-дону</th>\n",
       "      <td>198</td>\n",
       "    </tr>\n",
       "    <tr>\n",
       "      <th>краснодар</th>\n",
       "      <td>193</td>\n",
       "    </tr>\n",
       "    <tr>\n",
       "      <th>сочи</th>\n",
       "      <td>189</td>\n",
       "    </tr>\n",
       "    <tr>\n",
       "      <th>омск</th>\n",
       "      <td>183</td>\n",
       "    </tr>\n",
       "    <tr>\n",
       "      <th>тюмень</th>\n",
       "      <td>180</td>\n",
       "    </tr>\n",
       "    <tr>\n",
       "      <th>москва</th>\n",
       "      <td>168</td>\n",
       "    </tr>\n",
       "  </tbody>\n",
       "</table>\n",
       "</div>"
      ],
      "text/plain": [
       "                user_id\n",
       "city                   \n",
       "пятигорск           219\n",
       "екатеринбург        204\n",
       "ростов-на-дону      198\n",
       "краснодар           193\n",
       "сочи                189\n",
       "омск                183\n",
       "тюмень              180\n",
       "москва              168"
      ]
     },
     "metadata": {},
     "output_type": "display_data"
    }
   ],
   "source": [
    "city.plot(y = 'user_id', kind = 'bar')\n",
    "plt.xticks(rotation = 45)\n",
    "plt.title('Частота встречаемости городов')\n",
    "plt.xlabel('Города')\n",
    "plt.ylabel('Количество пользователей')\n",
    "plt.show()\n",
    "\n",
    "display(city.loc[:, :'user_id'])"
   ]
  },
  {
   "cell_type": "markdown",
   "metadata": {
    "id": "Zsq55a_1m1hs"
   },
   "source": [
    "Как можем заметить, больший спрос в городе Пятигорск. Далее идут такие города, как Екатеринбург, Ростов-на-Дону, Краснодар и остальные. Самым отстающим городом оказалась Моксва."
   ]
  },
  {
   "cell_type": "markdown",
   "metadata": {
    "id": "0yWHLuutmpPY"
   },
   "source": [
    "#### Соотношение пользователей с подпиской и без подписки"
   ]
  },
  {
   "cell_type": "code",
   "execution_count": 21,
   "metadata": {
    "colab": {
     "base_uri": "https://localhost:8080/",
     "height": 143
    },
    "id": "tmWqI3ATqedM",
    "outputId": "398e15ee-c145-424e-d22f-303dce02f5a2"
   },
   "outputs": [
    {
     "data": {
      "text/html": [
       "<div>\n",
       "<style scoped>\n",
       "    .dataframe tbody tr th:only-of-type {\n",
       "        vertical-align: middle;\n",
       "    }\n",
       "\n",
       "    .dataframe tbody tr th {\n",
       "        vertical-align: top;\n",
       "    }\n",
       "\n",
       "    .dataframe thead th {\n",
       "        text-align: right;\n",
       "    }\n",
       "</style>\n",
       "<table border=\"1\" class=\"dataframe\">\n",
       "  <thead>\n",
       "    <tr style=\"text-align: right;\">\n",
       "      <th></th>\n",
       "      <th>user_id</th>\n",
       "      <th>name</th>\n",
       "      <th>age</th>\n",
       "      <th>city</th>\n",
       "    </tr>\n",
       "    <tr>\n",
       "      <th>subscription_type</th>\n",
       "      <th></th>\n",
       "      <th></th>\n",
       "      <th></th>\n",
       "      <th></th>\n",
       "    </tr>\n",
       "  </thead>\n",
       "  <tbody>\n",
       "    <tr>\n",
       "      <th>free</th>\n",
       "      <td>835</td>\n",
       "      <td>835</td>\n",
       "      <td>835</td>\n",
       "      <td>835</td>\n",
       "    </tr>\n",
       "    <tr>\n",
       "      <th>ultra</th>\n",
       "      <td>699</td>\n",
       "      <td>699</td>\n",
       "      <td>699</td>\n",
       "      <td>699</td>\n",
       "    </tr>\n",
       "  </tbody>\n",
       "</table>\n",
       "</div>"
      ],
      "text/plain": [
       "                   user_id  name  age  city\n",
       "subscription_type                          \n",
       "free                   835   835  835   835\n",
       "ultra                  699   699  699   699"
      ]
     },
     "execution_count": 21,
     "metadata": {},
     "output_type": "execute_result"
    }
   ],
   "source": [
    "sub_type = users.groupby('subscription_type').count()\n",
    "sub_type"
   ]
  },
  {
   "cell_type": "code",
   "execution_count": 22,
   "metadata": {
    "colab": {
     "base_uri": "https://localhost:8080/",
     "height": 610
    },
    "id": "yhmNGRZNlbIT",
    "outputId": "9742ed1a-b48a-4112-f669-4e8dea981ea8"
   },
   "outputs": [
    {
     "data": {
      "image/png": "[encoded data removed]",
      "text/plain": [
       "<Figure size 432x288 with 1 Axes>"
      ]
     },
     "metadata": {},
     "output_type": "display_data"
    },
    {
     "data": {
      "text/html": [
       "<div>\n",
       "<style scoped>\n",
       "    .dataframe tbody tr th:only-of-type {\n",
       "        vertical-align: middle;\n",
       "    }\n",
       "\n",
       "    .dataframe tbody tr th {\n",
       "        vertical-align: top;\n",
       "    }\n",
       "\n",
       "    .dataframe thead th {\n",
       "        text-align: right;\n",
       "    }\n",
       "</style>\n",
       "<table border=\"1\" class=\"dataframe\">\n",
       "  <thead>\n",
       "    <tr style=\"text-align: right;\">\n",
       "      <th></th>\n",
       "      <th>user_id</th>\n",
       "    </tr>\n",
       "    <tr>\n",
       "      <th>subscription_type</th>\n",
       "      <th></th>\n",
       "    </tr>\n",
       "  </thead>\n",
       "  <tbody>\n",
       "    <tr>\n",
       "      <th>free</th>\n",
       "      <td>835</td>\n",
       "    </tr>\n",
       "    <tr>\n",
       "      <th>ultra</th>\n",
       "      <td>699</td>\n",
       "    </tr>\n",
       "  </tbody>\n",
       "</table>\n",
       "</div>"
      ],
      "text/plain": [
       "                   user_id\n",
       "subscription_type         \n",
       "free                   835\n",
       "ultra                  699"
      ]
     },
     "metadata": {},
     "output_type": "display_data"
    },
    {
     "name": "stdout",
     "output_type": "stream",
     "text": [
      "Пользователей без подписки: 835\n",
      "Пользователей с подпиской: 699\n",
      "Соотношение пользователей с подпиской и без подписки: 0.837125748502994\n"
     ]
    }
   ],
   "source": [
    "sub_type.plot(y = 'user_id', kind = 'pie')\n",
    "plt.title('Соотношение пользователей с подпиской и без подписки')\n",
    "plt.ylabel('')\n",
    "plt.show()\n",
    "\n",
    "display(sub_type.loc[:, :'user_id'])\n",
    "print('Пользователей без подписки:', users.query('subscription_type == \"free\"').shape[0])\n",
    "print('Пользователей с подпиской:', users.query('subscription_type == \"ultra\"').shape[0])\n",
    "print('Соотношение пользователей с подпиской и без подписки:', users.query('subscription_type == \"ultra\"').shape[0] / users.query('subscription_type == \"free\"').shape[0])"
   ]
  },
  {
   "cell_type": "markdown",
   "metadata": {
    "id": "YksA5TW8nXYs"
   },
   "source": [
    "Пользователей без подписки оказалось 835, с подпиской 699. Доля: 0.837"
   ]
  },
  {
   "cell_type": "code",
   "execution_count": 23,
   "metadata": {
    "colab": {
     "base_uri": "https://localhost:8080/"
    },
    "id": "CWwMUcLjvBme",
    "outputId": "04f414b8-6f8a-4dd1-f869-87fdf663e711"
   },
   "outputs": [
    {
     "name": "stdout",
     "output_type": "stream",
     "text": [
      "Пользователей без подписки: 835\n",
      "Пользователей с подпиской: 699\n",
      "Соотношение пользователей с подпиской и без подписки: 0.837125748502994\n"
     ]
    }
   ],
   "source": [
    "print('Пользователей без подписки:', users.query('subscription_type == \"free\"').shape[0])\n",
    "print('Пользователей с подпиской:', users.query('subscription_type == \"ultra\"').shape[0])\n",
    "print('Соотношение пользователей с подпиской и без подписки:', users.query('subscription_type == \"ultra\"').shape[0] / users.query('subscription_type == \"free\"').shape[0])"
   ]
  },
  {
   "cell_type": "markdown",
   "metadata": {
    "id": "Cebe85yWmvWP"
   },
   "source": [
    "#### Возраст пользователей"
   ]
  },
  {
   "cell_type": "code",
   "execution_count": 24,
   "metadata": {
    "colab": {
     "base_uri": "https://localhost:8080/",
     "height": 638
    },
    "id": "lic_out9lnaT",
    "outputId": "0bbeba29-f3e8-4670-a89e-76190930343d"
   },
   "outputs": [
    {
     "data": {
      "image/png": "[encoded data removed]",
      "text/plain": [
       "<Figure size 432x288 with 1 Axes>"
      ]
     },
     "metadata": {
      "needs_background": "light"
     },
     "output_type": "display_data"
    },
    {
     "data": {
      "text/plain": [
       "count    1534.000000\n",
       "mean       24.903520\n",
       "std         4.572367\n",
       "min        12.000000\n",
       "25%        22.000000\n",
       "50%        25.000000\n",
       "75%        28.000000\n",
       "max        43.000000\n",
       "Name: age, dtype: float64"
      ]
     },
     "metadata": {},
     "output_type": "display_data"
    }
   ],
   "source": [
    "users['age'].hist(bins = 50)\n",
    "plt.title('Возраст пользователей')\n",
    "plt.xlabel('Возраст покупателя')\n",
    "plt.ylabel('Количество пользователей')\n",
    "plt.show()\n",
    "\n",
    "display(users['age'].describe())"
   ]
  },
  {
   "cell_type": "markdown",
   "metadata": {
    "id": "sADbX93Bnn1N"
   },
   "source": [
    "Основная часть данных имеет биноминальное распределение. Минимум: 12, максимум: 43. По графику видно, что есть выбросы после возраста примерно 38 лет. Большим спросом самокаты пользуются у людей возраста 22-28."
   ]
  },
  {
   "cell_type": "markdown",
   "metadata": {
    "id": "JvOqDUwzmx9K"
   },
   "source": [
    "#### Расстояние, которое пользователь преодолел за одну поездку"
   ]
  },
  {
   "cell_type": "code",
   "execution_count": 25,
   "metadata": {
    "colab": {
     "base_uri": "https://localhost:8080/",
     "height": 658
    },
    "id": "4wZHrZ-oly3y",
    "outputId": "35c95386-6a6f-4bbd-a8a7-cda6ee699a0d"
   },
   "outputs": [
    {
     "data": {
      "image/png": "[encoded data removed]",
      "text/plain": [
       "<Figure size 432x288 with 1 Axes>"
      ]
     },
     "metadata": {
      "needs_background": "light"
     },
     "output_type": "display_data"
    },
    {
     "data": {
      "text/plain": [
       "count    18068.000000\n",
       "mean      3070.659976\n",
       "std       1116.831209\n",
       "min          0.855683\n",
       "25%       2543.226360\n",
       "50%       3133.609994\n",
       "75%       3776.222735\n",
       "max       7211.007745\n",
       "Name: distance, dtype: float64"
      ]
     },
     "metadata": {},
     "output_type": "display_data"
    }
   ],
   "source": [
    "rides['distance'].hist(bins = 50)\n",
    "plt.xticks(rotation = 45)\n",
    "plt.xlabel('Расстояние')\n",
    "plt.ylabel('Количество')\n",
    "plt.title('Расстояние, которое пользователь преодолел за одну поездку')\n",
    "plt.show()\n",
    "\n",
    "display(rides['distance'].describe())"
   ]
  },
  {
   "cell_type": "markdown",
   "metadata": {
    "id": "8ahwK4TLn2mP"
   },
   "source": [
    "Основная часть данных имеет биноминальное распределение. Минимум: 0.85, максимум: 7211. На графике, что есть аномальное возрастание от 0 до 1000. В большинстве случаев пользователи проезжали около 3000-3200 метров."
   ]
  },
  {
   "cell_type": "markdown",
   "metadata": {
    "id": "QbhWmQVFm4NK"
   },
   "source": [
    "#### Продолжительность поездок"
   ]
  },
  {
   "cell_type": "code",
   "execution_count": 26,
   "metadata": {
    "colab": {
     "base_uri": "https://localhost:8080/",
     "height": 646
    },
    "id": "PC8NuKvDmNWi",
    "outputId": "8df3cc55-2db7-459d-900a-19d50a9829f7"
   },
   "outputs": [
    {
     "data": {
      "image/png": "[encoded data removed]",
      "text/plain": [
       "<Figure size 432x288 with 1 Axes>"
      ]
     },
     "metadata": {
      "needs_background": "light"
     },
     "output_type": "display_data"
    },
    {
     "data": {
      "text/plain": [
       "count    18068.000000\n",
       "mean        17.805011\n",
       "std          6.091051\n",
       "min          0.500000\n",
       "25%         13.597563\n",
       "50%         17.678395\n",
       "75%         21.724800\n",
       "max         40.823963\n",
       "Name: duration, dtype: float64"
      ]
     },
     "metadata": {},
     "output_type": "display_data"
    }
   ],
   "source": [
    "rides['duration'].hist(bins = 50)\n",
    "plt.xticks(rotation = 45)\n",
    "plt.xlabel('Продолжительность')\n",
    "plt.ylabel('Количество')\n",
    "plt.title('Продолжительность поездок')\n",
    "plt.show()\n",
    "\n",
    "display(rides['duration'].describe())"
   ]
  },
  {
   "cell_type": "markdown",
   "metadata": {
    "id": "KAFVxOGyoFRF"
   },
   "source": [
    "Основная часть данных имеет биноминальное распределение. Минимум: 0.5, максимум: 40.82. Есть выбросы до значения 5, скорее всего, это те поездки, которые были начаты и сразу же завершены по каким-то обстоятельствам. Чаще всего пользователи катались в районе 13-21 минут."
   ]
  },
  {
   "cell_type": "markdown",
   "metadata": {
    "id": "F4ckmYWqmlfj"
   },
   "source": [
    "## Объединение данных"
   ]
  },
  {
   "cell_type": "markdown",
   "metadata": {
    "id": "ad9k4dBAob2k"
   },
   "source": [
    "### "
   ]
  },
  {
   "cell_type": "markdown",
   "metadata": {
    "id": "blhohLIhTnE9"
   },
   "source": [
    "Прежде чем соединять датафреймы, добавим в датафрейм о подписках новый столбец для упрощения соединения."
   ]
  },
  {
   "cell_type": "code",
   "execution_count": 27,
   "metadata": {
    "colab": {
     "base_uri": "https://localhost:8080/",
     "height": 112
    },
    "id": "H6PaB19lTvrQ",
    "outputId": "e97bf076-fec6-44cb-bd41-cd161c0f520a"
   },
   "outputs": [
    {
     "data": {
      "text/html": [
       "<div>\n",
       "<style scoped>\n",
       "    .dataframe tbody tr th:only-of-type {\n",
       "        vertical-align: middle;\n",
       "    }\n",
       "\n",
       "    .dataframe tbody tr th {\n",
       "        vertical-align: top;\n",
       "    }\n",
       "\n",
       "    .dataframe thead th {\n",
       "        text-align: right;\n",
       "    }\n",
       "</style>\n",
       "<table border=\"1\" class=\"dataframe\">\n",
       "  <thead>\n",
       "    <tr style=\"text-align: right;\">\n",
       "      <th></th>\n",
       "      <th>subscription_type</th>\n",
       "      <th>minute_price</th>\n",
       "      <th>start_ride_price</th>\n",
       "      <th>subscription_fee</th>\n",
       "    </tr>\n",
       "  </thead>\n",
       "  <tbody>\n",
       "    <tr>\n",
       "      <th>0</th>\n",
       "      <td>free</td>\n",
       "      <td>8</td>\n",
       "      <td>50</td>\n",
       "      <td>0</td>\n",
       "    </tr>\n",
       "    <tr>\n",
       "      <th>1</th>\n",
       "      <td>ultra</td>\n",
       "      <td>6</td>\n",
       "      <td>0</td>\n",
       "      <td>199</td>\n",
       "    </tr>\n",
       "  </tbody>\n",
       "</table>\n",
       "</div>"
      ],
      "text/plain": [
       "  subscription_type  minute_price  start_ride_price  subscription_fee\n",
       "0              free             8                50                 0\n",
       "1             ultra             6                 0               199"
      ]
     },
     "execution_count": 27,
     "metadata": {},
     "output_type": "execute_result"
    }
   ],
   "source": [
    "subs['subscription_type'] = ['free', 'ultra']\n",
    "subs.head()"
   ]
  },
  {
   "cell_type": "code",
   "execution_count": 28,
   "metadata": {
    "id": "bE0L3W8umhj7"
   },
   "outputs": [],
   "source": [
    "data = users.merge(rides, on = 'user_id', how = 'inner')\n",
    "data = data.merge(subs, on = 'subscription_type', how = 'inner')"
   ]
  },
  {
   "cell_type": "code",
   "execution_count": 29,
   "metadata": {
    "colab": {
     "base_uri": "https://localhost:8080/",
     "height": 206
    },
    "id": "45u3w5zI2r4s",
    "outputId": "4d4f2110-afe8-4312-d06a-7affef308f57"
   },
   "outputs": [
    {
     "data": {
      "text/html": [
       "<div>\n",
       "<style scoped>\n",
       "    .dataframe tbody tr th:only-of-type {\n",
       "        vertical-align: middle;\n",
       "    }\n",
       "\n",
       "    .dataframe tbody tr th {\n",
       "        vertical-align: top;\n",
       "    }\n",
       "\n",
       "    .dataframe thead th {\n",
       "        text-align: right;\n",
       "    }\n",
       "</style>\n",
       "<table border=\"1\" class=\"dataframe\">\n",
       "  <thead>\n",
       "    <tr style=\"text-align: right;\">\n",
       "      <th></th>\n",
       "      <th>user_id</th>\n",
       "      <th>name</th>\n",
       "      <th>age</th>\n",
       "      <th>city</th>\n",
       "      <th>subscription_type</th>\n",
       "      <th>distance</th>\n",
       "      <th>duration</th>\n",
       "      <th>date</th>\n",
       "      <th>date_m</th>\n",
       "      <th>minute_price</th>\n",
       "      <th>start_ride_price</th>\n",
       "      <th>subscription_fee</th>\n",
       "    </tr>\n",
       "  </thead>\n",
       "  <tbody>\n",
       "    <tr>\n",
       "      <th>0</th>\n",
       "      <td>1</td>\n",
       "      <td>кира</td>\n",
       "      <td>22</td>\n",
       "      <td>тюмень</td>\n",
       "      <td>ultra</td>\n",
       "      <td>4409.919140</td>\n",
       "      <td>25.599769</td>\n",
       "      <td>2021-01-01</td>\n",
       "      <td>1</td>\n",
       "      <td>6</td>\n",
       "      <td>0</td>\n",
       "      <td>199</td>\n",
       "    </tr>\n",
       "    <tr>\n",
       "      <th>1</th>\n",
       "      <td>1</td>\n",
       "      <td>кира</td>\n",
       "      <td>22</td>\n",
       "      <td>тюмень</td>\n",
       "      <td>ultra</td>\n",
       "      <td>2617.592153</td>\n",
       "      <td>15.816871</td>\n",
       "      <td>2021-01-18</td>\n",
       "      <td>1</td>\n",
       "      <td>6</td>\n",
       "      <td>0</td>\n",
       "      <td>199</td>\n",
       "    </tr>\n",
       "    <tr>\n",
       "      <th>2</th>\n",
       "      <td>1</td>\n",
       "      <td>кира</td>\n",
       "      <td>22</td>\n",
       "      <td>тюмень</td>\n",
       "      <td>ultra</td>\n",
       "      <td>754.159807</td>\n",
       "      <td>6.232113</td>\n",
       "      <td>2021-04-20</td>\n",
       "      <td>4</td>\n",
       "      <td>6</td>\n",
       "      <td>0</td>\n",
       "      <td>199</td>\n",
       "    </tr>\n",
       "    <tr>\n",
       "      <th>3</th>\n",
       "      <td>1</td>\n",
       "      <td>кира</td>\n",
       "      <td>22</td>\n",
       "      <td>тюмень</td>\n",
       "      <td>ultra</td>\n",
       "      <td>2694.783254</td>\n",
       "      <td>18.511000</td>\n",
       "      <td>2021-08-11</td>\n",
       "      <td>8</td>\n",
       "      <td>6</td>\n",
       "      <td>0</td>\n",
       "      <td>199</td>\n",
       "    </tr>\n",
       "    <tr>\n",
       "      <th>4</th>\n",
       "      <td>1</td>\n",
       "      <td>кира</td>\n",
       "      <td>22</td>\n",
       "      <td>тюмень</td>\n",
       "      <td>ultra</td>\n",
       "      <td>4028.687306</td>\n",
       "      <td>26.265803</td>\n",
       "      <td>2021-08-28</td>\n",
       "      <td>8</td>\n",
       "      <td>6</td>\n",
       "      <td>0</td>\n",
       "      <td>199</td>\n",
       "    </tr>\n",
       "  </tbody>\n",
       "</table>\n",
       "</div>"
      ],
      "text/plain": [
       "   user_id  name  age    city subscription_type     distance   duration  \\\n",
       "0        1  кира   22  тюмень             ultra  4409.919140  25.599769   \n",
       "1        1  кира   22  тюмень             ultra  2617.592153  15.816871   \n",
       "2        1  кира   22  тюмень             ultra   754.159807   6.232113   \n",
       "3        1  кира   22  тюмень             ultra  2694.783254  18.511000   \n",
       "4        1  кира   22  тюмень             ultra  4028.687306  26.265803   \n",
       "\n",
       "        date  date_m  minute_price  start_ride_price  subscription_fee  \n",
       "0 2021-01-01       1             6                 0               199  \n",
       "1 2021-01-18       1             6                 0               199  \n",
       "2 2021-04-20       4             6                 0               199  \n",
       "3 2021-08-11       8             6                 0               199  \n",
       "4 2021-08-28       8             6                 0               199  "
      ]
     },
     "execution_count": 29,
     "metadata": {},
     "output_type": "execute_result"
    }
   ],
   "source": [
    "data.head()"
   ]
  },
  {
   "cell_type": "markdown",
   "metadata": {
    "id": "E5_XDQg1oiLb"
   },
   "source": [
    "Соединили два датафрейма и проверили на правильность, рассмотрев первые пять строк."
   ]
  },
  {
   "cell_type": "markdown",
   "metadata": {
    "id": "FatjEB4xooew"
   },
   "source": [
    "### "
   ]
  },
  {
   "cell_type": "code",
   "execution_count": 30,
   "metadata": {
    "id": "xM-WQQ7i2sy8"
   },
   "outputs": [],
   "source": [
    "subs_no = data.query('subscription_type != \"ultra\"')\n",
    "subs_yes = data.query('subscription_type == \"ultra\"')"
   ]
  },
  {
   "cell_type": "code",
   "execution_count": 31,
   "metadata": {
    "colab": {
     "base_uri": "https://localhost:8080/",
     "height": 395
    },
    "id": "jatOp4Nw7oJX",
    "outputId": "da6ca329-e2fe-43d6-b3df-00e59fe1a235"
   },
   "outputs": [
    {
     "data": {
      "text/html": [
       "<div>\n",
       "<style scoped>\n",
       "    .dataframe tbody tr th:only-of-type {\n",
       "        vertical-align: middle;\n",
       "    }\n",
       "\n",
       "    .dataframe tbody tr th {\n",
       "        vertical-align: top;\n",
       "    }\n",
       "\n",
       "    .dataframe thead th {\n",
       "        text-align: right;\n",
       "    }\n",
       "</style>\n",
       "<table border=\"1\" class=\"dataframe\">\n",
       "  <thead>\n",
       "    <tr style=\"text-align: right;\">\n",
       "      <th></th>\n",
       "      <th>user_id</th>\n",
       "      <th>name</th>\n",
       "      <th>age</th>\n",
       "      <th>city</th>\n",
       "      <th>subscription_type</th>\n",
       "      <th>distance</th>\n",
       "      <th>duration</th>\n",
       "      <th>date</th>\n",
       "      <th>date_m</th>\n",
       "      <th>minute_price</th>\n",
       "      <th>start_ride_price</th>\n",
       "      <th>subscription_fee</th>\n",
       "    </tr>\n",
       "  </thead>\n",
       "  <tbody>\n",
       "    <tr>\n",
       "      <th>6500</th>\n",
       "      <td>700</td>\n",
       "      <td>айдар</td>\n",
       "      <td>22</td>\n",
       "      <td>омск</td>\n",
       "      <td>free</td>\n",
       "      <td>2515.690719</td>\n",
       "      <td>14.944286</td>\n",
       "      <td>2021-01-02</td>\n",
       "      <td>1</td>\n",
       "      <td>8</td>\n",
       "      <td>50</td>\n",
       "      <td>0</td>\n",
       "    </tr>\n",
       "    <tr>\n",
       "      <th>6501</th>\n",
       "      <td>700</td>\n",
       "      <td>айдар</td>\n",
       "      <td>22</td>\n",
       "      <td>омск</td>\n",
       "      <td>free</td>\n",
       "      <td>846.932642</td>\n",
       "      <td>16.234663</td>\n",
       "      <td>2021-02-01</td>\n",
       "      <td>2</td>\n",
       "      <td>8</td>\n",
       "      <td>50</td>\n",
       "      <td>0</td>\n",
       "    </tr>\n",
       "    <tr>\n",
       "      <th>6502</th>\n",
       "      <td>700</td>\n",
       "      <td>айдар</td>\n",
       "      <td>22</td>\n",
       "      <td>омск</td>\n",
       "      <td>free</td>\n",
       "      <td>4004.434142</td>\n",
       "      <td>20.016628</td>\n",
       "      <td>2021-02-04</td>\n",
       "      <td>2</td>\n",
       "      <td>8</td>\n",
       "      <td>50</td>\n",
       "      <td>0</td>\n",
       "    </tr>\n",
       "    <tr>\n",
       "      <th>6503</th>\n",
       "      <td>700</td>\n",
       "      <td>айдар</td>\n",
       "      <td>22</td>\n",
       "      <td>омск</td>\n",
       "      <td>free</td>\n",
       "      <td>1205.911290</td>\n",
       "      <td>9.782872</td>\n",
       "      <td>2021-02-10</td>\n",
       "      <td>2</td>\n",
       "      <td>8</td>\n",
       "      <td>50</td>\n",
       "      <td>0</td>\n",
       "    </tr>\n",
       "    <tr>\n",
       "      <th>6504</th>\n",
       "      <td>700</td>\n",
       "      <td>айдар</td>\n",
       "      <td>22</td>\n",
       "      <td>омск</td>\n",
       "      <td>free</td>\n",
       "      <td>3047.379435</td>\n",
       "      <td>17.427673</td>\n",
       "      <td>2021-02-14</td>\n",
       "      <td>2</td>\n",
       "      <td>8</td>\n",
       "      <td>50</td>\n",
       "      <td>0</td>\n",
       "    </tr>\n",
       "  </tbody>\n",
       "</table>\n",
       "</div>"
      ],
      "text/plain": [
       "      user_id   name  age  city subscription_type     distance   duration  \\\n",
       "6500      700  айдар   22  омск              free  2515.690719  14.944286   \n",
       "6501      700  айдар   22  омск              free   846.932642  16.234663   \n",
       "6502      700  айдар   22  омск              free  4004.434142  20.016628   \n",
       "6503      700  айдар   22  омск              free  1205.911290   9.782872   \n",
       "6504      700  айдар   22  омск              free  3047.379435  17.427673   \n",
       "\n",
       "           date  date_m  minute_price  start_ride_price  subscription_fee  \n",
       "6500 2021-01-02       1             8                50                 0  \n",
       "6501 2021-02-01       2             8                50                 0  \n",
       "6502 2021-02-04       2             8                50                 0  \n",
       "6503 2021-02-10       2             8                50                 0  \n",
       "6504 2021-02-14       2             8                50                 0  "
      ]
     },
     "metadata": {},
     "output_type": "display_data"
    },
    {
     "data": {
      "text/html": [
       "<div>\n",
       "<style scoped>\n",
       "    .dataframe tbody tr th:only-of-type {\n",
       "        vertical-align: middle;\n",
       "    }\n",
       "\n",
       "    .dataframe tbody tr th {\n",
       "        vertical-align: top;\n",
       "    }\n",
       "\n",
       "    .dataframe thead th {\n",
       "        text-align: right;\n",
       "    }\n",
       "</style>\n",
       "<table border=\"1\" class=\"dataframe\">\n",
       "  <thead>\n",
       "    <tr style=\"text-align: right;\">\n",
       "      <th></th>\n",
       "      <th>user_id</th>\n",
       "      <th>name</th>\n",
       "      <th>age</th>\n",
       "      <th>city</th>\n",
       "      <th>subscription_type</th>\n",
       "      <th>distance</th>\n",
       "      <th>duration</th>\n",
       "      <th>date</th>\n",
       "      <th>date_m</th>\n",
       "      <th>minute_price</th>\n",
       "      <th>start_ride_price</th>\n",
       "      <th>subscription_fee</th>\n",
       "    </tr>\n",
       "  </thead>\n",
       "  <tbody>\n",
       "    <tr>\n",
       "      <th>0</th>\n",
       "      <td>1</td>\n",
       "      <td>кира</td>\n",
       "      <td>22</td>\n",
       "      <td>тюмень</td>\n",
       "      <td>ultra</td>\n",
       "      <td>4409.919140</td>\n",
       "      <td>25.599769</td>\n",
       "      <td>2021-01-01</td>\n",
       "      <td>1</td>\n",
       "      <td>6</td>\n",
       "      <td>0</td>\n",
       "      <td>199</td>\n",
       "    </tr>\n",
       "    <tr>\n",
       "      <th>1</th>\n",
       "      <td>1</td>\n",
       "      <td>кира</td>\n",
       "      <td>22</td>\n",
       "      <td>тюмень</td>\n",
       "      <td>ultra</td>\n",
       "      <td>2617.592153</td>\n",
       "      <td>15.816871</td>\n",
       "      <td>2021-01-18</td>\n",
       "      <td>1</td>\n",
       "      <td>6</td>\n",
       "      <td>0</td>\n",
       "      <td>199</td>\n",
       "    </tr>\n",
       "    <tr>\n",
       "      <th>2</th>\n",
       "      <td>1</td>\n",
       "      <td>кира</td>\n",
       "      <td>22</td>\n",
       "      <td>тюмень</td>\n",
       "      <td>ultra</td>\n",
       "      <td>754.159807</td>\n",
       "      <td>6.232113</td>\n",
       "      <td>2021-04-20</td>\n",
       "      <td>4</td>\n",
       "      <td>6</td>\n",
       "      <td>0</td>\n",
       "      <td>199</td>\n",
       "    </tr>\n",
       "    <tr>\n",
       "      <th>3</th>\n",
       "      <td>1</td>\n",
       "      <td>кира</td>\n",
       "      <td>22</td>\n",
       "      <td>тюмень</td>\n",
       "      <td>ultra</td>\n",
       "      <td>2694.783254</td>\n",
       "      <td>18.511000</td>\n",
       "      <td>2021-08-11</td>\n",
       "      <td>8</td>\n",
       "      <td>6</td>\n",
       "      <td>0</td>\n",
       "      <td>199</td>\n",
       "    </tr>\n",
       "    <tr>\n",
       "      <th>4</th>\n",
       "      <td>1</td>\n",
       "      <td>кира</td>\n",
       "      <td>22</td>\n",
       "      <td>тюмень</td>\n",
       "      <td>ultra</td>\n",
       "      <td>4028.687306</td>\n",
       "      <td>26.265803</td>\n",
       "      <td>2021-08-28</td>\n",
       "      <td>8</td>\n",
       "      <td>6</td>\n",
       "      <td>0</td>\n",
       "      <td>199</td>\n",
       "    </tr>\n",
       "  </tbody>\n",
       "</table>\n",
       "</div>"
      ],
      "text/plain": [
       "   user_id  name  age    city subscription_type     distance   duration  \\\n",
       "0        1  кира   22  тюмень             ultra  4409.919140  25.599769   \n",
       "1        1  кира   22  тюмень             ultra  2617.592153  15.816871   \n",
       "2        1  кира   22  тюмень             ultra   754.159807   6.232113   \n",
       "3        1  кира   22  тюмень             ultra  2694.783254  18.511000   \n",
       "4        1  кира   22  тюмень             ultra  4028.687306  26.265803   \n",
       "\n",
       "        date  date_m  minute_price  start_ride_price  subscription_fee  \n",
       "0 2021-01-01       1             6                 0               199  \n",
       "1 2021-01-18       1             6                 0               199  \n",
       "2 2021-04-20       4             6                 0               199  \n",
       "3 2021-08-11       8             6                 0               199  \n",
       "4 2021-08-28       8             6                 0               199  "
      ]
     },
     "metadata": {},
     "output_type": "display_data"
    }
   ],
   "source": [
    "display(subs_no.head())\n",
    "display(subs_yes.head())"
   ]
  },
  {
   "cell_type": "markdown",
   "metadata": {
    "id": "VJdGH2C3otYe"
   },
   "source": [
    "Создали два датафрейма:\n",
    "* c данными о пользователях без подписки\n",
    "* с данными о пользователях с подпиской"
   ]
  },
  {
   "cell_type": "markdown",
   "metadata": {
    "id": "Y-lrQDfvwJQs"
   },
   "source": [
    "Проверим на размерность и пропуски эти датафреймы."
   ]
  },
  {
   "cell_type": "code",
   "execution_count": 32,
   "metadata": {
    "colab": {
     "base_uri": "https://localhost:8080/",
     "height": 165
    },
    "id": "jRBespHTwMbR",
    "outputId": "1f14258b-523d-4ff8-81a2-5eefc2a7d016"
   },
   "outputs": [
    {
     "data": {
      "text/plain": [
       "(18068, 12)"
      ]
     },
     "metadata": {},
     "output_type": "display_data"
    },
    {
     "data": {
      "text/plain": [
       "(18068, 5)"
      ]
     },
     "metadata": {},
     "output_type": "display_data"
    },
    {
     "data": {
      "text/plain": [
       "(11568, 12)"
      ]
     },
     "metadata": {},
     "output_type": "display_data"
    },
    {
     "data": {
      "text/plain": [
       "(6500, 12)"
      ]
     },
     "metadata": {},
     "output_type": "display_data"
    },
    {
     "data": {
      "text/plain": [
       "18068"
      ]
     },
     "metadata": {},
     "output_type": "display_data"
    },
    {
     "data": {
      "text/plain": [
       "False"
      ]
     },
     "metadata": {},
     "output_type": "display_data"
    },
    {
     "data": {
      "text/plain": [
       "False"
      ]
     },
     "metadata": {},
     "output_type": "display_data"
    },
    {
     "data": {
      "text/plain": [
       "False"
      ]
     },
     "metadata": {},
     "output_type": "display_data"
    }
   ],
   "source": [
    "display(data.shape)\n",
    "display(rides.shape)\n",
    "display(subs_no.shape)\n",
    "display(subs_yes.shape)\n",
    "display(subs_no.shape[0] + subs_yes.shape[0])\n",
    "display(data.isna().sum().any().any())\n",
    "display(subs_yes.isna().sum().any().any())\n",
    "display(subs_no.isna().sum().any().any())"
   ]
  },
  {
   "cell_type": "markdown",
   "metadata": {
    "id": "3uNiqzIqxP7V"
   },
   "source": [
    "Как мы можем заметить, данные объединились правильно. Нет пропусков, и размерность совпадает."
   ]
  },
  {
   "cell_type": "markdown",
   "metadata": {
    "id": "WGL_YAhCo3Fc"
   },
   "source": [
    "### Визуализируем информацию о расстоянии и времени поездок для пользователей обеих категорий."
   ]
  },
  {
   "cell_type": "code",
   "execution_count": 33,
   "metadata": {
    "colab": {
     "base_uri": "https://localhost:8080/",
     "height": 492
    },
    "id": "86DftneA7r_4",
    "outputId": "d75a3c12-39e6-484d-e0a6-a557d337f286"
   },
   "outputs": [
    {
     "data": {
      "image/png": "[encoded data removed]",
      "text/plain": [
       "<Figure size 432x288 with 1 Axes>"
      ]
     },
     "metadata": {
      "needs_background": "light"
     },
     "output_type": "display_data"
    }
   ],
   "source": [
    "subs_yes['distance'].hist(bins = 50)\n",
    "plt.xticks(rotation = 45)\n",
    "plt.xlabel('Расстояние')\n",
    "plt.ylabel('Количество')\n",
    "plt.title('Расстояние пользователей с подпиской')\n",
    "plt.show()"
   ]
  },
  {
   "cell_type": "markdown",
   "metadata": {
    "id": "vNSjPDgYo_1b"
   },
   "source": [
    "Как можем заметить, пользователи с подпиской проезжают чаще всего около 3200 метров."
   ]
  },
  {
   "cell_type": "code",
   "execution_count": 34,
   "metadata": {
    "colab": {
     "base_uri": "https://localhost:8080/",
     "height": 492
    },
    "id": "BZSUUz0t8NQj",
    "outputId": "405c2841-32d5-461f-befb-4c44c4a4fbfe"
   },
   "outputs": [
    {
     "data": {
      "image/png": "[encoded data removed]",
      "text/plain": [
       "<Figure size 432x288 with 1 Axes>"
      ]
     },
     "metadata": {
      "needs_background": "light"
     },
     "output_type": "display_data"
    }
   ],
   "source": [
    "subs_no['distance'].hist(bins = 50)\n",
    "plt.xticks(rotation = 45)\n",
    "plt.xlabel('Расстояние')\n",
    "plt.ylabel('Количество')\n",
    "plt.title('Расстояние пользователей без подписки')\n",
    "plt.show()"
   ]
  },
  {
   "cell_type": "markdown",
   "metadata": {
    "id": "hY5Yq1rvpayC"
   },
   "source": [
    "Пользователи же без подписки проезжают обычно 2.5-3.5 км, но больше поездок все-таки около 2.5 км."
   ]
  },
  {
   "cell_type": "markdown",
   "metadata": {
    "id": "rZ6-he99z1x6"
   },
   "source": [
    "Соединим графики."
   ]
  },
  {
   "cell_type": "code",
   "execution_count": 35,
   "metadata": {
    "colab": {
     "base_uri": "https://localhost:8080/",
     "height": 493
    },
    "id": "bXWmqAv7z3-K",
    "outputId": "e28a292c-ddbd-449e-a240-51e1a2bff522"
   },
   "outputs": [
    {
     "data": {
      "image/png": "[encoded data removed]",
      "text/plain": [
       "<Figure size 432x288 with 1 Axes>"
      ]
     },
     "metadata": {
      "needs_background": "light"
     },
     "output_type": "display_data"
    }
   ],
   "source": [
    "subs_no['distance'].hist(bins = 50, alpha = 0.5, color = 'blue', label = 'Без подписки')\n",
    "subs_yes['distance'].hist(bins = 50, alpha = 0.5, color = 'red', label = 'С подпиской')\n",
    "plt.xticks(rotation = 45)\n",
    "plt.xlabel('Продолжительность')\n",
    "plt.ylabel('Расстояние')\n",
    "plt.title('Продолжительность поездки у обеих категорий')\n",
    "plt.legend()\n",
    "plt.show()"
   ]
  },
  {
   "cell_type": "markdown",
   "metadata": {
    "id": "s2JTRa0Bz-2Q"
   },
   "source": [
    "Распределения похожи, но у пользователей без подписки шире диапозон проезжаемого расстояния, поэтому график получился \"толще\"."
   ]
  },
  {
   "cell_type": "code",
   "execution_count": 36,
   "metadata": {
    "colab": {
     "base_uri": "https://localhost:8080/",
     "height": 480
    },
    "id": "NS3Z0czH8CxZ",
    "outputId": "b9ef7624-a42e-4ed8-a53b-79d75f0a00e2"
   },
   "outputs": [
    {
     "data": {
      "image/png": "[encoded data removed]",
      "text/plain": [
       "<Figure size 432x288 with 1 Axes>"
      ]
     },
     "metadata": {
      "needs_background": "light"
     },
     "output_type": "display_data"
    }
   ],
   "source": [
    "subs_yes['duration'].hist(bins = 50)\n",
    "plt.xticks(rotation = 45)\n",
    "plt.xlabel('Продолжительность')\n",
    "plt.ylabel('Количество')\n",
    "plt.title('Продолжительность поездки с подпиской')\n",
    "plt.show()"
   ]
  },
  {
   "cell_type": "markdown",
   "metadata": {
    "id": "S2DFas9wpMRp"
   },
   "source": [
    "А по времени можно сказать: в основном катаются около 18 минут."
   ]
  },
  {
   "cell_type": "code",
   "execution_count": 37,
   "metadata": {
    "colab": {
     "base_uri": "https://localhost:8080/",
     "height": 480
    },
    "id": "P00t_H1q8PD_",
    "outputId": "d32d4896-2317-4454-fea6-a06a9800a9f6"
   },
   "outputs": [
    {
     "data": {
      "image/png": "[encoded data removed]",
      "text/plain": [
       "<Figure size 432x288 with 1 Axes>"
      ]
     },
     "metadata": {
      "needs_background": "light"
     },
     "output_type": "display_data"
    }
   ],
   "source": [
    "subs_no['duration'].hist(bins = 50)\n",
    "plt.xticks(rotation = 45)\n",
    "plt.xlabel('Продолжительность')\n",
    "plt.ylabel('Количество')\n",
    "plt.title('Продолжительность поездки без подписки')\n",
    "plt.show()"
   ]
  },
  {
   "cell_type": "markdown",
   "metadata": {
    "id": "PVaXoNFXpsDH"
   },
   "source": [
    "Здесь же ситуация примерно такая же: в районе 17 минут."
   ]
  },
  {
   "cell_type": "code",
   "execution_count": 38,
   "metadata": {
    "colab": {
     "base_uri": "https://localhost:8080/",
     "height": 480
    },
    "id": "eXZAIGtRyMoh",
    "outputId": "e80e7837-dd70-4cad-86e5-cb18e9673d7c"
   },
   "outputs": [
    {
     "data": {
      "image/png": "[encoded data removed]",
      "text/plain": [
       "<Figure size 432x288 with 1 Axes>"
      ]
     },
     "metadata": {
      "needs_background": "light"
     },
     "output_type": "display_data"
    }
   ],
   "source": [
    "subs_no['duration'].hist(bins = 50, alpha = 0.5, color = 'blue', label = 'Без подписки')\n",
    "subs_yes['duration'].hist(bins = 50, alpha = 0.5, color = 'red', label = 'С подпиской')\n",
    "plt.xticks(rotation = 45)\n",
    "plt.xlabel('Продолжительность')\n",
    "plt.ylabel('Количество')\n",
    "plt.title('Продолжительность поездки у обеих категорий')\n",
    "plt.legend()\n",
    "plt.show()"
   ]
  },
  {
   "cell_type": "markdown",
   "metadata": {
    "id": "6P0ASaSyzbNA"
   },
   "source": [
    "Можем увидеть нагляднее, у данных похожие распеределения, но пользователи без подписки либо катаются чаще, либо сказалась разница в количестве."
   ]
  },
  {
   "cell_type": "markdown",
   "metadata": {
    "id": "j5YrbXYc9J5b"
   },
   "source": [
    "## Подсчёт выручки"
   ]
  },
  {
   "cell_type": "markdown",
   "metadata": {
    "id": "Bfb_CmKVp4-o"
   },
   "source": [
    "### Создадим датафрейм с агрегированными данными о пользователях.\n"
   ]
  },
  {
   "cell_type": "code",
   "execution_count": 39,
   "metadata": {
    "colab": {
     "base_uri": "https://localhost:8080/",
     "height": 206
    },
    "id": "5tTkowLQpR3k",
    "outputId": "c9f0230a-f148-41d5-9c13-0a6ede77a640"
   },
   "outputs": [
    {
     "data": {
      "text/html": [
       "<div>\n",
       "<style scoped>\n",
       "    .dataframe tbody tr th:only-of-type {\n",
       "        vertical-align: middle;\n",
       "    }\n",
       "\n",
       "    .dataframe tbody tr th {\n",
       "        vertical-align: top;\n",
       "    }\n",
       "\n",
       "    .dataframe thead th {\n",
       "        text-align: right;\n",
       "    }\n",
       "</style>\n",
       "<table border=\"1\" class=\"dataframe\">\n",
       "  <thead>\n",
       "    <tr style=\"text-align: right;\">\n",
       "      <th></th>\n",
       "      <th>user_id</th>\n",
       "      <th>name</th>\n",
       "      <th>age</th>\n",
       "      <th>city</th>\n",
       "      <th>subscription_type</th>\n",
       "      <th>distance</th>\n",
       "      <th>duration</th>\n",
       "      <th>date</th>\n",
       "      <th>date_m</th>\n",
       "      <th>minute_price</th>\n",
       "      <th>start_ride_price</th>\n",
       "      <th>subscription_fee</th>\n",
       "    </tr>\n",
       "  </thead>\n",
       "  <tbody>\n",
       "    <tr>\n",
       "      <th>0</th>\n",
       "      <td>1</td>\n",
       "      <td>кира</td>\n",
       "      <td>22</td>\n",
       "      <td>тюмень</td>\n",
       "      <td>ultra</td>\n",
       "      <td>4409.919140</td>\n",
       "      <td>25.599769</td>\n",
       "      <td>2021-01-01</td>\n",
       "      <td>1</td>\n",
       "      <td>6</td>\n",
       "      <td>0</td>\n",
       "      <td>199</td>\n",
       "    </tr>\n",
       "    <tr>\n",
       "      <th>1</th>\n",
       "      <td>1</td>\n",
       "      <td>кира</td>\n",
       "      <td>22</td>\n",
       "      <td>тюмень</td>\n",
       "      <td>ultra</td>\n",
       "      <td>2617.592153</td>\n",
       "      <td>15.816871</td>\n",
       "      <td>2021-01-18</td>\n",
       "      <td>1</td>\n",
       "      <td>6</td>\n",
       "      <td>0</td>\n",
       "      <td>199</td>\n",
       "    </tr>\n",
       "    <tr>\n",
       "      <th>2</th>\n",
       "      <td>1</td>\n",
       "      <td>кира</td>\n",
       "      <td>22</td>\n",
       "      <td>тюмень</td>\n",
       "      <td>ultra</td>\n",
       "      <td>754.159807</td>\n",
       "      <td>6.232113</td>\n",
       "      <td>2021-04-20</td>\n",
       "      <td>4</td>\n",
       "      <td>6</td>\n",
       "      <td>0</td>\n",
       "      <td>199</td>\n",
       "    </tr>\n",
       "    <tr>\n",
       "      <th>3</th>\n",
       "      <td>1</td>\n",
       "      <td>кира</td>\n",
       "      <td>22</td>\n",
       "      <td>тюмень</td>\n",
       "      <td>ultra</td>\n",
       "      <td>2694.783254</td>\n",
       "      <td>18.511000</td>\n",
       "      <td>2021-08-11</td>\n",
       "      <td>8</td>\n",
       "      <td>6</td>\n",
       "      <td>0</td>\n",
       "      <td>199</td>\n",
       "    </tr>\n",
       "    <tr>\n",
       "      <th>4</th>\n",
       "      <td>1</td>\n",
       "      <td>кира</td>\n",
       "      <td>22</td>\n",
       "      <td>тюмень</td>\n",
       "      <td>ultra</td>\n",
       "      <td>4028.687306</td>\n",
       "      <td>26.265803</td>\n",
       "      <td>2021-08-28</td>\n",
       "      <td>8</td>\n",
       "      <td>6</td>\n",
       "      <td>0</td>\n",
       "      <td>199</td>\n",
       "    </tr>\n",
       "  </tbody>\n",
       "</table>\n",
       "</div>"
      ],
      "text/plain": [
       "   user_id  name  age    city subscription_type     distance   duration  \\\n",
       "0        1  кира   22  тюмень             ultra  4409.919140  25.599769   \n",
       "1        1  кира   22  тюмень             ultra  2617.592153  15.816871   \n",
       "2        1  кира   22  тюмень             ultra   754.159807   6.232113   \n",
       "3        1  кира   22  тюмень             ultra  2694.783254  18.511000   \n",
       "4        1  кира   22  тюмень             ultra  4028.687306  26.265803   \n",
       "\n",
       "        date  date_m  minute_price  start_ride_price  subscription_fee  \n",
       "0 2021-01-01       1             6                 0               199  \n",
       "1 2021-01-18       1             6                 0               199  \n",
       "2 2021-04-20       4             6                 0               199  \n",
       "3 2021-08-11       8             6                 0               199  \n",
       "4 2021-08-28       8             6                 0               199  "
      ]
     },
     "execution_count": 39,
     "metadata": {},
     "output_type": "execute_result"
    }
   ],
   "source": [
    "data.head()"
   ]
  },
  {
   "cell_type": "code",
   "execution_count": 40,
   "metadata": {
    "colab": {
     "base_uri": "https://localhost:8080/",
     "height": 237
    },
    "id": "ZmNrQPaA4tPY",
    "outputId": "9318f710-ffdf-4af7-8745-f7e2f02cab6f"
   },
   "outputs": [
    {
     "data": {
      "text/html": [
       "<div>\n",
       "<style scoped>\n",
       "    .dataframe tbody tr th:only-of-type {\n",
       "        vertical-align: middle;\n",
       "    }\n",
       "\n",
       "    .dataframe tbody tr th {\n",
       "        vertical-align: top;\n",
       "    }\n",
       "\n",
       "    .dataframe thead th {\n",
       "        text-align: right;\n",
       "    }\n",
       "</style>\n",
       "<table border=\"1\" class=\"dataframe\">\n",
       "  <thead>\n",
       "    <tr style=\"text-align: right;\">\n",
       "      <th></th>\n",
       "      <th></th>\n",
       "      <th>distance</th>\n",
       "      <th>duration</th>\n",
       "      <th>name</th>\n",
       "      <th>minute_price</th>\n",
       "      <th>start_ride_price</th>\n",
       "      <th>subscription_fee</th>\n",
       "    </tr>\n",
       "    <tr>\n",
       "      <th>user_id</th>\n",
       "      <th>date_m</th>\n",
       "      <th></th>\n",
       "      <th></th>\n",
       "      <th></th>\n",
       "      <th></th>\n",
       "      <th></th>\n",
       "      <th></th>\n",
       "    </tr>\n",
       "  </thead>\n",
       "  <tbody>\n",
       "    <tr>\n",
       "      <th rowspan=\"5\" valign=\"top\">1</th>\n",
       "      <th>1</th>\n",
       "      <td>7027.511294</td>\n",
       "      <td>42.0</td>\n",
       "      <td>2</td>\n",
       "      <td>6</td>\n",
       "      <td>0</td>\n",
       "      <td>199</td>\n",
       "    </tr>\n",
       "    <tr>\n",
       "      <th>4</th>\n",
       "      <td>754.159807</td>\n",
       "      <td>7.0</td>\n",
       "      <td>1</td>\n",
       "      <td>6</td>\n",
       "      <td>0</td>\n",
       "      <td>199</td>\n",
       "    </tr>\n",
       "    <tr>\n",
       "      <th>8</th>\n",
       "      <td>6723.470560</td>\n",
       "      <td>46.0</td>\n",
       "      <td>2</td>\n",
       "      <td>6</td>\n",
       "      <td>0</td>\n",
       "      <td>199</td>\n",
       "    </tr>\n",
       "    <tr>\n",
       "      <th>10</th>\n",
       "      <td>5809.911100</td>\n",
       "      <td>32.0</td>\n",
       "      <td>2</td>\n",
       "      <td>6</td>\n",
       "      <td>0</td>\n",
       "      <td>199</td>\n",
       "    </tr>\n",
       "    <tr>\n",
       "      <th>11</th>\n",
       "      <td>7003.499363</td>\n",
       "      <td>56.0</td>\n",
       "      <td>3</td>\n",
       "      <td>6</td>\n",
       "      <td>0</td>\n",
       "      <td>199</td>\n",
       "    </tr>\n",
       "  </tbody>\n",
       "</table>\n",
       "</div>"
      ],
      "text/plain": [
       "                   distance  duration  name  minute_price  start_ride_price  \\\n",
       "user_id date_m                                                                \n",
       "1       1       7027.511294      42.0     2             6                 0   \n",
       "        4        754.159807       7.0     1             6                 0   \n",
       "        8       6723.470560      46.0     2             6                 0   \n",
       "        10      5809.911100      32.0     2             6                 0   \n",
       "        11      7003.499363      56.0     3             6                 0   \n",
       "\n",
       "                subscription_fee  \n",
       "user_id date_m                    \n",
       "1       1                    199  \n",
       "        4                    199  \n",
       "        8                    199  \n",
       "        10                   199  \n",
       "        11                   199  "
      ]
     },
     "execution_count": 40,
     "metadata": {},
     "output_type": "execute_result"
    }
   ],
   "source": [
    "data['duration'] = np.ceil(data['duration'])\n",
    "data_agr = data.groupby(['user_id', 'date_m'])[['distance', 'duration', 'name', 'minute_price', 'start_ride_price', 'subscription_fee']].agg({'distance': 'sum', 'duration': 'sum', 'name': 'count', 'minute_price': 'mean', 'start_ride_price': 'mean', 'subscription_fee': 'mean'})\n",
    "data_agr.head()"
   ]
  },
  {
   "cell_type": "markdown",
   "metadata": {
    "id": "fXgFpP4i_7vP"
   },
   "source": [
    "Создали сгруппированный датафрейм, где посчитаны суммарные расстояния и время поездок."
   ]
  },
  {
   "cell_type": "markdown",
   "metadata": {
    "id": "-IgYgUHeAU3I"
   },
   "source": [
    "### А теперь добавим в каждый созданный до этого датафрейм по одному столбцу с информацией о помесячном доходе от каждого клиента."
   ]
  },
  {
   "cell_type": "code",
   "execution_count": 42,
   "metadata": {
    "id": "Snare8Wn4v-K"
   },
   "outputs": [],
   "source": [
    "def income(row):\n",
    "  return row['start_ride_price'] * row['name'] + row['minute_price'] * row['duration'] + row['subscription_fee']"
   ]
  },
  {
   "cell_type": "code",
   "execution_count": 43,
   "metadata": {
    "colab": {
     "base_uri": "https://localhost:8080/",
     "height": 458
    },
    "id": "uA6euNoi-AJc",
    "outputId": "e4d22d05-076a-48b1-a2d1-fd7d9c66349e"
   },
   "outputs": [
    {
     "data": {
      "text/html": [
       "<div>\n",
       "<style scoped>\n",
       "    .dataframe tbody tr th:only-of-type {\n",
       "        vertical-align: middle;\n",
       "    }\n",
       "\n",
       "    .dataframe tbody tr th {\n",
       "        vertical-align: top;\n",
       "    }\n",
       "\n",
       "    .dataframe thead th {\n",
       "        text-align: right;\n",
       "    }\n",
       "</style>\n",
       "<table border=\"1\" class=\"dataframe\">\n",
       "  <thead>\n",
       "    <tr style=\"text-align: right;\">\n",
       "      <th></th>\n",
       "      <th></th>\n",
       "      <th>distance</th>\n",
       "      <th>duration</th>\n",
       "      <th>name</th>\n",
       "      <th>minute_price</th>\n",
       "      <th>start_ride_price</th>\n",
       "      <th>subscription_fee</th>\n",
       "      <th>income</th>\n",
       "    </tr>\n",
       "    <tr>\n",
       "      <th>user_id</th>\n",
       "      <th>date_m</th>\n",
       "      <th></th>\n",
       "      <th></th>\n",
       "      <th></th>\n",
       "      <th></th>\n",
       "      <th></th>\n",
       "      <th></th>\n",
       "      <th></th>\n",
       "    </tr>\n",
       "  </thead>\n",
       "  <tbody>\n",
       "    <tr>\n",
       "      <th rowspan=\"5\" valign=\"top\">1</th>\n",
       "      <th>1</th>\n",
       "      <td>7027.511294</td>\n",
       "      <td>42.0</td>\n",
       "      <td>2</td>\n",
       "      <td>6</td>\n",
       "      <td>0</td>\n",
       "      <td>199</td>\n",
       "      <td>451.0</td>\n",
       "    </tr>\n",
       "    <tr>\n",
       "      <th>4</th>\n",
       "      <td>754.159807</td>\n",
       "      <td>7.0</td>\n",
       "      <td>1</td>\n",
       "      <td>6</td>\n",
       "      <td>0</td>\n",
       "      <td>199</td>\n",
       "      <td>241.0</td>\n",
       "    </tr>\n",
       "    <tr>\n",
       "      <th>8</th>\n",
       "      <td>6723.470560</td>\n",
       "      <td>46.0</td>\n",
       "      <td>2</td>\n",
       "      <td>6</td>\n",
       "      <td>0</td>\n",
       "      <td>199</td>\n",
       "      <td>475.0</td>\n",
       "    </tr>\n",
       "    <tr>\n",
       "      <th>10</th>\n",
       "      <td>5809.911100</td>\n",
       "      <td>32.0</td>\n",
       "      <td>2</td>\n",
       "      <td>6</td>\n",
       "      <td>0</td>\n",
       "      <td>199</td>\n",
       "      <td>391.0</td>\n",
       "    </tr>\n",
       "    <tr>\n",
       "      <th>11</th>\n",
       "      <td>7003.499363</td>\n",
       "      <td>56.0</td>\n",
       "      <td>3</td>\n",
       "      <td>6</td>\n",
       "      <td>0</td>\n",
       "      <td>199</td>\n",
       "      <td>535.0</td>\n",
       "    </tr>\n",
       "  </tbody>\n",
       "</table>\n",
       "</div>"
      ],
      "text/plain": [
       "                   distance  duration  name  minute_price  start_ride_price  \\\n",
       "user_id date_m                                                                \n",
       "1       1       7027.511294      42.0     2             6                 0   \n",
       "        4        754.159807       7.0     1             6                 0   \n",
       "        8       6723.470560      46.0     2             6                 0   \n",
       "        10      5809.911100      32.0     2             6                 0   \n",
       "        11      7003.499363      56.0     3             6                 0   \n",
       "\n",
       "                subscription_fee  income  \n",
       "user_id date_m                            \n",
       "1       1                    199   451.0  \n",
       "        4                    199   241.0  \n",
       "        8                    199   475.0  \n",
       "        10                   199   391.0  \n",
       "        11                   199   535.0  "
      ]
     },
     "metadata": {},
     "output_type": "display_data"
    },
    {
     "data": {
      "text/html": [
       "<div>\n",
       "<style scoped>\n",
       "    .dataframe tbody tr th:only-of-type {\n",
       "        vertical-align: middle;\n",
       "    }\n",
       "\n",
       "    .dataframe tbody tr th {\n",
       "        vertical-align: top;\n",
       "    }\n",
       "\n",
       "    .dataframe thead th {\n",
       "        text-align: right;\n",
       "    }\n",
       "</style>\n",
       "<table border=\"1\" class=\"dataframe\">\n",
       "  <thead>\n",
       "    <tr style=\"text-align: right;\">\n",
       "      <th></th>\n",
       "      <th></th>\n",
       "      <th>distance</th>\n",
       "      <th>duration</th>\n",
       "      <th>name</th>\n",
       "      <th>minute_price</th>\n",
       "      <th>start_ride_price</th>\n",
       "      <th>subscription_fee</th>\n",
       "      <th>income</th>\n",
       "    </tr>\n",
       "    <tr>\n",
       "      <th>user_id</th>\n",
       "      <th>date_m</th>\n",
       "      <th></th>\n",
       "      <th></th>\n",
       "      <th></th>\n",
       "      <th></th>\n",
       "      <th></th>\n",
       "      <th></th>\n",
       "      <th></th>\n",
       "    </tr>\n",
       "  </thead>\n",
       "  <tbody>\n",
       "    <tr>\n",
       "      <th rowspan=\"5\" valign=\"top\">1534</th>\n",
       "      <th>6</th>\n",
       "      <td>3409.468534</td>\n",
       "      <td>26.0</td>\n",
       "      <td>2</td>\n",
       "      <td>8</td>\n",
       "      <td>50</td>\n",
       "      <td>0</td>\n",
       "      <td>308.0</td>\n",
       "    </tr>\n",
       "    <tr>\n",
       "      <th>8</th>\n",
       "      <td>7622.453034</td>\n",
       "      <td>48.0</td>\n",
       "      <td>2</td>\n",
       "      <td>8</td>\n",
       "      <td>50</td>\n",
       "      <td>0</td>\n",
       "      <td>484.0</td>\n",
       "    </tr>\n",
       "    <tr>\n",
       "      <th>9</th>\n",
       "      <td>4928.173852</td>\n",
       "      <td>23.0</td>\n",
       "      <td>1</td>\n",
       "      <td>8</td>\n",
       "      <td>50</td>\n",
       "      <td>0</td>\n",
       "      <td>234.0</td>\n",
       "    </tr>\n",
       "    <tr>\n",
       "      <th>11</th>\n",
       "      <td>13350.015305</td>\n",
       "      <td>78.0</td>\n",
       "      <td>4</td>\n",
       "      <td>8</td>\n",
       "      <td>50</td>\n",
       "      <td>0</td>\n",
       "      <td>824.0</td>\n",
       "    </tr>\n",
       "    <tr>\n",
       "      <th>12</th>\n",
       "      <td>2371.711192</td>\n",
       "      <td>16.0</td>\n",
       "      <td>1</td>\n",
       "      <td>8</td>\n",
       "      <td>50</td>\n",
       "      <td>0</td>\n",
       "      <td>178.0</td>\n",
       "    </tr>\n",
       "  </tbody>\n",
       "</table>\n",
       "</div>"
      ],
      "text/plain": [
       "                    distance  duration  name  minute_price  start_ride_price  \\\n",
       "user_id date_m                                                                 \n",
       "1534    6        3409.468534      26.0     2             8                50   \n",
       "        8        7622.453034      48.0     2             8                50   \n",
       "        9        4928.173852      23.0     1             8                50   \n",
       "        11      13350.015305      78.0     4             8                50   \n",
       "        12       2371.711192      16.0     1             8                50   \n",
       "\n",
       "                subscription_fee  income  \n",
       "user_id date_m                            \n",
       "1534    6                      0   308.0  \n",
       "        8                      0   484.0  \n",
       "        9                      0   234.0  \n",
       "        11                     0   824.0  \n",
       "        12                     0   178.0  "
      ]
     },
     "metadata": {},
     "output_type": "display_data"
    }
   ],
   "source": [
    "data_agr['income'] = data_agr.apply(income, axis = 1)\n",
    "display(data_agr.head())\n",
    "display(data_agr.tail())"
   ]
  },
  {
   "cell_type": "markdown",
   "metadata": {
    "id": "z9yoJMyZx4XY"
   },
   "source": [
    "Добавили в каждый датафрейм помесячную вырочку с каждого пользователя с разделением: с подпиской и без."
   ]
  },
  {
   "cell_type": "code",
   "execution_count": 44,
   "metadata": {
    "colab": {
     "base_uri": "https://localhost:8080/"
    },
    "id": "DRJ7mwGck9xJ",
    "outputId": "ba923a38-c607-486c-a29c-ecead8f7e1b3"
   },
   "outputs": [
    {
     "name": "stdout",
     "output_type": "stream",
     "text": [
      "362.7921906022502\n",
      "328.6413651073845\n"
     ]
    }
   ],
   "source": [
    "print(data_agr.loc[data_agr['subscription_fee'] == 199, 'income'].mean())\n",
    "print(data_agr.loc[data_agr['subscription_fee'] != 199, 'income'].mean())"
   ]
  },
  {
   "cell_type": "markdown",
   "metadata": {
    "id": "Gea3bJVjA2q_"
   },
   "source": [
    "## Проверка гипотез"
   ]
  },
  {
   "cell_type": "markdown",
   "metadata": {
    "id": "os6xOLZDHbpy"
   },
   "source": [
    "### "
   ]
  },
  {
   "cell_type": "markdown",
   "metadata": {
    "id": "RaSFa-XXId4p"
   },
   "source": [
    "Нулевая гипотеза: пользователи с подпиской тратят столько же времени, сколько и пользователи без подписки.\n",
    "\n",
    "Альтернативная гипотеза: пользователи с подпиской тратят больше времени, чем пользователи без подписки."
   ]
  },
  {
   "cell_type": "code",
   "execution_count": 45,
   "metadata": {
    "colab": {
     "base_uri": "https://localhost:8080/"
    },
    "id": "zDyi0eIMAu1W",
    "outputId": "2c2d2fbf-ce9c-4744-b7eb-56cc6d537f70"
   },
   "outputs": [
    {
     "name": "stdout",
     "output_type": "stream",
     "text": [
      "Среднее время пользователей с подпиской: 18.54198516280583\n",
      "Среднее время пользователей без подписки: 17.39090929866399\n",
      "p-value: 1.2804098316645618e-34\n",
      "Отвергаем нулевую гипотезу\n"
     ]
    }
   ],
   "source": [
    "from scipy import stats as st\n",
    "\n",
    "time_subs = subs_yes['duration']\n",
    "time_subs_no = subs_no['duration']\n",
    "print('Среднее время пользователей с подпиской:', time_subs.mean())\n",
    "print('Среднее время пользователей без подписки:', time_subs_no.mean())\n",
    "alpha = 0.05\n",
    "results = st.ttest_ind(time_subs, time_subs_no, alternative = 'greater')\n",
    "print('p-value:', results.pvalue)\n",
    "if results.pvalue > alpha:\n",
    "  print('Не получилось отврегнуть нулевую гипотезу')\n",
    "else:\n",
    "  print('Отвергаем нулевую гипотезу')"
   ]
  },
  {
   "cell_type": "markdown",
   "metadata": {
    "id": "nxjnTvx2Kqfv"
   },
   "source": [
    "p-value слишком маленький, но на всякий случай проверим и при альфе равной 1%."
   ]
  },
  {
   "cell_type": "code",
   "execution_count": 46,
   "metadata": {
    "colab": {
     "base_uri": "https://localhost:8080/"
    },
    "id": "CDrJctB3KupI",
    "outputId": "757159be-fe89-428b-ad68-5ac29ef14a0e"
   },
   "outputs": [
    {
     "name": "stdout",
     "output_type": "stream",
     "text": [
      "Отвергаем нулевую гипотезу\n"
     ]
    }
   ],
   "source": [
    "alpha = 0.01\n",
    "results = st.ttest_ind(time_subs, time_subs_no, alternative = 'greater')\n",
    "if results.pvalue > alpha:\n",
    "  print('Не получилось отврегнуть нулевую гипотезу')\n",
    "else:\n",
    "  print('Отвергаем нулевую гипотезу')"
   ]
  },
  {
   "cell_type": "markdown",
   "metadata": {
    "id": "PQxk65sgEXxC"
   },
   "source": [
    "Отвергаем нулевую гипотезу в пользу альтернативной гипотезе. То есть о том, что пользователи с подпиской тратят больше времени на поездки."
   ]
  },
  {
   "cell_type": "markdown",
   "metadata": {
    "id": "Xg_KQM-BJFnW"
   },
   "source": [
    "### "
   ]
  },
  {
   "cell_type": "markdown",
   "metadata": {
    "id": "tOz2qGjRJKgc"
   },
   "source": [
    "Нулевая гипотеза: среднее расстояние, которое проезжают пользователи с подпиской за одну поездку, равно 3130 метров\n",
    ".\n",
    "Альтернативная гипотеза: среднее расстояние, которое проезжают пользователи с подпиской за одну поездку, не больше, чем 3130 метров."
   ]
  },
  {
   "cell_type": "code",
   "execution_count": 47,
   "metadata": {
    "colab": {
     "base_uri": "https://localhost:8080/"
    },
    "id": "09u6bkn4EnB9",
    "outputId": "d9e55333-ab33-4d38-e6ab-84428568e73a"
   },
   "outputs": [
    {
     "name": "stdout",
     "output_type": "stream",
     "text": [
      "p-value 0.08046311521502146\n",
      "Не получилось отвергнуть нулевую гипотезу\n"
     ]
    }
   ],
   "source": [
    "sample = subs_yes['distance']\n",
    "value = 3130\n",
    "results = st.ttest_1samp(sample, value, alternative = 'less')\n",
    "print('p-value', results.pvalue)\n",
    "if results.pvalue > alpha:\n",
    "  print('Не получилось отвергнуть нулевую гипотезу')\n",
    "else:\n",
    "  print('Отвергаем нулевую гипотезу')"
   ]
  },
  {
   "cell_type": "markdown",
   "metadata": {
    "id": "u6qhE3MNGr-Z"
   },
   "source": [
    "Следовательно, нельзя наверняка сказать, что среднее расстояние, которое проезжают пользователи с подпиской за одну поездку, не превышает 3130 метров. Поэтому проверим иную альтернативную гипотезу: среднее расстояние, которое проезжают пользователи с подпиской за одну поездку, превышает 3130 метров."
   ]
  },
  {
   "cell_type": "code",
   "execution_count": 48,
   "metadata": {
    "colab": {
     "base_uri": "https://localhost:8080/"
    },
    "id": "6macy139C4WW",
    "outputId": "e90fa944-e2ac-48c9-8c82-31d4bac997fd"
   },
   "outputs": [
    {
     "name": "stdout",
     "output_type": "stream",
     "text": [
      "p-value 0.9195368847849785\n",
      "Не получилось отвергнуть нулевую гипотезу\n"
     ]
    }
   ],
   "source": [
    "sample = subs_yes['distance']\n",
    "value = 3130\n",
    "results = st.ttest_1samp(sample, value, alternative = 'greater')\n",
    "print('p-value', results.pvalue)\n",
    "if results.pvalue > alpha:\n",
    "  print('Не получилось отвергнуть нулевую гипотезу')\n",
    "else:\n",
    "  print('Отвергаем нулевую гипотезу')"
   ]
  },
  {
   "cell_type": "markdown",
   "metadata": {
    "id": "WxVp9iaCDAo5"
   },
   "source": [
    "Все-таки нулевую гипотезу в пользу альтернативной так и не удалось отвергнуть. Следовательно, средняя поездка не превышает 3130 метров, а самокаты износятся в меру."
   ]
  },
  {
   "cell_type": "markdown",
   "metadata": {
    "id": "664A1cdoJ69A"
   },
   "source": [
    "### "
   ]
  },
  {
   "cell_type": "markdown",
   "metadata": {
    "id": "M9700A1SJ90V"
   },
   "source": [
    "Нулевая гипотеза: помесячная выручка от пользователей с подпиской равна выручке от пользователей без подписки.\n",
    "Альтернативная гипотеза: помесячная выручка от пользователей с подпиской выше, чем выручка от пользователей с без подписки."
   ]
  },
  {
   "cell_type": "code",
   "execution_count": 49,
   "metadata": {
    "colab": {
     "base_uri": "https://localhost:8080/"
    },
    "id": "fkJO2SEXHaQD",
    "outputId": "6ab253e9-aa43-4a75-b897-e932aba95923"
   },
   "outputs": [
    {
     "name": "stdout",
     "output_type": "stream",
     "text": [
      "p-value: 1.8850394384715216e-31\n",
      "Отвергаем нулевую гипотезу\n"
     ]
    }
   ],
   "source": [
    "sample1 = data_agr.query('subscription_fee == 199')['income']\n",
    "sample2 = data_agr.query('subscription_fee != 199')['income']\n",
    "alpha = 0.05\n",
    "results = st.ttest_ind(sample1, sample2, alternative = 'greater')\n",
    "print('p-value:', results.pvalue)\n",
    "if results.pvalue > alpha:\n",
    "  print('Не получилось отвергнуть нулевую гипотезу')\n",
    "else:\n",
    "  print('Отвергаем нулевую гипотезу')"
   ]
  },
  {
   "cell_type": "markdown",
   "metadata": {
    "id": "LoNtUxLYLVZa"
   },
   "source": [
    "Отвергаем нулевую гипотезу о том, что помесячные выручки от пользователей с подпиской и без равны, в пользу альтернативной, выручка от пользователей с подпиской выше."
   ]
  },
  {
   "cell_type": "code",
   "execution_count": 50,
   "metadata": {
    "colab": {
     "base_uri": "https://localhost:8080/"
    },
    "id": "R6t7X33LDfwn",
    "outputId": "886dc0ba-9a4d-4b68-bd54-7a145ce3e588"
   },
   "outputs": [
    {
     "name": "stdout",
     "output_type": "stream",
     "text": [
      "p-value: 1.8850394384715216e-31\n",
      "Отвергаем нулевую гипотезу\n"
     ]
    }
   ],
   "source": [
    "sample1 = data_agr.query('subscription_fee == 199')['income']\n",
    "sample2 = data_agr.query('subscription_fee != 199')['income']\n",
    "alpha = 0.01\n",
    "results = st.ttest_ind(sample1, sample2, alternative = 'greater')\n",
    "print('p-value:', results.pvalue)\n",
    "if results.pvalue > alpha:\n",
    "  print('Не получилось отвергнуть нулевую гипотезу')\n",
    "else:\n",
    "  print('Отвергаем нулевую гипотезу')"
   ]
  },
  {
   "cell_type": "markdown",
   "metadata": {
    "id": "a7cBBw6bLjgR"
   },
   "source": [
    "### "
   ]
  },
  {
   "cell_type": "markdown",
   "metadata": {
    "id": "paozm2B5Llxw"
   },
   "source": [
    "Представьте такую ситуацию: техническая команда сервиса обновила сервера, с которыми взаимодействует мобильное приложение. Она надеется, что из-за этого количество обращений в техподдержку значимо снизилось. Некоторый файл содержит для каждого пользователя данные о количестве обращений до обновления и после него. Какой тест вам понадобился бы для проверки этой гипотезы?"
   ]
  },
  {
   "cell_type": "markdown",
   "metadata": {
    "id": "D-hf1VnGLzUu"
   },
   "source": [
    "Понадобился бы двухвыборочный t-тест для зависимых выборок(в коде: st.ttest_rel(sample1, sample2, alternative = 'else'(если sample1 - это измененная выборка)/). Поскольку у нас есть всего одна выборка, которая понесла изменения."
   ]
  },
  {
   "cell_type": "markdown",
   "metadata": {
    "id": "XxSgjXXgq0-r"
   },
   "source": [
    "# Вывод"
   ]
  },
  {
   "cell_type": "markdown",
   "metadata": {
    "id": "aoeJ4NUJq4iO"
   },
   "source": [
    "* Нам был дан кейс, и мы провели предобратку данных, небольшой исследовательный анализ, а также сделали проверку гипотез. Проведя предобработку данных были замечены дубликаты. От них мы избавились путем удаления повторяющихся строк. Также было замечен несоответсвующий тип данных столцба \"date\" в датафрейме \"rides\". Благополучно заменили на нужный. Проверили также на пропуски и неявные дубликаты, их не оказалось. В ходе исследовательского анализа данных выяснили, что город, в котором самый высокий спрос на самокаты - это Пятигорск, а меньше всего спроса в городе Москва. Выяснили соотношение пользователей с подпиской и без нее: 0,837. Большим спросом самокаты пользуются у людей возраста 22-28. В среднем пользователи проезжают около 2,5-3,5 км. А их средняя продолжительность поездки: 13-21 минут. Объяединив данные, проверили на правильность соединения: пропусков нет, и размерность оказалась правильной. Визуализировав их, выяснили, что пользователи с подпиской проезжают чаще расстояние в 3,2 км, а люди без подписки около 2,5 км. А также первые чаще проезжают 18 минут, без подписки - 17 минут. Далее мы добавили новые столбцы с помесячной выручкой с каждого пользователя: с подпиской и без нее. После приступили к проверке гипотез, которые могут положительно сказаться на бизнесе. Гипотезы, к которым не вышло склониться:\n",
    "\n",
    "1. Среднее расстояние, которое проезжают пользователи с подпиской за одну поездку, не больше, чем 3130 метров.\n",
    "\n",
    "\n",
    "* В итоге проделанной работы мы определили гипотезы, в пользу которых можно отнестись.\n",
    "\n",
    "* Рекомендации для заказчиков. Гипотезы, на которые стоит обратить внимание:\n",
    "\n",
    "1.   Пользователи с подпиской тратят больше времени, чем пользователи без подписки.\n",
    "2. Помесячная выручка от пользователей с подпиской выше, чем выручка от пользователей с без подписки."
   ]
  }
 ],
 "metadata": {
  "ExecuteTimeLog": [
   {
    "duration": 795,
    "start_time": "2024-07-20T10:22:39.621Z"
   },
   {
    "duration": 378,
    "start_time": "2024-07-20T10:22:40.418Z"
   },
   {
    "duration": 15,
    "start_time": "2024-07-20T10:22:40.798Z"
   },
   {
    "duration": 13,
    "start_time": "2024-07-20T10:22:40.815Z"
   },
   {
    "duration": 11,
    "start_time": "2024-07-20T10:22:40.830Z"
   },
   {
    "duration": 37,
    "start_time": "2024-07-20T10:22:40.842Z"
   },
   {
    "duration": 14,
    "start_time": "2024-07-20T10:22:40.881Z"
   },
   {
    "duration": 16,
    "start_time": "2024-07-20T10:22:40.897Z"
   },
   {
    "duration": 15,
    "start_time": "2024-07-20T10:22:40.920Z"
   },
   {
    "duration": 6,
    "start_time": "2024-07-20T10:22:40.939Z"
   },
   {
    "duration": 16,
    "start_time": "2024-07-20T10:22:40.947Z"
   },
   {
    "duration": 10,
    "start_time": "2024-07-20T10:22:40.965Z"
   },
   {
    "duration": 4,
    "start_time": "2024-07-20T10:22:41.006Z"
   },
   {
    "duration": 167,
    "start_time": "2024-07-20T10:22:41.011Z"
   },
   {
    "duration": 129,
    "start_time": "2024-07-20T10:22:41.180Z"
   },
   {
    "duration": 13,
    "start_time": "2024-07-20T10:22:41.311Z"
   },
   {
    "duration": 193,
    "start_time": "2024-07-20T10:22:41.325Z"
   },
   {
    "duration": 239,
    "start_time": "2024-07-20T10:22:41.520Z"
   },
   {
    "duration": 188,
    "start_time": "2024-07-20T10:22:41.760Z"
   },
   {
    "duration": 7,
    "start_time": "2024-07-20T10:22:41.949Z"
   },
   {
    "duration": 16,
    "start_time": "2024-07-20T10:22:41.957Z"
   },
   {
    "duration": 10,
    "start_time": "2024-07-20T10:22:41.975Z"
   },
   {
    "duration": 28,
    "start_time": "2024-07-20T10:22:41.987Z"
   },
   {
    "duration": 11,
    "start_time": "2024-07-20T10:22:42.016Z"
   },
   {
    "duration": 192,
    "start_time": "2024-07-20T10:22:42.029Z"
   },
   {
    "duration": 201,
    "start_time": "2024-07-20T10:22:42.222Z"
   },
   {
    "duration": 196,
    "start_time": "2024-07-20T10:22:42.424Z"
   },
   {
    "duration": 188,
    "start_time": "2024-07-20T10:22:42.623Z"
   },
   {
    "duration": 12,
    "start_time": "2024-07-20T10:22:42.812Z"
   },
   {
    "duration": 23,
    "start_time": "2024-07-20T10:22:42.825Z"
   },
   {
    "duration": 14,
    "start_time": "2024-07-20T10:22:42.851Z"
   },
   {
    "duration": 7,
    "start_time": "2024-07-20T10:22:42.867Z"
   },
   {
    "duration": 32,
    "start_time": "2024-07-20T10:22:42.875Z"
   },
   {
    "duration": 9,
    "start_time": "2024-07-20T10:22:42.908Z"
   },
   {
    "duration": 25,
    "start_time": "2024-07-20T10:22:42.919Z"
   },
   {
    "duration": 461,
    "start_time": "2024-07-20T10:22:42.946Z"
   },
   {
    "duration": 4,
    "start_time": "2024-07-20T10:22:43.409Z"
   },
   {
    "duration": 5,
    "start_time": "2024-07-20T10:22:43.415Z"
   },
   {
    "duration": 14,
    "start_time": "2024-07-20T10:22:43.421Z"
   },
   {
    "duration": 4,
    "start_time": "2024-07-20T10:35:03.593Z"
   },
   {
    "duration": 96,
    "start_time": "2024-07-20T10:35:41.541Z"
   },
   {
    "duration": 5,
    "start_time": "2024-07-20T10:35:48.664Z"
   },
   {
    "duration": 92,
    "start_time": "2024-07-20T10:41:28.685Z"
   },
   {
    "duration": 1277,
    "start_time": "2024-07-22T05:10:45.619Z"
   },
   {
    "duration": 372,
    "start_time": "2024-07-22T05:10:46.899Z"
   },
   {
    "duration": 22,
    "start_time": "2024-07-22T05:10:47.272Z"
   },
   {
    "duration": 20,
    "start_time": "2024-07-22T05:10:47.296Z"
   },
   {
    "duration": 21,
    "start_time": "2024-07-22T05:10:47.318Z"
   },
   {
    "duration": 14,
    "start_time": "2024-07-22T05:10:47.346Z"
   },
   {
    "duration": 12,
    "start_time": "2024-07-22T05:10:47.361Z"
   },
   {
    "duration": 8,
    "start_time": "2024-07-22T05:10:47.375Z"
   },
   {
    "duration": 12,
    "start_time": "2024-07-22T05:10:47.385Z"
   },
   {
    "duration": 51,
    "start_time": "2024-07-22T05:10:47.401Z"
   },
   {
    "duration": 12,
    "start_time": "2024-07-22T05:10:47.453Z"
   },
   {
    "duration": 11,
    "start_time": "2024-07-22T05:10:47.467Z"
   },
   {
    "duration": 6,
    "start_time": "2024-07-22T05:10:47.479Z"
   },
   {
    "duration": 7,
    "start_time": "2024-07-22T05:10:47.486Z"
   },
   {
    "duration": 12,
    "start_time": "2024-07-22T05:10:47.495Z"
   },
   {
    "duration": 39,
    "start_time": "2024-07-22T05:10:47.509Z"
   },
   {
    "duration": 19,
    "start_time": "2024-07-22T05:10:47.549Z"
   },
   {
    "duration": 205,
    "start_time": "2024-07-22T05:10:47.570Z"
   },
   {
    "duration": 9,
    "start_time": "2024-07-22T05:10:47.776Z"
   },
   {
    "duration": 163,
    "start_time": "2024-07-22T05:10:47.787Z"
   },
   {
    "duration": 11,
    "start_time": "2024-07-22T05:10:47.952Z"
   },
   {
    "duration": 219,
    "start_time": "2024-07-22T05:10:47.965Z"
   },
   {
    "duration": 226,
    "start_time": "2024-07-22T05:10:48.186Z"
   },
   {
    "duration": 269,
    "start_time": "2024-07-22T05:10:48.413Z"
   },
   {
    "duration": 8,
    "start_time": "2024-07-22T05:10:48.684Z"
   },
   {
    "duration": 20,
    "start_time": "2024-07-22T05:10:48.694Z"
   },
   {
    "duration": 35,
    "start_time": "2024-07-22T05:10:48.717Z"
   },
   {
    "duration": 17,
    "start_time": "2024-07-22T05:10:48.755Z"
   },
   {
    "duration": 32,
    "start_time": "2024-07-22T05:10:48.774Z"
   },
   {
    "duration": 51,
    "start_time": "2024-07-22T05:10:48.809Z"
   },
   {
    "duration": 302,
    "start_time": "2024-07-22T05:10:48.862Z"
   },
   {
    "duration": 223,
    "start_time": "2024-07-22T05:10:49.166Z"
   },
   {
    "duration": 333,
    "start_time": "2024-07-22T05:10:49.391Z"
   },
   {
    "duration": 213,
    "start_time": "2024-07-22T05:10:49.725Z"
   },
   {
    "duration": 205,
    "start_time": "2024-07-22T05:10:49.940Z"
   },
   {
    "duration": 354,
    "start_time": "2024-07-22T05:10:50.147Z"
   },
   {
    "duration": 21,
    "start_time": "2024-07-22T05:10:50.503Z"
   },
   {
    "duration": 20,
    "start_time": "2024-07-22T05:10:50.526Z"
   },
   {
    "duration": 41,
    "start_time": "2024-07-22T05:10:50.548Z"
   },
   {
    "duration": 6,
    "start_time": "2024-07-22T05:10:50.591Z"
   },
   {
    "duration": 7,
    "start_time": "2024-07-22T05:10:50.599Z"
   },
   {
    "duration": 38,
    "start_time": "2024-07-22T05:10:50.608Z"
   },
   {
    "duration": 7,
    "start_time": "2024-07-22T05:10:50.648Z"
   },
   {
    "duration": 18,
    "start_time": "2024-07-22T05:10:50.657Z"
   },
   {
    "duration": 14,
    "start_time": "2024-07-22T05:10:50.677Z"
   },
   {
    "duration": 12,
    "start_time": "2024-07-22T05:10:50.693Z"
   },
   {
    "duration": 7,
    "start_time": "2024-07-22T05:12:25.131Z"
   },
   {
    "duration": 6,
    "start_time": "2024-07-22T05:14:16.310Z"
   },
   {
    "duration": 4,
    "start_time": "2024-07-22T05:20:56.409Z"
   },
   {
    "duration": 1452,
    "start_time": "2024-07-23T06:11:00.194Z"
   },
   {
    "duration": 395,
    "start_time": "2024-07-23T06:11:01.648Z"
   },
   {
    "duration": 24,
    "start_time": "2024-07-23T06:11:02.045Z"
   },
   {
    "duration": 85,
    "start_time": "2024-07-23T06:11:02.071Z"
   },
   {
    "duration": 35,
    "start_time": "2024-07-23T06:11:02.158Z"
   },
   {
    "duration": 15,
    "start_time": "2024-07-23T06:11:02.195Z"
   },
   {
    "duration": 13,
    "start_time": "2024-07-23T06:11:02.212Z"
   },
   {
    "duration": 30,
    "start_time": "2024-07-23T06:11:02.227Z"
   },
   {
    "duration": 15,
    "start_time": "2024-07-23T06:11:02.258Z"
   },
   {
    "duration": 9,
    "start_time": "2024-07-23T06:11:02.275Z"
   },
   {
    "duration": 17,
    "start_time": "2024-07-23T06:11:02.286Z"
   },
   {
    "duration": 16,
    "start_time": "2024-07-23T06:11:02.305Z"
   },
   {
    "duration": 15,
    "start_time": "2024-07-23T06:11:02.323Z"
   },
   {
    "duration": 7,
    "start_time": "2024-07-23T06:11:02.343Z"
   },
   {
    "duration": 20,
    "start_time": "2024-07-23T06:11:02.351Z"
   },
   {
    "duration": 12,
    "start_time": "2024-07-23T06:11:02.373Z"
   },
   {
    "duration": 46,
    "start_time": "2024-07-23T06:11:02.387Z"
   },
   {
    "duration": 17,
    "start_time": "2024-07-23T06:11:02.435Z"
   },
   {
    "duration": 187,
    "start_time": "2024-07-23T06:11:02.454Z"
   },
   {
    "duration": 7,
    "start_time": "2024-07-23T06:11:02.643Z"
   },
   {
    "duration": 47,
    "start_time": "2024-07-23T06:11:02.651Z"
   },
   {
    "duration": 178,
    "start_time": "2024-07-23T06:11:02.701Z"
   },
   {
    "duration": 24,
    "start_time": "2024-07-23T06:11:02.881Z"
   },
   {
    "duration": 235,
    "start_time": "2024-07-23T06:11:02.907Z"
   },
   {
    "duration": 264,
    "start_time": "2024-07-23T06:11:03.144Z"
   },
   {
    "duration": 229,
    "start_time": "2024-07-23T06:11:03.410Z"
   },
   {
    "duration": 8,
    "start_time": "2024-07-23T06:11:03.641Z"
   },
   {
    "duration": 28,
    "start_time": "2024-07-23T06:11:03.650Z"
   },
   {
    "duration": 28,
    "start_time": "2024-07-23T06:11:03.680Z"
   },
   {
    "duration": 24,
    "start_time": "2024-07-23T06:11:03.711Z"
   },
   {
    "duration": 21,
    "start_time": "2024-07-23T06:11:03.737Z"
   },
   {
    "duration": 113,
    "start_time": "2024-07-23T06:11:03.760Z"
   },
   {
    "duration": 224,
    "start_time": "2024-07-23T06:11:03.874Z"
   },
   {
    "duration": 286,
    "start_time": "2024-07-23T06:11:04.105Z"
   },
   {
    "duration": 349,
    "start_time": "2024-07-23T06:11:04.393Z"
   },
   {
    "duration": 245,
    "start_time": "2024-07-23T06:11:04.743Z"
   },
   {
    "duration": 222,
    "start_time": "2024-07-23T06:11:04.990Z"
   },
   {
    "duration": 375,
    "start_time": "2024-07-23T06:11:05.214Z"
   },
   {
    "duration": 18,
    "start_time": "2024-07-23T06:11:05.591Z"
   },
   {
    "duration": 36,
    "start_time": "2024-07-23T06:11:05.612Z"
   },
   {
    "duration": 4,
    "start_time": "2024-07-23T06:11:05.653Z"
   },
   {
    "duration": 6,
    "start_time": "2024-07-23T06:11:05.658Z"
   },
   {
    "duration": 389,
    "start_time": "2024-07-23T06:11:05.666Z"
   },
   {
    "duration": 10,
    "start_time": "2024-07-23T06:11:06.057Z"
   },
   {
    "duration": 9,
    "start_time": "2024-07-23T06:11:06.070Z"
   },
   {
    "duration": 26,
    "start_time": "2024-07-23T06:11:06.081Z"
   },
   {
    "duration": 29,
    "start_time": "2024-07-23T06:11:06.109Z"
   },
   {
    "duration": 43,
    "start_time": "2024-07-23T06:11:06.140Z"
   },
   {
    "duration": 13,
    "start_time": "2024-07-23T06:11:06.185Z"
   },
   {
    "duration": 12,
    "start_time": "2024-07-23T06:11:06.199Z"
   }
  ],
  "colab": {
   "provenance": []
  },
  "kernelspec": {
   "display_name": "Python 3 (ipykernel)",
   "language": "python",
   "name": "python3"
  },
  "language_info": {
   "codemirror_mode": {
    "name": "ipython",
    "version": 3
   },
   "file_extension": ".py",
   "mimetype": "text/x-python",
   "name": "python",
   "nbconvert_exporter": "python",
   "pygments_lexer": "ipython3",
   "version": "3.12.7"
  },
  "toc": {
   "base_numbering": 1,
   "nav_menu": {},
   "number_sections": true,
   "sideBar": true,
   "skip_h1_title": true,
   "title_cell": "Table of Contents",
   "title_sidebar": "Contents",
   "toc_cell": false,
   "toc_position": {},
   "toc_section_display": true,
   "toc_window_display": true
  }
 },
 "nbformat": 4,
 "nbformat_minor": 4
}
